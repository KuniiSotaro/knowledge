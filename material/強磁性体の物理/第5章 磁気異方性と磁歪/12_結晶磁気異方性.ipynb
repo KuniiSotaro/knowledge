{
 "cells": [
  {
   "cell_type": "markdown",
   "metadata": {},
   "source": [
    "12 結晶磁気異方性\n",
    "==============\n",
    "\n",
    "### (a) 現象論\n",
    "\n",
    "* `磁気異方性`：強磁性体の自発磁化が、その磁性体を形成する結晶の特定の結晶軸方向に向きたがる傾向をいう\n",
    "\n",
    "    * 自発磁化が結晶中でとる方向によって磁性体の`内部エネルギー`が変化する現象\n",
    "    \n",
    "    * 歪みの入っていない、また、特別の熱処理を施していない強磁性体では、磁性体の内部エネルギーは結晶の対称性を反映する\n",
    "    \n",
    "    * これを、`結晶磁気異方性`という\n",
    "    \n",
    "* `一軸磁気異方性`：最も簡単な磁気異方性\n",
    "\n",
    "    * "
   ]
  },
  {
   "cell_type": "code",
   "execution_count": null,
   "metadata": {},
   "outputs": [],
   "source": []
  }
 ],
 "metadata": {
  "kernelspec": {
   "display_name": "Python 3",
   "language": "python",
   "name": "python3"
  },
  "language_info": {
   "codemirror_mode": {
    "name": "ipython",
    "version": 3
   },
   "file_extension": ".py",
   "mimetype": "text/x-python",
   "name": "python",
   "nbconvert_exporter": "python",
   "pygments_lexer": "ipython3",
   "version": "3.6.7"
  }
 },
 "nbformat": 4,
 "nbformat_minor": 2
}

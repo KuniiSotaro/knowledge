{
 "cells": [
  {
   "cell_type": "markdown",
   "metadata": {},
   "source": [
    "03 磁気モーメントの起源\n",
    "===================\n",
    "\n",
    "* `磁化`は、原子やイオンに存在する`磁気モーメント`の集合として出現する\n",
    "\n",
    "* `磁気モーメント`の起源には、\n",
    "\n",
    "    * 電子のスピン$S$\n",
    "    \n",
    "    * 軌道角運動量$L$(原子核周りに電子が回転することにより発生)\n",
    "    \n",
    "    * 角運動量$r \\times p$(電子が空間を運動する時に現れる)\n"
   ]
  },
  {
   "cell_type": "markdown",
   "metadata": {},
   "source": [
    "### 1. 軌道角運動量とスピン角運動量\n",
    "\n",
    "* 軌道角運動量は、$L = r \\times p$と定義される\n",
    "\n",
    "    * 半径$r$の円周上を速さ$v$で回転している"
   ]
  },
  {
   "cell_type": "markdown",
   "metadata": {},
   "source": [
    "### 3. 磁気モーメントの合成\n",
    "\n",
    "* 電子が軌道運動しているしている場合には、\n",
    "\n",
    "    * `全磁気モーメント` = `軌道磁気モーメント`+`スピン磁気モーメント`\n",
    "    \n",
    "    * 軌道角運動量を$\\hbar L$とすると、誘起される`磁気モーメント`は$m_l = - \\mu_B L$\n",
    "    \n",
    "    * スピン角運動量を$\\hbar S$のようにすると、誘起される`磁気モーメント`は$m_s = - 2 \\mu_B S$\n",
    "    \n",
    "    * `全磁気モーメント`は、以下の式で表される\n",
    "\n",
    "\\begin{eqnarray}\n",
    "m = m_l + m_s = -\\mu_B (2S + L)\n",
    "\\end{eqnarray}"
   ]
  },
  {
   "cell_type": "markdown",
   "metadata": {},
   "source": [
    "* 一方、`全角運動量`は以下の式で表される\n",
    "\n",
    "    * したがって、$m$の方向と$J$の方向は一致しない\n",
    "    \n",
    "    * 角運動量$L$と$S$とがおのおの保存されている場合には$m$も保存され、一定の方向を向く\n",
    "\n",
    "\\begin{eqnarray}\n",
    "\\hbar L + \\hbar S \\equiv\\hbar J\n",
    "\\end{eqnarray}"
   ]
  },
  {
   "cell_type": "markdown",
   "metadata": {},
   "source": [
    "* `軌道角運動量`と`スピン角運動量`との間に、$\\lambda L\\cdot S$で表される`スピン軌道相互作用`がある場合は、\n",
    "\n",
    "    * `軌道角運動量`と`スピン角運動量`の間で角運動量成分のやりとりが生じ、$L$と$S$は独立には保存されない\n",
    "    \n",
    "    * しかし、`全角運動量`$J$は保存されなければならないので、$m$が$J$の周りを`歳差運動`する\n",
    "    \n",
    "    * `歳差運動`の周期より長い時間スケールで観測すると、$J$に平行な$m$の成分のみが生き残る\n",
    "        \n",
    "        * そのため、以下の式が定義される\n",
    "        \n",
    "        * 磁気モーメントへの`軌道角運動量`の寄与がなければ、$g = 2$である\n",
    "        \n",
    "\\begin{eqnarray}\n",
    "m_{||} = - \\mu_B (2S + L) = - g \\mu_B J\\\\\n",
    "g = 1 + \\frac{J(J + 1) + S(S + 1) - L(L + 1)}{2J(J + 1)}\n",
    "\\end{eqnarray}"
   ]
  },
  {
   "cell_type": "markdown",
   "metadata": {},
   "source": [
    "* `全角運動量`が$J = L + S$で求まるが、個々の電子の`角運動量`と`スピン`がどの順序で合成されるかは、以下の2通りのものがある\n",
    "\n",
    "    1. `LS結合`：まず、`全軌道角運動量`と`全スピン角運動量`が合成され、それから$J = L + S$として`全角運動量`が合成される\n",
    "    \n",
    "        * 例)希土類イオンや遷移金属イオン\n",
    "    \n",
    "    1. `jj結合`：まず、個々の電子の`軌道角運動量`と`スピン角運動量`が合成され、$J_i$が決められる。続いてそれらが合成されて`全角運動量`$J$が決まる\n",
    "    "
   ]
  },
  {
   "cell_type": "code",
   "execution_count": null,
   "metadata": {},
   "outputs": [],
   "source": []
  }
 ],
 "metadata": {
  "kernelspec": {
   "display_name": "Python 3",
   "language": "python",
   "name": "python3"
  },
  "language_info": {
   "codemirror_mode": {
    "name": "ipython",
    "version": 3
   },
   "file_extension": ".py",
   "mimetype": "text/x-python",
   "name": "python",
   "nbconvert_exporter": "python",
   "pygments_lexer": "ipython3",
   "version": "3.6.7"
  }
 },
 "nbformat": 4,
 "nbformat_minor": 2
}

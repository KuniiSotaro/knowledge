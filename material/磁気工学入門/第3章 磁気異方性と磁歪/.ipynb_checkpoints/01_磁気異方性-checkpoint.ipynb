{
 "cells": [
  {
   "cell_type": "markdown",
   "metadata": {},
   "source": [
    "01 磁気異方性\n",
    "===========\n",
    "\n",
    "* `磁気異方性`：物質を磁化する時に、どの方向がら磁場を印加するかによって磁化の現れ方が異なること\n",
    "\n",
    "    * 磁化の方向に依存して、物質内部のエネルギーが異なるため（`異方性エネルギー`)"
   ]
  },
  {
   "cell_type": "markdown",
   "metadata": {},
   "source": [
    "### 1. 結晶磁気異方性\n",
    "\n",
    "* `結晶磁気異方性`：結晶の特定の方向に磁化が付きやすい性質\n",
    "\n",
    "1. `体心立方格子`(BCC)：例)Fe(強磁性体)\n",
    "\n",
    "1. `面心立方格子`(FCC)：例)Ni\n",
    "\n",
    "1. `六法最密構造`(HCP)：例)Co"
   ]
  },
  {
   "cell_type": "code",
   "execution_count": null,
   "metadata": {},
   "outputs": [],
   "source": []
  }
 ],
 "metadata": {
  "kernelspec": {
   "display_name": "Python 3",
   "language": "python",
   "name": "python3"
  },
  "language_info": {
   "codemirror_mode": {
    "name": "ipython",
    "version": 3
   },
   "file_extension": ".py",
   "mimetype": "text/x-python",
   "name": "python",
   "nbconvert_exporter": "python",
   "pygments_lexer": "ipython3",
   "version": "3.6.7"
  }
 },
 "nbformat": 4,
 "nbformat_minor": 2
}

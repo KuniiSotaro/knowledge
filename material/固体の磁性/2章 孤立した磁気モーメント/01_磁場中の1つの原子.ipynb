{
 "cells": [
  {
   "cell_type": "markdown",
   "metadata": {},
   "source": [
    "磁場中の1つの原子\n",
    "===============\n",
    "\n",
    "* z方向の磁場中にある電子スピンのエネルギーは、以下の式で表される\n",
    "\n",
    "    * $g \\approx 2$\n",
    "    \n",
    "    * $m_s = \\pm \\frac{1}{2}$\n",
    "\n",
    "\\begin{eqnarray}\n",
    "E = g \\mu_B B m_s \\approx \\pm \\mu B\n",
    "\\end{eqnarray}"
   ]
  },
  {
   "cell_type": "markdown",
   "metadata": {},
   "source": []
  }
 ],
 "metadata": {
  "kernelspec": {
   "display_name": "Python 3",
   "language": "python",
   "name": "python3"
  },
  "language_info": {
   "codemirror_mode": {
    "name": "ipython",
    "version": 3
   },
   "file_extension": ".py",
   "mimetype": "text/x-python",
   "name": "python",
   "nbconvert_exporter": "python",
   "pygments_lexer": "ipython3",
   "version": "3.6.7"
  }
 },
 "nbformat": 4,
 "nbformat_minor": 2
}

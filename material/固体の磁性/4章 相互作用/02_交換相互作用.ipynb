{
 "cells": [
  {
   "cell_type": "markdown",
   "metadata": {},
   "source": [
    "02 交換相互作用\n",
    "=============\n",
    "\n",
    "* `交換相互作用`：同符号の電荷が近づくとエネルギーが上がり、離れると下がることに起因する効果\n",
    "\n",
    "\n",
    "\n",
    "### 1. 交換相互作用の起源\n",
    "\n",
    "* 2つの電子だけからなる単純なモデルを考える\n",
    "\n",
    "    * それらの空間座標を$\\textbf r_1$、$\\textbf r_2$とする\n",
    "    \n",
    "    * 1つ目の電子の状態を$\\psi_a(\\textbf r_1)$、2つ目の電子状態を$\\psi_b(\\textbf r_2)$で表す\n",
    "    \n",
    "    * 合成した状態の波動関数は1電子状態の積で書く時、$\\psi_a(\\textbf r_1)\\psi_b(\\textbf r_2)$で表せる\n",
    "    \n",
    "    * しかし、この積の状態では、交換対称性は満たされない($\\psi_b(\\textbf r_2)\\psi_a(\\textbf r_1)$は元の状態の定数倍でない)"
   ]
  },
  {
   "cell_type": "code",
   "execution_count": null,
   "metadata": {
    "collapsed": true
   },
   "outputs": [],
   "source": []
  }
 ],
 "metadata": {
  "kernelspec": {
   "display_name": "Python 3",
   "language": "python",
   "name": "python3"
  },
  "language_info": {
   "codemirror_mode": {
    "name": "ipython",
    "version": 3
   },
   "file_extension": ".py",
   "mimetype": "text/x-python",
   "name": "python",
   "nbconvert_exporter": "python",
   "pygments_lexer": "ipython3",
   "version": "3.6.3"
  }
 },
 "nbformat": 4,
 "nbformat_minor": 2
}

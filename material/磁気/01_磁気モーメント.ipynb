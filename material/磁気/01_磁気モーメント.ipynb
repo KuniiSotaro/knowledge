{
 "cells": [
  {
   "cell_type": "markdown",
   "metadata": {},
   "source": [
    "磁気モーメント\n",
    "============\n",
    "\n",
    "* 磁性における最も基本的な対象は、`磁気モーメント`である\n",
    "\n",
    "  * 古典電磁気学では`磁気モーメント`を`環状電流`と等価とみる\n",
    "\n",
    "  * 面積$|d{\\bf S}|$の環状素片(`素`：大きさ無限小)に電流${\\bf I}$が流れる時、`磁気モーメント`$d{\\bf \\mu}$は以下の式で表される(単位：$Am^2$)\n",
    "  \n",
    "      * ベクトル$d{\\bf S}$の大きさ：ループの面積\n",
    "      \n",
    "      * ベクトル$d{\\bf S}$の方向：ループに垂直\n",
    "\n",
    "\\begin{eqnarray}\n",
    "d{\\bf \\mu}=Id{\\bf S}\n",
    "\\end{eqnarray}\n",
    "\n",
    "\n",
    "* これは、`磁気双極子`と等価である\n",
    "\n",
    "    * `磁気双極子`は`電気双極子`(間隔微笑の正負の電荷)と一見類似の振る舞いをするので、そう呼ばれる\n",
    "    \n",
    "    * すなわち、`磁気モーメント`は「反対の磁化を持つ2つの磁気単極子が、ベクトル$d{\\bf S}$と同方向に微小間隔で結ばれたもの」\n",
    "    \n",
    "![素環状電流による素磁気モーメント](./images/素環状電流による素磁気モーメント.png)\n"
   ]
  },
  {
   "cell_type": "markdown",
   "metadata": {},
   "source": [
    "* 磁気モーメント$d{\\bf \\mu}$は**環状電流の面に垂直**であり、ループを巡る電荷が担う`角運動量ベクトル`に**平行**または**反平行**である\n",
    "\n",
    "* 大きさが有限のループが持つ磁気モーメント$d{\\bf \\mu}$を計算するには、\n",
    "    \n",
    "    * そのループを等価な微小ループに分割し、\n",
    "    \n",
    "    * 微小環状電流が作る磁気モーメントを足し合わせれば良い\n",
    "    \n",
    "    * 隣接する微小ループの電流は全て相殺し、外周を流れる電流だけが残る\n",
    "    \n",
    "\\begin{eqnarray}\n",
    "\\bf \\mu =\\int d{\\bf \\mu} = I \\int d{\\bf S}\n",
    "\\end{eqnarray}\n",
    "\n",
    "* 多数の微小環状電流が作る磁気モーメントの和と見なされる\n",
    "\n",
    "![環状電流の和](./images/環状電流の和.png)"
   ]
  },
  {
   "cell_type": "markdown",
   "metadata": {},
   "source": [
    "## 1. 磁気モーメントと角運動量\n",
    "\n",
    "* `環状電流`は1つまたは複数の電荷の運動によるものである\n",
    "\n",
    "    * ここで考える電荷は全て質量を持つ粒子が担っている\n",
    "    \n",
    "    * そのため、電荷はもちろん質量の軌道運動も存在し、磁気モーメントは常に角運動量と結びついている\n",
    "\n",
    "* `原子`では、周回する電子が担う`磁気モーメント`$d{\\bf \\mu}$は、電子の角運動量$d{\\bf L}$と同方向で、かつ`角運動量`に比例する\n",
    "\n",
    "    * $\\gamma$：`磁気回転比`と呼ばれる定数\n",
    "\n",
    "\\begin{eqnarray}\n",
    "\\bf \\mu =\\gamma{\\bf L}\n",
    "\\end{eqnarray}\n",
    "\n"
   ]
  },
  {
   "cell_type": "markdown",
   "metadata": {},
   "source": [
    "## 2. 歳差運動\n",
    "\n",
    "![磁気モーメント](./images/磁気モーメント.png)\n",
    "\n",
    "* 上の図のような磁場${\\bf B}$中の磁気モーメント${\\bf \\mu}$を考える\n",
    "\n",
    "    * 磁気モーメントのエネルギー${\\bf E}$は、以下のように表される\n",
    "\n",
    "\\begin{eqnarray}\n",
    "E = - \\mu\\bullet {\\bf B}\n",
    "\\end{eqnarray}\n",
    "\n",
    "* `磁気モーメント`が磁場方向を向くと最小になる\n",
    "\n",
    "    * 磁場をかけると、磁気モーメントには`トルク`が作用する\n",
    "    \n",
    "    * 仮に磁気モーメントが全く角運動量を伴わないとすると、トルクによって磁気モーメントは磁場方向に傾くはずである\n",
    "\n",
    "\\begin{eqnarray}\n",
    "{\\bf G} = - \\mu\\times {\\bf B}\n",
    "\\end{eqnarray}\n"
   ]
  },
  {
   "cell_type": "markdown",
   "metadata": {},
   "source": [
    "* ただし、`磁気モーメント`は角運動量${\\bf L}$を伴い、トルクは角運動量の変化率に等しいので、以下の式で表される\n",
    "\n",
    "    *  $ {\\bf \\mu}$の経時変化が${\\bf \\mu}$と$ {\\bf B}$の両方に垂直であることを意味する\n",
    "    \n",
    "    * すなわち、磁場は$ {\\bf \\mu}$を$ {\\bf B}$の方向に傾けるのではなく、$ {\\bf B}$の周りに回転(`歳差運動`)させる\n",
    "    \n",
    "    * 以下の式から、$| {\\bf \\mu}|$が時間変化しないことがわかる\n",
    "    \n",
    "    * これは、ジャイロスコープまたはコマの回転と全く同じである\n",
    "\n",
    "\\begin{eqnarray}\n",
    "\\frac{d{\\bf \\mu}}{dt} = \\gamma {\\bf \\mu}\\times {\\bf B}\n",
    "\\end{eqnarray}"
   ]
  },
  {
   "cell_type": "markdown",
   "metadata": {},
   "source": [
    "### ラーモア歳差運動\n",
    "\n",
    "* $ {\\bf B}$がz方向で、$ {\\bf \\mu}$は最初$xz$面内にあり、$ {\\bf B}$と角度$\\theta$をなすとする\n",
    "\n",
    "    * この時、以下の式が成立する\n",
    "    \n",
    "\\begin{eqnarray}\n",
    "\\frac{d{\\bf \\mu_x}}{dt} = - \\gamma B\\mu_y\\\\\n",
    "\\frac{d{\\bf \\mu_y}}{dt} = - \\gamma B\\mu_x\\\\\n",
    "\\frac{d{\\bf \\mu_z}}{dt} = 0\n",
    "\\end{eqnarray}"
   ]
  },
  {
   "cell_type": "markdown",
   "metadata": {},
   "source": [
    "* ${\\bf \\mu_z}$は時間変化しない\n",
    "\n",
    "* ${\\bf \\mu_x}$と${\\bf \\mu_y}$はどちらも振動する\n",
    "\n",
    "    * これらの微分方程式の解は、以下の値で得られる\n",
    "    \n",
    "    * $\\omega_L$：`ラーモア周波数`\n",
    "\n",
    "\\begin{eqnarray}\n",
    "\\mu_x(t) = |\\mu| \\sin \\theta \\cos(\\omega_L t)\\\\\n",
    "\\mu_y(t) = |\\mu| \\sin \\theta \\sin(\\omega_L t)\\\\\n",
    "\\mu_z(t) = |\\mu| \\cos \\theta\n",
    "\\end{eqnarray}\n",
    "\n",
    "\\begin{eqnarray}\n",
    "\\omega_L　= \\gamma B\n",
    "\\end{eqnarray}"
   ]
  },
  {
   "cell_type": "markdown",
   "metadata": {},
   "source": [
    "* 磁気回転比$\\gamma$は比例定数であり、`角運動量`と`磁気モーメント`を結びつけると同時に、`磁場`と`歳差運動`の周波数を結びつける\n",
    "\n",
    "    * この歳差運動現象は、今後取り扱う現象が単純出ないことを暗示している\n",
    "    \n",
    "    * すなわち、磁場は磁気モーメントを揃えるだけでなく、様々な動的効果を誘起する"
   ]
  },
  {
   "cell_type": "markdown",
   "metadata": {},
   "source": [
    "## 3. ボーア磁子"
   ]
  },
  {
   "cell_type": "code",
   "execution_count": null,
   "metadata": {},
   "outputs": [],
   "source": []
  }
 ],
 "metadata": {
  "kernelspec": {
   "display_name": "Python 3",
   "language": "python",
   "name": "python3"
  },
  "language_info": {
   "codemirror_mode": {
    "name": "ipython",
    "version": 3
   },
   "file_extension": ".py",
   "mimetype": "text/x-python",
   "name": "python",
   "nbconvert_exporter": "python",
   "pygments_lexer": "ipython3",
   "version": "3.6.7"
  }
 },
 "nbformat": 4,
 "nbformat_minor": 2
}

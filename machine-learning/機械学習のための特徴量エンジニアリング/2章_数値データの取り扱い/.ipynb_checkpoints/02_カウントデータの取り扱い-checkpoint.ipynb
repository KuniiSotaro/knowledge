{
 "cells": [
  {
   "cell_type": "markdown",
   "metadata": {},
   "source": [
    "02 カウントデータの取り扱い\n",
    "=======================\n",
    "\n",
    "* ビッグデータの時代において、大量に生成されるログデータの蓄積が容易に行われるようになった\n",
    "\n",
    "* このようなデータから得られるカウント値は極端に大きな値を含む可能性がある\n",
    "\n",
    "    * 例)音楽アプリでは、お気に入りの曲をリピート再生で繰り返し聞くユーザがいる\n",
    "    \n",
    "    * このような場合、曲の再生回数は急激に上昇し、データの中に極端に大きな値が含まれる事になる\n",
    "    \n",
    "    * カウントデータを特徴量として扱う場合、データのスケールをチェックして、以下の検討を進める必要がある\n",
    "    \n",
    "        * 数値をそのまま使う\n",
    "        \n",
    "        * 有無を示す二値データに変換する\n",
    "        \n",
    "        * 離散化して粒度を粗くする"
   ]
  },
  {
   "cell_type": "markdown",
   "metadata": {},
   "source": [
    "## 1.二値化"
   ]
  },
  {
   "cell_type": "markdown",
   "metadata": {},
   "source": [
    "* カウントデータの二値化については、[The Echo Nest Taste Profileデータセット](http://labrosa.ee.columbia.edu/millionsong/tasteprofile)を用いる\n",
    "\n",
    "    * このデータセットは、The Echo Nestのユーザ100万人の曲の再生履歴が含まれる\n",
    "    \n",
    "    * 曲数は384,546曲\n",
    "    \n",
    "    * ユーザーID、曲ID、再生回数の3つの組を4800万件以上を含む"
   ]
  },
  {
   "cell_type": "markdown",
   "metadata": {},
   "source": [
    "* ユーザに曲を勧めるための「レコメンドエンジン」を作るタスクを考える\n",
    "\n",
    "    * ユーザが特定の曲をどれくらい楽しめるかを予測する\n",
    "    \n",
    "    * この時、ターゲット変数として曲の再生回数を用いてはいけない\n",
    "    \n",
    "    * 理由としては、再生回数をターゲット変数とすると、極端に大きい値に機械学習モデルが引っ張られて、正確な予測ができなくなる"
   ]
  },
  {
   "cell_type": "markdown",
   "metadata": {},
   "source": [
    "* このような場合、ユーザの好みを頑健に表現するために、再生回数を`二値化`するというアイデアが用いられる\n",
    "\n",
    "    * 再生回数を二値化するには、以下の方法をとる\n",
    "    \n",
    "        * 再生回数が1以上：1\n",
    "        \n",
    "        * 再生回数が0：0\n",
    "        \n",
    "    * 二値化された再生回数は、ユーザの好みを表現するシンプルで頑健な指標となる\n",
    "    \n",
    "        * 一回でもユーザがその曲を聞いたら、ユーザはその曲を好んでいるとみなす\n",
    "        \n",
    "        * これにより、生データのカウントのわずかな違いを予測することに労力を費やす必要がなくなる"
   ]
  },
  {
   "cell_type": "code",
   "execution_count": 1,
   "metadata": {},
   "outputs": [],
   "source": [
    "import pandas as pd\n",
    "import matplotlib.pyplot as plt\n",
    "%matplotlib inline\n",
    "listen_count = pd.read_csv('~/Downloads/train_triplets.txt.zip', header=None, delimiter='\\t', compression='zip')"
   ]
  },
  {
   "cell_type": "code",
   "execution_count": 2,
   "metadata": {},
   "outputs": [
    {
     "data": {
      "text/plain": [
       "Text(0, 0.5, 'Occurrence')"
      ]
     },
     "execution_count": 2,
     "metadata": {},
     "output_type": "execute_result"
    },
    {
     "data": {
      "image/png": "[encoded data removed]",
      "text/plain": [
       "<Figure size 432x288 with 1 Axes>"
      ]
     },
     "metadata": {
      "needs_background": "light"
     },
     "output_type": "display_data"
    }
   ],
   "source": [
    "# ヒストグラムがうまく描写できない\n",
    "plt.hist(listen_count[2].values, color='gray')\n",
    "plt.xlabel(\"Listen Count\")\n",
    "plt.ylabel(\"Occurrence\")"
   ]
  },
  {
   "cell_type": "code",
   "execution_count": 3,
   "metadata": {},
   "outputs": [
    {
     "data": {
      "text/html": [
       "<div>\n",
       "<style scoped>\n",
       "    .dataframe tbody tr th:only-of-type {\n",
       "        vertical-align: middle;\n",
       "    }\n",
       "\n",
       "    .dataframe tbody tr th {\n",
       "        vertical-align: top;\n",
       "    }\n",
       "\n",
       "    .dataframe thead th {\n",
       "        text-align: right;\n",
       "    }\n",
       "</style>\n",
       "<table border=\"1\" class=\"dataframe\">\n",
       "  <thead>\n",
       "    <tr style=\"text-align: right;\">\n",
       "      <th></th>\n",
       "      <th>0</th>\n",
       "      <th>1</th>\n",
       "      <th>2</th>\n",
       "    </tr>\n",
       "  </thead>\n",
       "  <tbody>\n",
       "    <tr>\n",
       "      <th>0</th>\n",
       "      <td>b80344d063b5ccb3212f76538f3d9e43d87dca9e</td>\n",
       "      <td>SOAKIMP12A8C130995</td>\n",
       "      <td>1</td>\n",
       "    </tr>\n",
       "    <tr>\n",
       "      <th>1</th>\n",
       "      <td>b80344d063b5ccb3212f76538f3d9e43d87dca9e</td>\n",
       "      <td>SOAPDEY12A81C210A9</td>\n",
       "      <td>1</td>\n",
       "    </tr>\n",
       "    <tr>\n",
       "      <th>2</th>\n",
       "      <td>b80344d063b5ccb3212f76538f3d9e43d87dca9e</td>\n",
       "      <td>SOBBMDR12A8C13253B</td>\n",
       "      <td>1</td>\n",
       "    </tr>\n",
       "    <tr>\n",
       "      <th>3</th>\n",
       "      <td>b80344d063b5ccb3212f76538f3d9e43d87dca9e</td>\n",
       "      <td>SOBFNSP12AF72A0E22</td>\n",
       "      <td>1</td>\n",
       "    </tr>\n",
       "    <tr>\n",
       "      <th>4</th>\n",
       "      <td>b80344d063b5ccb3212f76538f3d9e43d87dca9e</td>\n",
       "      <td>SOBFOVM12A58A7D494</td>\n",
       "      <td>1</td>\n",
       "    </tr>\n",
       "  </tbody>\n",
       "</table>\n",
       "</div>"
      ],
      "text/plain": [
       "                                          0                   1  2\n",
       "0  b80344d063b5ccb3212f76538f3d9e43d87dca9e  SOAKIMP12A8C130995  1\n",
       "1  b80344d063b5ccb3212f76538f3d9e43d87dca9e  SOAPDEY12A81C210A9  1\n",
       "2  b80344d063b5ccb3212f76538f3d9e43d87dca9e  SOBBMDR12A8C13253B  1\n",
       "3  b80344d063b5ccb3212f76538f3d9e43d87dca9e  SOBFNSP12AF72A0E22  1\n",
       "4  b80344d063b5ccb3212f76538f3d9e43d87dca9e  SOBFOVM12A58A7D494  1"
      ]
     },
     "execution_count": 3,
     "metadata": {},
     "output_type": "execute_result"
    }
   ],
   "source": [
    "# このデータはユーザID、曲ID、再生回数の3つの列で構成されます。\n",
    "# 再生回数 0 を含まないため、単に再生回数の列をすべて 1 で上書きすることで\n",
    "# 再生回数を二値化できます。\n",
    "listen_count.iloc[:, 2] = 1\n",
    "\n",
    "listen_count.head()"
   ]
  },
  {
   "cell_type": "markdown",
   "metadata": {},
   "source": [
    "## 2.離散化\n",
    "\n",
    "* ここでは、[Yelp データセットチャンレンジ](http://www.yelp.com/dataset_challenge)の第6回データの一部を抽出して使う\n",
    "\n",
    "    * このデータセットは、北米とヨーロッパの10都市における様々な店舗(レストラン、美容院、バー)に対するユーザーレビューを含むデータセット\n",
    "    \n",
    "    * それぞれの店舗にはカテゴリがラベル付けされており、カテゴリがない場合もあれば、複数ある場合もある"
   ]
  },
  {
   "cell_type": "markdown",
   "metadata": {},
   "source": [
    "### Yelpレビューデータセット(第6回)\n",
    "\n",
    "* データセットには61,184店舗と、それに対するレビュー1,569,264件が含まれる\n",
    "\n",
    "* 店舗のカテゴリーは782種類\n",
    "\n",
    "* レストラン(レビュー件数990,627件)とナイトライフ(レビュー件数210,028件)がレビュー件数で最も人気のカテゴリ\n",
    "\n",
    "> `ナイトライフ`：夜から明け方にかけて楽しむ娯楽全般\n",
    "> \n",
    "> 具体的には、バー、クラブなどが挙げられる\n",
    "\n",
    "* レストランとナイトライフの両方に分類されている店舗は存在しない\n",
    "\n",
    "    * 従って、この2つのカテゴリでレビューに重複はない"
   ]
  },
  {
   "cell_type": "markdown",
   "metadata": {},
   "source": [
    "* このデータセットには、店舗に対するレビュー件数(`review_count`)が含まれる\n",
    "\n",
    "    * ここでのタスクは、「ユーザが店舗につける評価点」を予測すること\n",
    "    \n",
    "        * 店舗の「人気の高さ」と「評価の良さ」に対して強い相関があるため、良い特徴量となる可能性がある\n",
    "        \n",
    "        * ただし、レビューをそのまま特徴量として使用するのか、処理を加えてから使用するかについては検討する必要がある"
   ]
  },
  {
   "cell_type": "markdown",
   "metadata": {},
   "source": [
    "* データのスケールと分布を確認するために、レビュー件数のヒストグラムを描く\n",
    "\n",
    "    * ほとんどの店舗ではレビュー件数は少なく、一部の店舗には何千ものレビューがついている"
   ]
  },
  {
   "cell_type": "code",
   "execution_count": 5,
   "metadata": {},
   "outputs": [
    {
     "data": {
      "text/html": [
       "<div>\n",
       "<style scoped>\n",
       "    .dataframe tbody tr th:only-of-type {\n",
       "        vertical-align: middle;\n",
       "    }\n",
       "\n",
       "    .dataframe tbody tr th {\n",
       "        vertical-align: top;\n",
       "    }\n",
       "\n",
       "    .dataframe thead th {\n",
       "        text-align: right;\n",
       "    }\n",
       "</style>\n",
       "<table border=\"1\" class=\"dataframe\">\n",
       "  <thead>\n",
       "    <tr style=\"text-align: right;\">\n",
       "      <th></th>\n",
       "      <th>address</th>\n",
       "      <th>attributes</th>\n",
       "      <th>business_id</th>\n",
       "      <th>categories</th>\n",
       "      <th>city</th>\n",
       "      <th>hours</th>\n",
       "      <th>is_open</th>\n",
       "      <th>latitude</th>\n",
       "      <th>longitude</th>\n",
       "      <th>name</th>\n",
       "      <th>postal_code</th>\n",
       "      <th>review_count</th>\n",
       "      <th>stars</th>\n",
       "      <th>state</th>\n",
       "    </tr>\n",
       "  </thead>\n",
       "  <tbody>\n",
       "    <tr>\n",
       "      <th>0</th>\n",
       "      <td>2818 E Camino Acequia Drive</td>\n",
       "      <td>{'GoodForKids': 'False'}</td>\n",
       "      <td>1SWheh84yJXfytovILXOAQ</td>\n",
       "      <td>Golf, Active Life</td>\n",
       "      <td>Phoenix</td>\n",
       "      <td>None</td>\n",
       "      <td>0</td>\n",
       "      <td>33.522143</td>\n",
       "      <td>-112.018481</td>\n",
       "      <td>Arizona Biltmore Golf Club</td>\n",
       "      <td>85016</td>\n",
       "      <td>5</td>\n",
       "      <td>3.0</td>\n",
       "      <td>AZ</td>\n",
       "    </tr>\n",
       "    <tr>\n",
       "      <th>1</th>\n",
       "      <td>30 Eglinton Avenue W</td>\n",
       "      <td>{'RestaurantsReservations': 'True', 'GoodForMe...</td>\n",
       "      <td>QXAEGFB4oINsVuTFxEYKFQ</td>\n",
       "      <td>Specialty Food, Restaurants, Dim Sum, Imported...</td>\n",
       "      <td>Mississauga</td>\n",
       "      <td>{'Monday': '9:0-0:0', 'Tuesday': '9:0-0:0', 'W...</td>\n",
       "      <td>1</td>\n",
       "      <td>43.605499</td>\n",
       "      <td>-79.652289</td>\n",
       "      <td>Emerald Chinese Restaurant</td>\n",
       "      <td>L5R 3E7</td>\n",
       "      <td>128</td>\n",
       "      <td>2.5</td>\n",
       "      <td>ON</td>\n",
       "    </tr>\n",
       "    <tr>\n",
       "      <th>2</th>\n",
       "      <td>10110 Johnston Rd, Ste 15</td>\n",
       "      <td>{'GoodForKids': 'True', 'NoiseLevel': 'u'avera...</td>\n",
       "      <td>gnKjwL_1w79qoiV3IC_xQQ</td>\n",
       "      <td>Sushi Bars, Restaurants, Japanese</td>\n",
       "      <td>Charlotte</td>\n",
       "      <td>{'Monday': '17:30-21:30', 'Wednesday': '17:30-...</td>\n",
       "      <td>1</td>\n",
       "      <td>35.092564</td>\n",
       "      <td>-80.859132</td>\n",
       "      <td>Musashi Japanese Restaurant</td>\n",
       "      <td>28210</td>\n",
       "      <td>170</td>\n",
       "      <td>4.0</td>\n",
       "      <td>NC</td>\n",
       "    </tr>\n",
       "    <tr>\n",
       "      <th>3</th>\n",
       "      <td>15655 W Roosevelt St, Ste 237</td>\n",
       "      <td>None</td>\n",
       "      <td>xvX2CttrVhyG2z1dFg_0xw</td>\n",
       "      <td>Insurance, Financial Services</td>\n",
       "      <td>Goodyear</td>\n",
       "      <td>{'Monday': '8:0-17:0', 'Tuesday': '8:0-17:0', ...</td>\n",
       "      <td>1</td>\n",
       "      <td>33.455613</td>\n",
       "      <td>-112.395596</td>\n",
       "      <td>Farmers Insurance - Paul Lorenz</td>\n",
       "      <td>85338</td>\n",
       "      <td>3</td>\n",
       "      <td>5.0</td>\n",
       "      <td>AZ</td>\n",
       "    </tr>\n",
       "    <tr>\n",
       "      <th>4</th>\n",
       "      <td>4209 Stuart Andrew Blvd, Ste F</td>\n",
       "      <td>{'BusinessAcceptsBitcoin': 'False', 'ByAppoint...</td>\n",
       "      <td>HhyxOkGAM07SRYtlQ4wMFQ</td>\n",
       "      <td>Plumbing, Shopping, Local Services, Home Servi...</td>\n",
       "      <td>Charlotte</td>\n",
       "      <td>{'Monday': '7:0-23:0', 'Tuesday': '7:0-23:0', ...</td>\n",
       "      <td>1</td>\n",
       "      <td>35.190012</td>\n",
       "      <td>-80.887223</td>\n",
       "      <td>Queen City Plumbing</td>\n",
       "      <td>28217</td>\n",
       "      <td>4</td>\n",
       "      <td>4.0</td>\n",
       "      <td>NC</td>\n",
       "    </tr>\n",
       "  </tbody>\n",
       "</table>\n",
       "</div>"
      ],
      "text/plain": [
       "                          address  \\\n",
       "0     2818 E Camino Acequia Drive   \n",
       "1            30 Eglinton Avenue W   \n",
       "2       10110 Johnston Rd, Ste 15   \n",
       "3   15655 W Roosevelt St, Ste 237   \n",
       "4  4209 Stuart Andrew Blvd, Ste F   \n",
       "\n",
       "                                          attributes             business_id  \\\n",
       "0                           {'GoodForKids': 'False'}  1SWheh84yJXfytovILXOAQ   \n",
       "1  {'RestaurantsReservations': 'True', 'GoodForMe...  QXAEGFB4oINsVuTFxEYKFQ   \n",
       "2  {'GoodForKids': 'True', 'NoiseLevel': 'u'avera...  gnKjwL_1w79qoiV3IC_xQQ   \n",
       "3                                               None  xvX2CttrVhyG2z1dFg_0xw   \n",
       "4  {'BusinessAcceptsBitcoin': 'False', 'ByAppoint...  HhyxOkGAM07SRYtlQ4wMFQ   \n",
       "\n",
       "                                          categories         city  \\\n",
       "0                                  Golf, Active Life      Phoenix   \n",
       "1  Specialty Food, Restaurants, Dim Sum, Imported...  Mississauga   \n",
       "2                  Sushi Bars, Restaurants, Japanese    Charlotte   \n",
       "3                      Insurance, Financial Services     Goodyear   \n",
       "4  Plumbing, Shopping, Local Services, Home Servi...    Charlotte   \n",
       "\n",
       "                                               hours  is_open   latitude  \\\n",
       "0                                               None        0  33.522143   \n",
       "1  {'Monday': '9:0-0:0', 'Tuesday': '9:0-0:0', 'W...        1  43.605499   \n",
       "2  {'Monday': '17:30-21:30', 'Wednesday': '17:30-...        1  35.092564   \n",
       "3  {'Monday': '8:0-17:0', 'Tuesday': '8:0-17:0', ...        1  33.455613   \n",
       "4  {'Monday': '7:0-23:0', 'Tuesday': '7:0-23:0', ...        1  35.190012   \n",
       "\n",
       "    longitude                             name postal_code  review_count  \\\n",
       "0 -112.018481       Arizona Biltmore Golf Club       85016             5   \n",
       "1  -79.652289       Emerald Chinese Restaurant     L5R 3E7           128   \n",
       "2  -80.859132      Musashi Japanese Restaurant       28210           170   \n",
       "3 -112.395596  Farmers Insurance - Paul Lorenz       85338             3   \n",
       "4  -80.887223              Queen City Plumbing       28217             4   \n",
       "\n",
       "   stars state  \n",
       "0    3.0    AZ  \n",
       "1    2.5    ON  \n",
       "2    4.0    NC  \n",
       "3    5.0    AZ  \n",
       "4    4.0    NC  "
      ]
     },
     "execution_count": 5,
     "metadata": {},
     "output_type": "execute_result"
    }
   ],
   "source": [
    "import pandas as pd\n",
    "import json\n",
    "\n",
    "# 店舗についてのデータを読み込む\n",
    "with open('~/Downloads/business.json') as biz_file:\n",
    "    biz_df = pd.DataFrame([json.loads(x) for x in biz_file.readlines()])\n",
    "\n",
    "biz_df.head()"
   ]
  },
  {
   "cell_type": "code",
   "execution_count": 6,
   "metadata": {},
   "outputs": [
    {
     "data": {
      "text/plain": [
       "Text(0, 0.5, 'Occurrence')"
      ]
     },
     "execution_count": 6,
     "metadata": {},
     "output_type": "execute_result"
    },
    {
     "data": {
      "image/png": "[encoded data removed]",
      "text/plain": [
       "<Figure size 432x288 with 1 Axes>"
      ]
     },
     "metadata": {},
     "output_type": "display_data"
    }
   ],
   "source": [
    "%matplotlib inline\n",
    "import matplotlib.pyplot as plt\n",
    "import seaborn as sns\n",
    "\n",
    "# レビュー件数のヒストグラムを描画\n",
    "sns.set_style('whitegrid')\n",
    "fig, ax = plt.subplots()\n",
    "biz_df['review_count'].hist(ax=ax, bins=100)\n",
    "ax.set_yscale('log')\n",
    "ax.tick_params(labelsize=14)\n",
    "ax.set_xlabel('Review Count', fontsize=14)\n",
    "ax.set_ylabel('Occurrence', fontsize=14)"
   ]
  },
  {
   "cell_type": "markdown",
   "metadata": {},
   "source": [
    "* このような、複数の桁に跨るカウントデータは、多くのモデルで問題になる\n",
    "\n",
    "* 線形モデルでは、カウントデータが1の時も1000の時も同じ係数をかけることになるが、それでもうまくいくことはない\n",
    "\n",
    "    * 「k-means」クラスタリングのような、データ点間の類似度をユークリッド距離で測る手法でも、大きなカウントデータは問題を起こす\n",
    "    \n",
    "    * 特徴量ベクトルの要素に1つでも大きなカウントデータがあると、ユークリッド距離はその要素が支配的になり、他の要素の影響が非常に小さくなる"
   ]
  },
  {
   "cell_type": "markdown",
   "metadata": {},
   "source": [
    "* この問題を解決する方法として、「離散化」が挙げられる\n",
    "    \n",
    "    * スケールによる影響を取り除く\n",
    "    \n",
    "    * 実際のカウント値ではなく、カウントを階級にグループ化したものを特徴量として使用する\n",
    "    \n",
    "    * 離散化によって、連続した数値は離散的な階級に割り当てられる\n",
    "    \n",
    "        * この階級は「順序データ」として扱われる"
   ]
  },
  {
   "cell_type": "markdown",
   "metadata": {},
   "source": [
    "* データを離散化するためには、「階級の幅」を決定する必要がある\n",
    "\n",
    "    * この決め方には、幅を固定する方法、データの分布に基づいて決める、方法の2つがある\n"
   ]
  },
  {
   "cell_type": "markdown",
   "metadata": {},
   "source": [
    "### 2.1 固定幅による離散化\n",
    "\n",
    "* 階級幅を決定する方法として、各階級の範囲をあらかじめ固定しておく方法がある\n",
    "\n",
    "* 固定された階級には、「階級幅」に規則性がある場合と、ない場合が考えられる\n",
    "\n",
    "    * 例)人間の年齢が数値データとして与えられ、これを離散化する\n",
    "    \n",
    "    * 年齢を離散化するとき、階級として0〜9歳、10〜19歳のような10歳区切りの年齢層を使う場合がある\n",
    "    \n",
    "    * また、0〜12歳、12〜17歳など、ライフスタイルに対応する年齢層を階級として使う方法もある\n",
    "    \n",
    "        * この場合、階級幅に規則性はない"
   ]
  },
  {
   "cell_type": "markdown",
   "metadata": {},
   "source": [
    "* 階級幅に規則性がある場合、プログラムで実現するのは簡単\n",
    "\n",
    "    * 「階級幅が一定」：数値データを階級幅で割り、整数部分を取る\n",
    "    \n",
    "    * 「階級幅が不規則」：階級に対する情報をどこかで保持する必要がある"
   ]
  },
  {
   "cell_type": "markdown",
   "metadata": {},
   "source": [
    "* 規則的な階級幅は、単に10などの一定の階級幅だけではない\n",
    "\n",
    "    * 数値が複数の桁に跨る場合、0〜9、10〜99、100〜999などのように、10の累乗でグループ化するという方法も取られる\n",
    "    \n",
    "        * この場合、階級幅は指数関数的に増加する\n",
    "        \n",
    "        * これをプログラムで実現するには、数値を対数化してから階級幅で割り、整数部分を取る"
   ]
  },
  {
   "cell_type": "markdown",
   "metadata": {},
   "source": [
    "* 例)固定幅による離散化の例"
   ]
  },
  {
   "cell_type": "code",
   "execution_count": 7,
   "metadata": {},
   "outputs": [
    {
     "data": {
      "text/plain": [
       "array([37, 12, 72,  9, 75,  5, 79, 64, 16,  1, 76, 71,  6, 25, 50, 20, 18,\n",
       "       84, 11, 28])"
      ]
     },
     "execution_count": 7,
     "metadata": {},
     "output_type": "execute_result"
    }
   ],
   "source": [
    "import numpy as np\n",
    "\n",
    "np.random.seed(seed=1)\n",
    "\n",
    "# 0から99までの整数を一様分布からランダムに20個生成する\n",
    "small_counts = np.random.randint(0, 100, 20)\n",
    "\n",
    "small_counts"
   ]
  },
  {
   "cell_type": "code",
   "execution_count": 8,
   "metadata": {},
   "outputs": [
    {
     "data": {
      "text/plain": [
       "array([3, 1, 7, 0, 7, 0, 7, 6, 1, 0, 7, 7, 0, 2, 5, 2, 1, 8, 1, 2])"
      ]
     },
     "execution_count": 8,
     "metadata": {},
     "output_type": "execute_result"
    }
   ],
   "source": [
    "# 除算により 0-9 までの階級を割り当てる\n",
    "np.floor_divide(small_counts, 10)"
   ]
  },
  {
   "cell_type": "code",
   "execution_count": 9,
   "metadata": {},
   "outputs": [
    {
     "data": {
      "text/plain": [
       "array([2., 3., 4., 1., 0., 2., 2., 3., 3., 4., 4., 1., 1., 3., 2., 2., 4.])"
      ]
     },
     "execution_count": 9,
     "metadata": {},
     "output_type": "execute_result"
    }
   ],
   "source": [
    "# 複数の桁にまたがるカウントデータの配列\n",
    "large_counts = [296, 8286, 64011, 80, 3, 725, 867, 2215, 7689, 11495, 91897, \n",
    "                44, 28, 7971, 926, 122, 22222]\n",
    "# 対数変換により指数幅の階級を割り当てる\n",
    "np.floor(np.log10(large_counts))"
   ]
  },
  {
   "cell_type": "markdown",
   "metadata": {},
   "source": [
    "### 2.2 分位数による離散化\n",
    "\n",
    "* 固定幅による離散化は、計算が簡単\n",
    "\n",
    "    * しかし、カウントデータに大きなギャップがあるとデータの入らない空の階級が多くできてしまう\n",
    "    \n",
    "    * この問題を解決するために、データの分布に基づいて階級を決める方法が使われる\n",
    "    \n",
    "    * ここでは、階級をデータの分位数に基づいて決める方法を用いる"
   ]
  },
  {
   "cell_type": "markdown",
   "metadata": {},
   "source": [
    "* `分位数`：データ数を均等に分割する境界値\n",
    "\n",
    "    * 例)中央値：データを半分にする分位数\n",
    "    \n",
    "        * データ点の半分は中央値よりも小さく、もう半分は中央値より大きくなる\n",
    "        \n",
    "    * `四分位数`：データを4つに分ける、`十分位数`：データを10個に分割する"
   ]
  },
  {
   "cell_type": "markdown",
   "metadata": {},
   "source": [
    "* 以下の図では、Yelpデータセットのレビュー件数の十分位数(decile)を計算し、ヒストグラムに上書きしている\n",
    "\n",
    "    * この図より、レビュー件数が少ないほど階級幅が狭くなる\n",
    "    \n",
    "    * これは、レビュー件数の少ない店舗の方が多いため"
   ]
  },
  {
   "cell_type": "code",
   "execution_count": 10,
   "metadata": {},
   "outputs": [
    {
     "data": {
      "text/plain": [
       "0.1     3.0\n",
       "0.2     4.0\n",
       "0.3     5.0\n",
       "0.4     7.0\n",
       "0.5     9.0\n",
       "0.6    13.0\n",
       "0.7    19.0\n",
       "0.8    33.0\n",
       "0.9    70.0\n",
       "Name: review_count, dtype: float64"
      ]
     },
     "execution_count": 10,
     "metadata": {},
     "output_type": "execute_result"
    }
   ],
   "source": [
    "deciles = biz_df['review_count'].quantile([.1, .2, .3, .4, .5, .6, .7, .8, .9])\n",
    "deciles"
   ]
  },
  {
   "cell_type": "code",
   "execution_count": 11,
   "metadata": {},
   "outputs": [
    {
     "data": {
      "text/plain": [
       "Text(0, 0.5, 'Occurrence')"
      ]
     },
     "execution_count": 11,
     "metadata": {},
     "output_type": "execute_result"
    },
    {
     "data": {
      "image/png": "[encoded data removed]",
      "text/plain": [
       "<Figure size 432x288 with 1 Axes>"
      ]
     },
     "metadata": {},
     "output_type": "display_data"
    }
   ],
   "source": [
    "# ヒストグラムに十分位数を上書きする\n",
    "sns.set_style('whitegrid')\n",
    "fig, ax = plt.subplots()\n",
    "biz_df['review_count'].hist(ax=ax, bins=100)\n",
    "for pos in deciles:\n",
    "    handle = plt.axvline(pos, color='r')\n",
    "ax.legend([handle], ['deciles'], fontsize=14)\n",
    "ax.set_yscale('log')\n",
    "ax.set_xscale('log')\n",
    "ax.tick_params(labelsize=14)\n",
    "ax.set_xlabel('Review Count', fontsize=14)\n",
    "ax.set_ylabel('Occurrence', fontsize=14)"
   ]
  },
  {
   "cell_type": "markdown",
   "metadata": {},
   "source": [
    "* 分位数を計算してデータを階級に変換するには、Pandasライブラリが便利\n",
    "\n",
    "    * Pandasで分位数を計算する関数は、以下の関数を用いる\n",
    "    \n",
    "        * `pandas.DataFrame.quantile`\n",
    "\n",
    "        * `pandas.Series.quantile`\n",
    "    \n",
    "    * これらの関数で得られた分位数を境界値として使うことで、データを階級に変換できる\n",
    "    \n",
    "    * また、`pandas.qcut`を使うと、データを分位数に直接変換できる"
   ]
  },
  {
   "cell_type": "code",
   "execution_count": 12,
   "metadata": {},
   "outputs": [
    {
     "data": {
      "text/plain": [
       "array([1, 2, 3, 0, 0, 1, 1, 2, 2, 3, 3, 0, 0, 2, 1, 0, 3])"
      ]
     },
     "execution_count": 12,
     "metadata": {},
     "output_type": "execute_result"
    }
   ],
   "source": [
    "# 例2-3の large_count を引き続き使う\n",
    "import pandas as pd\n",
    "\n",
    "# 四分位数に変換\n",
    "pd.qcut(large_counts, 4, labels=False)"
   ]
  },
  {
   "cell_type": "code",
   "execution_count": 13,
   "metadata": {},
   "outputs": [
    {
     "data": {
      "text/plain": [
       "0.25     122.0\n",
       "0.50     926.0\n",
       "0.75    8286.0\n",
       "dtype: float64"
      ]
     },
     "execution_count": 13,
     "metadata": {},
     "output_type": "execute_result"
    }
   ],
   "source": [
    "# 分位数の計算\n",
    "large_counts_series = pd.Series(large_counts)\n",
    "large_counts_series.quantile([0.25, 0.5, 0.75])"
   ]
  },
  {
   "cell_type": "markdown",
   "metadata": {},
   "source": [
    "|  版  |   年/月/日   |\n",
    "|-----|-----------------|\n",
    "|初版|2019/04/15|"
   ]
  }
 ],
 "metadata": {
  "kernelspec": {
   "display_name": "Python 3",
   "language": "python",
   "name": "python3"
  },
  "language_info": {
   "codemirror_mode": {
    "name": "ipython",
    "version": 3
   },
   "file_extension": ".py",
   "mimetype": "text/x-python",
   "name": "python",
   "nbconvert_exporter": "python",
   "pygments_lexer": "ipython3",
   "version": "3.6.8"
  }
 },
 "nbformat": 4,
 "nbformat_minor": 2
}

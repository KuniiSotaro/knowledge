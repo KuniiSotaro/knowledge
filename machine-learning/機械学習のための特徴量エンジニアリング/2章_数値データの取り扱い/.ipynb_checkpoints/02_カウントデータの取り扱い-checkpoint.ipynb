{
 "cells": [
  {
   "cell_type": "markdown",
   "metadata": {},
   "source": [
    "02 カウントデータの取り扱い\n",
    "=======================\n",
    "\n",
    "* ビッグデータの時代において、大量に生成されるログデータの蓄積が容易に行われるようになった\n",
    "\n",
    "* このようなデータから得られるカウント値は極端に大きな値を含む可能性がある\n",
    "\n",
    "    * 例)音楽アプリでは、お気に入りの曲をリピート再生で繰り返し聞くユーザがいる\n",
    "    \n",
    "    * このような場合、曲の再生回数は急激に上昇し、データの中に極端に大きな値が含まれる事になる\n",
    "    \n",
    "    * カウントデータを特徴量として扱う場合、データのスケールをチェックして、以下の検討を進める必要がある\n",
    "    \n",
    "        * 数値をそのまま使う\n",
    "        \n",
    "        * 有無を示す二値データに変換する\n",
    "        \n",
    "        * 離散化して粒度を粗くする"
   ]
  },
  {
   "cell_type": "markdown",
   "metadata": {},
   "source": [
    "## 1.二値化"
   ]
  },
  {
   "cell_type": "code",
   "execution_count": null,
   "metadata": {},
   "outputs": [],
   "source": []
  }
 ],
 "metadata": {
  "kernelspec": {
   "display_name": "Python 3",
   "language": "python",
   "name": "python3"
  },
  "language_info": {
   "codemirror_mode": {
    "name": "ipython",
    "version": 3
   },
   "file_extension": ".py",
   "mimetype": "text/x-python",
   "name": "python",
   "nbconvert_exporter": "python",
   "pygments_lexer": "ipython3",
   "version": "3.6.7"
  }
 },
 "nbformat": 4,
 "nbformat_minor": 2
}

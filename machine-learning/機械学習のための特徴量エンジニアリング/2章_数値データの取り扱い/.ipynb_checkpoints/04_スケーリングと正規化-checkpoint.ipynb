{
 "cells": [
  {
   "cell_type": "markdown",
   "metadata": {},
   "source": [
    "04 スケーリングと正規化\n",
    "===================\n",
    "\n",
    "* 数値データには、値の取る範囲が決まっているものと、決まっていないものがある\n",
    "\n",
    "    * 例)緯度や経度：値の取る値が決まっている\n",
    "    \n",
    "    * 例)曲の再生数・サイトのページビュー数：カウントデータなので、上限がない\n",
    "    \n"
   ]
  },
  {
   "cell_type": "markdown",
   "metadata": {},
   "source": [
    "* 線形回帰やロジスティック回帰など、モデルが入力のスケールに敏感な場合、「`特徴量スケーリング`」というテクニックが役にたつ\n",
    "\n",
    "    * 特徴量のスケーリングは、特徴量のスケールを変更する\n",
    "    \n",
    "        * これは、特徴量の`正規化`とも呼ばれる\n",
    "    \n"
   ]
  },
  {
   "cell_type": "markdown",
   "metadata": {},
   "source": [
    "* 通常、特徴量スケーリングは個々の特徴量に対して適用される\n",
    "\n",
    "    * ここでは、スケーリング手法のうちよく使われるものに対して用いる\n",
    "    \n",
    "    * 対数変換とは異なり、スケーリングによって特徴量の分布は変化しない"
   ]
  },
  {
   "cell_type": "markdown",
   "metadata": {},
   "source": [
    "## 1. Min-Maxスケーリング\n",
    "\n",
    "* $x$：データ点における、ある特徴量の値\n",
    "\n",
    "* $min(x)$、$max(x)$：この特徴量全体における最小値と最大値"
   ]
  },
  {
   "cell_type": "markdown",
   "metadata": {},
   "source": [
    "* `Min-Maxスケーリング`は、次の式で定義される\n",
    "\n",
    "    * このスケーリングは、特徴量の値を$[0, 1]$の範囲に縮小する\n",
    "\n",
    "\\begin{eqnarray}\n",
    "\\tilde{x} = \\frac{x - min(x)}{max(x) - min(y)}\n",
    "\\end{eqnarray}"
   ]
  },
  {
   "cell_type": "markdown",
   "metadata": {},
   "source": [
    "![Min-Maxスケーリング](./images/Min-Maxスケーリング.png)"
   ]
  },
  {
   "cell_type": "markdown",
   "metadata": {},
   "source": [
    "## 2. 標準化(分散スケーリング)\n",
    "\n",
    "* 特徴量の`標準化`は、以下の式で定義される\n",
    "\n",
    "\\begin{eqnarray}\n",
    "\\tilde{x} = \\frac{x - mean(x)}{sqrt(var(x))}\n",
    "\\end{eqnarray}\n",
    "\n",
    "または\n",
    "\n",
    "\\begin{eqnarray}\n",
    "\\tilde{x} = \\frac{x - \\bar{x}}{\\hat{\\sigma_x}}\n",
    "\\end{eqnarray}"
   ]
  },
  {
   "cell_type": "markdown",
   "metadata": {},
   "source": [
    "* 特徴量から平均値を引き、分散の平方根(標準偏差)で割る\n",
    "\n",
    "* この変換の結果、特徴量の平均は0、分散は1となる\n",
    "\n",
    "* 分散で割ることから、標準化のことを`分散スケーリング`と呼ぶことがある\n",
    "\n",
    "* 元の特徴量が正規分布に従う場合、標準化された特徴量は**標準正規分布**に従う"
   ]
  },
  {
   "cell_type": "markdown",
   "metadata": {},
   "source": [
    "![標準化](./images/標準化.png)"
   ]
  },
  {
   "cell_type": "markdown",
   "metadata": {},
   "source": [
    "> **スパースデータの正規化に注意**\n",
    ">\n",
    "> スパースな特徴量に対して、`Min-Maxスケーリング`や`標準化`を適用する場合は注意が必要\n",
    "> \n",
    "> どちらの変換も元の特徴量から一定の値を引き算する\n",
    "> \n",
    "> `Min-Maxスケーリング`では特徴量の最小値が引かれ、`標準化`では平均値が引かれる\n",
    "> \n",
    "> これら2つの変換は、ほとんどの値が0であるような疎ベクトルを密ベクトルに変換する\n",
    "> \n",
    "> 実装によってはモデルの学習に多大な計算負荷をかける可能性がある"
   ]
  },
  {
   "cell_type": "markdown",
   "metadata": {},
   "source": [
    "## 3. $l^2$正規化\n",
    "\n",
    "* $l^2正規化$：$l^2$ノルム(ユークリッドノルム)で割ることで特徴量を正規化する\n",
    "\n",
    "    * 以下の式で定義される\n",
    "    \n",
    "\\begin{eqnarray}\n",
    "\\tilde{x} = \\frac{x}{||x||_2}\n",
    "\\end{eqnarray}"
   ]
  },
  {
   "cell_type": "markdown",
   "metadata": {},
   "source": [
    "* $l^2$ノルム：ベクトル空間内のベクトルの長さを表す\n",
    "\n",
    "    * $l^2$ノルムの定義は、ピタゴラスの定理から導くことができる\n",
    "    \n",
    "\\begin{eqnarray}\n",
    "||x||_2 = \\sqrt{(x_1)^2 + (x_2)^2 + ... + (x_m)^2}\n",
    "\\end{eqnarray}"
   ]
  },
  {
   "cell_type": "markdown",
   "metadata": {},
   "source": [
    "* $l^2$ノルム：特徴量の値の平方和に対して平方根をとったもの\n",
    "\n",
    "    * $l^2$正規化を適用すると、特徴量のノルムは`1`になる\n",
    "    \n",
    "    * これは、$l^2$スケーリングとも呼ばれる"
   ]
  },
  {
   "cell_type": "markdown",
   "metadata": {},
   "source": [
    "![l2正規化](./images/l2正規化.png)"
   ]
  },
  {
   "cell_type": "markdown",
   "metadata": {},
   "source": [
    "> **データ空間と特徴空間**\n",
    ">\n",
    "> 上の図は、特徴空間ではなく、データ空間\n",
    ">\n",
    "> 特徴量の代わりに、データ点に対して$l^2$正規化を行うこともできる\n",
    ">\n",
    "> これにより、特徴ベクトルのノルムは1となる"
   ]
  },
  {
   "cell_type": "markdown",
   "metadata": {},
   "source": [
    "* 特徴量スケーリングはどの手法も特徴量を定数で徐算する\n",
    "\n",
    "    * この定数は**正規化定数**と呼ぶ\n",
    "    \n",
    "    * したがって、特徴量はそれ単一で見る限り、分布の形状は変更されない"
   ]
  },
  {
   "cell_type": "markdown",
   "metadata": {},
   "source": [
    "* 例)Online News Popularityデータセットのニュース記事の単語数で説明する"
   ]
  },
  {
   "cell_type": "code",
   "execution_count": 2,
   "metadata": {},
   "outputs": [
    {
     "data": {
      "text/plain": [
       "array([219., 255., 211., ..., 442., 682., 157.])"
      ]
     },
     "execution_count": 2,
     "metadata": {},
     "output_type": "execute_result"
    }
   ],
   "source": [
    "import pandas as pd\n",
    "import sklearn.preprocessing as preproc\n",
    "\n",
    "# Online News Popularity データセットの読み込み\n",
    "df = pd.read_csv('/Users/kunii.sotaro/Downloads/OnlineNewsPopularity/OnlineNewsPopularity.csv', delimiter=', ', engine='python')\n",
    "\n",
    "# 元データ（記事中の単語数）\n",
    "df['n_tokens_content'].values"
   ]
  },
  {
   "cell_type": "code",
   "execution_count": 3,
   "metadata": {},
   "outputs": [
    {
     "data": {
      "text/plain": [
       "array([0.02584376, 0.03009205, 0.02489969, ..., 0.05215955, 0.08048147,\n",
       "       0.01852726])"
      ]
     },
     "execution_count": 3,
     "metadata": {},
     "output_type": "execute_result"
    }
   ],
   "source": [
    "# Min-Max スケーリング\n",
    "df['minmax'] = preproc.minmax_scale(df[['n_tokens_content']])\n",
    "df['minmax'].values"
   ]
  },
  {
   "cell_type": "code",
   "execution_count": 4,
   "metadata": {},
   "outputs": [
    {
     "data": {
      "text/plain": [
       "array([-0.69521045, -0.61879381, -0.71219192, ..., -0.2218518 ,\n",
       "        0.28759248, -0.82681689])"
      ]
     },
     "execution_count": 4,
     "metadata": {},
     "output_type": "execute_result"
    }
   ],
   "source": [
    "# 標準化（定義より出力が負になることもある）\n",
    "df['standardized'] = preproc.StandardScaler().fit_transform(df[['n_tokens_content']])\n",
    "df['standardized'].values"
   ]
  },
  {
   "cell_type": "code",
   "execution_count": 5,
   "metadata": {},
   "outputs": [
    {
     "data": {
      "text/plain": [
       "array([0.00152439, 0.00177498, 0.00146871, ..., 0.00307663, 0.0047472 ,\n",
       "       0.00109283])"
      ]
     },
     "execution_count": 5,
     "metadata": {},
     "output_type": "execute_result"
    }
   ],
   "source": [
    "# L2 正規化\n",
    "df['l2_normalized'] = preproc.normalize(df[['n_tokens_content']], axis=0)\n",
    "df['l2_normalized'].values"
   ]
  },
  {
   "cell_type": "markdown",
   "metadata": {},
   "source": [
    "* これらの特徴量スケーリング後のデータの分布を可視化する\n",
    "\n",
    "    * 対数変換とは異なり、特徴量スケーリングは分布の形状を変えない\n",
    "    \n",
    "    * データのスケールのみが変更される"
   ]
  },
  {
   "cell_type": "code",
   "execution_count": 7,
   "metadata": {},
   "outputs": [
    {
     "data": {
      "text/plain": [
       "Text(27.125, 0.5, 'Number of articles')"
      ]
     },
     "execution_count": 7,
     "metadata": {},
     "output_type": "execute_result"
    },
    {
     "data": {
      "image/png": "[encoded data removed]",
      "text/plain": [
       "<Figure size 432x288 with 4 Axes>"
      ]
     },
     "metadata": {
      "needs_background": "light"
     },
     "output_type": "display_data"
    }
   ],
   "source": [
    "import matplotlib.pyplot as plt\n",
    "%matplotlib inline\n",
    "\n",
    "fig, (ax1, ax2, ax3, ax4) = plt.subplots(4,1)\n",
    "fig.tight_layout()\n",
    "df['n_tokens_content'].hist(ax=ax1, bins=100)\n",
    "ax1.tick_params(labelsize=14)\n",
    "ax1.set_xlabel('Article word count', fontsize=14)\n",
    "ax1.set_ylabel('Number of articles', fontsize=14)\n",
    "\n",
    "df['minmax'].hist(ax=ax2, bins=100)\n",
    "ax2.tick_params(labelsize=14)\n",
    "ax2.set_xlabel('Min-max scaled word count', fontsize=14)\n",
    "ax2.set_ylabel('Number of articles', fontsize=14)\n",
    "\n",
    "df['standardized'].hist(ax=ax3, bins=100)\n",
    "ax3.tick_params(labelsize=14)\n",
    "ax3.set_xlabel('Standardized word count', fontsize=14)\n",
    "ax3.set_ylabel('Number of articles', fontsize=14)\n",
    "\n",
    "df['l2_normalized'].hist(ax=ax4, bins=100)\n",
    "ax4.tick_params(labelsize=14)\n",
    "ax4.set_xlabel('L2-normalized word count', fontsize=14)\n",
    "ax4.set_ylabel('Number of articles', fontsize=14)"
   ]
  },
  {
   "cell_type": "markdown",
   "metadata": {},
   "source": [
    "* 特徴量スケーリングは、入力される特徴量のスケールが大きく異なる場合に役に立つ\n",
    "\n",
    "    * 例)人気のEコマースサイトでは1日の訪問者数は数十万人に及ぶこともあるが、実際の購入者は数千人程度かもしれない\n",
    "    \n",
    "    * この2つが特徴量としてモデルに投入された場合、スケールの違いが問題を起こす場合がある\n",
    "    \n",
    "    * スケールが大きく異なる特徴量は、学習アルゴリズムにとって数値安定性の問題の原因になる可能性がある\n",
    "    \n",
    "        * このような場合に、特徴量スケーリングが有効となる"
   ]
  },
  {
   "cell_type": "markdown",
   "metadata": {},
   "source": [
    "| 版   | 年/月/日   |\n",
    "| ---- | ---------- |\n",
    "| 初版 | 2019/04/29 |"
   ]
  }
 ],
 "metadata": {
  "kernelspec": {
   "display_name": "Python 3",
   "language": "python",
   "name": "python3"
  },
  "language_info": {
   "codemirror_mode": {
    "name": "ipython",
    "version": 3
   },
   "file_extension": ".py",
   "mimetype": "text/x-python",
   "name": "python",
   "nbconvert_exporter": "python",
   "pygments_lexer": "ipython3",
   "version": "3.6.5"
  }
 },
 "nbformat": 4,
 "nbformat_minor": 2
}

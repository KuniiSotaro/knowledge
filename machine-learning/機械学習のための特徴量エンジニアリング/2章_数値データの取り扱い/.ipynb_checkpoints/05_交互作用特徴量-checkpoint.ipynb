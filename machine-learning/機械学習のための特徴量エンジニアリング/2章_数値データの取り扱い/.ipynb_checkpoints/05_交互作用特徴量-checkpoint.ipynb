{
 "cells": [
  {
   "cell_type": "markdown",
   "metadata": {},
   "source": [
    "05 交互作用特徴量\n",
    "==============\n",
    "\n",
    "* `交互作用特徴量`：複数の特徴量の積として定義される\n",
    "\n",
    "    * 複数の特徴量を組み合わせて新たな特徴量を作成する\n",
    "    \n",
    "    * その中でも2つの特徴量の積は、`ペアワイズ交互作用特徴量`と呼ばれる\n",
    "    \n",
    "    * 例)郵便番号と年齢層の2つの特徴量から交互作用特徴量を作成すると、その値は「郵便番号98121かつ年齢が18歳から35歳まで」のようになる\n",
    "    \n",
    "        * 2つの特徴量を組み合わせることで、個々の特徴量を使った場合よりもターゲット変数をうまく表現できる場合がある\n",
    "        \n"
   ]
  },
  {
   "cell_type": "markdown",
   "metadata": {},
   "source": [
    "* 2つの特徴量を組み合わせることで、個々の特徴量を使った場合よりもターゲット変数をうまく表現できる場合がある\n",
    "\n",
    "* 線形モデルで交互作用特徴量を使う場合には、明示的にモデルに組み込む必要がある(決定木に基づくモデルでは、その必要はない)"
   ]
  },
  {
   "cell_type": "markdown",
   "metadata": {},
   "source": [
    "* 線形モデルは、入力特徴量$x_1$、$x_2$、...、$x_n$の線形変換によって、ターゲット変数$y$を予測する\n",
    "\n",
    "\\begin{eqnarray}\n",
    "y = w_1x_1 + w_2x_2 + ... + w_nx_n\n",
    "\\end{eqnarray}\n",
    "\n",
    "* この線形モデルの式に交互作用特徴量を組み込むのは簡単\n",
    "\n",
    "\\begin{eqnarray}\n",
    "y = w_1x_1 + w_2x_2 + ... + w_nx_n + w_{1, 1}x_1x_1 + w_{1, 2}x_1x_2 + w_{1, 3}x_1x_3 + ...\n",
    "\\end{eqnarray}"
   ]
  },
  {
   "cell_type": "markdown",
   "metadata": {},
   "source": [
    "* これにより、モデルに交互作用(2つ以上の特徴量による複合的な影響)を組み込むことができる\n",
    "\n",
    "    * 特徴量が数値の場合、$x_1x_2$は通常の掛け算の意味\n",
    "    \n",
    "    * $x_1$と$x_2$が二値特徴量の場合、$x_1x_2$は論理積($x_1 AND x_2$)となる\n",
    "    \n"
   ]
  },
  {
   "cell_type": "markdown",
   "metadata": {},
   "source": [
    "* 例)ユーザのプロフィール情報を使って商品を買うかどうかを予測するタスクを考える\n",
    "\n",
    "    * この時、居住地域と年齢を別々に考えるより、「シアトルに住む35歳」という情報の方が役にたつ場合がある"
   ]
  },
  {
   "cell_type": "markdown",
   "metadata": {},
   "source": [
    "* 例)ペアワイズ交互作用特徴量を使って、Online News Popularityデータセットからニュース記事のシェア数を予測する\n",
    "\n",
    "    * 結果として、交互作用特徴量を加えたモデルは特徴量をそれぞれ単一に用いたモデルより精度が上がる\n",
    "    \n",
    "    * また、どちらのモデルも記事中の単語数だけを特徴量としたモデルよりも良い性能となった"
   ]
  },
  {
   "cell_type": "code",
   "execution_count": 4,
   "metadata": {},
   "outputs": [
    {
     "data": {
      "text/plain": [
       "Index(['url', 'timedelta', 'n_tokens_title', 'n_tokens_content',\n",
       "       'n_unique_tokens', 'n_non_stop_words', 'n_non_stop_unique_tokens',\n",
       "       'num_hrefs', 'num_self_hrefs', 'num_imgs', 'num_videos',\n",
       "       'average_token_length', 'num_keywords', 'data_channel_is_lifestyle',\n",
       "       'data_channel_is_entertainment', 'data_channel_is_bus',\n",
       "       'data_channel_is_socmed', 'data_channel_is_tech',\n",
       "       'data_channel_is_world', 'kw_min_min', 'kw_max_min', 'kw_avg_min',\n",
       "       'kw_min_max', 'kw_max_max', 'kw_avg_max', 'kw_min_avg', 'kw_max_avg',\n",
       "       'kw_avg_avg', 'self_reference_min_shares', 'self_reference_max_shares',\n",
       "       'self_reference_avg_sharess', 'weekday_is_monday', 'weekday_is_tuesday',\n",
       "       'weekday_is_wednesday', 'weekday_is_thursday', 'weekday_is_friday',\n",
       "       'weekday_is_saturday', 'weekday_is_sunday', 'is_weekend', 'LDA_00',\n",
       "       'LDA_01', 'LDA_02', 'LDA_03', 'LDA_04', 'global_subjectivity',\n",
       "       'global_sentiment_polarity', 'global_rate_positive_words',\n",
       "       'global_rate_negative_words', 'rate_positive_words',\n",
       "       'rate_negative_words', 'avg_positive_polarity', 'min_positive_polarity',\n",
       "       'max_positive_polarity', 'avg_negative_polarity',\n",
       "       'min_negative_polarity', 'max_negative_polarity', 'title_subjectivity',\n",
       "       'title_sentiment_polarity', 'abs_title_subjectivity',\n",
       "       'abs_title_sentiment_polarity', 'shares'],\n",
       "      dtype='object')"
      ]
     },
     "execution_count": 4,
     "metadata": {},
     "output_type": "execute_result"
    }
   ],
   "source": [
    "import pandas as pd\n",
    "from sklearn import linear_model\n",
    "from sklearn.model_selection import train_test_split\n",
    "import sklearn.preprocessing as preproc\n",
    "\n",
    "df = pd.read_csv('/Users/kunii.sotaro/Downloads/OnlineNewsPopularity/OnlineNewsPopularity.csv', delimiter=', ', engine='python')\n",
    "df.columns"
   ]
  },
  {
   "cell_type": "code",
   "execution_count": 5,
   "metadata": {},
   "outputs": [
    {
     "data": {
      "text/plain": [
       "(39644, 170)"
      ]
     },
     "execution_count": 5,
     "metadata": {},
     "output_type": "execute_result"
    }
   ],
   "source": [
    "features = ['n_tokens_title', 'n_tokens_content', 'n_unique_tokens',\n",
    "            'n_non_stop_words', 'n_non_stop_unique_tokens', 'num_hrefs',\n",
    "            'num_self_hrefs', 'num_imgs', 'num_videos', 'average_token_length',\n",
    "            'num_keywords', 'data_channel_is_lifestyle', 'data_channel_is_entertainment',\n",
    "            'data_channel_is_bus', 'data_channel_is_socmed', 'data_channel_is_tech',\n",
    "            'data_channel_is_world']\n",
    "\n",
    "X = df[features]\n",
    "y = df[['shares']]\n",
    "\n",
    "# ペアワイズ交互作用特徴量を作成する（定数項（bias）は含めない）\n",
    "X2 = preproc.PolynomialFeatures(include_bias=False).fit_transform(X)\n",
    "X2.shape"
   ]
  },
  {
   "cell_type": "code",
   "execution_count": 6,
   "metadata": {},
   "outputs": [
    {
     "name": "stdout",
     "output_type": "stream",
     "text": [
      "R-squared score with singleton features: 0.00924\n",
      "R-squared score with pairwise features: 0.0113190914\n"
     ]
    }
   ],
   "source": [
    "# 両方の特徴量セットを訓練データとテストデータに分ける\n",
    "X1_train, X1_test, X2_train, X2_test, y_train, y_test = \\\n",
    "    train_test_split(X, X2, y, test_size=0.3, random_state=123)\n",
    "\n",
    "def evaluate_feature(X_train, X_test, y_train, y_test):\n",
    "    \"\"\"\n",
    "    訓練データに対して線形回帰モデルを適合し\n",
    "    テストデータに対してスコアを算出する\n",
    "    \"\"\"\n",
    "    model = linear_model.LinearRegression().fit(X_train, y_train)\n",
    "    r_score = model.score(X_test, y_test)\n",
    "    return (model, r_score)\n",
    "\n",
    "# それぞれの特徴量に対してモデルを学習し、テストスコアを算出する\n",
    "(m1, r1) = evaluate_feature(X1_train, X1_test, y_train, y_test)\n",
    "(m2, r2) = evaluate_feature(X2_train, X2_test, y_train, y_test)\n",
    "print(\"R-squared score with singleton features: %0.5f\" % r1)\n",
    "print(\"R-squared score with pairwise features: %0.10f\" % r2)"
   ]
  },
  {
   "cell_type": "markdown",
   "metadata": {},
   "source": [
    "* 交互作用特徴量のモデル学習コストは増大する\n",
    "\n",
    "    * 例)元の特徴量が$n$個ある場合、ペアワイズ交互作用特徴量は$n^2$個作成される\n",
    "    \n",
    "    * 結果として、線形モデルの学習時間とテストスコア算出時間は$O(n)$から$O(n^2)$に増大する"
   ]
  },
  {
   "cell_type": "markdown",
   "metadata": {},
   "source": [
    "* 交互作用特徴量を利用する際に、計算時間の増大を回避する方法がある\n",
    "\n",
    "    * 1つは、交互作用特徴量に対して特徴選択を実施する方法\n",
    "    \n",
    "    * もう1つは、手作業で複合的な特徴量を注意深く作ることで、特徴量の数を押される方法"
   ]
  },
  {
   "cell_type": "markdown",
   "metadata": {},
   "source": [
    "* ただし、どちらの戦法にもメリットとデメリットがある\n",
    "\n",
    "* 特徴選択は問題に適した特徴量を自動的に選択する手法\n",
    "\n",
    "    * これは交互作用特徴量に限らず多数の特徴量を少数に絞るために使える\n",
    "    \n",
    "    * しかし、特徴選択の手法には特徴量の数が大きいままモデルを何度も学習する必要がある"
   ]
  },
  {
   "cell_type": "markdown",
   "metadata": {},
   "source": [
    "* 手作業で作られた特徴量は、表現力が高くなり、特徴量の数を少なく抑えることができる\n",
    "\n",
    "    * したがって、モデルの学習時間が削減できる\n",
    "    \n",
    "    * しかし、特徴量自体の計算に時間がかかるため、テストスコアを算出するための計算コストが増大する"
   ]
  },
  {
   "cell_type": "markdown",
   "metadata": {},
   "source": [
    "| 版   | 年/月/日   |\n",
    "| ---- | ---------- |\n",
    "| 初版 | 2019/04/14 |"
   ]
  }
 ],
 "metadata": {
  "kernelspec": {
   "display_name": "Python 3",
   "language": "python",
   "name": "python3"
  },
  "language_info": {
   "codemirror_mode": {
    "name": "ipython",
    "version": 3
   },
   "file_extension": ".py",
   "mimetype": "text/x-python",
   "name": "python",
   "nbconvert_exporter": "python",
   "pygments_lexer": "ipython3",
   "version": "3.6.5"
  }
 },
 "nbformat": 4,
 "nbformat_minor": 2
}

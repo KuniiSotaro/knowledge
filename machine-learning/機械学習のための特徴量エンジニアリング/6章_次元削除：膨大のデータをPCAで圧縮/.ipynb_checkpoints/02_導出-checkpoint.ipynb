{
 "cells": [
  {
   "cell_type": "markdown",
   "metadata": {},
   "source": [
    "02 導出\n",
    "======"
   ]
  },
  {
   "cell_type": "markdown",
   "metadata": {},
   "source": [
    "## 0. 特異値分解"
   ]
  },
  {
   "cell_type": "markdown",
   "metadata": {},
   "source": [
    "### 正方行列\n",
    "\n",
    "> 定理：\n",
    "> \n",
    "> 正方行列がその行列要素に依らず適当なスケーリングを施すことで、あるベクトルの集合をそれぞれ同じベクトルへ写像できる\n",
    "\n",
    "*　$A$($n \\times n$行列)を、以下のように定義する\n",
    "\n",
    "\\begin{eqnarray}\n",
    "A = \n",
    "\\begin{pmatrix}\n",
    "a_{11} & \\cdots & a_{1n} \\\\\n",
    "\\vdots & \\ddots &  \\vdots \\\\\n",
    "a_{n1} & \\cdots & a_{nn}\n",
    "\\end{pmatrix}\n",
    "\\end{eqnarray}"
   ]
  },
  {
   "cell_type": "markdown",
   "metadata": {},
   "source": [
    "### 固有値分解\n",
    "\n",
    "* `固有値分解`を行うと、以下の式で表される\n",
    "\n",
    "    * $\\vec{v}$：固有ベクトル\n",
    "    \n",
    "    * $\\lambda$：固有値\n",
    "\n",
    "\\begin{eqnarray}\n",
    "\\vec{A} \\vec{v} = \\lambda \\vec{v}\n",
    "\\end{eqnarray}"
   ]
  },
  {
   "cell_type": "markdown",
   "metadata": {},
   "source": [
    "### 短形行列\n",
    "\n",
    "* $A$($m \\times n$行列)を、以下のように定義する\n",
    "\n",
    "\\begin{eqnarray}\n",
    "A = \n",
    "\\begin{pmatrix}\n",
    "a_{11} & \\cdots &\\cdots & a_{1n} \\\\\n",
    "\\vdots & \\ddots & \\ddots &  \\vdots \\\\\n",
    "a_{m1} & \\cdots & \\cdots & a_{mn}\n",
    "\\end{pmatrix}\n",
    "\\end{eqnarray}\n",
    "\n",
    "* $A^T$は、以下のように計算される\n",
    "\n",
    "\\begin{eqnarray}\n",
    "A = \n",
    "\\begin{pmatrix}\n",
    "a_{11} & \\cdots & a_{1m} \\\\\n",
    "\\vdots & \\ddots  &  \\vdots \\\\\n",
    "\\vdots & \\ddots  & \\vdots \\\\\n",
    "a_{n1} & \\cdots  & a_{nm}\n",
    "\\end{pmatrix}\n",
    "\\end{eqnarray}"
   ]
  },
  {
   "cell_type": "markdown",
   "metadata": {},
   "source": [
    "### 特異値分解(SVD)\n",
    "\n",
    "* `特異値分解`を行うと、以下の式で表される\n",
    "\n",
    "    * $\\vec{v}$：右特異ベクトル\n",
    "    \n",
    "    * $\\vec{u}$：左特異ベクトル\n",
    "    \n",
    "    * $\\sigma$：特異値\n",
    "\n",
    "\\begin{eqnarray}\n",
    "\\vec{A} \\vec{v} = \\sigma \\vec{u}\n",
    "\\end{eqnarray}\n",
    "\n",
    "\\begin{eqnarray}\n",
    "\\vec{A^T} \\vec{u} = \\sigma \\vec{v}\n",
    "\\end{eqnarray}\n",
    "\n",
    "* ただし、以下の式が成り立つ($\\vec{I}$：単位行列)\n",
    "\n",
    "\\begin{eqnarray}\n",
    "\\vec{v^T}\\vec{v} = \\vec{u^T}\\vec{u} = \\vec{I}\n",
    "\\end{eqnarray}"
   ]
  },
  {
   "cell_type": "markdown",
   "metadata": {},
   "source": [
    "## 1. 線形射影\n",
    "\n",
    "* `PCA`：新しい特徴空間へ移すため、線形射影を用いる\n",
    "\n",
    "* 位置ベクトル$\\vec{x}$\n",
    "\n",
    "* $x$の射影の方向である$\\vec{v}$\n",
    "\n",
    "\\begin{eqnarray}\n",
    "\\vec{x}=\n",
    "\\begin{pmatrix}\n",
    "x_1 \\\\\n",
    "x_2 \\\\\n",
    "\\vdots \\\\\n",
    "x_i\n",
    "\\end{pmatrix} \n",
    "\\vec{v}=\n",
    "\\begin{pmatrix}\n",
    "v_1 \\\\\n",
    "v_2 \\\\\n",
    "\\vdots \\\\\n",
    "v_i\n",
    "\\end{pmatrix}　\n",
    "\\vec{v^T}=\n",
    "\\begin{pmatrix}\n",
    "v_1 & v_2 & \\cdots & v_i\n",
    "\\end{pmatrix}\n",
    "\\vec{x^T}=\n",
    "\\begin{pmatrix}\n",
    "v_1 & v_2 & \\cdots & v_i\n",
    "\\end{pmatrix}\n",
    "\\end{eqnarray}\n",
    "\n",
    "![ベクトルxを射影しベクトルvとする](./images/ベクトルxを射影しベクトルvとする.png)"
   ]
  },
  {
   "cell_type": "markdown",
   "metadata": {},
   "source": [
    "* ここで、$v$は単位ノルムとすると、以下の式で表される\n",
    "\n",
    "\\begin{eqnarray}\n",
    "||x||_1 = \\vec{v^T} \\vec{v} = 1\n",
    "\\end{eqnarray}\n",
    "\n",
    "* ゆえに、以下の射影計算のうち、実際に関連するのは分子のみになる\n",
    "\n",
    "\\begin{eqnarray}\n",
    "\\frac{\\vec{x^T}\\vec{v}}{\\vec{v^T}\\vec{v}}\n",
    "\\end{eqnarray}\n",
    "\n",
    "* これらを用いてデータ点を表すと、以下の式を用いて$z$と表すことができる\n",
    "\n",
    "    * $z$：スカラ\n",
    "    \n",
    "    * $\\vec{x}$、$\\vec{v}$：列ベクトル\n",
    "\n",
    "\\begin{eqnarray}\n",
    "z = \\vec{x^T}\\vec{v}\n",
    "\\end{eqnarray}\n",
    "\n",
    "* ここで、データ点を多数あるとすると、以下の式で表される\n",
    "\n",
    "    * $Z$：スカラ\n",
    "\n",
    "    * $X$：各行が各データ点に対応した、データ行列\n",
    "    \n",
    "\\begin{eqnarray}\n",
    "\\vec{Z} = \\vec{X^T}\\vec{v}\n",
    "\\end{eqnarray}"
   ]
  },
  {
   "cell_type": "markdown",
   "metadata": {},
   "source": [
    "## 2. 分散と経験分散\n",
    "\n",
    "### 分散\n",
    "\n",
    "* `分散`：データとその平均値との差と2乗の期待値として定義される\n",
    "\n",
    "    * $Z$：確率変数\n",
    "\n",
    "\\begin{eqnarray}\n",
    "Var(Z) = E[(Z - E(Z))^2]\n",
    "\\end{eqnarray}\n",
    "\n",
    "* ここで、上の定義では、平均値である$E(Z)$を計算する必要がある\n",
    "\n",
    "    * 全データからその平均値をあらかじめ差し引くことで、データの平均が`0`となる\n",
    "    \n",
    "        * 分散は、単に$Z^2$の期待値に等しい\n",
    "    \n",
    "    * 平均値を差し引くことは、「データを中心化する」という意味合いがある\n",
    "    \n",
    "\\begin{eqnarray}\n",
    "Var(Z') = E[(Z')^2]\n",
    "\\end{eqnarray}\n",
    "    \n",
    "![中心化されたデータ](./images/中心化されたデータ.png)"
   ]
  },
  {
   "cell_type": "markdown",
   "metadata": {},
   "source": [
    "### 経験分散\n",
    "\n",
    "* 観察されたデータ点$z_1, z_2, \\cdots, z_n$から確率分布を作り、分散を推定したもの\n",
    "\n",
    "\\begin{eqnarray}\n",
    "Var_{emp}(Z) = \\frac{1}{n-1} \\sum_{i=1}^{n} z_i^2\\\\\n",
    "\\end{eqnarray}"
   ]
  },
  {
   "cell_type": "markdown",
   "metadata": {},
   "source": [
    "## 3. PCA：はじめの一歩の定式化\n",
    "\n",
    "* ここで、以下の点$z_i$を用いて考える\n",
    "\n",
    "    * ただし、経験分散の分母である$n-1$は除外する(最大化の問題に関係ない)\n",
    "\n",
    "\\begin{eqnarray}\n",
    "z_i = \\vec{x_i^T}\\vec{w}\n",
    "\\end{eqnarray}\n",
    "\n",
    "* これらを踏まえ、主成分分析の目的関数は以下の式で表される\n",
    "\n",
    "    * 制約条件：$\\vec{w}$同士の内積が`1`となる($\\vec{w^T}\\vec{w} = 1$)\n",
    "    \n",
    "    * これは、$w$が正規化(ベクトルの長さが`1`となる)されていることと同値\n",
    "    \n",
    "\\begin{eqnarray}\n",
    "Var_{emp}(Z) = \\frac{1}{n-1} \\sum_{i=1}^{n} z_i^2 \\simeq \\underset{\\vec{w}}{max}\\sum_{i=1}^{n} \\Bigl(\\vec{x_i^T}\\vec{w} \\Bigr)^2\n",
    "\\end{eqnarray}"
   ]
  },
  {
   "cell_type": "markdown",
   "metadata": {},
   "source": [
    "## 4. PCA：行列とベクトルによる定式化\n",
    "\n",
    "* ここで、上の式について考える\n",
    "\n",
    "* 上の式における2乗和の項は扱うのが厄介である\n",
    "\n",
    "    * これは、行列とベクトルの形式で表すことを考える\n",
    "    \n",
    "> `恒等式`\n",
    ">\n",
    "> 2乗和は、加算される項を要素として持つベクトルの2乗ノルム(ベクトルの内積)に等しい\n",
    "\n",
    "* この`恒等式`を用いると、以下の式で表される\n",
    "\n",
    "    * 拘束条件：ベクトル$\\vec{w}$のノルムが1となる($\\vec{w^T}\\vec{w} = 1$)\n",
    "\n",
    "\\begin{eqnarray}\n",
    "\\underset{\\vec{w}}{max}\\sum_{i=1}^{n} \\Bigl(\\vec{x_i^T}\\vec{w} \\Bigr)^2  \n",
    "\\simeq \\underset{\\vec{w}}{max}(\\vec{w^T}\\vec{X^T})(\\vec{X}\\vec{w})\n",
    "\\end{eqnarray}\n",
    "\n",
    "* この式の意味は、「出力($\\vec{X}\\vec{w}$)が最大になるベクトル$\\vec{w}$の方向を探している」\n",
    "\n",
    "    * 最適化された$\\vec{w}$は$\\vec{X}$の最も大きい特異値に対応する`左特異ベクトル`(最も大きい固有値に対応する固有ベクトル)に対応する\n",
    "    \n",
    "    * 射影されたデータは、元データの「主成分」と呼ばれる\n",
    "\n",
    "> ベクトルの最大値を求めるためには、ラグランジュの未定乗数法を用いる(導出は省略)"
   ]
  },
  {
   "cell_type": "markdown",
   "metadata": {},
   "source": [
    "## 5. 主成分分析の一般的な解法\n",
    "\n",
    "* 第一主成分を計算し終えた直後とする\n",
    "\n",
    "    * 次にまた最適化計算をする\n",
    "\n",
    "* ただし、これから計算するベクトル(第二主成分)がすでに計算してあるベクトル(第一主成分)と直交する条件を付け加える\n",
    "\n",
    "* この手順を$k+1$番目の主成分へ拡張したものが以下の式で表される\n",
    "    \n",
    "    * 制約条件(1)：$\\vec{w^T}\\vec{w}=1$\n",
    "    \n",
    "    * 制約条件(2)：$\\vec{w^T}\\vec{w_1}=\\cdots=\\vec{w^T}\\vec{w_k}=0$\n",
    "\n",
    "\\begin{eqnarray}\n",
    "\\underset{\\vec{w}}{max}(\\vec{w^T}\\vec{X^T})(\\vec{X}\\vec{w})\n",
    "\\end{eqnarray}\n",
    "\n",
    "* この最適化問題の答えは、特異値が降順に並んでいるとして、$\\vec{X}$の$k+1$番目の左特異ベクトルとなる\n",
    "\n",
    "    * 最終的に、$k$番目の主成分は$\\vec{X}$の$k$番目の右特異ベクトルに対応する"
   ]
  },
  {
   "cell_type": "markdown",
   "metadata": {},
   "source": [
    "## 6. 特徴量の変換\n",
    "\n",
    "* 一旦主成分を決定することで、線形変換を用いて特徴量を変換することができるようになる\n",
    "\n",
    "* $\\vec{X}$の`SVD`を以下の通りに記述する\n",
    "\n",
    "    * $V_k$：右特異ベクトルの最初の$k$個を列として持っている\n",
    "\n",
    "\\begin{eqnarray}\n",
    "\\vec{X} = \\vec{U} \\vec{\\sum} \\vec{V^T}\n",
    "\\end{eqnarray}"
   ]
  },
  {
   "cell_type": "markdown",
   "metadata": {},
   "source": [
    "* $d$を特徴量の数とすると、以下のように表すことができる\n",
    "\n",
    "    * $\\vec{X}$：$n \\times d$の次元\n",
    "    \n",
    "    * $\\vec{V_k}$：$d \\times k$の次元\n",
    "    "
   ]
  },
  {
   "cell_type": "markdown",
   "metadata": {},
   "source": [
    "* ここで、単一のベクトルの射影を求める代わりに、複数のベクトルに対する射影を行うことができる\n",
    "\n",
    "\\begin{eqnarray}\n",
    "z = \\vec{x^T}\\vec{v}\n",
    "\\end{eqnarray}\n",
    "\n",
    "\\begin{eqnarray}\n",
    "\\vec{W}=\\vec{V_k}\n",
    "\\end{eqnarray}"
   ]
  },
  {
   "cell_type": "markdown",
   "metadata": {},
   "source": [
    "* 射影した後のデータ行列$\\vec{X}$の値は、簡略化することができる\n",
    "\n",
    "    * これは、特異ベクトルが互いに直交しているため\n",
    "    \n",
    "\\begin{eqnarray}\n",
    "\\vec{Z} = \\vec{X}\\vec{W} = \\vec{X}\\vec{V_k} = \\vec{U}\\vec{\\sum}\\vec{V^T}\\vec{V_k} = \\vec{U_k}\\vec{\\sum_{k}}\n",
    "\\end{eqnarray}\n",
    "\n",
    "* この射影後のデータ行列$\\vec{Z}$は、最初の$k$個の特異値によってスケーリングされた最初の$k$個の左特異ベクトル\n",
    "\n",
    "    > これは、射影された少しのデータでベクトルを表すことができていることを示す\n",
    "\n",
    "* このように主成分分析の結果は、主成分も射影も$\\vec{X}$の`SVD`を通じて得ることができる"
   ]
  },
  {
   "cell_type": "markdown",
   "metadata": {},
   "source": [
    "## 7. PCAの実装\n",
    "\n",
    "### 1. データ行列の中心化\n",
    "\n",
    "* ここで`1`は全ての要素が`1`である列ベクトルであり、$\\vec{\\mu}$は$\\vec{X}$の各行の平均値を要素とする列ベクトル\n",
    "\n",
    "\\begin{eqnarray}\n",
    "\\vec{C} = \\vec{X} - 1\\vec{\\mu^T}\n",
    "\\end{eqnarray}"
   ]
  },
  {
   "cell_type": "markdown",
   "metadata": {},
   "source": [
    "### 2. SVDの実行\n",
    "\n",
    "\\begin{eqnarray}\n",
    "\\vec{C} = \\vec{U} \\vec{\\sum} \\vec{V^T}\n",
    "\\end{eqnarray}"
   ]
  },
  {
   "cell_type": "markdown",
   "metadata": {},
   "source": [
    "### 3. 主成分を特定する\n",
    "\n",
    "* 最初の$k$個の主成分は$\\vec{V}$の最初の$k$個の列\n",
    "\n",
    "> つまり、最も大きい$k$個の特徴量を持つ`右特異ベクトル`のこと"
   ]
  },
  {
   "cell_type": "markdown",
   "metadata": {},
   "source": [
    "### 4. データの変換\n",
    "\n",
    "* 変換されたデータは、単に$\\vec{U}$の最初の$k$列\n",
    "\n",
    "    * もし白色化が必要ならば、ベクトルを特異値の逆数でスケーリングする"
   ]
  },
  {
   "cell_type": "markdown",
   "metadata": {},
   "source": [
    "| 版   | 年/月/日   |\n",
    "| ---- | ---------- |\n",
    "| 初版 | 2019/05/08 |"
   ]
  }
 ],
 "metadata": {
  "kernelspec": {
   "display_name": "Python 3",
   "language": "python",
   "name": "python3"
  },
  "language_info": {
   "codemirror_mode": {
    "name": "ipython",
    "version": 3
   },
   "file_extension": ".py",
   "mimetype": "text/x-python",
   "name": "python",
   "nbconvert_exporter": "python",
   "pygments_lexer": "ipython3",
   "version": "3.6.5"
  }
 },
 "nbformat": 4,
 "nbformat_minor": 2
}

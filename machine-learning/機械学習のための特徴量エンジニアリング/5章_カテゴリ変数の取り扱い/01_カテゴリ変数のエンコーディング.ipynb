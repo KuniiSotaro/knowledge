{
 "cells": [
  {
   "cell_type": "markdown",
   "metadata": {},
   "source": [
    "01 カテゴリ変数のエンコーディング\n",
    "============================\n",
    "\n",
    "* カテゴリ変数のカテゴリは、通常数字では表現されていない\n",
    "\n",
    "* カテゴリ変数を数値に変換するには、`エンコーディング`を行う必要がある\n",
    "\n",
    "    * 単純なものとして、$k$種類の各カテゴリ値に、$1$から$k$までの数値を当てはめる方法がある\n",
    "    \n",
    "    * しかし、この方法はカテゴリ値を順序づけてしまう\n",
    "    \n",
    "* 他の方法を考える"
   ]
  },
  {
   "cell_type": "markdown",
   "metadata": {},
   "source": [
    "## 1. One-Hotエンコーディング\n",
    "\n",
    "* エンコーディングの方法の1つに、ビットのグループを利用する方法がある\n",
    "\n",
    "* 各ビットは各カテゴリを表し、カテゴリ値の該当ビットが`on`(1)になり、それ以外は`off`(0)となる\n",
    "\n",
    "    * カテゴリ変数が同時に複数のカテゴリに属さない場合、グループ内の1つのビットだけが`on`になる\n",
    "    \n",
    "    * この方法を、`One-Hotエンコーディング`と呼ぶ\n",
    "    \n",
    "    * scikit-learnの`sklearn.preprocessing.OneHotEncoder`として実装されている\n",
    "    \n",
    "* エンコーディングされた各ビットは、1つの特徴量となる\n",
    "\n",
    "    * つまり、$k$個のカテゴリを持つカテゴリ変数は、長さ$k$の特徴量ベクトルとしてエンコーディングされる\n",
    "    \n",
    "|       city      |$e_1$|$e_2$|$e_3$|\n",
    "|-----------------|--------|---------|---------|\n",
    "|San Francisco|   1   |    0    |    0    |\n",
    "|   New York   |   0   |    1    |    0    |\n",
    "|     Seatle     |   0   |    0    |    1    |"
   ]
  },
  {
   "cell_type": "markdown",
   "metadata": {},
   "source": [
    "* One-Hotエンコーディングは、シンプルで理解しやすい方法だが、厳密に必要なビット数よりも1ビット多く使用してしまう\n",
    "\n",
    "    * $k$個のビットのうちの1つは、1つの値になる必要がある\n",
    "    \n",
    "    * もし$k-1$個のビットが$0$ならば、残った1つのビットは$1$でなくてはならない\n",
    "    \n",
    "* この制約は、「全てのビット数の和は$1$である」と言う次の式で表すことができる\n",
    "\n",
    "\\begin{eqnarray}\n",
    "e_1 + e_2 + \\cdot \\cdot \\cdot + e_k = 1\n",
    "\\end{eqnarray}\n",
    "\n",
    "* この制約からわかるように、One-Hotエンコーディングで作成されたビット数には線形の依存関係がある\n",
    "\n",
    "    * 線形の依存関係がある特徴量が含まれていると、線形モデルの係数が一意に定まらないという問題が生じる\n",
    "    \n",
    "    * その結果、特徴量が予測に与える影響を理解するのが難しくなる"
   ]
  },
  {
   "cell_type": "markdown",
   "metadata": {},
   "source": [
    "## 2. ダミーエンコーディング\n",
    "\n",
    "* `One-Hotエンコーディング`の問題点は、本来は自由度$k-1$で十分であるはずなのに、自由度$k$になっている点\n",
    "\n",
    "* `ダミーエンコーディング`：$k-1$個のビット特徴量を利用して、余分な自由度を取り除いている\n",
    "\n",
    "    * ある1つのカテゴリを選択し、$0$のみからなるベクトルを割り当てている\n",
    "    \n",
    "    * このようなカテゴリを、`参照カテゴリ`と呼ぶ"
   ]
  },
  {
   "cell_type": "markdown",
   "metadata": {},
   "source": [
    "* 以下の例では、参照カテゴリは「New York」\n",
    "\n",
    "* `ダミーエンコーディング`と`One-Hotエンコーディング`は、Pandasで実装されており、`pandas.get_dummies`から利用することができる\n",
    "\n",
    "|city|$e_1$|$e_2$|\n",
    "|-|-|-|\n",
    "|San Francisco|1|0|\n",
    "|New York|0|0|\n",
    "|Seattle|0|1|"
   ]
  },
  {
   "cell_type": "markdown",
   "metadata": {},
   "source": [
    "* `ダミーエンコーディング`を利用したモデリングの結果は、`One-Hotエンコーディング`を利用したモデリングの結果よりも解釈が容易\n",
    "\n",
    "    * 例)一般的な線形回帰モデルへの適用\n",
    "    \n",
    "    * 以下のような、、サンフランシスコ、ニューヨーク、シアトルの3つの都市におけるアパートの賃貸価格についてのデータが得られたとする\n",
    "    \n",
    "| count | City    | Rent |\n",
    "| ----- | ------- | ---- |\n",
    "| 0     | SF      | 3999 |\n",
    "| 1     | SF      | 4000 |\n",
    "| 2     | SF      | 4001 |\n",
    "| 3     | NYC     | 3499 |\n",
    "| 4     | NYC     | 3500 |\n",
    "| 5     | NYC     | 3501 |\n",
    "| 6     | Seattle | 2499 |\n",
    "| 7     | Seattle | 2500 |\n",
    "| 8     | Seattle | 2501 |"
   ]
  },
  {
   "cell_type": "markdown",
   "metadata": {},
   "source": [
    "* 都市の情報のみを使って、家賃を予測する線形回帰モデルを学習する\n",
    "\n",
    "\\begin{eqnarray}\n",
    "y = w_1x_1 + \\cdot \\cdot \\cdot + w_nx_n\n",
    "\\end{eqnarray}\n",
    "\n",
    "* さらに、$x_1, \\cdot \\cdot \\cdot, x_n$が全て$0$の場合でも、$y$が非ゼロの値になるように、定数項$b$を追加する\n",
    "\n",
    "\\begin{eqnarray}\n",
    "y = w_1x_1 + \\cdot \\cdot \\cdot + w_nx_n + b\n",
    "\\end{eqnarray}"
   ]
  },
  {
   "cell_type": "code",
   "execution_count": 1,
   "metadata": {},
   "outputs": [
    {
     "data": {
      "text/plain": [
       "3333.3333333333335"
      ]
     },
     "execution_count": 1,
     "metadata": {},
     "output_type": "execute_result"
    }
   ],
   "source": [
    "import pandas as pd\n",
    "from sklearn import linear_model\n",
    "\n",
    "# 3つの都市におけるアパートの家賃のデータセットを設定\n",
    "df = pd.DataFrame({\n",
    "    'City': ['SF', 'SF', 'SF', 'NYC', 'NYC', 'NYC', 'Seattle', 'Seattle', 'Seattle'],\n",
    "    'Rent': [3999, 4000, 4001, 3499, 3500, 3501, 2499, 2500, 2501]\n",
    "})\n",
    "\n",
    "df['Rent'].mean()"
   ]
  },
  {
   "cell_type": "code",
   "execution_count": 2,
   "metadata": {},
   "outputs": [
    {
     "data": {
      "text/html": [
       "<div>\n",
       "<style scoped>\n",
       "    .dataframe tbody tr th:only-of-type {\n",
       "        vertical-align: middle;\n",
       "    }\n",
       "\n",
       "    .dataframe tbody tr th {\n",
       "        vertical-align: top;\n",
       "    }\n",
       "\n",
       "    .dataframe thead th {\n",
       "        text-align: right;\n",
       "    }\n",
       "</style>\n",
       "<table border=\"1\" class=\"dataframe\">\n",
       "  <thead>\n",
       "    <tr style=\"text-align: right;\">\n",
       "      <th></th>\n",
       "      <th>Rent</th>\n",
       "      <th>city_NYC</th>\n",
       "      <th>city_SF</th>\n",
       "      <th>city_Seattle</th>\n",
       "    </tr>\n",
       "  </thead>\n",
       "  <tbody>\n",
       "    <tr>\n",
       "      <th>0</th>\n",
       "      <td>3999</td>\n",
       "      <td>0</td>\n",
       "      <td>1</td>\n",
       "      <td>0</td>\n",
       "    </tr>\n",
       "    <tr>\n",
       "      <th>1</th>\n",
       "      <td>4000</td>\n",
       "      <td>0</td>\n",
       "      <td>1</td>\n",
       "      <td>0</td>\n",
       "    </tr>\n",
       "    <tr>\n",
       "      <th>2</th>\n",
       "      <td>4001</td>\n",
       "      <td>0</td>\n",
       "      <td>1</td>\n",
       "      <td>0</td>\n",
       "    </tr>\n",
       "    <tr>\n",
       "      <th>3</th>\n",
       "      <td>3499</td>\n",
       "      <td>1</td>\n",
       "      <td>0</td>\n",
       "      <td>0</td>\n",
       "    </tr>\n",
       "    <tr>\n",
       "      <th>4</th>\n",
       "      <td>3500</td>\n",
       "      <td>1</td>\n",
       "      <td>0</td>\n",
       "      <td>0</td>\n",
       "    </tr>\n",
       "    <tr>\n",
       "      <th>5</th>\n",
       "      <td>3501</td>\n",
       "      <td>1</td>\n",
       "      <td>0</td>\n",
       "      <td>0</td>\n",
       "    </tr>\n",
       "    <tr>\n",
       "      <th>6</th>\n",
       "      <td>2499</td>\n",
       "      <td>0</td>\n",
       "      <td>0</td>\n",
       "      <td>1</td>\n",
       "    </tr>\n",
       "    <tr>\n",
       "      <th>7</th>\n",
       "      <td>2500</td>\n",
       "      <td>0</td>\n",
       "      <td>0</td>\n",
       "      <td>1</td>\n",
       "    </tr>\n",
       "    <tr>\n",
       "      <th>8</th>\n",
       "      <td>2501</td>\n",
       "      <td>0</td>\n",
       "      <td>0</td>\n",
       "      <td>1</td>\n",
       "    </tr>\n",
       "  </tbody>\n",
       "</table>\n",
       "</div>"
      ],
      "text/plain": [
       "   Rent  city_NYC  city_SF  city_Seattle\n",
       "0  3999         0        1             0\n",
       "1  4000         0        1             0\n",
       "2  4001         0        1             0\n",
       "3  3499         1        0             0\n",
       "4  3500         1        0             0\n",
       "5  3501         1        0             0\n",
       "6  2499         0        0             1\n",
       "7  2500         0        0             1\n",
       "8  2501         0        0             1"
      ]
     },
     "execution_count": 2,
     "metadata": {},
     "output_type": "execute_result"
    }
   ],
   "source": [
    "# One-Hotエンコーディングをカテゴリ値であるcity列に適用\n",
    "# 特徴量をOne-Hotエンコーディングで生成した列に、ターゲット変数を家賃に指定し、線形回帰モデルを学習\n",
    "one_hot_df = pd.get_dummies(df, prefix=['city'])\n",
    "one_hot_df"
   ]
  },
  {
   "cell_type": "code",
   "execution_count": 3,
   "metadata": {},
   "outputs": [
    {
     "data": {
      "text/plain": [
       "array([ 166.66666667,  666.66666667, -833.33333333])"
      ]
     },
     "execution_count": 3,
     "metadata": {},
     "output_type": "execute_result"
    }
   ],
   "source": [
    "model = linear_model.LinearRegression()\n",
    "model.fit(one_hot_df[['city_NYC', 'city_SF', 'city_Seattle']], one_hot_df['Rent'])\n",
    "model.coef_"
   ]
  },
  {
   "cell_type": "code",
   "execution_count": 4,
   "metadata": {},
   "outputs": [
    {
     "data": {
      "text/plain": [
       "3333.3333333333335"
      ]
     },
     "execution_count": 4,
     "metadata": {},
     "output_type": "execute_result"
    }
   ],
   "source": [
    "model.intercept_"
   ]
  },
  {
   "cell_type": "code",
   "execution_count": 5,
   "metadata": {},
   "outputs": [
    {
     "data": {
      "text/html": [
       "<div>\n",
       "<style scoped>\n",
       "    .dataframe tbody tr th:only-of-type {\n",
       "        vertical-align: middle;\n",
       "    }\n",
       "\n",
       "    .dataframe tbody tr th {\n",
       "        vertical-align: top;\n",
       "    }\n",
       "\n",
       "    .dataframe thead th {\n",
       "        text-align: right;\n",
       "    }\n",
       "</style>\n",
       "<table border=\"1\" class=\"dataframe\">\n",
       "  <thead>\n",
       "    <tr style=\"text-align: right;\">\n",
       "      <th></th>\n",
       "      <th>Rent</th>\n",
       "      <th>city_SF</th>\n",
       "      <th>city_Seattle</th>\n",
       "    </tr>\n",
       "  </thead>\n",
       "  <tbody>\n",
       "    <tr>\n",
       "      <th>0</th>\n",
       "      <td>3999</td>\n",
       "      <td>1</td>\n",
       "      <td>0</td>\n",
       "    </tr>\n",
       "    <tr>\n",
       "      <th>1</th>\n",
       "      <td>4000</td>\n",
       "      <td>1</td>\n",
       "      <td>0</td>\n",
       "    </tr>\n",
       "    <tr>\n",
       "      <th>2</th>\n",
       "      <td>4001</td>\n",
       "      <td>1</td>\n",
       "      <td>0</td>\n",
       "    </tr>\n",
       "    <tr>\n",
       "      <th>3</th>\n",
       "      <td>3499</td>\n",
       "      <td>0</td>\n",
       "      <td>0</td>\n",
       "    </tr>\n",
       "    <tr>\n",
       "      <th>4</th>\n",
       "      <td>3500</td>\n",
       "      <td>0</td>\n",
       "      <td>0</td>\n",
       "    </tr>\n",
       "    <tr>\n",
       "      <th>5</th>\n",
       "      <td>3501</td>\n",
       "      <td>0</td>\n",
       "      <td>0</td>\n",
       "    </tr>\n",
       "    <tr>\n",
       "      <th>6</th>\n",
       "      <td>2499</td>\n",
       "      <td>0</td>\n",
       "      <td>1</td>\n",
       "    </tr>\n",
       "    <tr>\n",
       "      <th>7</th>\n",
       "      <td>2500</td>\n",
       "      <td>0</td>\n",
       "      <td>1</td>\n",
       "    </tr>\n",
       "    <tr>\n",
       "      <th>8</th>\n",
       "      <td>2501</td>\n",
       "      <td>0</td>\n",
       "      <td>1</td>\n",
       "    </tr>\n",
       "  </tbody>\n",
       "</table>\n",
       "</div>"
      ],
      "text/plain": [
       "   Rent  city_SF  city_Seattle\n",
       "0  3999        1             0\n",
       "1  4000        1             0\n",
       "2  4001        1             0\n",
       "3  3499        0             0\n",
       "4  3500        0             0\n",
       "5  3501        0             0\n",
       "6  2499        0             1\n",
       "7  2500        0             1\n",
       "8  2501        0             1"
      ]
     },
     "execution_count": 5,
     "metadata": {},
     "output_type": "execute_result"
    }
   ],
   "source": [
    "# ダミーコーディングを利用して線形回帰モデルを学習\n",
    "dummy_df = pd.get_dummies(df, prefix=['city'], drop_first=True)\n",
    "dummy_df"
   ]
  },
  {
   "cell_type": "code",
   "execution_count": 6,
   "metadata": {},
   "outputs": [
    {
     "data": {
      "text/plain": [
       "array([  500., -1000.])"
      ]
     },
     "execution_count": 6,
     "metadata": {},
     "output_type": "execute_result"
    }
   ],
   "source": [
    "model.fit(dummy_df[['city_SF', 'city_Seattle']], dummy_df['Rent'])\n",
    "model.coef_"
   ]
  },
  {
   "cell_type": "code",
   "execution_count": 7,
   "metadata": {},
   "outputs": [
    {
     "data": {
      "text/plain": [
       "3500.0"
      ]
     },
     "execution_count": 7,
     "metadata": {},
     "output_type": "execute_result"
    }
   ],
   "source": [
    "model.intercept_"
   ]
  },
  {
   "cell_type": "markdown",
   "metadata": {},
   "source": [
    "* `One-Hotエンコーディング`では、切片はターゲット変数`Rent`の全体平均を表し、各特徴量の回帰係数は各カテゴリ(都市)の平均賃料と全体平均との差分を表す\n",
    "\n",
    "* 一方、`ダミーコーディング`においては、切片は参照カテゴリのターゲット変数の平均値を表す\n",
    "\n",
    "    * この例では、NYCの平均賃料となる"
   ]
  },
  {
   "cell_type": "markdown",
   "metadata": {},
   "source": [
    "* $i$番目の特徴の係数は、$i$番目のカテゴリの平均値と参照カテゴリの平均値との差を意味する\n",
    "\n",
    "* 以下の表では、エンコーディング方法による線形モデルの係数の違いを確認できる\n",
    "\n",
    "| エンコーディング        | $x_1$  | $x_2$  | $x_3$   | $b$     |\n",
    "| ----------------------- | ------ | ------ | ------- | ------- |\n",
    "| One-Hotエンコーディング | 166.67 | 666.67 | -833.33 | 3333.33 |\n",
    "| ダミーエンコーディング  | 0      | 500    | -1000   | 3500    |"
   ]
  },
  {
   "cell_type": "markdown",
   "metadata": {},
   "source": [
    "## 3. Effectコーディング\n",
    "\n",
    "* `Effectコーディング`：`ダミーコーディング`と非常によく似ているが、参照カテゴリは全て$-1$のベクトルとなる\n",
    "\n",
    "| city          | $e_1$ | $e_2$ |\n",
    "| ------------- | ----- | ----- |\n",
    "| San Francisco | 1     | 0     |\n",
    "| New York      | -1    | -1    |\n",
    "| Seattle       | 0     | 1     |"
   ]
  },
  {
   "cell_type": "markdown",
   "metadata": {},
   "source": [
    "* また、`Effectコーディング`は、`ダミーエンコーディング`よりも結果の解釈がずっと簡単\n",
    "\n",
    "    * 以下の例では、`Effectコーディング`によって入力がどのように変化するのかを示している\n",
    "    \n",
    "    "
   ]
  },
  {
   "cell_type": "markdown",
   "metadata": {},
   "source": [
    "* `Effectコーディング`では、\n",
    "\n",
    "    * 切片：ターゲット変数の全体平均を表す\n",
    "    \n",
    "    * 各特徴量の回帰係数：カテゴリの平均値と全体平均との差分を表す\n",
    "    \n",
    "        * この差分は、各カテゴリの**主効果**と呼ばれるため、`Effectコーディング`と言う名前になっている\n",
    "        \n",
    "        "
   ]
  },
  {
   "cell_type": "markdown",
   "metadata": {},
   "source": [
    "* `Effectコーディング`の結果は、`One-Hotエンコーディング`と切片と係数の値が同じだが、参照カテゴリの係数は存在しない\n",
    "\n",
    "    * 参照カテゴリの係数を算出するには、参照カテゴリ以外の全カテゴリの係数を合計してマイナスを付ける"
   ]
  },
  {
   "cell_type": "code",
   "execution_count": 8,
   "metadata": {},
   "outputs": [
    {
     "data": {
      "text/html": [
       "<div>\n",
       "<style scoped>\n",
       "    .dataframe tbody tr th:only-of-type {\n",
       "        vertical-align: middle;\n",
       "    }\n",
       "\n",
       "    .dataframe tbody tr th {\n",
       "        vertical-align: top;\n",
       "    }\n",
       "\n",
       "    .dataframe thead th {\n",
       "        text-align: right;\n",
       "    }\n",
       "</style>\n",
       "<table border=\"1\" class=\"dataframe\">\n",
       "  <thead>\n",
       "    <tr style=\"text-align: right;\">\n",
       "      <th></th>\n",
       "      <th>Rent</th>\n",
       "      <th>city_SF</th>\n",
       "      <th>city_Seattle</th>\n",
       "    </tr>\n",
       "  </thead>\n",
       "  <tbody>\n",
       "    <tr>\n",
       "      <th>0</th>\n",
       "      <td>3999</td>\n",
       "      <td>1.0</td>\n",
       "      <td>0.0</td>\n",
       "    </tr>\n",
       "    <tr>\n",
       "      <th>1</th>\n",
       "      <td>4000</td>\n",
       "      <td>1.0</td>\n",
       "      <td>0.0</td>\n",
       "    </tr>\n",
       "    <tr>\n",
       "      <th>2</th>\n",
       "      <td>4001</td>\n",
       "      <td>1.0</td>\n",
       "      <td>0.0</td>\n",
       "    </tr>\n",
       "    <tr>\n",
       "      <th>3</th>\n",
       "      <td>3499</td>\n",
       "      <td>-1.0</td>\n",
       "      <td>-1.0</td>\n",
       "    </tr>\n",
       "    <tr>\n",
       "      <th>4</th>\n",
       "      <td>3500</td>\n",
       "      <td>-1.0</td>\n",
       "      <td>-1.0</td>\n",
       "    </tr>\n",
       "    <tr>\n",
       "      <th>5</th>\n",
       "      <td>3501</td>\n",
       "      <td>-1.0</td>\n",
       "      <td>-1.0</td>\n",
       "    </tr>\n",
       "    <tr>\n",
       "      <th>6</th>\n",
       "      <td>2499</td>\n",
       "      <td>0.0</td>\n",
       "      <td>1.0</td>\n",
       "    </tr>\n",
       "    <tr>\n",
       "      <th>7</th>\n",
       "      <td>2500</td>\n",
       "      <td>0.0</td>\n",
       "      <td>1.0</td>\n",
       "    </tr>\n",
       "    <tr>\n",
       "      <th>8</th>\n",
       "      <td>2501</td>\n",
       "      <td>0.0</td>\n",
       "      <td>1.0</td>\n",
       "    </tr>\n",
       "  </tbody>\n",
       "</table>\n",
       "</div>"
      ],
      "text/plain": [
       "   Rent  city_SF  city_Seattle\n",
       "0  3999      1.0           0.0\n",
       "1  4000      1.0           0.0\n",
       "2  4001      1.0           0.0\n",
       "3  3499     -1.0          -1.0\n",
       "4  3500     -1.0          -1.0\n",
       "5  3501     -1.0          -1.0\n",
       "6  2499      0.0           1.0\n",
       "7  2500      0.0           1.0\n",
       "8  2501      0.0           1.0"
      ]
     },
     "execution_count": 8,
     "metadata": {},
     "output_type": "execute_result"
    }
   ],
   "source": [
    "effect_df = dummy_df.copy()\n",
    "effect_df.loc[3:5, ['city_SF', 'city_Seattle']] = -1.0\n",
    "effect_df"
   ]
  },
  {
   "cell_type": "code",
   "execution_count": 9,
   "metadata": {},
   "outputs": [
    {
     "data": {
      "text/plain": [
       "array([ 666.66666667, -833.33333333])"
      ]
     },
     "execution_count": 9,
     "metadata": {},
     "output_type": "execute_result"
    }
   ],
   "source": [
    "model.fit(effect_df[['city_SF', 'city_Seattle']], effect_df['Rent'])\n",
    "model.coef_"
   ]
  },
  {
   "cell_type": "code",
   "execution_count": 10,
   "metadata": {},
   "outputs": [
    {
     "data": {
      "text/plain": [
       "3333.3333333333335"
      ]
     },
     "execution_count": 10,
     "metadata": {},
     "output_type": "execute_result"
    }
   ],
   "source": [
    "model.intercept_"
   ]
  },
  {
   "cell_type": "markdown",
   "metadata": {},
   "source": [
    "## 4. カテゴリ変数のエンコーディング方法の長所と短所\n",
    "\n",
    "* カテゴリ変数の3種類のエンコーディング方法はとても似ているが、それぞれに長所と短所がある"
   ]
  },
  {
   "cell_type": "markdown",
   "metadata": {},
   "source": [
    "### One-Hotエンコーディング\n",
    "\n",
    "* 冗長な表現なので、同じ問題に対して妥当なモデルが複数存在して係数が一意に定まらない\n",
    "\n",
    "* それが結果の解釈の妨げになることもあるが、各特徴量が各カテゴリに明確に対応しているという利点がある\n",
    "\n",
    "* さらに、カテゴリが欠損しているデータを扱う際に便利\n",
    "\n",
    "    * 例)欠損データを要素が全て0のベクトルとしてエンコーディングすることで、予測結果がターゲット変数の全体平均になる"
   ]
  },
  {
   "cell_type": "markdown",
   "metadata": {},
   "source": [
    "### ダミーコーディング\n",
    "\n",
    "* `ダミーコーディング`と`Effectコーディング`は、冗長な表現ではない\n",
    "\n",
    "* そのため、ユニークで解釈が可能なモデルを得られる\n",
    "\n",
    "* `ダミーコーディング`の欠点は、欠損データを簡単に処理できないこと\n",
    "\n",
    "    * 要素が０のベクトルがすでに参照カテゴリに割り当てられているため\n",
    "    \n",
    "*　また、参照カテゴリに対する各カテゴリの相対的な影響をエンコードすることは、不自然に感じられる"
   ]
  },
  {
   "cell_type": "markdown",
   "metadata": {},
   "source": [
    "### Effectコーディング\n",
    "\n",
    "* `ダミーコーディング`の問題を、参照カテゴリに対して異なるコードを割り当てることで回避している\n",
    "\n",
    "* しかし、要素が全て-1のベクトルは密なベクトルであり、記憶容量や計算コストがかかる\n",
    "\n",
    "    * そのため、Pandasやscikit-learnのような機械学習のパッケージは、このエンコーディングを使っていない\n",
    "    "
   ]
  },
  {
   "cell_type": "markdown",
   "metadata": {},
   "source": [
    "* カテゴリ数が非常に大きくなると、これらのエンコーディング方法はいずれもうまく機能しなくなる\n",
    "\n",
    "* そのため、他の種類を用いる必要がある"
   ]
  },
  {
   "cell_type": "markdown",
   "metadata": {},
   "source": [
    "| 版   | 年/月/日   |\n",
    "| ---- | ---------- |\n",
    "| 初版 | 2019/05/04 |"
   ]
  }
 ],
 "metadata": {
  "kernelspec": {
   "display_name": "Python 3",
   "language": "python",
   "name": "python3"
  },
  "language_info": {
   "codemirror_mode": {
    "name": "ipython",
    "version": 3
   },
   "file_extension": ".py",
   "mimetype": "text/x-python",
   "name": "python",
   "nbconvert_exporter": "python",
   "pygments_lexer": "ipython3",
   "version": "3.6.5"
  }
 },
 "nbformat": 4,
 "nbformat_minor": 2
}

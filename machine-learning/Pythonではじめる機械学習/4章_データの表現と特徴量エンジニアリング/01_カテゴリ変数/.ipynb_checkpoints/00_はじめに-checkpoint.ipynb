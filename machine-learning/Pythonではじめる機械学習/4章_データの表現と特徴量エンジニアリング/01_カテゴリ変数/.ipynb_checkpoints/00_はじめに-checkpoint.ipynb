{
 "cells": [
  {
   "cell_type": "markdown",
   "metadata": {},
   "source": [
    "00 はじめに\n",
    "=========\n",
    "\n",
    "* 例として、1994年の一斉調査で得られたデータベースから作った、アメリカ合衆国成人の収入データセットを見てみる\n",
    "\n",
    "    * この`adult`データセットのタスクは、ある労働者の収入が50,000ドルを超えるかどうかを予測するもの\n",
    "    \n",
    "    * このデータセットの特徴量としては、労働者の年齢、雇用形態(自営、民間企業従業員、公務員など)、教育、性別、週あたりの労働時間、職業など\n",
    "    \n",
    "    * 以下の表に、このデータセットの最初の数エントリを示す"
   ]
  },
  {
   "cell_type": "code",
   "execution_count": 4,
   "metadata": {},
   "outputs": [
    {
     "data": {
      "text/html": [
       "<div>\n",
       "<style scoped>\n",
       "    .dataframe tbody tr th:only-of-type {\n",
       "        vertical-align: middle;\n",
       "    }\n",
       "\n",
       "    .dataframe tbody tr th {\n",
       "        vertical-align: top;\n",
       "    }\n",
       "\n",
       "    .dataframe thead th {\n",
       "        text-align: right;\n",
       "    }\n",
       "</style>\n",
       "<table border=\"1\" class=\"dataframe\">\n",
       "  <thead>\n",
       "    <tr style=\"text-align: right;\">\n",
       "      <th></th>\n",
       "      <th>age</th>\n",
       "      <th>workclass</th>\n",
       "      <th>education</th>\n",
       "      <th>gender</th>\n",
       "      <th>hours-per-week</th>\n",
       "      <th>occupation</th>\n",
       "      <th>income</th>\n",
       "    </tr>\n",
       "  </thead>\n",
       "  <tbody>\n",
       "    <tr>\n",
       "      <th>0</th>\n",
       "      <td>39</td>\n",
       "      <td>State-gov</td>\n",
       "      <td>Bachelors</td>\n",
       "      <td>Male</td>\n",
       "      <td>40</td>\n",
       "      <td>Adm-clerical</td>\n",
       "      <td>&lt;=50K</td>\n",
       "    </tr>\n",
       "    <tr>\n",
       "      <th>1</th>\n",
       "      <td>50</td>\n",
       "      <td>Self-emp-not-inc</td>\n",
       "      <td>Bachelors</td>\n",
       "      <td>Male</td>\n",
       "      <td>13</td>\n",
       "      <td>Exec-managerial</td>\n",
       "      <td>&lt;=50K</td>\n",
       "    </tr>\n",
       "    <tr>\n",
       "      <th>2</th>\n",
       "      <td>38</td>\n",
       "      <td>Private</td>\n",
       "      <td>HS-grad</td>\n",
       "      <td>Male</td>\n",
       "      <td>40</td>\n",
       "      <td>Handlers-cleaners</td>\n",
       "      <td>&lt;=50K</td>\n",
       "    </tr>\n",
       "    <tr>\n",
       "      <th>3</th>\n",
       "      <td>53</td>\n",
       "      <td>Private</td>\n",
       "      <td>11th</td>\n",
       "      <td>Male</td>\n",
       "      <td>40</td>\n",
       "      <td>Handlers-cleaners</td>\n",
       "      <td>&lt;=50K</td>\n",
       "    </tr>\n",
       "    <tr>\n",
       "      <th>4</th>\n",
       "      <td>28</td>\n",
       "      <td>Private</td>\n",
       "      <td>Bachelors</td>\n",
       "      <td>Female</td>\n",
       "      <td>40</td>\n",
       "      <td>Prof-specialty</td>\n",
       "      <td>&lt;=50K</td>\n",
       "    </tr>\n",
       "  </tbody>\n",
       "</table>\n",
       "</div>"
      ],
      "text/plain": [
       "   age          workclass   education   gender  hours-per-week  \\\n",
       "0   39          State-gov   Bachelors     Male              40   \n",
       "1   50   Self-emp-not-inc   Bachelors     Male              13   \n",
       "2   38            Private     HS-grad     Male              40   \n",
       "3   53            Private        11th     Male              40   \n",
       "4   28            Private   Bachelors   Female              40   \n",
       "\n",
       "           occupation  income  \n",
       "0        Adm-clerical   <=50K  \n",
       "1     Exec-managerial   <=50K  \n",
       "2   Handlers-cleaners   <=50K  \n",
       "3   Handlers-cleaners   <=50K  \n",
       "4      Prof-specialty   <=50K  "
      ]
     },
     "metadata": {},
     "output_type": "display_data"
    }
   ],
   "source": [
    "import os\n",
    "import mglearn\n",
    "import pandas as pd\n",
    "# The file has no headers naming the columns, so we pass header=None\n",
    "# and provide the column names explicitly in \"names\"\n",
    "adult_path = os.path.join(mglearn.datasets.DATA_PATH, \"adult.data\")\n",
    "data = pd.read_csv(\n",
    "    adult_path, header=None, index_col=False,\n",
    "    names=['age', 'workclass', 'fnlwgt', 'education',  'education-num',\n",
    "           'marital-status', 'occupation', 'relationship', 'race', 'gender',\n",
    "           'capital-gain', 'capital-loss', 'hours-per-week', 'native-country',\n",
    "           'income'])\n",
    "# For illustration purposes, we only select some of the columns\n",
    "data = data[['age', 'workclass', 'education', 'gender', 'hours-per-week',\n",
    "             'occupation', 'income']]\n",
    "# IPython.display allows nice output formatting within the Jupyter notebook\n",
    "display(data.head())"
   ]
  },
  {
   "cell_type": "markdown",
   "metadata": {},
   "source": [
    "* `age`：年齢\n",
    "\n",
    "* `workclass`：雇用形態\n",
    "\n",
    "* `education`：教育\n",
    "\n",
    "* `gender`：性別\n",
    "\n",
    "* `hours-per-week`：週当たりの労働時間\n",
    "\n",
    "* `occupation`：職業\n",
    "\n",
    "* `income`：収入\n",
    "\n",
    "* `State-gov`：公務員\n",
    "\n",
    "* `Self-emp-not-inc`：自営\n",
    "\n",
    "* `Private`：民間\n",
    "\n",
    "* `Bachelor`：大学卒\n",
    "\n",
    "* `HS-grad`：高卒\n",
    "\n",
    "* `11th`：高2卒\n",
    "\n",
    "* `Masters`：修士卒\n",
    "\n",
    "* `Some-college`：大学中退\n",
    "\n",
    "* `Male`：男性\n",
    "\n",
    "* `Female`：女性\n",
    "\n",
    "* `Adm-clerical`：事務\n",
    "\n",
    "* `Exec-manegerial`：管理職\n",
    "\n",
    "* `Hnlers-cleaners`：清掃\n",
    "\n",
    "* `Prof-specialty`：専門職"
   ]
  },
  {
   "cell_type": "markdown",
   "metadata": {},
   "source": [
    "* このタスクは、収入が5万ドルを超えるか5万ドル以下かの2クラス分類タスクとなっている\n",
    "\n",
    "   * 正確な収入を予測する回帰タスクとすることもできる\n",
    "   \n",
    "   * しかし、この問題が非常に難しくなってしまうので、クラス分類タスクとする"
   ]
  },
  {
   "cell_type": "markdown",
   "metadata": {},
   "source": [
    "* このデータセットでは、`age`(年齢)と`hours-per-week`(週当たりの労働時間)は扱い方がわかっている連続値となっている\n",
    "\n",
    "* `workclass`(雇用形態)、`education`(教育)、`sex`(性別)、`occupation`(職業)はカテゴリ特徴量である\n",
    "    \n",
    "    * これらはある範囲の値から選ばれたのではなく、限定されたリストの中から選ばれた値で、定量的ではなく、定性的な特性を示している"
   ]
  },
  {
   "cell_type": "markdown",
   "metadata": {},
   "source": [
    "* まず、このデータでロジスティック回帰クラス分類器を学習させてみる\n",
    "\n",
    "    * ロジスティック回帰は、次の式を用いて$\\hat{y}$を予測する\n",
    "    \n",
    "    * $w[i]$と$b$は、訓練セットから学習した係数\n",
    "    \n",
    "    * $x[i]$は入力特徴量\n",
    "\n",
    "\\begin{align}\n",
    "\\hat{y} = w[0] \\times x[0] + w[1] \\times x[1] + \\cdots + w[p] \\times x[p] + b > 0\n",
    "\\end{align}"
   ]
  },
  {
   "cell_type": "markdown",
   "metadata": {},
   "source": [
    "* この式は、$x[i]$が数値である場合には意味を持つが、$x[2]$が`Masters`や`Bachelors`だった場合には、意味がない\n",
    "\n",
    "* ロジスティック回帰を適用するには、データを別の方法で表現しなければならない"
   ]
  },
  {
   "cell_type": "markdown",
   "metadata": {},
   "source": [
    "| 版   | 年/月/日   |\n",
    "| ---- | ---------- |\n",
    "| 初版 | 2019/03/18 |"
   ]
  }
 ],
 "metadata": {
  "kernelspec": {
   "display_name": "Python 3",
   "language": "python",
   "name": "python3"
  },
  "language_info": {
   "codemirror_mode": {
    "name": "ipython",
    "version": 3
   },
   "file_extension": ".py",
   "mimetype": "text/x-python",
   "name": "python",
   "nbconvert_exporter": "python",
   "pygments_lexer": "ipython3",
   "version": "3.6.5"
  }
 },
 "nbformat": 4,
 "nbformat_minor": 2
}

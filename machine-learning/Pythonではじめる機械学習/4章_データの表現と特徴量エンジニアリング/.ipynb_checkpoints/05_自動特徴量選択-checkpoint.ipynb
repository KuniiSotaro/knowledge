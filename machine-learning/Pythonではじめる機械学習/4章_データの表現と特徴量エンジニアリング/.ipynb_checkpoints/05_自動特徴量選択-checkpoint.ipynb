{
 "cells": [
  {
   "cell_type": "markdown",
   "metadata": {},
   "source": [
    "05 自動特徴量選択\n",
    "==============\n",
    "\n",
    "* 新しい特徴量を作る方法が多くあるので、データの次元数を元の特徴量の数よりもはるかに大きくしたくなることもある\n",
    "\n",
    "    * しかし、特徴量を追加すると、モデルは複雑になり、過剰適合の可能性が高くなる\n",
    "    \n",
    "    * 新しい特徴量を加える場合、また高次元データセット一般の場合、最も有用な特徴量だけを残して残りを捨てて、特徴量の数を減らすのは良い考えである\n",
    "    \n",
    "    * こうすることで、モデルが単純になり、汎化性能が向上する\n",
    "    \n",
    "    * 良い特徴量がわかる3つの戦略があり、`単変量統計`、`モデルベース選択`、`反復選択`の3つ\n",
    "    \n",
    "    * これらの手法は全て教師あり学習なので、モデルを適合するためのターゲットが必要である\n",
    "    \n",
    "    * 従って、データを訓練セットとテストセットに分割し、特徴量選択は、訓練セットだけを用いて行うようにしなければならない"
   ]
  },
  {
   "cell_type": "markdown",
   "metadata": {},
   "source": [
    "## 1. 単変量統計\n",
    "\n",
    "* `単変量統計`：個々の特徴量とターゲットとの間に、統計的に顕著な関係があるかどうかを計算する\n",
    "\n",
    "    * 最も高い確信度で関連している特徴量が選択される\n",
    "    \n",
    "    * クラス分類の場合は、`分散分析`(ANOVA)として知られる\n",
    "    \n",
    "    * この方法の特性は`単変量`であり、個々の特徴量を個別に考慮する\n",
    "    \n",
    "    * 従って、他の特徴量と組み合わせて意味を持つような特徴量は捨てられてしまう\n",
    "    \n",
    "    * 単変量テストは計算が高速で、モデルを構築する必要がない\n",
    "    \n",
    "    * 一方で、特徴量選択時に利用するモデルと完全に独立である"
   ]
  },
  {
   "cell_type": "markdown",
   "metadata": {},
   "source": [
    "* 単変量特徴量選択をscikit-learnで使うには、テストを選択する必要がある\n",
    "\n",
    "    * 通常、クラス分類には`f_classif`(デフォルト値)を、回帰には`f_regression`を用いる\n",
    "    \n",
    "    * さらに、テストで求められる`p-値`を元に、特徴量を捨てる方法も指定する\n",
    "    \n",
    "    * これらの方法には、`p-値`が大きすぎる(ターベットとの関係が低い)特徴量を捨てる際の`スレッショルド`を指定する\n",
    "    \n",
    "* `スレッショルド`の計算方法は手法によって異なる\n",
    "\n",
    "    * 最も単純な`SelectKBest`では、選択する特徴量の数を指定する\n",
    "    \n",
    "    * `SelectPercentile`は残す特徴量の割合を選択する\n",
    "    \n",
    "* cancerデータセットのクラス分類に特徴量抽出を適用してみる\n",
    "    \n",
    "    * 少しタスクを難しくするために、情報量のないノイズを加える\n",
    "    \n",
    "    * 特徴量検出がこの情報量のない特徴量を検出して取り除いてくれることを期待する"
   ]
  },
  {
   "cell_type": "code",
   "execution_count": 2,
   "metadata": {},
   "outputs": [
    {
     "name": "stdout",
     "output_type": "stream",
     "text": [
      "X_train.shape: (284, 80)\n",
      "X_train_selected.shape: (284, 40)\n"
     ]
    }
   ],
   "source": [
    "import numpy as np\n",
    "from sklearn.datasets import load_breast_cancer\n",
    "from sklearn.feature_selection import SelectPercentile\n",
    "from sklearn.model_selection import train_test_split\n",
    "\n",
    "cancer = load_breast_cancer()\n",
    "\n",
    "# シードを指定して乱数を設定\n",
    "rng = np.random.RandomState(42)\n",
    "noise = rng.normal(size=(len(cancer.data), 50))\n",
    "\n",
    "# ノイズ特徴量をデータに加える\n",
    "# 最初の30特徴量はデータセットからきたもの。続く50特徴量はノイズ\n",
    "X_w_noise = np.hstack([cancer.data, noise])\n",
    "\n",
    "X_train, X_test, y_train, y_test = train_test_split(\n",
    "    X_w_noise, cancer.target, random_state=0, test_size=.5)\n",
    "# f_classif(デフォルト)とSelectPercentileを使って50%の特徴量を選択\n",
    "select = SelectPercentile(percentile=50)\n",
    "select.fit(X_train, y_train)\n",
    "# 訓練セットを変換\n",
    "X_train_selected = select.transform(X_train)\n",
    "\n",
    "print(\"X_train.shape: {}\".format(X_train.shape))\n",
    "print(\"X_train_selected.shape: {}\".format(X_train_selected.shape))"
   ]
  },
  {
   "cell_type": "markdown",
   "metadata": {},
   "source": [
    "* 特徴量の数が80から40に減っている(元の特徴量の50%)\n",
    "\n",
    "* どの特徴量が使われているかを`get_support`メソッドで調べることができる\n",
    "\n",
    "    * このメソッドは選択された特徴量を示す真偽値のマスクを返す"
   ]
  },
  {
   "cell_type": "code",
   "execution_count": 4,
   "metadata": {},
   "outputs": [
    {
     "name": "stdout",
     "output_type": "stream",
     "text": [
      "[ True  True  True  True  True  True  True  True  True False  True False\n",
      "  True  True  True  True  True  True False False  True  True  True  True\n",
      "  True  True  True  True  True  True False False False  True False  True\n",
      " False False  True False False False False  True False False  True False\n",
      " False  True False  True False False False False False False  True False\n",
      "  True False False False False  True False  True False False False False\n",
      "  True  True False  True False False False False]\n"
     ]
    },
    {
     "data": {
      "text/plain": [
       "([], <a list of 0 Text yticklabel objects>)"
      ]
     },
     "execution_count": 4,
     "metadata": {},
     "output_type": "execute_result"
    },
    {
     "data": {
      "image/png": "[encoded data removed]",
      "text/plain": [
       "<Figure size 1152x144 with 1 Axes>"
      ]
     },
     "metadata": {
      "needs_background": "light"
     },
     "output_type": "display_data"
    }
   ],
   "source": [
    "import matplotlib.pyplot as plt\n",
    "%matplotlib inline\n",
    "mask = select.get_support()\n",
    "print(mask)\n",
    "# マスクを可視化する。黒が真、白が偽\n",
    "plt.matshow(mask.reshape(1, -1), cmap='gray_r')\n",
    "plt.xlabel(\"Sample index\")\n",
    "plt.yticks(())"
   ]
  },
  {
   "cell_type": "markdown",
   "metadata": {},
   "source": [
    "* 可視化したマスクでわかるように、元の特徴量のほとんどが選択されており、ほとんどのノイズ特徴量が取り除かれている\n",
    "\n",
    "    * しかし、元の特徴量の回復は完全ではない\n",
    "    \n",
    "* ロジスティック回帰の性能を、全ての特徴量を使った場合と、選択された特徴量だけを使った場合で比較する"
   ]
  },
  {
   "cell_type": "code",
   "execution_count": 5,
   "metadata": {},
   "outputs": [
    {
     "name": "stdout",
     "output_type": "stream",
     "text": [
      "Score with all features: 0.930\n",
      "Score with only selected features: 0.940\n"
     ]
    },
    {
     "name": "stderr",
     "output_type": "stream",
     "text": [
      "/Users/MacUser/anaconda2/envs/tf140/lib/python3.6/site-packages/sklearn/linear_model/logistic.py:433: FutureWarning: Default solver will be changed to 'lbfgs' in 0.22. Specify a solver to silence this warning.\n",
      "  FutureWarning)\n",
      "/Users/MacUser/anaconda2/envs/tf140/lib/python3.6/site-packages/sklearn/linear_model/logistic.py:433: FutureWarning: Default solver will be changed to 'lbfgs' in 0.22. Specify a solver to silence this warning.\n",
      "  FutureWarning)\n"
     ]
    }
   ],
   "source": [
    "from sklearn.linear_model import LogisticRegression\n",
    "\n",
    "# テストデータの変換\n",
    "X_test_selected = select.transform(X_test)\n",
    "\n",
    "lr = LogisticRegression()\n",
    "lr.fit(X_train, y_train)\n",
    "print(\"Score with all features: {:.3f}\".format(lr.score(X_test, y_test)))\n",
    "lr.fit(X_train_selected, y_train)\n",
    "print(\"Score with only selected features: {:.3f}\".format(\n",
    "    lr.score(X_test_selected, y_test)))"
   ]
  },
  {
   "cell_type": "markdown",
   "metadata": {},
   "source": [
    "* この場合、ノイズ特徴量を取り除くと、元の特徴量のいくつかが失われているにも関わらず、性能が向上している\n",
    "\n",
    "    * これは単純な合成したサンプルの結果で、実際のデータに適応すると性能が向上するとは限らない\n",
    "    \n",
    "    * それでも、特徴量が多すぎてモデルを作れない場合や、多くの特徴量が全く関係ないと思われる場合には、単変量特徴量選択は有用"
   ]
  },
  {
   "cell_type": "markdown",
   "metadata": {},
   "source": [
    "## 2. モデルベース特徴量選択\n",
    "\n",
    "* `モデルベース特徴量選択`は、教師あり学習モデルを用いて個々の特徴量の重要性を判断し、重要なものだけを残す手法である\n",
    "\n",
    "    * 特徴量選択に用いる教師あり学習モデルは、最終的に使う教師あり学習モデルと同じでなくても良い\n",
    "    \n",
    "    * 特徴量選択に用いるモデルは、選択時に特徴量に順番を付けるために、個々の特徴量の重要性の指標を出力するものでなければならない\n",
    "    \n",
    "    * 決定木や決定木ベースのモデルには、特徴量の重要性そのものをエンコードした`feature_importances_`属性がある\n",
    "    \n",
    "    * 線形モデルには係数があり、これも絶対値をとれば、特徴量の重要性を捉えた値として利用できる\n",
    "    \n",
    "    * 例)`L1ペナルティ`を用いた線形モデルは、疎な係数を学習し、特徴量のごく一部しか利用しないようになる\n",
    "    \n",
    "        * これは、モデルによる特徴量選択としても考えることもできる\n",
    "        \n",
    "        * これを前処理過程として使って、別のモデルで使う特徴量選択を行うこともできる"
   ]
  },
  {
   "cell_type": "markdown",
   "metadata": {},
   "source": [
    "* `単変量選択`の場合と対象的に、`モデルベース`の選択は、全ての特徴量を同時に考慮するので、変数間の交互作用を捉えることができる\n",
    "\n",
    "    * ただし、選択に使うモデルが交互作用を捉えることができる場合\n",
    "    \n",
    "* モデルベース特徴量選択を用いるには、`SelectFromModel`変換器を用いれば良い"
   ]
  },
  {
   "cell_type": "code",
   "execution_count": 6,
   "metadata": {},
   "outputs": [],
   "source": [
    "from sklearn.feature_selection import SelectFromModel\n",
    "from sklearn.ensemble import RandomForestClassifier\n",
    "select = SelectFromModel(\n",
    "    RandomForestClassifier(n_estimators=100, random_state=42),\n",
    "    threshold=\"median\")"
   ]
  },
  {
   "cell_type": "markdown",
   "metadata": {},
   "source": [
    "* `SelectFromModel`クラスは教師あり学習モデルで得られた特徴量の重要性が、指定したスレッショルドよりも大きい特徴量だけを選択する\n",
    "\n",
    "    * 単変量特徴量選択での結果と比較するために、中央値をスレッショルドとして半分の特徴量が選ばれるようにする\n",
    "    \n",
    "    * 100決定木を用いるランダムフォレストを使って、特徴量の重要性を計算する\n",
    "    \n",
    "    * これは非常に複雑なモデルなので、単変量テストを用いるよりもはるかに強力な手法である\n",
    "    "
   ]
  },
  {
   "cell_type": "code",
   "execution_count": 7,
   "metadata": {},
   "outputs": [
    {
     "name": "stdout",
     "output_type": "stream",
     "text": [
      "X_train.shape: (284, 80)\n",
      "X_train_l1.shape: (284, 40)\n"
     ]
    }
   ],
   "source": [
    "select.fit(X_train, y_train)\n",
    "X_train_l1 = select.transform(X_train)\n",
    "print(\"X_train.shape: {}\".format(X_train.shape))\n",
    "print(\"X_train_l1.shape: {}\".format(X_train_l1.shape))"
   ]
  },
  {
   "cell_type": "markdown",
   "metadata": {},
   "source": [
    "* 選択された特徴量を見てみる"
   ]
  },
  {
   "cell_type": "code",
   "execution_count": 8,
   "metadata": {},
   "outputs": [
    {
     "data": {
      "text/plain": [
       "([], <a list of 0 Text yticklabel objects>)"
      ]
     },
     "execution_count": 8,
     "metadata": {},
     "output_type": "execute_result"
    },
    {
     "data": {
      "image/png": "[encoded data removed]",
      "text/plain": [
       "<Figure size 1152x144 with 1 Axes>"
      ]
     },
     "metadata": {
      "needs_background": "light"
     },
     "output_type": "display_data"
    }
   ],
   "source": [
    "mask = select.get_support()\n",
    "# マスクを可視化する。黒が真、白が偽\n",
    "plt.matshow(mask.reshape(1, -1), cmap='gray_r')\n",
    "plt.xlabel(\"Sample index\")\n",
    "plt.yticks(())"
   ]
  },
  {
   "cell_type": "markdown",
   "metadata": {},
   "source": [
    "* 今度は、元の特徴量は2つを除いて選択されている\n",
    "\n",
    "* 40特徴量を選択しているので、ノイズ特徴量もいくつか選択されている"
   ]
  },
  {
   "cell_type": "code",
   "execution_count": 9,
   "metadata": {},
   "outputs": [
    {
     "name": "stdout",
     "output_type": "stream",
     "text": [
      "Test score: 0.951\n"
     ]
    },
    {
     "name": "stderr",
     "output_type": "stream",
     "text": [
      "/Users/MacUser/anaconda2/envs/tf140/lib/python3.6/site-packages/sklearn/linear_model/logistic.py:433: FutureWarning: Default solver will be changed to 'lbfgs' in 0.22. Specify a solver to silence this warning.\n",
      "  FutureWarning)\n"
     ]
    }
   ],
   "source": [
    "X_test_l1 = select.transform(X_test)\n",
    "score = LogisticRegression().fit(X_train_l1, y_train).score(X_test_l1, y_test)\n",
    "print(\"Test score: {:.3f}\".format(score))"
   ]
  },
  {
   "cell_type": "markdown",
   "metadata": {},
   "source": [
    "* 良い特徴量を選択することで、性能も向上している"
   ]
  },
  {
   "cell_type": "markdown",
   "metadata": {},
   "source": [
    "## 3. 反復特徴量選択\n",
    "\n",
    "* `単変量テスト`ではモデルを全く使わず、`モデルベース選択`では1つだけ使って、特徴量を選択した\n",
    "\n",
    "* `反復特徴量選択`(RFE)：異なる特徴量を用いた一連のモデルを作る\n",
    "\n",
    "    * これには2つの基本的な方法がある\n",
    "    \n",
    "    1. 全く特徴量を使わないところから、ある基準が満たされるところまで1つずつ特徴量を加えていく方法\n",
    "    \n",
    "    1. すべての特徴量を使う状態から1つずつ特徴量を取り除いていく方法\n",
    "    \n",
    "    * 多数のモデルを作るため、上で述べた方法よりも計算的にはるかに高価な手法となる\n",
    "    \n",
    "* この方法の1つが、`再帰的特徴量削減`である\n",
    "\n",
    "    * この方法は、すべての特徴量から開始してモデルを作る、最も重要度が低い特徴量を削除する\n",
    "    \n",
    "    * この過程を事前に定めた数の特徴量になるまで繰り返す\n",
    "    \n",
    "    * これが機能するためには、`モデルベース選択`の場合と同様に、選択に用いるモデルが特徴量の重要性を決定する方法を提供していなければならない\n",
    "    \n",
    "* ここでは、先に用いたのと同じランダムフォレストモデルを用いる"
   ]
  },
  {
   "cell_type": "code",
   "execution_count": 10,
   "metadata": {},
   "outputs": [
    {
     "data": {
      "text/plain": [
       "([], <a list of 0 Text yticklabel objects>)"
      ]
     },
     "execution_count": 10,
     "metadata": {},
     "output_type": "execute_result"
    },
    {
     "data": {
      "image/png": "[encoded data removed]",
      "text/plain": [
       "<Figure size 1152x144 with 1 Axes>"
      ]
     },
     "metadata": {
      "needs_background": "light"
     },
     "output_type": "display_data"
    }
   ],
   "source": [
    "from sklearn.feature_selection import RFE\n",
    "select = RFE(RandomForestClassifier(n_estimators=100, random_state=42),\n",
    "             n_features_to_select=40)\n",
    "\n",
    "select.fit(X_train, y_train)\n",
    "# 選択された特徴量を可視化する\n",
    "mask = select.get_support()\n",
    "plt.matshow(mask.reshape(1, -1), cmap='gray_r')\n",
    "plt.xlabel(\"Sample index\")\n",
    "plt.yticks(())"
   ]
  },
  {
   "cell_type": "markdown",
   "metadata": {},
   "source": [
    "* 単変量やモデルベース選択の場合と比較して特徴量の選択は良くなっているが、それでも元の特徴量のうち1つがなくなっている\n",
    "\n",
    "    * また、この方法はモデルベース選択の場合と比べてもはるかに時間がかかる\n",
    "    \n",
    "    * 1つずつ特徴量を落としていくために、ランダムフォレストを40回も学習しているため\n",
    "    \n",
    "* `RFE`を用いて選択した特徴量を用いたロジスティック回帰モデルの精度を見てみる    "
   ]
  },
  {
   "cell_type": "code",
   "execution_count": 11,
   "metadata": {},
   "outputs": [
    {
     "name": "stdout",
     "output_type": "stream",
     "text": [
      "Test score: 0.951\n"
     ]
    },
    {
     "name": "stderr",
     "output_type": "stream",
     "text": [
      "/Users/MacUser/anaconda2/envs/tf140/lib/python3.6/site-packages/sklearn/linear_model/logistic.py:433: FutureWarning: Default solver will be changed to 'lbfgs' in 0.22. Specify a solver to silence this warning.\n",
      "  FutureWarning)\n"
     ]
    }
   ],
   "source": [
    "X_train_rfe = select.transform(X_train)\n",
    "X_test_rfe = select.transform(X_test)\n",
    "\n",
    "score = LogisticRegression().fit(X_train_rfe, y_train).score(X_test_rfe, y_test)\n",
    "print(\"Test score: {:.3f}\".format(score))"
   ]
  },
  {
   "cell_type": "markdown",
   "metadata": {},
   "source": [
    "* `RFE`の内部で用いられたモデルを用いて予測を行うこともできる\n",
    "\n",
    "    * これは選択された特徴量だけを用いる"
   ]
  },
  {
   "cell_type": "code",
   "execution_count": 12,
   "metadata": {},
   "outputs": [
    {
     "name": "stdout",
     "output_type": "stream",
     "text": [
      "Test score: 0.951\n"
     ]
    }
   ],
   "source": [
    "print(\"Test score: {:.3f}\".format(select.score(X_test, y_test)))"
   ]
  },
  {
   "cell_type": "markdown",
   "metadata": {},
   "source": [
    "* `RFE`内部で用いられたランダムフォレストの性能は、選択された特徴量で訓練したロジスティック回帰モデルと同じ\n",
    "\n",
    "    * つまり、適切な特徴量を選んだことで、線形モデルの性能がランダムフォレストと同じになったということになる"
   ]
  },
  {
   "cell_type": "markdown",
   "metadata": {},
   "source": [
    "* 機械学習アルゴリズムに対してどの特徴量を入力として使ったら良いかわからない場合には、自動特徴量選択は有用である\n",
    "\n",
    "    * また、例えば、予測を高速化したい場合や、解釈しやすいモデルを構築したい場合などに、必要な特徴量の量を減らすためにも役に立つ\n",
    "    \n",
    "    * 実世界のデータでは、特徴量選択で性能が大幅に向上することはあまりない\n",
    "    \n",
    "    * しかし、特徴量エンジニアがツールボックスに備えておくべきツールであることに変わりはない"
   ]
  },
  {
   "cell_type": "markdown",
   "metadata": {},
   "source": [
    "|  版  |   年/月/日   |\n",
    "|-----|-----------------|\n",
    "|初版|2019/03/21|"
   ]
  }
 ],
 "metadata": {
  "kernelspec": {
   "display_name": "Python 3",
   "language": "python",
   "name": "python3"
  },
  "language_info": {
   "codemirror_mode": {
    "name": "ipython",
    "version": 3
   },
   "file_extension": ".py",
   "mimetype": "text/x-python",
   "name": "python",
   "nbconvert_exporter": "python",
   "pygments_lexer": "ipython3",
   "version": "3.6.7"
  }
 },
 "nbformat": 4,
 "nbformat_minor": 2
}

{
 "cells": [
  {
   "cell_type": "markdown",
   "metadata": {},
   "source": [
    "02 ビニング、離散化、線形モデル、決定木\n",
    "================================\n",
    "\n",
    "* 最良のデータ表現方法は、データの意味だけでなく、利用する機械学習のモデルにも依存する\n",
    "    \n",
    "    * 非常に広く利用されている2つのアルゴリズムファミリーは、特徴量の表現の相違に関しては非常に異なる特性を持つ\n",
    "    \n",
    "        * 線形モデル\n",
    "        \n",
    "        * 決定木ベースのモデル(決定木、勾配ブースティング回帰木、ランダムフォレスト)"
   ]
  },
  {
   "cell_type": "markdown",
   "metadata": {},
   "source": [
    "* wave回帰データセットに戻ってみる\n",
    "\n",
    "    * このデータセットには入力特徴量が1つしかない\n",
    "    \n",
    "    * 線形回帰モデルと決定木回帰をこのデータセットで比較してみる"
   ]
  },
  {
   "cell_type": "code",
   "execution_count": 1,
   "metadata": {},
   "outputs": [
    {
     "name": "stderr",
     "output_type": "stream",
     "text": [
      "/Users/MacUser/anaconda2/envs/tf140/lib/python3.6/site-packages/sklearn/linear_model/base.py:485: RuntimeWarning: internal gelsd driver lwork query error, required iwork dimension not returned. This is likely the result of LAPACK bug 0038, fixed in LAPACK 3.2.2 (released July 21, 2010). Falling back to 'gelss' driver.\n",
      "  linalg.lstsq(X, y)\n"
     ]
    },
    {
     "data": {
      "text/plain": [
       "<matplotlib.legend.Legend at 0x116c8a908>"
      ]
     },
     "execution_count": 1,
     "metadata": {},
     "output_type": "execute_result"
    }
   ],
   "source": [
    "from sklearn.linear_model import LinearRegression\n",
    "from sklearn.tree import DecisionTreeRegressor\n",
    "import mglearn\n",
    "import numpy as np\n",
    "import matplotlib.pyplot as plt\n",
    "\n",
    "X, y = mglearn.datasets.make_wave(n_samples=120)\n",
    "line = np.linspace(-3, 3, 1000, endpoint=False).reshape(-1, 1)\n",
    "\n",
    "reg = DecisionTreeRegressor(min_samples_leaf=3).fit(X, y)\n",
    "plt.plot(line, reg.predict(line), label=\"decision tree\")\n",
    "\n",
    "reg = LinearRegression().fit(X, y)\n",
    "plt.plot(line, reg.predict(line), label=\"linear regression\")\n",
    "\n",
    "plt.plot(X[:, 0], y, 'o', c='k')\n",
    "plt.ylabel(\"Regression output\")\n",
    "plt.xlabel(\"Input feature\")\n",
    "plt.legend(loc=\"best\")"
   ]
  },
  {
   "cell_type": "markdown",
   "metadata": {},
   "source": [
    "* 線形モデルは線形の関係しかモデリングできない\n",
    "    \n",
    "    * 1つしか特徴量がない場合には、1本の線となる\n",
    "\n",
    "* 決定木ははるかに複雑なモデルを構築することができる\n",
    "\n",
    "    * しかし、これはデータの表現に大きく依存する\n",
    "    \n",
    "* 線形モデルを連続データに対してより強力にする方法の1つとして、特徴量の`ビニング`(`離散化`)がある\n",
    "\n",
    "    * これは、特徴量を複数の特徴量に分割する方法"
   ]
  },
  {
   "cell_type": "markdown",
   "metadata": {},
   "source": [
    "### 特徴量のビニング\n",
    "\n",
    "* 特徴量の入力レンジ(ここでは`-3`から`3`)を固定数の`ビン`(例：10個に分割)することを考える\n",
    "\n",
    "    * データポイントは、どの`ビン`に分類されたかで表現される\n",
    "    \n",
    "    * これにはまず`ビン`を定義しなければならない\n",
    "    \n",
    "    * この場合、`-3`から`3`までを等間隔で`10`に区切る\n",
    "    \n",
    "    * ここでは`np.linspace`を使って11のエントリを作り、ビンは2つの連続する境界の間に10のビンを作る"
   ]
  },
  {
   "cell_type": "code",
   "execution_count": 2,
   "metadata": {},
   "outputs": [
    {
     "name": "stdout",
     "output_type": "stream",
     "text": [
      "bins: [-3.  -2.4 -1.8 -1.2 -0.6  0.   0.6  1.2  1.8  2.4  3. ]\n"
     ]
    }
   ],
   "source": [
    "bins = np.linspace(-3, 3, 11)\n",
    "print(\"bins: {}\".format(bins))"
   ]
  },
  {
   "cell_type": "markdown",
   "metadata": {},
   "source": [
    "* 最初のビンには`-3`から`-2.4`までの全ての数が入り、次のビンには`-2.4`から`-1.8`までの数が入る"
   ]
  },
  {
   "cell_type": "markdown",
   "metadata": {},
   "source": [
    "* 次に、個々のデータポイントがどのビンに入るかを記録する\n",
    "\n",
    "    * これは、`np.digitize`関数で簡単にできる"
   ]
  },
  {
   "cell_type": "code",
   "execution_count": 3,
   "metadata": {},
   "outputs": [
    {
     "name": "stdout",
     "output_type": "stream",
     "text": [
      "\n",
      "Data points:\n",
      " [[-0.75275929]\n",
      " [ 2.70428584]\n",
      " [ 1.39196365]\n",
      " [ 0.59195091]\n",
      " [-2.06388816]]\n",
      "\n",
      "Bin membership for data points:\n",
      " [[ 4]\n",
      " [10]\n",
      " [ 8]\n",
      " [ 6]\n",
      " [ 2]]\n"
     ]
    }
   ],
   "source": [
    "which_bin = np.digitize(X, bins=bins)\n",
    "print(\"\\nData points:\\n\", X[:5])\n",
    "print(\"\\nBin membership for data points:\\n\", which_bin[:5])"
   ]
  },
  {
   "cell_type": "markdown",
   "metadata": {},
   "source": [
    "* ここで行ったのは、waveデータセットの単一の連続値入力特徴量の、どのビンにデータポイントが入っているかを表現したカテゴリ特徴量への置き換え\n",
    "\n",
    "    * このデータにscikit-learnモデルを適用するには、この離散値特徴量をワンホットエンコーディングに変換する必要がある\n",
    "    \n",
    "    * これには、`preprocessing`モジュールの`OneHotEncoder`を用いる\n",
    "    \n",
    "     * `OneHotEncoder`は`pandas.get_dummies`と同じ機能を持つが、今のところ整数値で表現されたカテゴリ変数しか扱うことができない"
   ]
  },
  {
   "cell_type": "code",
   "execution_count": 4,
   "metadata": {},
   "outputs": [
    {
     "name": "stdout",
     "output_type": "stream",
     "text": [
      "[[0. 0. 0. 1. 0. 0. 0. 0. 0. 0.]\n",
      " [0. 0. 0. 0. 0. 0. 0. 0. 0. 1.]\n",
      " [0. 0. 0. 0. 0. 0. 0. 1. 0. 0.]\n",
      " [0. 0. 0. 0. 0. 1. 0. 0. 0. 0.]\n",
      " [0. 1. 0. 0. 0. 0. 0. 0. 0. 0.]]\n"
     ]
    },
    {
     "name": "stderr",
     "output_type": "stream",
     "text": [
      "/Users/MacUser/anaconda2/envs/tf140/lib/python3.6/site-packages/sklearn/preprocessing/_encoders.py:368: FutureWarning: The handling of integer data will change in version 0.22. Currently, the categories are determined based on the range [0, max(values)], while in the future they will be determined based on the unique values.\n",
      "If you want the future behaviour and silence this warning, you can specify \"categories='auto'\".\n",
      "In case you used a LabelEncoder before this OneHotEncoder to convert the categories to integers, then you can now use the OneHotEncoder directly.\n",
      "  warnings.warn(msg, FutureWarning)\n"
     ]
    }
   ],
   "source": [
    "from sklearn.preprocessing import OneHotEncoder\n",
    "\n",
    "# OneHotEncoderで変換する\n",
    "encoder = OneHotEncoder(sparse=False)\n",
    "\n",
    "# encoder.fitでwhich_binに現れる整数値のバリエーションを確認\n",
    "encoder.fit(which_bin)\n",
    "\n",
    "# transformでワンホットエンコーディングを行う\n",
    "X_binned = encoder.transform(which_bin)\n",
    "print(X_binned[:5])"
   ]
  },
  {
   "cell_type": "markdown",
   "metadata": {},
   "source": [
    "* 10ビンを指定したので、変換されたデータセット`X_binned`には10個の特徴量ができている"
   ]
  },
  {
   "cell_type": "code",
   "execution_count": 5,
   "metadata": {},
   "outputs": [
    {
     "name": "stdout",
     "output_type": "stream",
     "text": [
      "X_binned.shape: (120, 10)\n"
     ]
    }
   ],
   "source": [
    "print(\"X_binned.shape: {}\".format(X_binned.shape))"
   ]
  },
  {
   "cell_type": "markdown",
   "metadata": {},
   "source": [
    "* この線形回帰モデルと決定木モデルをこのワンホットエンコーディングデータに対して作り直してみる\n",
    "\n",
    "    * 結果を以下の図に示す\n",
    "    \n",
    "    * ビンの境界もグレーのラインで示してある"
   ]
  },
  {
   "cell_type": "code",
   "execution_count": 10,
   "metadata": {},
   "outputs": [
    {
     "data": {
      "text/plain": [
       "Text(0.5, 0, 'Input feature')"
      ]
     },
     "execution_count": 10,
     "metadata": {},
     "output_type": "execute_result"
    },
    {
     "data": {
      "image/png": "[encoded data removed]",
      "text/plain": [
       "<Figure size 432x288 with 1 Axes>"
      ]
     },
     "metadata": {
      "needs_background": "light"
     },
     "output_type": "display_data"
    }
   ],
   "source": [
    "from sklearn.preprocessing import KBinsDiscretizer\n",
    "kb = KBinsDiscretizer(n_bins=10, strategy='uniform', encode='onehot-dense')\n",
    "kb.fit(X)\n",
    "X_binned = kb.transform(X)\n",
    "\n",
    "line_binned = kb.transform(line)\n",
    "\n",
    "reg = LinearRegression().fit(X_binned, y)\n",
    "plt.plot(line, reg.predict(line_binned), label='linear regression binned')\n",
    "\n",
    "reg = DecisionTreeRegressor(min_samples_split=3).fit(X_binned, y)\n",
    "plt.plot(line, reg.predict(line_binned), label='decision tree binned')\n",
    "plt.plot(X[:, 0], y, 'o', c='k')\n",
    "plt.vlines(kb.bin_edges_[0], -3, 3, linewidth=1, alpha=.2)\n",
    "plt.legend(loc=\"best\")\n",
    "plt.ylabel(\"Regression output\")\n",
    "plt.xlabel(\"Input feature\")"
   ]
  },
  {
   "cell_type": "markdown",
   "metadata": {},
   "source": [
    "* 直線と実線が完全に重なっていて、線形回帰と決定木が完全に同じ予測を行うことがわかる\n",
    "\n",
    "    * 双方とも、個々のビンに対して一定値を予測する\n",
    "    \n",
    "    * ビンごとに特徴量が一定になるので、どのようなモデルを持ってきても、ビンの中では同じ値を予測することになる\n",
    "    \n",
    "    * ビニングの前後でモデルが学習したことを比較すると、線形モデルに関してはより柔軟になっているのに対して、決定木に関しては柔軟性が低下している\n",
    "    \n",
    "    * 一般に、特徴量をビニングすることは決定木にとってはメリットがない\n",
    "    \n",
    "    * もともと決定木は自動的に学習している\n",
    "    \n",
    "    * さらに、決定木は複数の特徴量を同時に扱うことができるが、ビニングは1つの特徴量ごとにしか行えない\n",
    "    \n",
    "    * 一方で、線形モデルに関してはこの変換による表現力増大の効果は絶大である"
   ]
  },
  {
   "cell_type": "markdown",
   "metadata": {},
   "source": [
    "* あるデータセットに対してどうしても線形モデルを使いたい場合(例：データがとても大きくて高次元な場合)に、\n",
    "\n",
    "    * いくつかの特徴量が出力と非線形な関係を持つなら、\n",
    "    \n",
    "    * ビニングを使うとモデルの表現力を増強することができる"
   ]
  },
  {
   "cell_type": "markdown",
   "metadata": {},
   "source": [
    "| 版   | 年/月/日   |\n",
    "| ---- | ---------- |\n",
    "| 初版 | 2019/03/18 |"
   ]
  }
 ],
 "metadata": {
  "kernelspec": {
   "display_name": "Python 3",
   "language": "python",
   "name": "python3"
  },
  "language_info": {
   "codemirror_mode": {
    "name": "ipython",
    "version": 3
   },
   "file_extension": ".py",
   "mimetype": "text/x-python",
   "name": "python",
   "nbconvert_exporter": "python",
   "pygments_lexer": "ipython3",
   "version": "3.6.7"
  }
 },
 "nbformat": 4,
 "nbformat_minor": 2
}

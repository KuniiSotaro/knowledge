{
 "cells": [
  {
   "cell_type": "markdown",
   "metadata": {},
   "source": [
    "はじめに\n",
    "=======\n",
    "\n",
    "* ここまでは、教師あり学習と教師なし学習の基本を学び、様々な機械学習アルゴリズムを見てきた\n",
    "\n",
    "    * 次は、モデルの評価とパラメータの選択について詳しく見ていく\n",
    "    \n",
    "* ここでは、回帰とクラス分類の教師あり学習について焦点を当てる\n",
    "\n",
    "    * 教師なし学習の評価やモデル選択は、定性的になってしまうため\n",
    "    \n",
    "* これまで、教師あり学習モデルを評価するためには、`train_test_split`関数を使ってデータセットを訓練セットとテストセットに分割し、\n",
    "\n",
    "    * 訓練セットに対して`fit`メソッドを呼び出してモデルを構築し、\n",
    "    \n",
    "    * テストセットに対して`score`メソッドを呼び出して評価してきた\n",
    "    \n",
    "* `score`メソッドは、クラス分類に関しては正しくクラス分類されたサンプルの割合を計算する\n",
    "\n",
    "    * このプロセスの例を見てみる"
   ]
  },
  {
   "cell_type": "code",
   "execution_count": 1,
   "metadata": {},
   "outputs": [
    {
     "name": "stdout",
     "output_type": "stream",
     "text": [
      "Test set score: 0.88\n"
     ]
    },
    {
     "name": "stderr",
     "output_type": "stream",
     "text": [
      "/Users/MacUser/anaconda2/envs/tf140/lib/python3.6/site-packages/sklearn/linear_model/logistic.py:433: FutureWarning: Default solver will be changed to 'lbfgs' in 0.22. Specify a solver to silence this warning.\n",
      "  FutureWarning)\n",
      "/Users/MacUser/anaconda2/envs/tf140/lib/python3.6/site-packages/sklearn/linear_model/logistic.py:460: FutureWarning: Default multi_class will be changed to 'auto' in 0.22. Specify the multi_class option to silence this warning.\n",
      "  \"this warning.\", FutureWarning)\n"
     ]
    }
   ],
   "source": [
    "from sklearn.datasets import make_blobs\n",
    "from sklearn.linear_model import LogisticRegression\n",
    "from sklearn.model_selection import train_test_split\n",
    "\n",
    "# 合成データセットの生成\n",
    "X, y = make_blobs(random_state=0)\n",
    "# dataトラベルを訓練セットとテストセットに分割\n",
    "X_train, X_test, y_train, y_test = train_test_split(X, y, random_state=0)\n",
    "# モデルのインスタンスを生成し、訓練データで学習\n",
    "logreg = LogisticRegression().fit(X_train, y_train)\n",
    "# テストセットでモデルを評価\n",
    "print(\"Test set score: {:.2f}\".format(logreg.score(X_test, y_test)))"
   ]
  },
  {
   "cell_type": "markdown",
   "metadata": {},
   "source": [
    "* データを訓練セットとテストセットに分割するのは、新しく見たことのないデータに対するモデルの**汎化性能**を計測するため\n",
    "\n",
    "    * 訓練セットに対する適合度には興味がなく、訓練中には見ていないデータに対する予測の精度を見たいため\n",
    "    \n",
    "* ここでは、この評価の2つの側面について深めていく\n",
    "    \n",
    "    * まず、より頑健な汎化性能評価手法である`交差検証`を導入する\n",
    "    \n",
    "    * さらに、`クラス分類性能`と`回帰性能`を評価する手法についても、`score`メソッドで提供されるデフォルトの$R^2$よりも良い方法を議論する\n",
    "    \n",
    "* さらに、教師あり学習モデルに対して、汎化性能が最大になるように効率的にパラメータを調整する手法である`グリッドサーチ`についても述べる"
   ]
  },
  {
   "cell_type": "markdown",
   "metadata": {},
   "source": [
    "|  版  |   年/月/日   |\n",
    "|------|-----------------|\n",
    "|初版|2019/03/23|"
   ]
  }
 ],
 "metadata": {
  "kernelspec": {
   "display_name": "Python 3",
   "language": "python",
   "name": "python3"
  },
  "language_info": {
   "codemirror_mode": {
    "name": "ipython",
    "version": 3
   },
   "file_extension": ".py",
   "mimetype": "text/x-python",
   "name": "python",
   "nbconvert_exporter": "python",
   "pygments_lexer": "ipython3",
   "version": "3.6.7"
  }
 },
 "nbformat": 4,
 "nbformat_minor": 2
}

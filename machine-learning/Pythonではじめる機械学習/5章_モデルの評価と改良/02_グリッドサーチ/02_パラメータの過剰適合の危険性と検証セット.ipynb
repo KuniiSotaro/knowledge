{
 "cells": [
  {
   "cell_type": "markdown",
   "metadata": {},
   "source": [
    "02 パラメータの過剰適合の危険性と検証セット\n",
    "====================================\n",
    "\n",
    "* 01の結果を見ると、このデータセットに対して97%の精度を持つモデルを見つけた、と言いたくなる\n",
    "\n",
    "    * しかし、そのような主張は楽観的にすぎる(もしくは間違っている)\n",
    "    \n",
    "    * その理由は、以下の通り\n",
    "    \n",
    "    * 様々なパラメータを試してそのテストセットに対して最も良い精度が出るものを選んだ\n",
    "    \n",
    "    * しかし、この精度は必ずしも新しいデータにも当てはまるわけでは無い\n",
    "    \n",
    "    * テストデータをパラメータのチューニングに使ってしまったので、このテストデータをモデルの精度を評価するのには使えない\n",
    "    \n",
    "    * これは、データを訓練データとテストセットに分割した理由と同じで、モデルの評価のためには、モデルの構築には用いていない、独立したデータセットが必要"
   ]
  },
  {
   "cell_type": "markdown",
   "metadata": {},
   "source": [
    "* この問題を解決する方法の1つは、データをもう一度分割し、3つのセットにする方法\n",
    "\n",
    "    * モデルを構築するセット\n",
    "    \n",
    "    * モデルのパラメータを選択するために用いる検証セット(開発セット)\n",
    "    \n",
    "    * 選択したパラメータの性能を評価するためのテストセット"
   ]
  },
  {
   "cell_type": "code",
   "execution_count": 1,
   "metadata": {},
   "outputs": [
    {
     "data": {
      "image/png": "[encoded data removed]",
      "text/plain": [
       "<Figure size 1080x72 with 1 Axes>"
      ]
     },
     "metadata": {
      "needs_background": "light"
     },
     "output_type": "display_data"
    }
   ],
   "source": [
    "%matplotlib inline\n",
    "import mglearn\n",
    "mglearn.plots.plot_threefold_split()"
   ]
  },
  {
   "cell_type": "markdown",
   "metadata": {},
   "source": [
    "* 検証セットを用いて最良のパラメータを選択したら、そのパラメータを用いてモデルを再構築する\n",
    "\n",
    "    * この際に、訓練データだけでなく検証データも用いる\n",
    "    \n",
    "    * こうすると、可能な限りデータを有効に利用してモデルを構築することができるようになる\n",
    "    \n",
    "    * 実装は以下の通りになる"
   ]
  },
  {
   "cell_type": "code",
   "execution_count": 2,
   "metadata": {},
   "outputs": [
    {
     "name": "stdout",
     "output_type": "stream",
     "text": [
      "Size of training set: 84   size of validation set: 28   size of test set: 38\n",
      "\n",
      "Best score on validation set: 0.96\n",
      "Best parameters:  {'C': 10, 'gamma': 0.001}\n",
      "Test set score with best parameters: 0.92\n"
     ]
    }
   ],
   "source": [
    "from sklearn.svm import SVC\n",
    "from sklearn.model_selection import train_test_split\n",
    "from sklearn.datasets import load_iris\n",
    "\n",
    "iris = load_iris()\n",
    "\n",
    "# データを訓練+検証セットとテストセットに分割する\n",
    "X_trainval, X_test, y_trainval, y_test = train_test_split(\n",
    "    iris.data, iris.target, random_state=0)\n",
    "# 訓練+検証セットを訓練セットと検証セットに分割する\n",
    "X_train, X_valid, y_train, y_valid = train_test_split(\n",
    "    X_trainval, y_trainval, random_state=1)\n",
    "print(\"Size of training set: {}   size of validation set: {}   size of test set:\"\n",
    "      \" {}\\n\".format(X_train.shape[0], X_valid.shape[0], X_test.shape[0]))\n",
    "\n",
    "best_score = 0\n",
    "\n",
    "for gamma in [0.001, 0.01, 0.1, 1, 10, 100]:\n",
    "    for C in [0.001, 0.01, 0.1, 1, 10, 100]:\n",
    "        # それぞれのパラメータの組み合わせに対してSVCを訓練する\n",
    "        svm = SVC(gamma=gamma, C=C)\n",
    "        svm.fit(X_train, y_train)\n",
    "        # SVCを検証セットで評価\n",
    "        score = svm.score(X_valid, y_valid)\n",
    "        # 良いスコアだったらスコアとパラメータを保存\n",
    "        if score > best_score:\n",
    "            best_score = score\n",
    "            best_parameters = {'C': C, 'gamma': gamma}\n",
    "\n",
    "# 訓練セットと検証セットを用いてモデルを再構築し、テストセットで評価\n",
    "svm = SVC(**best_parameters)\n",
    "svm.fit(X_trainval, y_trainval)\n",
    "test_score = svm.score(X_test, y_test)\n",
    "print(\"Best score on validation set: {:.2f}\".format(best_score))\n",
    "print(\"Best parameters: \", best_parameters)\n",
    "print(\"Test set score with best parameters: {:.2f}\".format(test_score))"
   ]
  },
  {
   "cell_type": "markdown",
   "metadata": {},
   "source": [
    "* 検証セットに対するベストスコアは96%で、先ほどよりも若干低くなっている\n",
    "\n",
    "    * これはおそらく、モデルの訓練に使えるデータ量が減ったため(データセットを2回分割したので、`X_train`が小さくなっている)\n",
    "    \n",
    "    * しかし、テストセットに対するスコア、つまり汎化性能を実際に示すスコアは、さらに低く92%となっている\n",
    "    \n",
    "    * したがって、新しいデータに対する精度として主張できるのは、97%ではなく92%ということになる"
   ]
  },
  {
   "cell_type": "markdown",
   "metadata": {},
   "source": [
    "* 訓練セット、検証セット、テストセットを区別することは機械学習を実運用する上で根本的に重要なことである\n",
    "\n",
    "    * テストセットの精度に基づいて何らかの選択をすることは、テストセットからモデルへの情報が「漏洩する」ことになる\n",
    "    \n",
    "    * したがって、テストセットを分離しておき、最後の評価にだけ用いるようにしなければならない\n",
    "\n",
    "* 全ての探索的な解析とモデル選択を訓練セットと検証セットだけで行い、テストセットは最後の評価にとっておくと良い\n",
    "\n",
    "    * 探査的可視化だけの場合でもこれは重要\n",
    "    \n",
    "    * 厳密に言えば、テストセットで2つ以上のモデルで評価して良い方を選ぶだけでも、モデルの精度を楽観的に見積もりすぎることになる"
   ]
  },
  {
   "cell_type": "markdown",
   "metadata": {},
   "source": [
    "|　　版　　|　　　　年/月/日　　　|\n",
    "|------|----------------|\n",
    "|初版|2019/03/24|"
   ]
  }
 ],
 "metadata": {
  "kernelspec": {
   "display_name": "Python 3",
   "language": "python",
   "name": "python3"
  },
  "language_info": {
   "codemirror_mode": {
    "name": "ipython",
    "version": 3
   },
   "file_extension": ".py",
   "mimetype": "text/x-python",
   "name": "python",
   "nbconvert_exporter": "python",
   "pygments_lexer": "ipython3",
   "version": "3.6.7"
  }
 },
 "nbformat": 4,
 "nbformat_minor": 2
}

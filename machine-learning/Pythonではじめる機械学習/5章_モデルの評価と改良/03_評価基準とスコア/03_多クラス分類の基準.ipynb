{
 "cells": [
  {
   "cell_type": "markdown",
   "metadata": {},
   "source": [
    "03 多クラス分類の基準\n",
    "=================\n",
    "\n",
    "* 基本的に、多クラス分類の基準は全て2クラス分類の基準から導出されたもので、全てのクラスに対して平均を取ったものである\n",
    "\n",
    "    * 2クラス分類の場合と同様に、他クラス分類の精度は正確にクラス分類されたサンプルの割合\n",
    "    \n",
    "    * これはクラス分布が偏ったデータセットの場合には、やはり適切な評価基準ではない\n",
    "    \n",
    "    * 一般に、多クラス分類の問題の結果は、2クラス分類の結果よりも理解するのが難しい\n",
    "    \n",
    "* 精度以外の一般的なツールには、混同行列とクラス分類レポートがある\n",
    "\n",
    "    * これらの詳細な評価手法をdigitsデータセットの数字をそれぞれ個々に識別する10クラス分類タスクに適用してみる"
   ]
  },
  {
   "cell_type": "code",
   "execution_count": 2,
   "metadata": {},
   "outputs": [
    {
     "name": "stdout",
     "output_type": "stream",
     "text": [
      "Accuracy: 0.953\n",
      "Confusion matrix:\n",
      "[[37  0  0  0  0  0  0  0  0  0]\n",
      " [ 0 39  0  0  0  0  2  0  2  0]\n",
      " [ 0  0 41  3  0  0  0  0  0  0]\n",
      " [ 0  0  1 43  0  0  0  0  0  1]\n",
      " [ 0  0  0  0 38  0  0  0  0  0]\n",
      " [ 0  1  0  0  0 47  0  0  0  0]\n",
      " [ 0  0  0  0  0  0 52  0  0  0]\n",
      " [ 0  1  0  1  1  0  0 45  0  0]\n",
      " [ 0  3  1  0  0  0  0  0 43  1]\n",
      " [ 0  0  0  1  0  1  0  0  1 44]]\n"
     ]
    },
    {
     "name": "stderr",
     "output_type": "stream",
     "text": [
      "/Users/MacUser/anaconda2/envs/tf140/lib/python3.6/site-packages/sklearn/linear_model/logistic.py:433: FutureWarning: Default solver will be changed to 'lbfgs' in 0.22. Specify a solver to silence this warning.\n",
      "  FutureWarning)\n",
      "/Users/MacUser/anaconda2/envs/tf140/lib/python3.6/site-packages/sklearn/linear_model/logistic.py:460: FutureWarning: Default multi_class will be changed to 'auto' in 0.22. Specify the multi_class option to silence this warning.\n",
      "  \"this warning.\", FutureWarning)\n"
     ]
    }
   ],
   "source": [
    "from sklearn.model_selection import train_test_split\n",
    "from sklearn.datasets import load_digits\n",
    "from sklearn.linear_model import LogisticRegression\n",
    "from sklearn.metrics import confusion_matrix\n",
    "\n",
    "digits = load_digits()\n",
    "\n",
    "from sklearn.metrics import accuracy_score\n",
    "X_train, X_test, y_train, y_test = train_test_split(\n",
    "    digits.data, digits.target, random_state=0)\n",
    "lr = LogisticRegression().fit(X_train, y_train)\n",
    "pred = lr.predict(X_test)\n",
    "print(\"Accuracy: {:.3f}\".format(accuracy_score(y_test, pred)))\n",
    "print(\"Confusion matrix:\\n{}\".format(confusion_matrix(y_test, pred)))"
   ]
  },
  {
   "cell_type": "markdown",
   "metadata": {},
   "source": [
    "* モデルの精度は95.3%である\n",
    "\n",
    "    * これだけでもモデルがかなりうまく機能していることがわかる\n",
    "    \n",
    "    * 混同行列からはさらに詳細な情報が得られる\n",
    "    \n",
    "* 2クラス分類のときと同様に、行は実際のラベルを、列が対応する予測ラベルを示す"
   ]
  },
  {
   "cell_type": "code",
   "execution_count": 3,
   "metadata": {},
   "outputs": [
    {
     "data": {
      "image/png": "[encoded data removed]",
      "text/plain": [
       "<Figure size 432x288 with 1 Axes>"
      ]
     },
     "metadata": {
      "needs_background": "light"
     },
     "output_type": "display_data"
    }
   ],
   "source": [
    "import mglearn\n",
    "import matplotlib.pyplot as plt\n",
    "%matplotlib inline\n",
    "\n",
    "scores_image = mglearn.tools.heatmap(\n",
    "    confusion_matrix(y_test, pred), xlabel='Predicted label',\n",
    "    ylabel='True label', xticklabels=digits.target_names,\n",
    "    yticklabels=digits.target_names, cmap=plt.cm.gray_r, fmt=\"%d\")\n",
    "plt.title(\"Confusion matrix\")\n",
    "plt.gca().invert_yaxis()"
   ]
  },
  {
   "cell_type": "markdown",
   "metadata": {},
   "source": [
    "* 最初のクラス(数字0)については、37個のサンプルがあり、全てがクラス0に分類されている(偽善性はなかった)\n",
    "\n",
    "    * これは、混同行列の最初の行の他のエントリが全て0であることからわかる\n",
    "    \n",
    "    * また、他の数字が誤って0と分類されたこともないことがわかる(クラス0の偽陽性もなかった)\n",
    "    \n",
    "        * これは、混同行列の最初の列の他のエントリが全て0であることからわかる\n",
    "        \n",
    "    * しかし、数字によっては他の数字と混同されている\n",
    "    \n",
    "        * 例)数字2(3行目)を見ると、3つが数字3(4列目)にクラス分類されている\n",
    "        \n",
    "        * 例)数字3の1つが2と分類されている(3列目4行目)\n",
    "        \n",
    "        * 例)数字8の1つが2と分類されている(3列目9行目)"
   ]
  },
  {
   "cell_type": "markdown",
   "metadata": {},
   "source": [
    "* `classification_report`関数を用いて、`適合率`、`再現率`、`f-値`を、それぞれのクラスに対して計算することができる"
   ]
  },
  {
   "cell_type": "code",
   "execution_count": 5,
   "metadata": {},
   "outputs": [
    {
     "name": "stdout",
     "output_type": "stream",
     "text": [
      "              precision    recall  f1-score   support\n",
      "\n",
      "           0       1.00      1.00      1.00        37\n",
      "           1       0.89      0.91      0.90        43\n",
      "           2       0.95      0.93      0.94        44\n",
      "           3       0.90      0.96      0.92        45\n",
      "           4       0.97      1.00      0.99        38\n",
      "           5       0.98      0.98      0.98        48\n",
      "           6       0.96      1.00      0.98        52\n",
      "           7       1.00      0.94      0.97        48\n",
      "           8       0.93      0.90      0.91        48\n",
      "           9       0.96      0.94      0.95        47\n",
      "\n",
      "   micro avg       0.95      0.95      0.95       450\n",
      "   macro avg       0.95      0.95      0.95       450\n",
      "weighted avg       0.95      0.95      0.95       450\n",
      "\n"
     ]
    }
   ],
   "source": [
    "from sklearn.metrics import classification_report\n",
    "print(classification_report(y_test, pred))"
   ]
  },
  {
   "cell_type": "markdown",
   "metadata": {},
   "source": [
    "* クラス0に対しては全く混同が無かったので、1となっている\n",
    "\n",
    "* 一方、クラス7については他のクラスのものが間違って7と判断されることはなかったので、適合率は1となっている\n",
    "\n",
    "* クラス6については偽陰性が無かったので、再現率が1となっている\n",
    "   \n",
    "    * この結果から、このモデルは8と3を苦手としていることがわかる"
   ]
  },
  {
   "cell_type": "markdown",
   "metadata": {},
   "source": [
    "* 偏ったデータセットに対する多クラス分類問題で最もよく使われている基準は、多クラス版の`f-値`である\n",
    "\n",
    "    * まず、個々のクラスに対してそのクラスを陽性、他のクラスを陰性として2クラス`f-値`を計算する\n",
    "    \n",
    "    * 次に、このクラスごとの値を、次のようにして平均する"
   ]
  },
  {
   "cell_type": "markdown",
   "metadata": {},
   "source": [
    "* `macro`平均は、重みをつけずにクラスごとの`f-値`を平均する\n",
    "\n",
    "    * クラスのサイズを考慮せずに、全てのクラスに同じ重みを与える\n",
    "    \n",
    "* `weighted`平均は、各クラスの支持度に応じて重みを付けて、クラスごとの`f-値`を平均する\n",
    "\n",
    "    * クラス分類レポートで表示されるのはこの値\n",
    "    \n",
    "* `micro`平均は、全てのクラスの`偽陽性`、`偽陰性`、`真陽性`の総数を計算し、その値を用いて`適合率`、`再現率`、`f-値`を計算する"
   ]
  },
  {
   "cell_type": "markdown",
   "metadata": {},
   "source": [
    "* 個々のサンプルを同じように重視するのであれば、`micro`平均の$f_1$-値を使う\n",
    "\n",
    "    * 個々のクラスを同じように重視するのであれば、`macro`平均の$f_1$値を使う"
   ]
  },
  {
   "cell_type": "code",
   "execution_count": 7,
   "metadata": {},
   "outputs": [
    {
     "name": "stdout",
     "output_type": "stream",
     "text": [
      "Micro average f1 score: 0.953\n",
      "Macro average f1 score: 0.954\n"
     ]
    }
   ],
   "source": [
    "from sklearn.metrics import f1_score\n",
    "print(\"Micro average f1 score: {:.3f}\".format(\n",
    "    f1_score(y_test, pred, average=\"micro\")))\n",
    "print(\"Macro average f1 score: {:.3f}\".format(\n",
    "    f1_score(y_test, pred, average=\"macro\")))"
   ]
  },
  {
   "cell_type": "markdown",
   "metadata": {},
   "source": [
    "|  版  |   年/月/日   |\n",
    "|-----|-----------------|\n",
    "|初版|2019/03/30|"
   ]
  }
 ],
 "metadata": {
  "kernelspec": {
   "display_name": "Python 3",
   "language": "python",
   "name": "python3"
  },
  "language_info": {
   "codemirror_mode": {
    "name": "ipython",
    "version": 3
   },
   "file_extension": ".py",
   "mimetype": "text/x-python",
   "name": "python",
   "nbconvert_exporter": "python",
   "pygments_lexer": "ipython3",
   "version": "3.6.7"
  }
 },
 "nbformat": 4,
 "nbformat_minor": 2
}

{
 "cells": [
  {
   "cell_type": "markdown",
   "metadata": {},
   "source": [
    "06 アルゴリズムチェーンとパイプライン\n",
    "===============================\n",
    "\n",
    "* 多くの機械学習アルゴリズムにおいて、データの表現は非常に重要である\n",
    "\n",
    "    * データの表現は、データのスケール変換から、手で特徴量を組み合わせたり、教師なし学習で特徴量を学習することまで、多岐に渡る\n",
    "    \n",
    "    * したがって、多くの機械学習アプリケーションでは、1つのアルゴリズムを実行するだけでなく、様々な処理と複数の機械学習アルゴリズムを連鎖的に実行する必要がある\n",
    "    \n",
    "    * 本章では`Pipeline`クラスを用いて、データ変換とモデル実行のチェーンの構築を簡単に行う方法を述べる\n",
    "    \n",
    "    * 特に、`Pipeline`と、`GridSearchCV`を用いて全ての処理ステップを一度に行う方法を見ていく"
   ]
  },
  {
   "cell_type": "markdown",
   "metadata": {},
   "source": [
    "* モデルチェーンの重要性を示す例として、cancerデータセットを見る\n",
    "\n",
    "    * このデータセットでは、前処理に`MinMaxScaler`を使うことで、カーネル法を用いたSVMの性能を著しく向上することができた\n",
    "    \n",
    "    * 下に、データを分割して最大値と最小値を求め、データのスケール変換を行い、SVMを訓練するコードを示す"
   ]
  },
  {
   "cell_type": "code",
   "execution_count": 1,
   "metadata": {},
   "outputs": [],
   "source": [
    "%matplotlib inline\n",
    "from sklearn.svm import SVC\n",
    "from sklearn.datasets import load_breast_cancer\n",
    "from sklearn.model_selection import train_test_split\n",
    "from sklearn.preprocessing import MinMaxScaler\n",
    "\n",
    "# データをロードして分割\n",
    "cancer = load_breast_cancer()\n",
    "X_train, X_test, y_train, y_test = train_test_split(\n",
    "    cancer.data, cancer.target, random_state=0)\n",
    "\n",
    "# 訓練データの最大値と最小値を計算\n",
    "scaler = MinMaxScaler().fit(X_train)"
   ]
  },
  {
   "cell_type": "code",
   "execution_count": 2,
   "metadata": {},
   "outputs": [
    {
     "name": "stdout",
     "output_type": "stream",
     "text": [
      "Test score: 0.95\n"
     ]
    },
    {
     "name": "stderr",
     "output_type": "stream",
     "text": [
      "/Users/MacUser/anaconda2/envs/tf140/lib/python3.6/site-packages/sklearn/svm/base.py:196: FutureWarning: The default value of gamma will change from 'auto' to 'scale' in version 0.22 to account better for unscaled features. Set gamma explicitly to 'auto' or 'scale' to avoid this warning.\n",
      "  \"avoid this warning.\", FutureWarning)\n"
     ]
    }
   ],
   "source": [
    "# 訓練データをスケール変換\n",
    "X_train_scaled = scaler.transform(X_train)\n",
    "\n",
    "svm = SVC()\n",
    "# SVMをスケール変換したデータで訓練\n",
    "svm.fit(X_train_scaled, y_train)\n",
    "# テストデータをスケール変換して、それを用いて評価\n",
    "X_test_scaled = scaler.transform(X_test)\n",
    "print(\"Test score: {:.2f}\".format(svm.score(X_test_scaled, y_test)))"
   ]
  },
  {
   "cell_type": "markdown",
   "metadata": {},
   "source": [
    "## 1. 前処理を行う際のパラメータ選択\n",
    "\n",
    "* `GridSearchCV`を用いてSVCのより良いパラメータを求めることを考えてみる\n",
    "\n",
    "    * 単純に考えると、以下のようになる"
   ]
  },
  {
   "cell_type": "code",
   "execution_count": 3,
   "metadata": {},
   "outputs": [
    {
     "name": "stdout",
     "output_type": "stream",
     "text": [
      "Best cross-validation accuracy: 0.98\n",
      "Best parameters:  {'C': 1, 'gamma': 1}\n",
      "Test set accuracy: 0.97\n"
     ]
    }
   ],
   "source": [
    "from sklearn.model_selection import GridSearchCV\n",
    "# 説明のためのコード。このように記述してはいけない\n",
    "param_grid = {'C': [0.001, 0.01, 0.1, 1, 10, 100],\n",
    "              'gamma': [0.001, 0.01, 0.1, 1, 10, 100]}\n",
    "grid = GridSearchCV(SVC(), param_grid=param_grid, cv=5)\n",
    "grid.fit(X_train_scaled, y_train)\n",
    "print(\"Best cross-validation accuracy: {:.2f}\".format(grid.best_score_))\n",
    "print(\"Best parameters: \", grid.best_params_)\n",
    "print(\"Test set accuracy: {:.2f}\".format(grid.score(X_test_scaled, y_test)))"
   ]
  },
  {
   "cell_type": "markdown",
   "metadata": {},
   "source": [
    "* ここでは、SVCのパラメータに対してスケール変換されたデータを用いてグリッドサーチを行っている\n",
    "\n",
    "    * しかし、ここえはデータをスケール変換する際に、**訓練セットの全てのデータ**を用いている\n",
    "    \n",
    "    * その**スケール変換された訓練データ**を用いて交差検証をし、グリッドサーチを行っている\n",
    "    \n",
    "    * 交差検証の過程では分割されたデータの一部が訓練データとなり、残りがテストデータとなる\n",
    "    \n",
    "    * テストデータとなった部分は、訓練データとなった部分を用いて訓練されたモデルの、新しいデータに対する性能を評価するために用いられる\n",
    "    \n",
    "    * しかし、実は既にスケール変換する際に、テストデータとなった部分に含まれている情報を使ってしまっている\n",
    "    \n",
    "        * 交差検証で用いるテストデータとして使う部分は、訓練データセットの一部であり、データの正しいスケールを決めるために、訓練データセット全体の情報を使っている\n",
    "        \n",
    "        * このようなデータは、モデルに対して全く新しいデータとは本質的に異なる\n",
    "    \n",
    "    * 全く新しいデータを観測した場合、そのデータは訓練セットをスケール変換するのには用いられておらず、従って訓練データとは異なる最小値と最大値を持つかもしれない\n",
    "    \n",
    "    * 以下の図に、交差検証の際と最終的な評価の際のデータ処理の違いを示す"
   ]
  },
  {
   "cell_type": "code",
   "execution_count": 4,
   "metadata": {},
   "outputs": [
    {
     "data": {
      "image/png": "[encoded data removed]",
      "text/plain": [
       "<Figure size 1080x720 with 2 Axes>"
      ]
     },
     "metadata": {},
     "output_type": "display_data"
    }
   ],
   "source": [
    "import mglearn\n",
    "mglearn.plots.plot_improper_processing()"
   ]
  },
  {
   "cell_type": "markdown",
   "metadata": {},
   "source": [
    "* つまり、モデル構築過程において、テストデータは全く新しいデータでなければならないのに、この場合には交差検証のテストデータがその要件を満たしていない\n",
    "\n",
    "    * テストデータになるべき部分の情報がモデル構築過程にリークしてしまっている\n",
    "    \n",
    "    * この結果、交差検証で過度に楽観的な結果が得られてしまったり、最良でないパラメータが選択されてしまう可能性がある"
   ]
  },
  {
   "cell_type": "markdown",
   "metadata": {},
   "source": [
    "* この問題を回避するには、**前処理をする前に**交差検証のためのデータ分割を行う必要がある\n",
    "\n",
    "    * データセットから何らかの知識を抽出する過程は、交差検証のループの内側で、データセットの訓練データとなる部分に対してのみ行うようにする"
   ]
  },
  {
   "cell_type": "markdown",
   "metadata": {},
   "source": [
    "* これを実現するために、scikit-learnでは`cross_val_score`関数と`GridSearchCV`関数に`Pipeline`クラスを使うことができる\n",
    "\n",
    "    * `Pipeline`クラスを用いると、複数の処理のステップを「糊付け」し、1つのscikit-learnのEStimatorにすることができる\n",
    "    \n",
    "    * `Pipeline`クラスには、`fit`、`predict`、`score`メソッドがあり、scikit-learnの他のモデルと同様に振る舞う\n",
    "    \n",
    "    * `Pipeline`クラスは、前処理ステップ(データのスケール変換など)と、クラス分類器などの教師あり学習モデルを組み合わせるために最もよく使う"
   ]
  },
  {
   "cell_type": "markdown",
   "metadata": {},
   "source": [
    "## 2. パイプラインの構築\n",
    "\n",
    "* `Pipeline`クラスを用いて、`MinMaxScaler`によるスケール変換を行ってからSVMを訓練するワークフローを表現する方法を見てみる(グリッドサーチは行わない)\n",
    "\n",
    "* まず、各ステップをリストと指定して`Pipeline`オブジェクトを作る\n",
    "\n",
    "    * 個々のステップは、名前(任意の文字列)と、Estimatorのインスタンスのタプルで表す"
   ]
  },
  {
   "cell_type": "code",
   "execution_count": 5,
   "metadata": {},
   "outputs": [],
   "source": [
    "from sklearn.pipeline import Pipeline\n",
    "pipe = Pipeline([(\"scaler\", MinMaxScaler()), (\"svm\", SVC())])"
   ]
  },
  {
   "cell_type": "markdown",
   "metadata": {},
   "source": [
    "* ここでは2つのステップを作っている\n",
    "\n",
    "    1. `scaler`という名前で、`MinMaxScaler`のインスタンス\n",
    "    \n",
    "    1. `svm`という名前で`SVC`のインスタンス\n",
    "    \n",
    "* 次に、scikit-learnの他のEstimatorと同じように、パイプラインに対して`fit`メソッドを呼び出す"
   ]
  },
  {
   "cell_type": "code",
   "execution_count": 6,
   "metadata": {},
   "outputs": [
    {
     "name": "stderr",
     "output_type": "stream",
     "text": [
      "/Users/MacUser/anaconda2/envs/tf140/lib/python3.6/site-packages/sklearn/svm/base.py:196: FutureWarning: The default value of gamma will change from 'auto' to 'scale' in version 0.22 to account better for unscaled features. Set gamma explicitly to 'auto' or 'scale' to avoid this warning.\n",
      "  \"avoid this warning.\", FutureWarning)\n"
     ]
    },
    {
     "data": {
      "text/plain": [
       "Pipeline(memory=None,\n",
       "     steps=[('scaler', MinMaxScaler(copy=True, feature_range=(0, 1))), ('svm', SVC(C=1.0, cache_size=200, class_weight=None, coef0=0.0,\n",
       "  decision_function_shape='ovr', degree=3, gamma='auto_deprecated',\n",
       "  kernel='rbf', max_iter=-1, probability=False, random_state=None,\n",
       "  shrinking=True, tol=0.001, verbose=False))])"
      ]
     },
     "execution_count": 6,
     "metadata": {},
     "output_type": "execute_result"
    }
   ],
   "source": [
    "pipe.fit(X_train, y_train)"
   ]
  },
  {
   "cell_type": "markdown",
   "metadata": {},
   "source": [
    "* ここで、`pipe.fit`はまず\n",
    "\n",
    "    1. 第1ステップ(scaler)の`fit`を呼び出して訓練データを`scaler`を変換\n",
    "    \n",
    "    1. SVMを、変換されたデータを用いて`fit`する\n",
    "    \n",
    "* テストデータを用いて評価するには、`pipe.score`を用いる"
   ]
  },
  {
   "cell_type": "code",
   "execution_count": 7,
   "metadata": {},
   "outputs": [
    {
     "name": "stdout",
     "output_type": "stream",
     "text": [
      "Test score: 0.95\n"
     ]
    }
   ],
   "source": [
    "print(\"Test score: {:.2f}\".format(pipe.score(X_test, y_test)))"
   ]
  },
  {
   "cell_type": "markdown",
   "metadata": {},
   "source": [
    "* パイプラインの`score`メソッドを呼ぶと、まずテストデータを`scaler`で変換し、SVMの`score`メソッドを変換されたデータで呼び出す\n",
    "\n",
    "    * 出力からわかるように、結果は変換を手動で行った場合と全く同じ\n",
    "    \n",
    "* パイプラインを用いると、「前処理+クラス分類」プロセスに必要なコード量を減らすことができる\n",
    "\n",
    "    * しかし、パイプラインの真価は、`cross_val_score`や`GridSearchCV`において、パイプラインを単独のEstimatorとして用いることができる点にある"
   ]
  },
  {
   "cell_type": "markdown",
   "metadata": {},
   "source": [
    "## 3. パイプラインを用いたグリッドサーチ\n",
    "\n",
    "* パイプラインをグリッドサーチで用いるには、他のEstimatorを用いる場合と同じようにすれば良い\n",
    "    \n",
    "    * サーチするパラメータグリッドを定義し、パイプラインとパラメータグリッドを用いて`GridSearchCV`を作る\n",
    "    \n",
    "    * ただし、パラメータグリッドを定義する部分には少しだけ変更が必要\n",
    "    \n",
    "    * 個々のパラメータに対して、パイプラインのどのステップに属するかを指定する必要がある\n",
    "    \n",
    "    * ここでは、`C`も`gamma`も2つ目のステップであるSVCのパラメータである\n",
    "    \n",
    "        * このステップには`svm`という名前を付けてある\n",
    "    \n",
    "    * パイプラインに対してパラメータグリッドを定義する文法は、個々のパラメータを、ステップの名前に__(連続したアンダースコア)を続け、\n",
    "    \n",
    "        * その後ろにパラメータ名を書いて指定する\n",
    "        \n",
    "    * SVCのCパラメータに対してサーチを行うには、`svm_C`をパラメータグリッドディクショナリのキーとする(`gamma`も同様)"
   ]
  },
  {
   "cell_type": "code",
   "execution_count": 8,
   "metadata": {},
   "outputs": [],
   "source": [
    "param_grid = {'svm__C': [0.001, 0.01, 0.1, 1, 10, 100],\n",
    "              'svm__gamma': [0.001, 0.01, 0.1, 1, 10, 100]}"
   ]
  },
  {
   "cell_type": "markdown",
   "metadata": {},
   "source": [
    "* このパラメータグリッドを使って、`GridSearchCV`をいつものように使う"
   ]
  },
  {
   "cell_type": "code",
   "execution_count": 9,
   "metadata": {},
   "outputs": [
    {
     "name": "stdout",
     "output_type": "stream",
     "text": [
      "Best cross-validation accuracy: 0.98\n",
      "Test set score: 0.97\n",
      "Best parameters: {'svm__C': 1, 'svm__gamma': 1}\n"
     ]
    }
   ],
   "source": [
    "grid = GridSearchCV(pipe, param_grid=param_grid, cv=5)\n",
    "grid.fit(X_train, y_train)\n",
    "print(\"Best cross-validation accuracy: {:.2f}\".format(grid.best_score_))\n",
    "print(\"Test set score: {:.2f}\".format(grid.score(X_test, y_test)))\n",
    "print(\"Best parameters: {}\".format(grid.best_params_))"
   ]
  },
  {
   "cell_type": "markdown",
   "metadata": {},
   "source": [
    "* 以前に行ったグリッドサーチと異なり、交差検証の個々の分割に対して、訓練用のパートのみを対象として`MinMaxScaler`を`fit`しなおす\n",
    "\n",
    "    * テスト用のパートから情報がパラメータサーチに漏れることはない"
   ]
  },
  {
   "cell_type": "code",
   "execution_count": 10,
   "metadata": {},
   "outputs": [
    {
     "data": {
      "image/png": "[encoded data removed]",
      "text/plain": [
       "<Figure size 1080x576 with 2 Axes>"
      ]
     },
     "metadata": {},
     "output_type": "display_data"
    }
   ],
   "source": [
    "mglearn.plots.plot_proper_processing()"
   ]
  },
  {
   "cell_type": "markdown",
   "metadata": {},
   "source": [
    "* 交差検証で情報がリークすることの影響は、前処理ステップの性質に依存する\n",
    "\n",
    "* データ変換のスケールをテストデータを用いて推定してもそれほど大きな影響はない\n",
    "\n",
    "    * しかし、特徴量抽出や特徴量選択をテストデータで行うと、結果にかなりの影響が出る"
   ]
  },
  {
   "cell_type": "markdown",
   "metadata": {},
   "source": [
    "### 情報リークの影響\n",
    "\n",
    "* 10,000の特徴量を持つ100サンプルの合成回帰タスクを考える\n",
    "\n",
    "    * 全てのデータを独立にガウス分布からサンプリングする\n",
    "    \n",
    "    * レスポンスもガウス分布からサンプリングする"
   ]
  },
  {
   "cell_type": "code",
   "execution_count": 12,
   "metadata": {},
   "outputs": [],
   "source": [
    "import numpy as np\n",
    "rnd = np.random.RandomState(seed=0)\n",
    "X = rnd.normal(size=(100, 10000))\n",
    "y = rnd.normal(size=(100,))"
   ]
  },
  {
   "cell_type": "markdown",
   "metadata": {},
   "source": [
    "* データセットの作り方から言って、データ`X`とターゲット`y`の間には何の関係もない(相互に独立)\n",
    "\n",
    "    * このデータセットから学習できることはないはず\n",
    "    \n",
    "* このデータに対して次のような学習を行う"
   ]
  },
  {
   "cell_type": "markdown",
   "metadata": {},
   "source": [
    "* まず、`SelectPercentile`特徴量抽出を行なって、10個の最も情報の多い特徴量を抽出し、交差検証を用いてRidge回帰を評価する"
   ]
  },
  {
   "cell_type": "code",
   "execution_count": 13,
   "metadata": {},
   "outputs": [
    {
     "name": "stdout",
     "output_type": "stream",
     "text": [
      "X_selected.shape: (100, 500)\n"
     ]
    }
   ],
   "source": [
    "from sklearn.feature_selection import SelectPercentile, f_regression\n",
    "\n",
    "select = SelectPercentile(score_func=f_regression, percentile=5).fit(X, y)\n",
    "X_selected = select.transform(X)\n",
    "print(\"X_selected.shape: {}\".format(X_selected.shape))"
   ]
  },
  {
   "cell_type": "code",
   "execution_count": 14,
   "metadata": {},
   "outputs": [
    {
     "name": "stdout",
     "output_type": "stream",
     "text": [
      "Cross-validation accuracy (cv only on ridge): 0.91\n"
     ]
    }
   ],
   "source": [
    "from sklearn.model_selection import cross_val_score\n",
    "from sklearn.linear_model import Ridge\n",
    "print(\"Cross-validation accuracy (cv only on ridge): {:.2f}\".format(\n",
    "      np.mean(cross_val_score(Ridge(), X_selected, y, cv=5))))"
   ]
  },
  {
   "cell_type": "markdown",
   "metadata": {},
   "source": [
    "* 交差検証で得られた平均$R^2$は0.91で、かなり良いモデルを表す\n",
    "\n",
    "    * データは完全にランダムなので、これは明らかに正しくない\n",
    "    \n",
    "* この理由としては、特徴量抽出によって、10,000個のランダムな特徴量の中から、たまたまターゲットに相関のある特徴量が選ばれた\n",
    "\n",
    "    * ここでは、交差検証の**外で**特徴量抽出を行なったので、訓練セットでもテストセットでもターゲットに相関のある特徴量が得られた"
   ]
  },
  {
   "cell_type": "markdown",
   "metadata": {},
   "source": [
    "* `パイプライン`を使って適切な交差検証を行なった場合と比較する"
   ]
  },
  {
   "cell_type": "code",
   "execution_count": 15,
   "metadata": {},
   "outputs": [
    {
     "name": "stdout",
     "output_type": "stream",
     "text": [
      "Cross-validation accuracy (pipeline): -0.25\n"
     ]
    }
   ],
   "source": [
    "pipe = Pipeline([(\"select\", SelectPercentile(score_func=f_regression,\n",
    "                                             percentile=5)),\n",
    "                 (\"ridge\", Ridge())])\n",
    "print(\"Cross-validation accuracy (pipeline): {:.2f}\".format(\n",
    "      np.mean(cross_val_score(pipe, X, y, cv=5))))"
   ]
  },
  {
   "cell_type": "markdown",
   "metadata": {},
   "source": [
    "* 今度は、$R^2$スコアが負値となり、良くないモデルであることが示されている\n",
    "\n",
    "    * `パイプライン`を使うことで、特徴量抽出が交差検証ループの**内側**で行われている\n",
    "    \n",
    "    * このため、特徴量抽出は、テスト用の部分は用いず、訓練用の部分に対して行われるようになった\n",
    "    \n",
    "* 特徴量抽出によって、訓練セットのターゲットと相関のある特徴量が選択されるが、データは完全にランダムなので、選択された特徴量は、テストセットのターゲットとは相関がない\n",
    "\n",
    "    * この例では、特徴量選択過程でのデータのリークを修正することで、非常に良いとされたモデルが、実は全く良くないモデルだと判明したことになる"
   ]
  },
  {
   "cell_type": "markdown",
   "metadata": {},
   "source": [
    "## 4. 汎用パイプラインインターフェイス\n",
    "\n",
    "* `Pipeline`クラスが適用できるのは、前処理とクラス分類に限られている訳ではない\n",
    "\n",
    "    * 任意個数のEstimatorを連結できる\n",
    "    \n",
    "    * 例)特徴量抽出、特徴量選択、スケール変換、クラス分離と4ステップのパイプライン\n",
    "    \n",
    "     * 最後の部分は、クラス分類ではなく、回帰やクラスタリングにすることもできる"
   ]
  },
  {
   "cell_type": "markdown",
   "metadata": {},
   "source": [
    "* パイプラインに並べるEstimatorに関する制約は、最後以外のステップには次のステップで使うデータの新しい表現を生成するために、\n",
    "\n",
    "    * `transform`メソッドが定義されている必要がある"
   ]
  },
  {
   "cell_type": "markdown",
   "metadata": {},
   "source": [
    "* 内部的には、`Pipeline.fit`が呼び出されると、各ステップに対して前段のステップの`transform`メソッドの出力を入力として、\n",
    "\n",
    "    * `fit`を呼び出してから`transform`を呼び出す\n",
    "    \n",
    "* パイプラインの最後のステップでは、`fit`だけが呼ばれる"
   ]
  },
  {
   "cell_type": "markdown",
   "metadata": {},
   "source": [
    "* 詳細を省くと、次のように実装されていると思えば良い\n",
    "\n",
    "    * `pipeline.steps`はタプルのリストなので、`pipeline.steps[0][1]`が最初のEstimator\n",
    "    \n",
    "    * `pipeline.steps[1][1]`が2番目のEstimatorというようになっている"
   ]
  },
  {
   "cell_type": "code",
   "execution_count": 16,
   "metadata": {},
   "outputs": [],
   "source": [
    "def fit(self, X, y):\n",
    "    X_transformed = X\n",
    "    for name, estimator in self.steps[:-1]:\n",
    "        # 最後のステップ以外で、fitとtransformを順に実行\n",
    "        X_transformed = estimator.fit_transform(X_transformed, y)\n",
    "    # 最後のステップでfit\n",
    "    self.steps[-1][1].fit(X_transformed, y)\n",
    "    return self"
   ]
  },
  {
   "cell_type": "markdown",
   "metadata": {},
   "source": [
    "* `Pipeline`を用いて予測を行う際には、同様に最後のステップ以外でデータに対して`transform`を行い、最後のステップでは`predict`を呼び出す"
   ]
  },
  {
   "cell_type": "code",
   "execution_count": 17,
   "metadata": {},
   "outputs": [],
   "source": [
    "def predict(self, X):\n",
    "    X_transformed = X\n",
    "    for step in self.steps[:-1]:\n",
    "        # 最後のステップ以外で、transformを順に実行\n",
    "        X_transformed = step[1].transform(X_transformed)\n",
    "    # 最後のステップではpredict\n",
    "    return self.steps[-1][1].predict(X_transformed)"
   ]
  },
  {
   "cell_type": "markdown",
   "metadata": {},
   "source": [
    "* 2つのデータ変換`T1`、`T2`とクラス分類器`Classifier`に対する過程を、以下の図に示す\n",
    "\n",
    "![パイプラインによる訓練と予測の過程](images/パイプラインによる訓練と予測の過程.png)"
   ]
  },
  {
   "cell_type": "markdown",
   "metadata": {},
   "source": [
    "* パイプラインは、さらに汎用なツールである\n",
    "\n",
    "* パイプラインの最後に`predict`メソッドがなくても構わない\n",
    "\n",
    "    * 例)スケール変換機とPCAだけを持つようなパイプラインを作る\n",
    "    \n",
    "    * この場合、最後のステップ(PCA)に`transform`メソッドがあるので、パイプラインに対して`transform`メソッドを呼び出して、\n",
    "    \n",
    "    * スケール変換されたデータに対して`PCA.transform`を行なった結果を得ることができる\n",
    "    \n",
    "    * パイプラインの最後のステップに対する要求は、`fit`メソッドを持つこと"
   ]
  },
  {
   "cell_type": "markdown",
   "metadata": {},
   "source": [
    "### 4.1 make_pipelineによる簡便なパイプライン生成\n",
    "\n",
    "* 上で述べたパイプライン生成の分布は場合によっては面倒である\n",
    "\n",
    "* 各ステップに対してユーザが名前を与える必要がない場合も多い\n",
    "\n",
    "* これを簡便にする関数`make_pipeline`が用意されている\n",
    "\n",
    "    * この関数はクラス名に基づいて個々のステップに自動的に名前を付けてくれる\n",
    "    \n",
    "    * `make_pipeline`の文法は次のようになる"
   ]
  },
  {
   "cell_type": "code",
   "execution_count": 18,
   "metadata": {},
   "outputs": [],
   "source": [
    "from sklearn.pipeline import make_pipeline\n",
    "# 標準の文法\n",
    "pipe_long = Pipeline([(\"scaler\", MinMaxScaler()), (\"svm\", SVC(C=100))])\n",
    "# 短縮文法\n",
    "pipe_short = make_pipeline(MinMaxScaler(), SVC(C=100))"
   ]
  },
  {
   "cell_type": "markdown",
   "metadata": {},
   "source": [
    "* パイプラインオブジェクト`pipe_long`と`pipe_short`は全く同じように動作するが、`pipe_short`の各ステップは自動的に生成された名前が付いている\n",
    "\n",
    "    * `steps`属性を見ると各ステップの名前がわかる"
   ]
  },
  {
   "cell_type": "code",
   "execution_count": 19,
   "metadata": {},
   "outputs": [
    {
     "name": "stdout",
     "output_type": "stream",
     "text": [
      "Pipeline steps:\n",
      "[('minmaxscaler', MinMaxScaler(copy=True, feature_range=(0, 1))), ('svc', SVC(C=100, cache_size=200, class_weight=None, coef0=0.0,\n",
      "  decision_function_shape='ovr', degree=3, gamma='auto_deprecated',\n",
      "  kernel='rbf', max_iter=-1, probability=False, random_state=None,\n",
      "  shrinking=True, tol=0.001, verbose=False))]\n"
     ]
    }
   ],
   "source": [
    "print(\"Pipeline steps:\\n{}\".format(pipe_short.steps))"
   ]
  },
  {
   "cell_type": "markdown",
   "metadata": {},
   "source": [
    "* ステップの名前は`minmaxscaler`、`svc`となっている\n",
    "\n",
    "    * 一般にステップの名前は、クラス名を小文字にしただけのものが使われる\n",
    "    \n",
    "    * もし同じクラスのステップが複数あった場合は、番号が追加される"
   ]
  },
  {
   "cell_type": "code",
   "execution_count": 20,
   "metadata": {},
   "outputs": [
    {
     "name": "stdout",
     "output_type": "stream",
     "text": [
      "Pipeline steps:\n",
      "[('standardscaler-1', StandardScaler(copy=True, with_mean=True, with_std=True)), ('pca', PCA(copy=True, iterated_power='auto', n_components=2, random_state=None,\n",
      "  svd_solver='auto', tol=0.0, whiten=False)), ('standardscaler-2', StandardScaler(copy=True, with_mean=True, with_std=True))]\n"
     ]
    }
   ],
   "source": [
    "from sklearn.preprocessing import StandardScaler\n",
    "from sklearn.decomposition import PCA\n",
    "\n",
    "pipe = make_pipeline(StandardScaler(), PCA(n_components=2), StandardScaler())\n",
    "print(\"Pipeline steps:\\n{}\".format(pipe.steps))"
   ]
  },
  {
   "cell_type": "markdown",
   "metadata": {},
   "source": [
    "* これを見ればわかるように、1つ目の`StandardScaler`ステップは`standardscaler-1`、2つ目は`standardscaler-2`となっている\n",
    "\n",
    "* しかし、このような場合には明示的に、意味のある名前を各ステップに与えた方が良い"
   ]
  },
  {
   "cell_type": "markdown",
   "metadata": {},
   "source": [
    "### 4.2 ステップ属性へのアクセス\n",
    "\n",
    "* パイプラインに含まれる各ステップの属性を見たい場合がある\n",
    "\n",
    "    * 例)線形モデルの係数やPCAで抽出された成分\n",
    "    \n",
    "    * パイプラインの各ステップにアクセスする最も簡単な方法は、`named_steps`属性を使う方法\n",
    "    \n",
    "    * これは、ステップ名とEstimatorのディクショナリである"
   ]
  },
  {
   "cell_type": "code",
   "execution_count": 21,
   "metadata": {},
   "outputs": [
    {
     "name": "stdout",
     "output_type": "stream",
     "text": [
      "components.shape: (2, 30)\n"
     ]
    }
   ],
   "source": [
    "# cancerデータセットを用いて、定義しておいたパイプラインを訓練\n",
    "pipe.fit(cancer.data)\n",
    "# \"pca\"ステップ2主成分を取り出す\n",
    "components = pipe.named_steps[\"pca\"].components_\n",
    "print(\"components.shape: {}\".format(components.shape))"
   ]
  },
  {
   "cell_type": "markdown",
   "metadata": {},
   "source": [
    "### 4.3 GridSearchCV内のパイプラインの属性へのアクセス\n",
    "\n",
    "* パイプラインを使う目的の1つは、グリッドサーチ\n",
    "\n",
    "* グリッドサーチ中のパイプラインのいずれかのステップにアクセスしたいことはよくある\n",
    "\n",
    "* cancerデータセットに対して`LogisticRegression`クラス分類器を用いてグリッドサーチをしてみる\n",
    "\n",
    "    * この際、`Pipeline`を用いて`LogisticRegression`にデータを渡す前に、`StandardScaler`によるスケール変換を行う\n",
    "    \n",
    "    * まず、`make_pipeline`関数でパイプラインを作る"
   ]
  },
  {
   "cell_type": "code",
   "execution_count": 22,
   "metadata": {},
   "outputs": [],
   "source": [
    "from sklearn.linear_model import LogisticRegression\n",
    "\n",
    "pipe = make_pipeline(StandardScaler(), LogisticRegression())"
   ]
  },
  {
   "cell_type": "markdown",
   "metadata": {},
   "source": [
    "* 次に、パラメータグリッドを作る\n",
    "\n",
    "    * `LogisticRegression`の正則化パラメータは`C`である\n",
    "    \n",
    "    * このパラメータには対数グリッドを用いて、0.01から100までをサーチする\n",
    "    \n",
    "    * ここでは`make_pipeline`関数を用いたので、パイプラインの中の`LogisticRegression`ステップの名前はクラス名の小文字の`logisticregression`\n",
    "    \n",
    "    * したがって、パラメータ`C`をチューニングするには、パラメータグリッドで`logisticregression__C`を指定する"
   ]
  },
  {
   "cell_type": "code",
   "execution_count": 23,
   "metadata": {},
   "outputs": [],
   "source": [
    "param_grid = {'logisticregression__C': [0.01, 0.1, 1, 10, 100]}"
   ]
  },
  {
   "cell_type": "markdown",
   "metadata": {},
   "source": [
    "* cancerデータセットを訓練セットとテストセットに分割し、グリッドサーチを行う"
   ]
  },
  {
   "cell_type": "code",
   "execution_count": 24,
   "metadata": {},
   "outputs": [
    {
     "name": "stderr",
     "output_type": "stream",
     "text": [
      "/Users/MacUser/anaconda2/envs/tf140/lib/python3.6/site-packages/sklearn/linear_model/logistic.py:433: FutureWarning: Default solver will be changed to 'lbfgs' in 0.22. Specify a solver to silence this warning.\n",
      "  FutureWarning)\n",
      "/Users/MacUser/anaconda2/envs/tf140/lib/python3.6/site-packages/sklearn/linear_model/logistic.py:433: FutureWarning: Default solver will be changed to 'lbfgs' in 0.22. Specify a solver to silence this warning.\n",
      "  FutureWarning)\n",
      "/Users/MacUser/anaconda2/envs/tf140/lib/python3.6/site-packages/sklearn/linear_model/logistic.py:433: FutureWarning: Default solver will be changed to 'lbfgs' in 0.22. Specify a solver to silence this warning.\n",
      "  FutureWarning)\n",
      "/Users/MacUser/anaconda2/envs/tf140/lib/python3.6/site-packages/sklearn/linear_model/logistic.py:433: FutureWarning: Default solver will be changed to 'lbfgs' in 0.22. Specify a solver to silence this warning.\n",
      "  FutureWarning)\n",
      "/Users/MacUser/anaconda2/envs/tf140/lib/python3.6/site-packages/sklearn/linear_model/logistic.py:433: FutureWarning: Default solver will be changed to 'lbfgs' in 0.22. Specify a solver to silence this warning.\n",
      "  FutureWarning)\n",
      "/Users/MacUser/anaconda2/envs/tf140/lib/python3.6/site-packages/sklearn/linear_model/logistic.py:433: FutureWarning: Default solver will be changed to 'lbfgs' in 0.22. Specify a solver to silence this warning.\n",
      "  FutureWarning)\n",
      "/Users/MacUser/anaconda2/envs/tf140/lib/python3.6/site-packages/sklearn/linear_model/logistic.py:433: FutureWarning: Default solver will be changed to 'lbfgs' in 0.22. Specify a solver to silence this warning.\n",
      "  FutureWarning)\n",
      "/Users/MacUser/anaconda2/envs/tf140/lib/python3.6/site-packages/sklearn/linear_model/logistic.py:433: FutureWarning: Default solver will be changed to 'lbfgs' in 0.22. Specify a solver to silence this warning.\n",
      "  FutureWarning)\n",
      "/Users/MacUser/anaconda2/envs/tf140/lib/python3.6/site-packages/sklearn/linear_model/logistic.py:433: FutureWarning: Default solver will be changed to 'lbfgs' in 0.22. Specify a solver to silence this warning.\n",
      "  FutureWarning)\n",
      "/Users/MacUser/anaconda2/envs/tf140/lib/python3.6/site-packages/sklearn/linear_model/logistic.py:433: FutureWarning: Default solver will be changed to 'lbfgs' in 0.22. Specify a solver to silence this warning.\n",
      "  FutureWarning)\n",
      "/Users/MacUser/anaconda2/envs/tf140/lib/python3.6/site-packages/sklearn/linear_model/logistic.py:433: FutureWarning: Default solver will be changed to 'lbfgs' in 0.22. Specify a solver to silence this warning.\n",
      "  FutureWarning)\n",
      "/Users/MacUser/anaconda2/envs/tf140/lib/python3.6/site-packages/sklearn/linear_model/logistic.py:433: FutureWarning: Default solver will be changed to 'lbfgs' in 0.22. Specify a solver to silence this warning.\n",
      "  FutureWarning)\n",
      "/Users/MacUser/anaconda2/envs/tf140/lib/python3.6/site-packages/sklearn/linear_model/logistic.py:433: FutureWarning: Default solver will be changed to 'lbfgs' in 0.22. Specify a solver to silence this warning.\n",
      "  FutureWarning)\n",
      "/Users/MacUser/anaconda2/envs/tf140/lib/python3.6/site-packages/sklearn/linear_model/logistic.py:433: FutureWarning: Default solver will be changed to 'lbfgs' in 0.22. Specify a solver to silence this warning.\n",
      "  FutureWarning)\n",
      "/Users/MacUser/anaconda2/envs/tf140/lib/python3.6/site-packages/sklearn/linear_model/logistic.py:433: FutureWarning: Default solver will be changed to 'lbfgs' in 0.22. Specify a solver to silence this warning.\n",
      "  FutureWarning)\n",
      "/Users/MacUser/anaconda2/envs/tf140/lib/python3.6/site-packages/sklearn/linear_model/logistic.py:433: FutureWarning: Default solver will be changed to 'lbfgs' in 0.22. Specify a solver to silence this warning.\n",
      "  FutureWarning)\n",
      "/Users/MacUser/anaconda2/envs/tf140/lib/python3.6/site-packages/sklearn/linear_model/logistic.py:433: FutureWarning: Default solver will be changed to 'lbfgs' in 0.22. Specify a solver to silence this warning.\n",
      "  FutureWarning)\n",
      "/Users/MacUser/anaconda2/envs/tf140/lib/python3.6/site-packages/sklearn/linear_model/logistic.py:433: FutureWarning: Default solver will be changed to 'lbfgs' in 0.22. Specify a solver to silence this warning.\n",
      "  FutureWarning)\n",
      "/Users/MacUser/anaconda2/envs/tf140/lib/python3.6/site-packages/sklearn/linear_model/logistic.py:433: FutureWarning: Default solver will be changed to 'lbfgs' in 0.22. Specify a solver to silence this warning.\n",
      "  FutureWarning)\n",
      "/Users/MacUser/anaconda2/envs/tf140/lib/python3.6/site-packages/sklearn/linear_model/logistic.py:433: FutureWarning: Default solver will be changed to 'lbfgs' in 0.22. Specify a solver to silence this warning.\n",
      "  FutureWarning)\n",
      "/Users/MacUser/anaconda2/envs/tf140/lib/python3.6/site-packages/sklearn/linear_model/logistic.py:433: FutureWarning: Default solver will be changed to 'lbfgs' in 0.22. Specify a solver to silence this warning.\n",
      "  FutureWarning)\n",
      "/Users/MacUser/anaconda2/envs/tf140/lib/python3.6/site-packages/sklearn/linear_model/logistic.py:433: FutureWarning: Default solver will be changed to 'lbfgs' in 0.22. Specify a solver to silence this warning.\n",
      "  FutureWarning)\n",
      "/Users/MacUser/anaconda2/envs/tf140/lib/python3.6/site-packages/sklearn/linear_model/logistic.py:433: FutureWarning: Default solver will be changed to 'lbfgs' in 0.22. Specify a solver to silence this warning.\n",
      "  FutureWarning)\n",
      "/Users/MacUser/anaconda2/envs/tf140/lib/python3.6/site-packages/sklearn/linear_model/logistic.py:433: FutureWarning: Default solver will be changed to 'lbfgs' in 0.22. Specify a solver to silence this warning.\n",
      "  FutureWarning)\n",
      "/Users/MacUser/anaconda2/envs/tf140/lib/python3.6/site-packages/sklearn/linear_model/logistic.py:433: FutureWarning: Default solver will be changed to 'lbfgs' in 0.22. Specify a solver to silence this warning.\n",
      "  FutureWarning)\n",
      "/Users/MacUser/anaconda2/envs/tf140/lib/python3.6/site-packages/sklearn/linear_model/logistic.py:433: FutureWarning: Default solver will be changed to 'lbfgs' in 0.22. Specify a solver to silence this warning.\n",
      "  FutureWarning)\n"
     ]
    },
    {
     "data": {
      "text/plain": [
       "GridSearchCV(cv=5, error_score='raise-deprecating',\n",
       "       estimator=Pipeline(memory=None,\n",
       "     steps=[('standardscaler', StandardScaler(copy=True, with_mean=True, with_std=True)), ('logisticregression', LogisticRegression(C=1.0, class_weight=None, dual=False, fit_intercept=True,\n",
       "          intercept_scaling=1, max_iter=100, multi_class='warn',\n",
       "          n_jobs=None, penalty='l2', random_state=None, solver='warn',\n",
       "          tol=0.0001, verbose=0, warm_start=False))]),\n",
       "       fit_params=None, iid='warn', n_jobs=None,\n",
       "       param_grid={'logisticregression__C': [0.01, 0.1, 1, 10, 100]},\n",
       "       pre_dispatch='2*n_jobs', refit=True, return_train_score='warn',\n",
       "       scoring=None, verbose=0)"
      ]
     },
     "execution_count": 24,
     "metadata": {},
     "output_type": "execute_result"
    }
   ],
   "source": [
    "X_train, X_test, y_train, y_test = train_test_split(\n",
    "    cancer.data, cancer.target, random_state=4)\n",
    "grid = GridSearchCV(pipe, param_grid, cv=5)\n",
    "grid.fit(X_train, y_train)"
   ]
  },
  {
   "cell_type": "markdown",
   "metadata": {},
   "source": [
    "* `GridSearchCV`が全ての訓練データに対して訓練を行なって見つけた最良のモデルは、`grid.best_estimator_`に格納されている"
   ]
  },
  {
   "cell_type": "code",
   "execution_count": 25,
   "metadata": {},
   "outputs": [
    {
     "name": "stdout",
     "output_type": "stream",
     "text": [
      "Best estimator:\n",
      "Pipeline(memory=None,\n",
      "     steps=[('standardscaler', StandardScaler(copy=True, with_mean=True, with_std=True)), ('logisticregression', LogisticRegression(C=0.1, class_weight=None, dual=False, fit_intercept=True,\n",
      "          intercept_scaling=1, max_iter=100, multi_class='warn',\n",
      "          n_jobs=None, penalty='l2', random_state=None, solver='warn',\n",
      "          tol=0.0001, verbose=0, warm_start=False))])\n"
     ]
    }
   ],
   "source": [
    "print(\"Best estimator:\\n{}\".format(grid.best_estimator_))"
   ]
  },
  {
   "cell_type": "markdown",
   "metadata": {},
   "source": [
    "* この場合、`best_estimator_`には、`standardscaler`と`logitsicregression`の2ステップからなるパイプラインが格納されている\n",
    "\n",
    "    * `logisticregression`にアクセスするには、上で説明したようにパイプラインの`named_steps`属性を用いる"
   ]
  },
  {
   "cell_type": "code",
   "execution_count": 26,
   "metadata": {},
   "outputs": [
    {
     "name": "stdout",
     "output_type": "stream",
     "text": [
      "Logistic regression step:\n",
      "LogisticRegression(C=0.1, class_weight=None, dual=False, fit_intercept=True,\n",
      "          intercept_scaling=1, max_iter=100, multi_class='warn',\n",
      "          n_jobs=None, penalty='l2', random_state=None, solver='warn',\n",
      "          tol=0.0001, verbose=0, warm_start=False)\n"
     ]
    }
   ],
   "source": [
    "print(\"Logistic regression step:\\n{}\".format(\n",
    "      grid.best_estimator_.named_steps[\"logisticregression\"]))"
   ]
  },
  {
   "cell_type": "markdown",
   "metadata": {},
   "source": [
    "* 訓練した`LogisticRegression`インスタンスが入手できたので、個々の入力特徴量に対応する係数(重み)にアクセスできる"
   ]
  },
  {
   "cell_type": "code",
   "execution_count": 27,
   "metadata": {},
   "outputs": [
    {
     "name": "stdout",
     "output_type": "stream",
     "text": [
      "Logistic regression coefficients:\n",
      "[[-0.38856355 -0.37529972 -0.37624793 -0.39649439 -0.11519359  0.01709608\n",
      "  -0.3550729  -0.38995414 -0.05780518  0.20879795 -0.49487753 -0.0036321\n",
      "  -0.37122718 -0.38337777 -0.04488715  0.19752816  0.00424822 -0.04857196\n",
      "   0.21023226  0.22444999 -0.54669761 -0.52542026 -0.49881157 -0.51451071\n",
      "  -0.39256847 -0.12293451 -0.38827425 -0.4169485  -0.32533663 -0.13926972]]\n"
     ]
    }
   ],
   "source": [
    "print(\"Logistic regression coefficients:\\n{}\".format(\n",
    "      grid.best_estimator_.named_steps[\"logisticregression\"].coef_))"
   ]
  },
  {
   "cell_type": "markdown",
   "metadata": {},
   "source": [
    "## 5. 前処理ステップとモデルパラメータに対するグリッドサーチ\n",
    "\n",
    "* パイプラインを使うと、機械学習ワークフローの全てのステップを1つのscikit-learn Estimatorにカプセル化することができる\n",
    "\n",
    "    * このことのメリットの1つが、回帰やクラス分類などの教師あり学習タスクの結果を使って、**前処理のパラメータの調整**を行うことができる\n",
    "    \n",
    "    * これまで、boston_housingデータセットに対して、リッジ回帰を適用する前に多項式特徴量を用いる例を見た\n",
    "    \n",
    "    * これをパイプラインでモデル化してみる\n",
    "    \n",
    "* パイプラインには、3つのステップが含まれることになる\n",
    "\n",
    "    * データのスケール変換\n",
    "    \n",
    "    * 多項式特徴量の計算\n",
    "    \n",
    "    * リッジ回帰"
   ]
  },
  {
   "cell_type": "code",
   "execution_count": 28,
   "metadata": {},
   "outputs": [],
   "source": [
    "from sklearn.datasets import load_boston\n",
    "boston = load_boston()\n",
    "X_train, X_test, y_train, y_test = train_test_split(boston.data, boston.target,\n",
    "                                                    random_state=0)\n",
    "\n",
    "from sklearn.preprocessing import PolynomialFeatures\n",
    "pipe = make_pipeline(\n",
    "    StandardScaler(),\n",
    "    PolynomialFeatures(),\n",
    "    Ridge())"
   ]
  },
  {
   "cell_type": "markdown",
   "metadata": {},
   "source": [
    "* 多項式の次数を選択するには、クラス分類の結果を見て`degree`パラメータを選択できれば理想的\n",
    "\n",
    "* パイプラインを用いると、Ridgeの`alpha`パラメータと同時に`degree`パラメータをサーチすることができる\n",
    "\n",
    "    * これを行うには、`param_grid`に、これら双方を指定すれば良い\n",
    "    \n",
    "    * もちろんステップの名前をパラメータ名の前に付ける必要がある"
   ]
  },
  {
   "cell_type": "code",
   "execution_count": 29,
   "metadata": {},
   "outputs": [],
   "source": [
    "param_grid = {'polynomialfeatures__degree': [1, 2, 3],\n",
    "              'ridge__alpha': [0.001, 0.01, 0.1, 1, 10, 100]}"
   ]
  },
  {
   "cell_type": "markdown",
   "metadata": {},
   "source": [
    "* これでグリッドサーチを再度実行する"
   ]
  },
  {
   "cell_type": "code",
   "execution_count": 30,
   "metadata": {},
   "outputs": [
    {
     "name": "stderr",
     "output_type": "stream",
     "text": [
      "/Users/MacUser/anaconda2/envs/tf140/lib/python3.6/site-packages/sklearn/model_selection/_search.py:841: DeprecationWarning: The default of the `iid` parameter will change from True to False in version 0.22 and will be removed in 0.24. This will change numeric results when test-set sizes are unequal.\n",
      "  DeprecationWarning)\n"
     ]
    },
    {
     "data": {
      "text/plain": [
       "GridSearchCV(cv=5, error_score='raise-deprecating',\n",
       "       estimator=Pipeline(memory=None,\n",
       "     steps=[('standardscaler', StandardScaler(copy=True, with_mean=True, with_std=True)), ('polynomialfeatures', PolynomialFeatures(degree=2, include_bias=True, interaction_only=False)), ('ridge', Ridge(alpha=1.0, copy_X=True, fit_intercept=True, max_iter=None,\n",
       "   normalize=False, random_state=None, solver='auto', tol=0.001))]),\n",
       "       fit_params=None, iid='warn', n_jobs=-1,\n",
       "       param_grid={'polynomialfeatures__degree': [1, 2, 3], 'ridge__alpha': [0.001, 0.01, 0.1, 1, 10, 100]},\n",
       "       pre_dispatch='2*n_jobs', refit=True, return_train_score='warn',\n",
       "       scoring=None, verbose=0)"
      ]
     },
     "execution_count": 30,
     "metadata": {},
     "output_type": "execute_result"
    }
   ],
   "source": [
    "grid = GridSearchCV(pipe, param_grid=param_grid, cv=5, n_jobs=-1)\n",
    "grid.fit(X_train, y_train)"
   ]
  },
  {
   "cell_type": "markdown",
   "metadata": {},
   "source": [
    "* 交差検証の結果をヒートマップで可視化することができる"
   ]
  },
  {
   "cell_type": "code",
   "execution_count": 31,
   "metadata": {},
   "outputs": [
    {
     "data": {
      "text/plain": [
       "<matplotlib.collections.PolyCollection at 0x11eb5e4e0>"
      ]
     },
     "execution_count": 31,
     "metadata": {},
     "output_type": "execute_result"
    },
    {
     "data": {
      "image/png": "[encoded data removed]",
      "text/plain": [
       "<Figure size 432x288 with 1 Axes>"
      ]
     },
     "metadata": {
      "needs_background": "light"
     },
     "output_type": "display_data"
    }
   ],
   "source": [
    "mglearn.tools.heatmap(grid.cv_results_['mean_test_score'].reshape(3, -1),\n",
    "                      xlabel=\"ridge__alpha\", ylabel=\"polynomialfeatures__degree\",\n",
    "                      xticklabels=param_grid['ridge__alpha'],\n",
    "                      yticklabels=param_grid['polynomialfeatures__degree'], vmin=0)"
   ]
  },
  {
   "cell_type": "markdown",
   "metadata": {},
   "source": [
    "* 交差検証で生成した結果を見ると、2次の多項式は効果があるが、3次の多項式は1次よりも2次よりも結果が悪い\n",
    "\n",
    "* これは最良のパラメータとして得られた結果にも反映されている"
   ]
  },
  {
   "cell_type": "code",
   "execution_count": 32,
   "metadata": {},
   "outputs": [
    {
     "name": "stdout",
     "output_type": "stream",
     "text": [
      "Best parameters: {'polynomialfeatures__degree': 2, 'ridge__alpha': 10}\n"
     ]
    }
   ],
   "source": [
    "print(\"Best parameters: {}\".format(grid.best_params_))"
   ]
  },
  {
   "cell_type": "markdown",
   "metadata": {},
   "source": [
    "* このパラメータを用いるとスコアはこのようになる"
   ]
  },
  {
   "cell_type": "code",
   "execution_count": 33,
   "metadata": {},
   "outputs": [
    {
     "name": "stdout",
     "output_type": "stream",
     "text": [
      "Test-set score: 0.77\n"
     ]
    }
   ],
   "source": [
    "print(\"Test-set score: {:.2f}\".format(grid.score(X_test, y_test)))"
   ]
  },
  {
   "cell_type": "markdown",
   "metadata": {},
   "source": [
    "* 比較のために、多項式特徴量を使わずにグリッドサーチを行なってみる"
   ]
  },
  {
   "cell_type": "code",
   "execution_count": 34,
   "metadata": {},
   "outputs": [
    {
     "name": "stdout",
     "output_type": "stream",
     "text": [
      "Score without poly features: 0.63\n"
     ]
    },
    {
     "name": "stderr",
     "output_type": "stream",
     "text": [
      "/Users/MacUser/anaconda2/envs/tf140/lib/python3.6/site-packages/sklearn/model_selection/_search.py:841: DeprecationWarning: The default of the `iid` parameter will change from True to False in version 0.22 and will be removed in 0.24. This will change numeric results when test-set sizes are unequal.\n",
      "  DeprecationWarning)\n"
     ]
    }
   ],
   "source": [
    "param_grid = {'ridge__alpha': [0.001, 0.01, 0.1, 1, 10, 100]}\n",
    "pipe = make_pipeline(StandardScaler(), Ridge())\n",
    "grid = GridSearchCV(pipe, param_grid, cv=5)\n",
    "grid.fit(X_train, y_train)\n",
    "print(\"Score without poly features: {:.2f}\".format(grid.score(X_test, y_test)))"
   ]
  },
  {
   "cell_type": "markdown",
   "metadata": {},
   "source": [
    "* グリッドサーチの結果からも予測されるように、多項式特徴量を用いないと、明らかに結果は悪くなる"
   ]
  },
  {
   "cell_type": "markdown",
   "metadata": {},
   "source": [
    "* 前処理のパラメータをモデルのパラメータと同時にサーチする方法は非常に強力な戦略である\n",
    "\n",
    "    * ただし、`GridSearchCV`は、**全てのパラメータの組み合わせ**を探索することに注意する\n",
    "    \n",
    "    * グリッドにパラメータを追加すればするほど、構築されるモデルの数は指数関数的に増大する"
   ]
  },
  {
   "cell_type": "markdown",
   "metadata": {},
   "source": [
    "## 6. グリッドサーチによるモデルの選択\n",
    "\n",
    "* `GridSearchCV`と`Pipeline`の組み合わせにはさらなる用途がある\n",
    "\n",
    "    * パイプラインで実際に行われるステップに対してもサーチすることが可能\n",
    "    \n",
    "    * 例)`StandardScaler`と`MinMaxScaler`のどちらを用いるかをサーチの対象にすることができる\n",
    "    \n",
    "    * ただし、探索空間はさらに大きくなるので、よく考える必要がある\n",
    "    \n",
    "    * 組み合わせ可能な方法を全て試してみるのは、機械学習の戦略として現実的ではない\n",
    "\n",
    "* 例)irisデータセットに対して`RandomForestClassifier`と`SVC`を比較する\n",
    "\n",
    "    * `SVC`はデータをスケール変換する必要があるので、`StandardScaler`を行うか、何も処理をしないかに付いても探索する必要がある\n",
    "    \n",
    "    * `RandomForestClassifier`には前処理が必要ないことが知られている\n",
    "    \n",
    "* まず、パイプラインを定義する\n",
    "\n",
    "    * ここではステップの名前を明示的に指定している\n",
    "    \n",
    "    * 前処理`preprocessing`とクラス分類器`classifier`の2つのステップが必要\n",
    "    \n",
    "    * ここではそれぞれ`SVC`と`StandardScaler`を用いる"
   ]
  },
  {
   "cell_type": "code",
   "execution_count": 35,
   "metadata": {},
   "outputs": [],
   "source": [
    "pipe = Pipeline([('preprocessing', StandardScaler()), ('classifier', SVC())])"
   ]
  },
  {
   "cell_type": "markdown",
   "metadata": {},
   "source": [
    "* 次に探索する範囲を`parameter_grid`として定義する\n",
    "\n",
    "    * `classifier`は`RandomForestClassifier`と`SVC`である\n",
    "    \n",
    "    * これらのチューニングパラメータは異なるし、必要な前処理も異なるので、サーチグリッドのリストを使う\n",
    "    \n",
    "    * Estimatorをステップに割り当てるにはステップの名前をパラメータ名に用いる\n",
    "    \n",
    "    * パイプラインの中のステップを飛ばしたい場合には、そのステップを`None`にすれば良い(RandomForestなど)"
   ]
  },
  {
   "cell_type": "code",
   "execution_count": 36,
   "metadata": {},
   "outputs": [],
   "source": [
    "from sklearn.ensemble import RandomForestClassifier\n",
    "\n",
    "param_grid = [\n",
    "    {'classifier': [SVC()], 'preprocessing': [StandardScaler(), None],\n",
    "     'classifier__gamma': [0.001, 0.01, 0.1, 1, 10, 100],\n",
    "     'classifier__C': [0.001, 0.01, 0.1, 1, 10, 100]},\n",
    "    {'classifier': [RandomForestClassifier(n_estimators=100)],\n",
    "     'preprocessing': [None], 'classifier__max_features': [1, 2, 3]}]"
   ]
  },
  {
   "cell_type": "code",
   "execution_count": 37,
   "metadata": {},
   "outputs": [
    {
     "name": "stdout",
     "output_type": "stream",
     "text": [
      "Best params:\n",
      "{'classifier': SVC(C=10, cache_size=200, class_weight=None, coef0=0.0,\n",
      "  decision_function_shape='ovr', degree=3, gamma=0.01, kernel='rbf',\n",
      "  max_iter=-1, probability=False, random_state=None, shrinking=True,\n",
      "  tol=0.001, verbose=False), 'classifier__C': 10, 'classifier__gamma': 0.01, 'preprocessing': StandardScaler(copy=True, with_mean=True, with_std=True)}\n",
      "\n",
      "Best cross-validation score: 0.99\n",
      "Test-set score: 0.98\n"
     ]
    }
   ],
   "source": [
    "X_train, X_test, y_train, y_test = train_test_split(\n",
    "    cancer.data, cancer.target, random_state=0)\n",
    "\n",
    "grid = GridSearchCV(pipe, param_grid, cv=5)\n",
    "grid.fit(X_train, y_train)\n",
    "\n",
    "print(\"Best params:\\n{}\\n\".format(grid.best_params_))\n",
    "print(\"Best cross-validation score: {:.2f}\".format(grid.best_score_))\n",
    "print(\"Test-set score: {:.2f}\".format(grid.score(X_test, y_test)))"
   ]
  },
  {
   "cell_type": "markdown",
   "metadata": {},
   "source": [
    "* このグリッドサーチの結果から、`StandardScaler`で前処理した`SVC`で、`C=10`、`gamma=0.01`が最良の結果を返すことがわかる"
   ]
  },
  {
   "cell_type": "markdown",
   "metadata": {},
   "source": [
    "## 7. まとめと展望\n",
    "\n",
    "* 本章では、機械学習ワークフローの複数の処理ステップを1つなぎにまとめる汎用のツール、`Pipeline`クラスを導入した\n",
    "\n",
    "* 実世界のアプリケーションでは、独立したモデルを単独で使うことはほとんどなく、大半が一連の処理ステップの列となる\n",
    "\n",
    "* パイプラインを使うと、複数の処理のステップを、使い慣れたscikit-learnの標準インターフェースである`fit`、`predict`、`transform`を持つ1つのPythonオブジェクトにまとめることができる\n",
    "\n",
    "    * 特に、交差検証でモデルを評価する場合や、グリッドサーチでパラメータを選択する場合に、`Pipeline`クラスを用いて全ての処理をまとめておくには、適切な評価のためには非常に重要である\n",
    "    \n",
    "    * `Pipeline`クラスを使わずに処理の連鎖を記述すると、テストセットに全ての変換を適用するのを忘れるとか順番を間違えるミスを起こしがち\n",
    "    \n",
    "    * しかし、`Pipeline`クラスを用いると、コードが簡潔になりミスが少なくなる\n",
    "    \n",
    "    * 特徴量抽出、前処理、モデルの正しい組み合わせを選ぶのはある種の技芸で、多くの場合、試行錯誤が必要になる\n",
    "    \n",
    "    * パイプラインを用いると、この様々な処理ステップを試すのが非常に簡単になる\n",
    "    \n",
    "    * 実験をする際には、処理が複雑過ぎないように注意する必要がある\n",
    "    \n",
    "    * モデルに不要な要素が含まれていないか常に評価する\n",
    "   "
   ]
  },
  {
   "cell_type": "markdown",
   "metadata": {},
   "source": [
    "|  版  |   年/月/日   |\n",
    "|-----|-----------------|\n",
    "|初版|2019/04/04|"
   ]
  }
 ],
 "metadata": {
  "kernelspec": {
   "display_name": "Python 3",
   "language": "python",
   "name": "python3"
  },
  "language_info": {
   "codemirror_mode": {
    "name": "ipython",
    "version": 3
   },
   "file_extension": ".py",
   "mimetype": "text/x-python",
   "name": "python",
   "nbconvert_exporter": "python",
   "pygments_lexer": "ipython3",
   "version": "3.6.7"
  }
 },
 "nbformat": 4,
 "nbformat_minor": 2
}

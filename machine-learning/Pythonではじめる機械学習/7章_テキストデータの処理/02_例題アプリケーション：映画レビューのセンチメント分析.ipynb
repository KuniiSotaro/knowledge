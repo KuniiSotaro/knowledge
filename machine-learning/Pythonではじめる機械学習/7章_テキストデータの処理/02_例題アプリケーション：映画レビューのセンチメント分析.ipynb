{
 "cells": [
  {
   "cell_type": "markdown",
   "metadata": {},
   "source": [
    "02 例題アプリケーション：映画レビューのセンチメント分析\n",
    "==============================================\n",
    "\n",
    "* 本章では、Webサイトの映画レビューデータセットを用いる\n",
    "\n",
    "    * このデータセットには、映画レビューのテキストと、そのレビューが肯定的`pos`か否定的`neg`かを示すラベルで構成されている\n",
    "    \n",
    "    * 1から10点の採点が行われている\n",
    "    \n",
    "    * モデリングを簡単にするために、この点が6点以上の場合に「肯定的」、それ以外の場合を「否定的」として、2クラス分類データセットとしている"
   ]
  },
  {
   "cell_type": "markdown",
   "metadata": {},
   "source": [
    "* データを解凍すると、このデータセットが2つのフォルダに格納されたテキストファイルとして提供されていることがわかる\n",
    "\n",
    "    * それぞれのフォルダに、さらに`pos`と`neg`というサブフォルダがある"
   ]
  },
  {
   "cell_type": "code",
   "execution_count": 3,
   "metadata": {},
   "outputs": [
    {
     "name": "stdout",
     "output_type": "stream",
     "text": [
      "\u001b[01;34m/Users/MacUser/data/aclImdb\u001b[00m\r\n",
      "├── \u001b[01;34mtest\u001b[00m\r\n",
      "│   ├── \u001b[01;34mneg\u001b[00m\r\n",
      "│   └── \u001b[01;34mpos\u001b[00m\r\n",
      "└── \u001b[01;34mtrain\u001b[00m\r\n",
      "    ├── \u001b[01;34mneg\u001b[00m\r\n",
      "    ├── \u001b[01;34mpos\u001b[00m\r\n",
      "    └── \u001b[01;34munsup\u001b[00m\r\n",
      "\r\n",
      "7 directories\r\n"
     ]
    }
   ],
   "source": [
    "!tree -dL 2 ~/data/aclImdb"
   ]
  },
  {
   "cell_type": "markdown",
   "metadata": {},
   "source": [
    "* `pos`フォルダには肯定的なレビューが、それぞれ独立したテキストファイルとして格納されている\n",
    "\n",
    "* `neg`フォルダには否定的なレビューが、同様に格納されている\n",
    "\n",
    "* `unsup`フォルダにはラベルの付いていないデータが含まれるが、これは使用しないため削除する"
   ]
  },
  {
   "cell_type": "code",
   "execution_count": 4,
   "metadata": {},
   "outputs": [],
   "source": [
    "!rm -r ~/data/aclImdb/train/unsup"
   ]
  },
  {
   "cell_type": "markdown",
   "metadata": {},
   "source": [
    "* scikit-learnにはこのようなラベルがサブフォルダに対応するフォルダ構成からデータを読み込むための関数`load_files`が定義されている\n",
    "\n",
    "    * まず、`load_files`関数を用いて訓練データを読み込む"
   ]
  },
  {
   "cell_type": "code",
   "execution_count": 7,
   "metadata": {},
   "outputs": [
    {
     "name": "stdout",
     "output_type": "stream",
     "text": [
      "type of text_train: <class 'list'>\n",
      "length of text_train: 25000\n",
      "text_train[6]:\n",
      "b\"This movie has a special way of telling the story, at first i found it rather odd as it jumped through time and I had no idea whats happening.<br /><br />Anyway the story line was although simple, but still very real and touching. You met someone the first time, you fell in love completely, but broke up at last and promoted a deadly agony. Who hasn't go through this? but we will never forget this kind of pain in our life. <br /><br />I would say i am rather touched as two actor has shown great performance in showing the love between the characters. I just wish that the story could be a happy ending.\"\n"
     ]
    }
   ],
   "source": [
    "from sklearn.datasets import load_files\n",
    "\n",
    "reviews_train = load_files(\"/Users/MacUser/data/aclImdb/train/\")\n",
    "# load_filesは一連の訓練テキストと訓練ラベルを返す\n",
    "text_train, y_train = reviews_train.data, reviews_train.target\n",
    "print(\"type of text_train: {}\".format(type(text_train)))\n",
    "print(\"length of text_train: {}\".format(len(text_train)))\n",
    "print(\"text_train[6]:\\n{}\".format(text_train[6]))"
   ]
  },
  {
   "cell_type": "markdown",
   "metadata": {},
   "source": [
    "* `text_train`はながさ25,000のリストで、個々の要素にはレビューが文字列として含まれている\n",
    "\n",
    "    * ここではインデックス1のレビューを表示している\n",
    "    \n",
    "    * レビューにはHTMLの改行シーケンス(<br />)が含まれている場合がある\n",
    "    \n",
    "    * 取り除いておく"
   ]
  },
  {
   "cell_type": "code",
   "execution_count": 8,
   "metadata": {},
   "outputs": [],
   "source": [
    "text_train = [doc.replace(b\"<br />\", b\" \") for doc in text_train]"
   ]
  },
  {
   "cell_type": "markdown",
   "metadata": {},
   "source": [
    "* `text_train`の個々の要素の型はPythonのバージョンに依存する(Python3：文字列データのバイナリ表現、bytes型)\n",
    "\n",
    "* このデータセットは肯定的なクラスと否定的なクラスがバランスするように集められているので、肯定的、否定的の両方に多数の文字列がある"
   ]
  },
  {
   "cell_type": "code",
   "execution_count": 10,
   "metadata": {},
   "outputs": [
    {
     "name": "stdout",
     "output_type": "stream",
     "text": [
      "Samples per class (training): [12500 12500]\n"
     ]
    }
   ],
   "source": [
    "import numpy as np\n",
    "print(\"Samples per class (training): {}\".format(np.bincount(y_train)))"
   ]
  },
  {
   "cell_type": "markdown",
   "metadata": {},
   "source": [
    "* 同様に、テストデータセットもロードする"
   ]
  },
  {
   "cell_type": "code",
   "execution_count": 11,
   "metadata": {},
   "outputs": [
    {
     "name": "stdout",
     "output_type": "stream",
     "text": [
      "Number of documents in test data: 25000\n",
      "Samples per class (test): [12500 12500]\n"
     ]
    }
   ],
   "source": [
    "reviews_test = load_files(\"/Users/MacUser/data/aclImdb/test/\")\n",
    "text_test, y_test = reviews_test.data, reviews_test.target\n",
    "print(\"Number of documents in test data: {}\".format(len(text_test)))\n",
    "print(\"Samples per class (test): {}\".format(np.bincount(y_test)))\n",
    "text_test = [doc.replace(b\"<br />\", b\" \") for doc in text_test]"
   ]
  },
  {
   "cell_type": "markdown",
   "metadata": {},
   "source": [
    "* ここで解こうとしている問題は次の通り\n",
    "\n",
    "    * あるレビューに対して、レビューのテキストに基づいて「肯定的」もしくは「否定的」のラベルを割り当てる\n",
    "    \n",
    "    * これは、標準的な2クラス分類タスクである\n",
    "    \n",
    "    * しかし、テキストデータは機械学習が扱えるような形式になっていない\n",
    "    \n",
    "    * テキストの文字列表現を機械学習のアルゴリズムを適用できるような数値表現に変換する必要がある"
   ]
  },
  {
   "cell_type": "markdown",
   "metadata": {},
   "source": [
    "| 版   | 年/月/日   |\n",
    "| ---- | ---------- |\n",
    "| 初版 | 2019/04/06 |"
   ]
  }
 ],
 "metadata": {
  "kernelspec": {
   "display_name": "Python 3",
   "language": "python",
   "name": "python3"
  },
  "language_info": {
   "codemirror_mode": {
    "name": "ipython",
    "version": 3
   },
   "file_extension": ".py",
   "mimetype": "text/x-python",
   "name": "python",
   "nbconvert_exporter": "python",
   "pygments_lexer": "ipython3",
   "version": "3.6.7"
  }
 },
 "nbformat": 4,
 "nbformat_minor": 2
}

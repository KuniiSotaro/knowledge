{
 "cells": [
  {
   "cell_type": "markdown",
   "metadata": {},
   "source": [
    "04 ナイーブベイズクラス分類器\n",
    "========================\n",
    "\n",
    "* `ナイーブベイズクラス分類器`：前節で述べた線形モデルによく似たクラス分類器の一族\n",
    "\n",
    "    * 調練が線形モデルよりもさらに高速なのが特徴\n",
    "    \n",
    "    * この速度の代償として、`ナイーブベイズモデル`の汎化性能は、`LogisticRegression`は`LinearSVC`よりもわずかに劣る場合が多い\n",
    "    \n",
    "    * 高速の理由は、クラスに対する統計値を個々の特徴量ごとに集めて、パラメータを学習するため\n",
    "    \n",
    "    * scikit-learnには、3種のナイーブベイズクラス分類器(`GaussianNB`、`BernoulliNB`、`MultinomialNB`)が実装されている\n",
    "    \n",
    "        * `GaussianNB`：任意の連続値データに適用\n",
    "        \n",
    "        * `BernoulliNB`：2値データを仮定している\n",
    "        \n",
    "        * `MultinomialNB`：カウントデータを仮定している\n",
    "        \n",
    "            * `カウントデータ`：個々の特徴量が何らかの整数カウントを表現しているデータ(例：文中に出てくる単語の出現数など)\n",
    "            \n",
    "        * `BernoulliNB`や`MultinomialNB`は、ほとんどの場合データのクラス分類に用いられる\n"
   ]
  },
  {
   "cell_type": "markdown",
   "metadata": {},
   "source": [
    "* `BernoulliNB`クラス分類器は、個々のクラスに対して、特徴量ごとに非ゼロである場合をカウントする\n",
    "\n",
    "    * 以下の例で表す"
   ]
  },
  {
   "cell_type": "code",
   "execution_count": 3,
   "metadata": {},
   "outputs": [],
   "source": [
    "import numpy as np\n",
    "\n",
    "X = np.array([[0, 1, 0, 1],\n",
    "                        [1, 0, 1, 1],\n",
    "                        [0, 0, 0, 1],\n",
    "                        [1, 0, 1, 0]])\n",
    "y = np.array([0, 1, 0, 1])"
   ]
  },
  {
   "cell_type": "markdown",
   "metadata": {},
   "source": [
    "* それぞれ4つの2値特徴量を持つ4つのデータポイントがある\n",
    "\n",
    "    * 2つのクラス0と1がある\n",
    "    \n",
    "    * クラス0のデータポイント(最初のと3番目)に対して、最初の特徴量はゼロが2回、非ゼロが0回出てくる\n",
    "    \n",
    "    * 2番目の特徴量はゼロが1回、非ゼロが1回である2番目のクラスに対しても同様に計算する\n",
    "    \n",
    "* クラスごとに非ゼロの要素をカウントするには、下に示すようにする"
   ]
  },
  {
   "cell_type": "code",
   "execution_count": 4,
   "metadata": {},
   "outputs": [
    {
     "name": "stdout",
     "output_type": "stream",
     "text": [
      "Feature counts:\n",
      "{0: array([0, 1, 0, 2]), 1: array([2, 0, 2, 1])}\n"
     ]
    }
   ],
   "source": [
    "counts = {}\n",
    "for label in np.unique(y):\n",
    "    # クラスに対してループ\n",
    "    # それぞれの特徴量ごとに非ゼロの数を(加算で)数える\n",
    "    counts[label] = X[y == label].sum(axis=0)\n",
    "print(\"Feature counts:\\n{}\".format(counts))"
   ]
  },
  {
   "cell_type": "markdown",
   "metadata": {},
   "source": [
    "* 残りのナイーブベイズモデル(`Multinomial`、`GaussianNB`)は、計算する統計量が若干異なる\n",
    "\n",
    "    * `Multinomial`ではクラスごとの、個々の特徴量の平均値を考慮に入れる\n",
    "    \n",
    "    * `GaussianNB`では平均値だけでなく標準偏差も格納する"
   ]
  },
  {
   "cell_type": "markdown",
   "metadata": {},
   "source": [
    "* 予測の際には、個々のクラスの統計量とデータポイントが比較され、最もよく適合したクラスが採用される\n",
    "\n",
    "    * `MultinomialNB`や`BernoulliNB`では、線形モデルの場合と同じ形の予測式になる\n",
    "    \n",
    "    * ナイーブベイズモデルの`coef_`は、線形モデルの場合と若干意味が異なる\n",
    "    \n",
    "        * ナイーブベイズモデルの`coef_`は$w$と同じでない"
   ]
  },
  {
   "cell_type": "markdown",
   "metadata": {},
   "source": [
    "## 1. 利点、欠点、パラメータ\n",
    "\n",
    "* `MultinomialNB`と`GaussianNB`には、パラメータが1つだけある\n",
    "\n",
    "    * モデルの複雑さを制御する`alpha`\n",
    "    \n",
    "    * 働きとしては、以下のようになる\n",
    "    \n",
    "        * アルゴリズムは、全ての特徴量に対して正の値を持つ仮想的なデータポイントが`alpha`の大きさに応じた量だけ追加されたように振る舞う\n",
    "    \n",
    "        * アルゴリズムの性能は`alpha`の値に対して比較的頑健である\n",
    "        \n",
    "        * つまり、`alpha`の値がアルゴリズムの性能に致命的な違いをもたらすことはない\n",
    "        \n",
    "        * しかし、多くの場合この値を調整することで、いくらか精度を上げることができる"
   ]
  },
  {
   "cell_type": "markdown",
   "metadata": {},
   "source": [
    "* `GaussianNB`は多くの場合、高次元データに対して用いられるが、他の2つはテキストのような疎なカウントデータに対して用いられる\n",
    "\n",
    "    * 一般に`MultinomialNB`の方が`BernoulliNB`よりも若干性能が良い\n",
    "    \n",
    "    * 特に比較的多数の非ゼロ特徴量がある場合(大きなドキュメント)には、`MultinomialNB`が有効\n",
    "    "
   ]
  },
  {
   "cell_type": "markdown",
   "metadata": {},
   "source": [
    "* ナイーブベイズモデルの利点と欠点の多くは線形モデルと共通する\n",
    "\n",
    "    * 訓練も予想も非常に高速で、訓練の過程も理解しやすい\n",
    "    \n",
    "    * 高次元の疎なデータに対してもうまく機能するし、パラメータの設定に対しても比較的頑健である\n",
    "    \n",
    "    * 線形モデルですら時間がかかりすぎるような大規模なデータセットに対するベースラインとして非常に有用である"
   ]
  },
  {
   "cell_type": "markdown",
   "metadata": {},
   "source": [
    "|  版  |    年/月/日    |\n",
    "|-----|------------------|\n",
    "|初版|2019/03/03|"
   ]
  }
 ],
 "metadata": {
  "kernelspec": {
   "display_name": "Python 3",
   "language": "python",
   "name": "python3"
  },
  "language_info": {
   "codemirror_mode": {
    "name": "ipython",
    "version": 3
   },
   "file_extension": ".py",
   "mimetype": "text/x-python",
   "name": "python",
   "nbconvert_exporter": "python",
   "pygments_lexer": "ipython3",
   "version": "3.6.7"
  }
 },
 "nbformat": 4,
 "nbformat_minor": 2
}

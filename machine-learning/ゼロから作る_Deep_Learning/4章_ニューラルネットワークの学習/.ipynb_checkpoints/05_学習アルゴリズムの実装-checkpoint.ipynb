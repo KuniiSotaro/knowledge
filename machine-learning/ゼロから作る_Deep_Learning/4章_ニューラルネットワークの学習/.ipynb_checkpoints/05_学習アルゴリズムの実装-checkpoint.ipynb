{
 "cells": [
  {
   "cell_type": "markdown",
   "metadata": {},
   "source": [
    "05 学習アルゴリズムの実装\n",
    "=====================\n",
    "\n",
    "* ここでは、これまでの復習を行う"
   ]
  },
  {
   "cell_type": "markdown",
   "metadata": {},
   "source": [
    "### 前提\n",
    "\n",
    "* ニューラルネットワークは、適用可能な重みとバイアスがある\n",
    "\n",
    "* `学習`：この重みとバイアスを訓練データに適応するように調整すること"
   ]
  },
  {
   "cell_type": "markdown",
   "metadata": {},
   "source": [
    "### ステップ1(ミニバッチ)\n",
    "\n",
    "* 訓練データの中からランダムに一部のデータを選び出す\n",
    "\n",
    "* `ミニバッチ`：その選ばれたデータのこと\n",
    "\n",
    "* ここでは、その`ミニバッチ`の損失関数の値を減らすことを目的とする"
   ]
  },
  {
   "cell_type": "markdown",
   "metadata": {},
   "source": [
    "### ステップ2(勾配の算出)\n",
    "\n",
    "* `ミニバッチ`の損失関数を減らすために、各重みパラメータの`勾配`を求める\n",
    "\n",
    "* `勾配`：損失関数の値を最も減らす方向を示す"
   ]
  },
  {
   "cell_type": "markdown",
   "metadata": {},
   "source": [
    "### ステップ3(パラメータの更新)\n",
    "\n",
    "* 重みパラメータを勾配方向に微小量だけ更新する"
   ]
  },
  {
   "cell_type": "markdown",
   "metadata": {},
   "source": [
    "### ステップ4(繰り返す)\n",
    "\n",
    "* ステップ1、ステップ2、ステップ3、を繰り返す"
   ]
  },
  {
   "cell_type": "markdown",
   "metadata": {},
   "source": [
    "* ニューラルネットワークの学習は、上の4つの手順による手法で行う\n",
    "\n",
    "    * この方法は、`勾配降下法`によってパラメータを更新する方法だが、ここで使用するデータはミニバッチとして無作為に選ばれたデータを使用している\n",
    "    \n",
    "    * そのため、`確率的勾配降下法`と呼ばれる\n",
    "    \n",
    "        * `確率的`とは、「確率的に無作為に選び出した」と言う意味\n",
    "        \n",
    "        * そのため、これは「無作為に選び出したデータに対して行う勾配降下法」\n",
    "        \n",
    "        * ディープラーニングでは、`SGD`と言う名称で実装される"
   ]
  },
  {
   "cell_type": "markdown",
   "metadata": {},
   "source": [
    "* 実際に、手書き数字を学習するニューラルネットワークを実装していく\n",
    "\n",
    "    * ここでは2層のニューラルネットワーク(隠れ層が1層のネットワーク)を対象に、MNISTデータセットを使って学習を行う"
   ]
  },
  {
   "cell_type": "markdown",
   "metadata": {},
   "source": [
    "## 1. 2層ニューラルネットワークのクラス\n",
    "\n",
    "* 2層のニューラルネットワークを、一つのクラスとして実装する\n",
    "\n",
    "    * このクラスを、`TwoLayerNet`と言う名前のクラスとする"
   ]
  },
  {
   "cell_type": "code",
   "execution_count": 1,
   "metadata": {},
   "outputs": [],
   "source": [
    "import sys, os\n",
    "sys.path.append(os.pardir)  # 親ディレクトリのファイルをインポートするための設定\n",
    "from common.functions import *\n",
    "from common.gradient import numerical_gradient\n",
    "\n",
    "\n",
    "class TwoLayerNet:\n",
    "\n",
    "    def __init__(self, input_size, hidden_size, output_size, weight_init_std=0.01):\n",
    "        # 重みの初期化\n",
    "        self.params = {}\n",
    "        self.params['W1'] = weight_init_std * np.random.randn(input_size, hidden_size)\n",
    "        self.params['b1'] = np.zeros(hidden_size)\n",
    "        self.params['W2'] = weight_init_std * np.random.randn(hidden_size, output_size)\n",
    "        self.params['b2'] = np.zeros(output_size)\n",
    "\n",
    "    def predict(self, x):\n",
    "        W1, W2 = self.params['W1'], self.params['W2']\n",
    "        b1, b2 = self.params['b1'], self.params['b2']\n",
    "    \n",
    "        a1 = np.dot(x, W1) + b1\n",
    "        z1 = sigmoid(a1)\n",
    "        a2 = np.dot(z1, W2) + b2\n",
    "        y = softmax(a2)\n",
    "        \n",
    "        return y\n",
    "        \n",
    "    # x:入力データ, t:教師データ\n",
    "    def loss(self, x, t):\n",
    "        y = self.predict(x)\n",
    "        \n",
    "        return cross_entropy_error(y, t)\n",
    "    \n",
    "    def accuracy(self, x, t):\n",
    "        y = self.predict(x)\n",
    "        y = np.argmax(y, axis=1)\n",
    "        t = np.argmax(t, axis=1)\n",
    "        \n",
    "        accuracy = np.sum(y == t) / float(x.shape[0])\n",
    "        return accuracy\n",
    "        \n",
    "    # x:入力データ, t:教師データ\n",
    "    def numerical_gradient(self, x, t):\n",
    "        loss_W = lambda W: self.loss(x, t)\n",
    "        \n",
    "        grads = {}\n",
    "        grads['W1'] = numerical_gradient(loss_W, self.params['W1'])\n",
    "        grads['b1'] = numerical_gradient(loss_W, self.params['b1'])\n",
    "        grads['W2'] = numerical_gradient(loss_W, self.params['W2'])\n",
    "        grads['b2'] = numerical_gradient(loss_W, self.params['b2'])\n",
    "        \n",
    "        return grads\n",
    "        \n",
    "    def gradient(self, x, t):\n",
    "        W1, W2 = self.params['W1'], self.params['W2']\n",
    "        b1, b2 = self.params['b1'], self.params['b2']\n",
    "        grads = {}\n",
    "        \n",
    "        batch_num = x.shape[0]\n",
    "        \n",
    "        # forward\n",
    "        a1 = np.dot(x, W1) + b1\n",
    "        z1 = sigmoid(a1)\n",
    "        a2 = np.dot(z1, W2) + b2\n",
    "        y = softmax(a2)\n",
    "        \n",
    "        # backward\n",
    "        dy = (y - t) / batch_num\n",
    "        grads['W2'] = np.dot(z1.T, dy)\n",
    "        grads['b2'] = np.sum(dy, axis=0)\n",
    "        \n",
    "        dz1 = np.dot(dy, W2.T)\n",
    "        da1 = sigmoid_grad(a1) * dz1\n",
    "        grads['W1'] = np.dot(x.T, da1)\n",
    "        grads['b1'] = np.sum(da1, axis=0)\n",
    "\n",
    "        return grads"
   ]
  },
  {
   "cell_type": "markdown",
   "metadata": {},
   "source": [
    "* このクラスで使用する変数とメソッドを整理して示す"
   ]
  },
  {
   "cell_type": "markdown",
   "metadata": {},
   "source": [
    "| 変数     | 説明                                                                                                                                                                                                             |                                                                                                                                                                                                                               |\n",
    "| -------- | ---------------------------------------------------------------------------------------------------------------------------------------------------------------------------------------------------------------- | ----------------------------------------------------------------------------------------------------------------------------------------------------------------------------------------------------------------------------- |\n",
    "| `params` | ニューラルネットワークのパラメータを保持するディクショナリ変数(インスタンス変数)<br>`params['W1']`は1層目の重み、`params['b1']`は1層目のバイアス<br>`params['W2']`は2層目の重み、`params['b2']`は2層目のバイアス |                                                                                                                                                                                                                               |\n",
    "|           `grads`                                                                                                                                                                                                          | 勾配を保持するディクショナリ変数(`numerical_gradient()`メソッドの返り値)<br>`grads['W1']`は一層目の重みの勾配、`grads['b1']`は1層目のバイアスの勾配<br>`grads['W2']`は2層目の重みの勾配、`grads['b2']`は2層目のバイアスの勾配 |"
   ]
  },
  {
   "cell_type": "markdown",
   "metadata": {},
   "source": [
    "| メソッド                                               | 説明                                                                                                                         |\n",
    "| ------------------------------------------------------ | ---------------------------------------------------------------------------------------------------------------------------- |\n",
    "| `__init__(self, input_size, hidden_size, output_size)` | 初期化を行う<br>引数は頭から順に、<br>「入力層のニューロンの数」<br>「隠れ層のニューロンの数」<br>「出力層のニューロンの数」 |\n",
    "| `predict(self, x)`                                     | 認識(推論)を行う<br>引数の`x`は画像データ                                                                                    |\n",
    "| `loss(self, x, t)`                                     | 損失関数の値を求める<br>引数の`x`は画像データ、`t`は正解ラベル                                                               |\n",
    "| `accuracy(self, x, t)`                                 | 認識精度を求める                                                                                                             |\n",
    "| `numerical_gradient(self, x, t)`                       | 重みパラメータに対する勾配を求める                                                                                           |\n",
    "| `gradient(self, x, t)`                                 | 重みパラメータに対する勾配を求める<br>`numerical_gradient()`の高速版                                                         |\n"
   ]
  },
  {
   "cell_type": "markdown",
   "metadata": {},
   "source": [
    "* `TwoLayerNet`クラスには、インスタンス変数として`params`と`grads`と言うディクショナリの変数がある\n",
    "\n",
    "    * `params`変数には重みパラメータが格納されており、1層目のパラメータは`params['W1']`に、NumPy配列として格納されている\n",
    "    \n",
    "    * また、1層目のバイアスは`params['b1']`のようにアクセスする"
   ]
  },
  {
   "cell_type": "code",
   "execution_count": 2,
   "metadata": {},
   "outputs": [
    {
     "data": {
      "text/plain": [
       "(784, 100)"
      ]
     },
     "execution_count": 2,
     "metadata": {},
     "output_type": "execute_result"
    }
   ],
   "source": [
    "net = TwoLayerNet(input_size=784, hidden_size=100, output_size=10)\n",
    "net.params['W1'].shape"
   ]
  },
  {
   "cell_type": "code",
   "execution_count": 3,
   "metadata": {},
   "outputs": [
    {
     "data": {
      "text/plain": [
       "(100,)"
      ]
     },
     "execution_count": 3,
     "metadata": {},
     "output_type": "execute_result"
    }
   ],
   "source": [
    "net.params['b1'].shape"
   ]
  },
  {
   "cell_type": "code",
   "execution_count": 4,
   "metadata": {},
   "outputs": [
    {
     "data": {
      "text/plain": [
       "(100, 10)"
      ]
     },
     "execution_count": 4,
     "metadata": {},
     "output_type": "execute_result"
    }
   ],
   "source": [
    "net.params['W2'].shape"
   ]
  },
  {
   "cell_type": "code",
   "execution_count": 5,
   "metadata": {},
   "outputs": [
    {
     "data": {
      "text/plain": [
       "(10,)"
      ]
     },
     "execution_count": 5,
     "metadata": {},
     "output_type": "execute_result"
    }
   ],
   "source": [
    "net.params['b2'].shape"
   ]
  },
  {
   "cell_type": "markdown",
   "metadata": {},
   "source": [
    "* 上のように`params`変数には、このネットワークに必要なパラメータが全て格納されている\n",
    "\n",
    "    * そして、`params`変数に格納された重みパラメータが、「推論処理(フォワード処理)」で使われる\n",
    "    \n",
    "    * 推論処理は、次のように実行できる"
   ]
  },
  {
   "cell_type": "code",
   "execution_count": 6,
   "metadata": {},
   "outputs": [],
   "source": [
    "x = np.random.rand(100, 784)\n",
    "y = net.predict(x)"
   ]
  },
  {
   "cell_type": "markdown",
   "metadata": {},
   "source": [
    "* また、`grads`変数には、`params`変数と対応するように、各パラメータの勾配が格納される\n",
    "\n",
    "    * 例)`numerical_gradient()`メソッドを使って勾配を確認すると、`grads`変数に勾配情報が格納される"
   ]
  },
  {
   "cell_type": "code",
   "execution_count": 7,
   "metadata": {},
   "outputs": [],
   "source": [
    "# ダミーの入力データ(100枚分)\n",
    "x = np.random.rand(100, 784)\n",
    "\n",
    "# ダミーの正解ラベル(100枚分)\n",
    "t = np.random.rand(100, 10)"
   ]
  },
  {
   "cell_type": "code",
   "execution_count": 8,
   "metadata": {},
   "outputs": [],
   "source": [
    "# 勾配を計算\n",
    "grads = net.numerical_gradient(x, t)"
   ]
  },
  {
   "cell_type": "code",
   "execution_count": 9,
   "metadata": {},
   "outputs": [
    {
     "data": {
      "text/plain": [
       "(784, 100)"
      ]
     },
     "execution_count": 9,
     "metadata": {},
     "output_type": "execute_result"
    }
   ],
   "source": [
    "grads['W1'].shape"
   ]
  },
  {
   "cell_type": "code",
   "execution_count": 10,
   "metadata": {},
   "outputs": [
    {
     "data": {
      "text/plain": [
       "(100,)"
      ]
     },
     "execution_count": 10,
     "metadata": {},
     "output_type": "execute_result"
    }
   ],
   "source": [
    "grads['b1'].shape"
   ]
  },
  {
   "cell_type": "code",
   "execution_count": 11,
   "metadata": {},
   "outputs": [
    {
     "data": {
      "text/plain": [
       "(100, 10)"
      ]
     },
     "execution_count": 11,
     "metadata": {},
     "output_type": "execute_result"
    }
   ],
   "source": [
    "grads['W2'].shape"
   ]
  },
  {
   "cell_type": "code",
   "execution_count": 12,
   "metadata": {},
   "outputs": [
    {
     "data": {
      "text/plain": [
       "(10,)"
      ]
     },
     "execution_count": 12,
     "metadata": {},
     "output_type": "execute_result"
    }
   ],
   "source": [
    "grads['b2'].shape"
   ]
  },
  {
   "cell_type": "markdown",
   "metadata": {},
   "source": [
    "* 続いて、`TwoLayerNet`のメソッドの実装を見てみる\n",
    "\n",
    "* `__init__(self, input_size, hidden_size, output_size)`メソッド\n",
    "\n",
    "    * クラスの初期化メソッド\n",
    "    \n",
    "    * 引数は先頭から順に,\n",
    "        \n",
    "        * 入力層のニューロンの数\n",
    "        \n",
    "        * 隠れ層のニューロンの数\n",
    "        \n",
    "        * 出力層のニューロンの数\n",
    "        \n",
    "* 手書き数字の認識を行う場合は、入力画像サイズが$28 \\times 28$の計784個あり、出力は10個のクラスになる\n",
    "\n",
    "    * そのため、引数の`input_size=784`、`output_size=10`と指定し、隠れ層の個数である`hidden_size`は適当な値を設定する\n",
    "    \n",
    "* また、この初期化メソッドでは、重みパラメータの初期化を行う\n",
    "\n",
    "    * 重みパラメータの初期値をどのような値に設定するかと言う問題は、ニューラルネットワークの学習を成功させる上で重要\n",
    "    \n",
    "    * ここでは重みはガウス分布に従う乱数で初期化し、バイアスは`0`で初期化する"
   ]
  },
  {
   "cell_type": "markdown",
   "metadata": {},
   "source": [
    "* `predict(self, x)`と`accuracy(self, x, t)`については、前章のニューラルネットワークの推論処理の実装とほとんど同じ"
   ]
  },
  {
   "cell_type": "markdown",
   "metadata": {},
   "source": [
    "* `loss(self, x, t)`については、損失関数の値を計算するメソッド\n",
    "\n",
    "    * このメソッドの実装は、`predict()`の結果と正解ラベルを元に、交差エントロピー誤差を求めるだけになる"
   ]
  },
  {
   "cell_type": "markdown",
   "metadata": {},
   "source": [
    "* `numerical_gradient(self, x, t)`メソッドは、各パラメータの勾配を計算する\n",
    "\n",
    "    * これは数値微分によって、各パラメータの損失関数に対する勾配を計算する\n",
    "   "
   ]
  },
  {
   "cell_type": "markdown",
   "metadata": {},
   "source": [
    "* `gradient(self, x, t)`は誤差逆伝搬法\n",
    "\n",
    "    * 次の章で扱う"
   ]
  },
  {
   "cell_type": "markdown",
   "metadata": {},
   "source": [
    "## 2. ミニバッチ学習の実装\n",
    "\n",
    "* ニューラルネットワークの学習の実装は、前に説明したミニバッチ学習で行う\n",
    "\n",
    "    * `ミニバッチ学習`：訓練データから無作為に一部のデータを取り出して、そのミニバッチを対象に、勾配法によりパラメータを更新する\n",
    "    \n",
    "    * `TwoLayerNet`クラスを対象に、MNISTデータセットを使って学習を行う"
   ]
  },
  {
   "cell_type": "code",
   "execution_count": 17,
   "metadata": {},
   "outputs": [
    {
     "data": {
      "text/plain": [
       "<matplotlib.legend.Legend at 0x111869828>"
      ]
     },
     "execution_count": 17,
     "metadata": {},
     "output_type": "execute_result"
    },
    {
     "data": {
      "image/png": "[encoded data removed]",
      "text/plain": [
       "<Figure size 432x288 with 1 Axes>"
      ]
     },
     "metadata": {
      "needs_background": "light"
     },
     "output_type": "display_data"
    }
   ],
   "source": [
    "import sys, os\n",
    "sys.path.append(os.pardir)  # 親ディレクトリのファイルをインポートするための設定\n",
    "import numpy as np\n",
    "import matplotlib.pyplot as plt\n",
    "from dataset.mnist import load_mnist\n",
    "%matplotlib inline\n",
    "\n",
    "# データの読み込み\n",
    "(x_train, t_train), (x_test, t_test) = load_mnist(normalize=True, one_hot_label=True)\n",
    "\n",
    "train_loss_list = []\n",
    "\n",
    "iters_num = 10000  # 繰り返しの回数を適宜設定する\n",
    "train_size = x_train.shape[0]\n",
    "batch_size = 100\n",
    "learning_rate = 0.1\n",
    "\n",
    "network = TwoLayerNet(input_size=784, hidden_size=50, output_size=10)\n",
    "\n",
    "for i in range(iters_num):\n",
    "    # ミニバッチの取得\n",
    "    batch_mask = np.random.choice(train_size, batch_size)\n",
    "    x_batch = x_train[batch_mask]\n",
    "    t_batch = t_train[batch_mask]\n",
    "    \n",
    "    # 勾配の計算\n",
    "    grad = network.numerical_gradient(x_batch, t_batch)\n",
    "#     grad = network.gradient(x_batch, t_batch)\n",
    "    \n",
    "    # パラメータの更新\n",
    "    for key in ('W1', 'b1', 'W2', 'b2'):\n",
    "        network.params[key] -= learning_rate * grad[key]\n",
    "        \n",
    "        \n",
    "    # 学習経過の記録\n",
    "    loss = network.loss(x_batch, t_batch)\n",
    "    train_loss_list.append(loss)\n",
    "\n",
    "# グラフの描画\n",
    "markers = {'train': 'o', 'test': 's'}\n",
    "x = np.arange(len(train_loss_list))\n",
    "plt.plot(x, train_loss_list, label='train acc')\n",
    "plt.xlabel(\"epochs\")\n",
    "plt.ylabel(\"accuracy\")\n",
    "plt.ylim(0, 1.0)\n",
    "plt.legend(loc='lower right')"
   ]
  },
  {
   "cell_type": "markdown",
   "metadata": {},
   "source": [
    "* ここでは、ミニバッチのサイズを100として、毎回60,000個の訓練データからランダムに100個のデータ(画像データと正解ラベルデータ)を抜き出す\n",
    "\n",
    "    * そしてその100個のミニバッチを対象に勾配を求め、確率勾配降下法(SGD)によりパラメータを更新する\n",
    "    \n",
    "    * ここでは勾配法による更新の回数を10000回として、更新するごとに、訓練データに対する損失関数を計算し、その値を配列に追加する\n",
    "    \n",
    "    *  これは上の図で表される"
   ]
  },
  {
   "cell_type": "markdown",
   "metadata": {},
   "source": [
    "* 図より、学習の回数が進むにつれて、損失関数の値が減っていくことがわかる\n",
    "\n",
    "    * これは、学習がうまくいっていることの証であり、ニューラルネットワークの重みパラメータが徐々にデータに適応していることがわかる\n",
    "    \n",
    "    * 繰り返しデータを浴びることによって、最適な重みパラメータへと徐々に近づいている"
   ]
  },
  {
   "cell_type": "markdown",
   "metadata": {},
   "source": [
    "## 3. テストデータで評価\n",
    "\n",
    "* ニューラルネットワークの学習では、訓練データ以外のデータを正しく認識できるかどうかを確認する必要がある\n",
    "\n",
    "    * これは「過学習」を起こしていないかを確認するもの"
   ]
  },
  {
   "cell_type": "markdown",
   "metadata": {},
   "source": [
    "* ニューラルネットワークの学習で目的にすることは、汎化能力を身に着けること\n",
    "\n",
    "    * 汎化的な能力を評価するためには、訓練データに含まれないデータを使って評価する必要がある\n",
    "    \n",
    "    * 次の実装では、学習を行う過程で、定期的に訓練データとテストデータを対象に、認識精度を記録する\n",
    "    \n",
    "    * ここでは、1エポックごとに、訓練データとテストデータの認識精度を記録する"
   ]
  },
  {
   "cell_type": "markdown",
   "metadata": {},
   "source": [
    "> `エポック`：単位を表す\n",
    ">\n",
    "> 「1エポック」とは、学習において訓練データを全て使い切った時の回数に対応する"
   ]
  },
  {
   "cell_type": "code",
   "execution_count": 18,
   "metadata": {},
   "outputs": [
    {
     "name": "stdout",
     "output_type": "stream",
     "text": [
      "train acc, test acc | 0.09893333333333333, 0.0959\n",
      "train acc, test acc | 0.7788666666666667, 0.7832\n",
      "train acc, test acc | 0.8773, 0.8795\n",
      "train acc, test acc | 0.8973833333333333, 0.9022\n",
      "train acc, test acc | 0.9073166666666667, 0.9109\n",
      "train acc, test acc | 0.9142666666666667, 0.916\n",
      "train acc, test acc | 0.91975, 0.921\n",
      "train acc, test acc | 0.9236666666666666, 0.9271\n",
      "train acc, test acc | 0.9275333333333333, 0.9279\n",
      "train acc, test acc | 0.93095, 0.9302\n",
      "train acc, test acc | 0.9343166666666667, 0.934\n",
      "train acc, test acc | 0.9364166666666667, 0.9357\n",
      "train acc, test acc | 0.9389, 0.9374\n",
      "train acc, test acc | 0.9404666666666667, 0.939\n",
      "train acc, test acc | 0.9428, 0.941\n",
      "train acc, test acc | 0.9445666666666667, 0.9433\n",
      "train acc, test acc | 0.9465666666666667, 0.9449\n"
     ]
    },
    {
     "data": {
      "text/plain": [
       "<matplotlib.legend.Legend at 0x1118c6a90>"
      ]
     },
     "execution_count": 18,
     "metadata": {},
     "output_type": "execute_result"
    },
    {
     "data": {
      "image/png": "[encoded data removed]",
      "text/plain": [
       "<Figure size 432x288 with 1 Axes>"
      ]
     },
     "metadata": {
      "needs_background": "light"
     },
     "output_type": "display_data"
    }
   ],
   "source": [
    "import sys, os\n",
    "sys.path.append(os.pardir)  # 親ディレクトリのファイルをインポートするための設定\n",
    "import numpy as np\n",
    "import matplotlib.pyplot as plt\n",
    "from dataset.mnist import load_mnist\n",
    "\n",
    "# データの読み込み\n",
    "(x_train, t_train), (x_test, t_test) = load_mnist(normalize=True, one_hot_label=True)\n",
    "\n",
    "network = TwoLayerNet(input_size=784, hidden_size=50, output_size=10)\n",
    "\n",
    "iters_num = 10000  # 繰り返しの回数を適宜設定する\n",
    "train_size = x_train.shape[0]\n",
    "batch_size = 100\n",
    "learning_rate = 0.1\n",
    "\n",
    "train_loss_list = []\n",
    "train_acc_list = []\n",
    "test_acc_list = []\n",
    "\n",
    "iter_per_epoch = max(train_size / batch_size, 1)\n",
    "\n",
    "for i in range(iters_num):\n",
    "    batch_mask = np.random.choice(train_size, batch_size)\n",
    "    x_batch = x_train[batch_mask]\n",
    "    t_batch = t_train[batch_mask]\n",
    "    \n",
    "    # 勾配の計算\n",
    "    #grad = network.numerical_gradient(x_batch, t_batch)\n",
    "    grad = network.gradient(x_batch, t_batch)\n",
    "    \n",
    "    # パラメータの更新\n",
    "    for key in ('W1', 'b1', 'W2', 'b2'):\n",
    "        network.params[key] -= learning_rate * grad[key]\n",
    "    \n",
    "    loss = network.loss(x_batch, t_batch)\n",
    "    train_loss_list.append(loss)\n",
    "    \n",
    "    if i % iter_per_epoch == 0:\n",
    "        train_acc = network.accuracy(x_train, t_train)\n",
    "        test_acc = network.accuracy(x_test, t_test)\n",
    "        train_acc_list.append(train_acc)\n",
    "        test_acc_list.append(test_acc)\n",
    "        print(\"train acc, test acc | \" + str(train_acc) + \", \" + str(test_acc))\n",
    "\n",
    "# グラフの描画\n",
    "markers = {'train': 'o', 'test': 's'}\n",
    "x = np.arange(len(train_acc_list))\n",
    "plt.plot(x, train_acc_list, label='train acc')\n",
    "plt.plot(x, test_acc_list, label='test acc', linestyle='--')\n",
    "plt.xlabel(\"epochs\")\n",
    "plt.ylabel(\"accuracy\")\n",
    "plt.ylim(0, 1.0)\n",
    "plt.legend(loc='lower right')"
   ]
  },
  {
   "cell_type": "markdown",
   "metadata": {},
   "source": [
    "* 上の例では1エポックごとに、全ての訓練データに対して認識精度を計算して、その結果を記録する"
   ]
  },
  {
   "cell_type": "markdown",
   "metadata": {},
   "source": [
    "* 上の図では、訓練データの認識精度を実線で表し、テストデータの認識精度を破線で表している\n",
    "\n",
    "    * エポックが進むにつれ、訓練データとテストデータを使って評価した認識精度は両方とも向上していることがわかる\n",
    "    \n",
    "    * また、その2つの認識精度には差がないことがわかる(過学習が起こっていない)"
   ]
  },
  {
   "cell_type": "markdown",
   "metadata": {},
   "source": [
    "| 版   | 年/月/日   |\n",
    "| ---- | ---------- |\n",
    "| 初版 | 2019/05/04 |"
   ]
  }
 ],
 "metadata": {
  "kernelspec": {
   "display_name": "Python 3",
   "language": "python",
   "name": "python3"
  },
  "language_info": {
   "codemirror_mode": {
    "name": "ipython",
    "version": 3
   },
   "file_extension": ".py",
   "mimetype": "text/x-python",
   "name": "python",
   "nbconvert_exporter": "python",
   "pygments_lexer": "ipython3",
   "version": "3.6.7"
  }
 },
 "nbformat": 4,
 "nbformat_minor": 2
}

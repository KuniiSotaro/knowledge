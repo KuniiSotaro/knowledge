{
 "cells": [
  {
   "cell_type": "markdown",
   "metadata": {},
   "source": [
    "01 パラメータの更新\n",
    "================\n",
    "\n",
    "* ニューラルネットワークの学習の目的は、損失関数の値を出来るだけ小さくするパラメータを見つけること\n",
    "\n",
    "    * これは最適なパラメータを見つける問題であり、そのような問題を解くことを`最適化`という\n",
    "    \n",
    "    * ニューラルネットワークでは、パラメータ空間は非常に複雑であるため、最適な解は簡単に見つけられない\n",
    "    \n",
    "    * さらにディープなネットワークでは、パラメータの数が膨大になり、事態はより深刻になっていく"
   ]
  },
  {
   "cell_type": "markdown",
   "metadata": {},
   "source": [
    "* これまでの章で、最適なパラメータを見つけるために、パラメータの勾配(微分)を手がかりにしてきた\n",
    "\n",
    "* パラメータの勾配を使って、勾配方向にパラメータを更新するというステップを何度も繰り返して、徐々に最適なパラメータへと近づけていった\n",
    "\n",
    "    * これは、`確率的勾配降下法`(SGD)といって、単純な方法だが、パラメータ空間を闇雲に探すよりも\"賢い\"方法であった\n",
    "    \n",
    "    * しかし、さらにスマートな手法もある"
   ]
  },
  {
   "cell_type": "markdown",
   "metadata": {},
   "source": [
    "## 1.冒険家の例を用いたSGD\n",
    "\n",
    "* 最適なパラメータを探索するとき、私たちの置かれている状況は、以下の通り\n",
    "\n",
    "> 広大で複雑な地形を、地図もなく、目隠しをして「深き場所」を探す\n",
    "\n",
    "* この困難な状況の中で重要になってくるのが、「地面の傾斜」\n",
    "\n",
    "    * 冒険家には、今いる場所の傾斜はわかる\n",
    "    \n",
    "    * そこで、今いる場所で一番傾斜がきつい方向に進むのが、`SGD`の戦略\n",
    "    \n",
    "    * これを繰り返せば、いつの日か「深き場所」にたどり着くことができるかもしれない"
   ]
  },
  {
   "cell_type": "markdown",
   "metadata": {},
   "source": [
    "## 2.SGD\n",
    "\n",
    "* `SGD`は、以下の式で表すことができる\n",
    "\n",
    "    * $\\vec{W}$更新する重みパラメータ\n",
    "    \n",
    "    * $ \\frac{\\partial L}{\\partial \\vec{W}}$：$\\vec{W}$に関する損失関数の勾配\n",
    "    \n",
    "    * $\\eta$：学習係数\n",
    "    \n",
    "    * $\\leftarrow$：右辺の値で左辺の値を更新する\n",
    "\n",
    "\\begin{eqnarray}\n",
    "\\vec{W} \\leftarrow \\vec{W}-\\eta \\frac{\\partial L}{\\partial \\vec{W}}\n",
    "\\end{eqnarray}"
   ]
  },
  {
   "cell_type": "markdown",
   "metadata": {},
   "source": [
    "* 上の式で表されるように、`SGD`は勾配方向へある一定の距離だけ進む\n",
    "\n",
    "* ここで、実装を行う"
   ]
  },
  {
   "cell_type": "code",
   "execution_count": 1,
   "metadata": {},
   "outputs": [],
   "source": [
    "class SGD:\n",
    "    def __init__(self, lr=0.01):\n",
    "        self.lr = lr\n",
    "        \n",
    "    def update(self, params, grads):\n",
    "        for key in params.keys():\n",
    "            params[key] -= self.lr * grads[key]"
   ]
  },
  {
   "cell_type": "markdown",
   "metadata": {},
   "source": [
    "* ここで、初期化の際の引数である`lr`はlearning rate(学習率)を表す\n",
    "\n",
    "    * この学習係数は、インスタンス変数として保持される\n",
    "    \n",
    "* また、`update(params, grads)`というメソッドを定義するが、SGDではこのメソッドが繰り返される\n",
    "\n",
    "    * 引数`params`、`grads`はディクショナリ変数(それぞれに重みパラメータと勾配が格納されている)"
   ]
  },
  {
   "cell_type": "markdown",
   "metadata": {},
   "source": [
    "* この`SGD`というクラスを用いれば、ニューラルネットワークのパラメータの更新は、次のように行うことができる\n",
    "\n",
    "> ただし、実際には動作しない擬似コード"
   ]
  },
  {
   "cell_type": "code",
   "execution_count": null,
   "metadata": {},
   "outputs": [],
   "source": [
    "network = TwoLayerNet(...)\n",
    "optimizer = SGD()\n",
    "\n",
    "for i in range(10000):\n",
    "    ...\n",
    "    x_batch, t_batch = get_mini_batch(...) # ミニバッチ\n",
    "    grads = network.gradient(x_batch, t_batch)\n",
    "    params = network.params\n",
    "    optimizer.update(params, grads)\n",
    "    ..."
   ]
  },
  {
   "cell_type": "markdown",
   "metadata": {},
   "source": [
    "* ここで登場する変数名の`optimizer`とは、「最適化を行う者」という意味の単語\n",
    "\n",
    "    * ここでは`SGD`が、その役割を担う\n",
    "    \n",
    "    * パラメータの更新は、`optimizer`が責任を持って遂行してくれる\n",
    "    \n",
    "    * 私たちがここでやることは、`optimizer`にパラメータと勾配の情報を渡すこと"
   ]
  },
  {
   "cell_type": "markdown",
   "metadata": {},
   "source": [
    "* このように、最適化を行うクラスを分離して実装することで、機能のモジュール化が容易になる\n",
    "\n",
    "> 多くのディープラーニングのフレームワークでは、様々な最適化手法が実装され、それらを簡単に切り替えることができるような仕組みが用意されている"
   ]
  },
  {
   "cell_type": "markdown",
   "metadata": {},
   "source": [
    "## 3.SGDの欠点\n",
    "\n",
    "* `SGD`は単純で実装も簡単だが、問題によっては非効率は場合がある\n",
    "\n",
    "    * 以下の式を用いて考える\n",
    "    \n",
    "\\begin{eqnarray}\n",
    "f(x,y)=\\frac{1}{20}x^2+y^2\n",
    "\\end{eqnarray}\n",
    "\n",
    "* 上の式は、以下の図で表される\n",
    "\n",
    "    * 右はグラフ：お椀を$x$軸方向に伸ばしたような形状\n",
    "    \n",
    "    * 左は等高線：$x$軸方向に伸びた楕円\n",
    "\n",
    "![式6_2のグラフ](./images/式6_2のグラフ.png)"
   ]
  },
  {
   "cell_type": "markdown",
   "metadata": {},
   "source": [
    "* 次に、上の式の勾配を表す\n",
    "\n",
    "    * この勾配は、$y$軸方向は大きく,$x$軸方向は小さくなる\n",
    "    \n",
    "    * 上の式での最小値の場所は$(x,y)=(0,0)$だが、以下の勾配では多くの場所で$(0,0)$の方向を指さない\n",
    "\n",
    "![式6_2勾配](./images/式6_2勾配.png)"
   ]
  },
  {
   "cell_type": "markdown",
   "metadata": {},
   "source": [
    "* グラフの形状の関数に関して、`SGD`を適用する\n",
    "\n",
    "    * 探索の開始場所(初期値)は、$(x,y)=(-7.0,2.0)$からスタートする\n",
    "    \n",
    "    * 結果は、以下の図のようになる\n",
    "    \n",
    "![SGDによる最適化の更新経路](./images/SGDによる最適化の更新経路.png)"
   ]
  },
  {
   "cell_type": "markdown",
   "metadata": {},
   "source": [
    "* `SGD`は、上の図のようにジグザグな動きをする\n",
    "\n",
    "    * これはかなり非効率な経路\n",
    "    \n",
    "    * つまり、`SGD`は関数の形状が東方的でないと、非効率な経路で探索することになる\n",
    "    \n",
    "    * この非効率な探索経路の根本的な原因は、勾配の方向が本来の最小値ではない方向を指していることに起因する"
   ]
  },
  {
   "cell_type": "markdown",
   "metadata": {},
   "source": [
    "* この`SGD`の欠点を改善するため、以下の3つの手法を紹介する\n",
    "\n",
    "    * `Momentum`\n",
    "    \n",
    "    * `AdaGrad`\n",
    "    \n",
    "    * `Adam`"
   ]
  },
  {
   "cell_type": "markdown",
   "metadata": {},
   "source": [
    "## 4.Momentum\n",
    "\n",
    "* `Momentum`：「運動量」という意味の言葉\n",
    "\n",
    "* 数式で表すと、以下の通りになる\n",
    "\n",
    "    * $\\vec{W}$:更新する重みパラメータ\n",
    "    \n",
    "    * $\\frac{\\partial L}{\\partial \\vec{W}}$：$\\vec{W}$に関する損失関数の勾配\n",
    "    \n",
    "    * $\\eta$：学習係数\n",
    "    \n",
    "    * $\\vec{v}$：物理で言うところの、「速度」\n",
    "    \n",
    "\\begin{eqnarray}\n",
    "\\vec{v} \\leftarrow \\alpha \\vec{v} \\leftarrow \\eta\\frac{\\partial L}{\\partial \\vec{W}} \\\\\n",
    "\\vec{W} \\leftarrow \\vec{W} + \\vec{v}\n",
    "\\end{eqnarray}"
   ]
  },
  {
   "cell_type": "markdown",
   "metadata": {},
   "source": [
    "* 上の式では、物体が勾配方向に力を受け、その力によって物体の速度が加算される\n",
    "\n",
    "* `Momentum`のイメージは、　ボールが地面を転がるような動き\n",
    "\n",
    "![Momentumのイメージ](./images/Momentumのイメージ.png)"
   ]
  },
  {
   "cell_type": "markdown",
   "metadata": {},
   "source": [
    "* また、$\\alpha \\vec{v}$という項は、物体が何も力を受けない時に徐々に減速するための役割を担う\n",
    "\n",
    "    * これは、地面の摩擦や空気抵抗に対応する\n",
    "    \n",
    "* 実装すると、以下の通りに表せる"
   ]
  },
  {
   "cell_type": "code",
   "execution_count": 2,
   "metadata": {},
   "outputs": [],
   "source": [
    "class Momentum:\n",
    "\n",
    "    \"\"\"Momentum SGD\"\"\"\n",
    "\n",
    "    def __init__(self, lr=0.01, momentum=0.9):\n",
    "        self.lr = lr\n",
    "        self.momentum = momentum\n",
    "        self.v = None\n",
    "        \n",
    "    def update(self, params, grads):\n",
    "        if self.v is None:\n",
    "            self.v = {}\n",
    "            for key, val in params.items():                                \n",
    "                self.v[key] = np.zeros_like(val)\n",
    "                \n",
    "        for key in params.keys():\n",
    "            self.v[key] = self.momentum*self.v[key] - self.lr*grads[key] \n",
    "            params[key] += self.v[key]\n"
   ]
  },
  {
   "cell_type": "markdown",
   "metadata": {},
   "source": [
    "* インスタンス変数の`v`は、物体の速度を保持する\n",
    "\n",
    "    * 初期化時には何も保持しないが、`update()`がはじめに呼ばれる時に、パラメータと同じ構造のデータをディクショナリ変数として保持する"
   ]
  },
  {
   "cell_type": "markdown",
   "metadata": {},
   "source": [
    "* `Momentum`を使って、最適化問題を解くと、以下のように表せる\n",
    "\n",
    "![Momentumによる最適化の更新経路](./images/Momentumによる最適化の更新経路.png)"
   ]
  },
  {
   "cell_type": "markdown",
   "metadata": {},
   "source": [
    "* 上の図より、更新経路は、ボールがお椀を転がるような動きをする\n",
    "\n",
    "* `SGD`に比べると、\"ジグザグ度合い\"が軽減されていることがわかる\n",
    "\n",
    "    * これは、$x$軸方向に受ける力はとても小さいが、常に同じ方向の力を受けるため、同じ方向へ一定して加速することになるため\n",
    "    \n",
    "    * 逆に、$y$ 軸方向には受ける力は大きいが、正と負の方向の力を交互に受けるため、それらが互いに打ち消しあい、$y$軸方向の速度は安定しない\n",
    "    \n",
    "    * それによって`SGD`の時と比べて$x$軸方向へ速く近くことができ、ジグザグの動きを軽減することができる"
   ]
  },
  {
   "cell_type": "markdown",
   "metadata": {},
   "source": [
    "## 5.AdaGrad\n",
    "\n",
    "* ニューラルネットワークの学習では、`学習係数`の値が重要になる\n",
    "\n",
    "    * 学習係数が小さすぎると学習に時間がかかりすぎるが、逆に大きすぎると発散して正しい学習が行えない"
   ]
  },
  {
   "cell_type": "markdown",
   "metadata": {},
   "source": [
    "* この学習係数に関する有効なテクニックとして、`学習係数の減衰`という方法がある\n",
    "\n",
    "    * これは、学習が進むに連れて学習係数を小さくする方法\n",
    "    \n",
    "    * 最初は\"大きく\"学習し、次第に\"小さく\"学習する方法で、ニューラルネットワークの学習では実際によく使われる"
   ]
  },
  {
   "cell_type": "markdown",
   "metadata": {},
   "source": [
    "* 学習係数を徐々に下げていくというアイデアは、パラメータ「全体」の学習係数の値を一括して下げることに相当する\n",
    "\n",
    "    * これをさらに発展させたのが、AdaGradで、「1つ1つ」のパラメータに対して、\"オーダーメイド\"の値でこしらえる"
   ]
  },
  {
   "cell_type": "markdown",
   "metadata": {},
   "source": [
    "* AdaGradは、パラメータの要素ごとに適応的に学習係数を調整しながら学習を行う手法\n",
    "\n",
    "* 更新方法は、以下の式で表される\n",
    "\n",
    "    * $\\vec{W}$：更新する重みパラメータ\n",
    "    \n",
    "    * $\\frac{\\partial L}{\\partial \\vec{W}} $：$W$ に関する損失関数の勾配\n",
    "    \n",
    "    * $\\eta$：学習係数\n",
    "    \n",
    "    * $\\vec{h}$：これまで経験した勾配の値を2乗和として保持する\n",
    "    \n",
    "        * パラメータ更新の際に、$\\frac{1}{\\sqrt{\\vec{h}}}$を乗算することで、学習のスケールを更新する\n",
    "        \n",
    "        * これは、パラメータの要素の中でよく動いた要素は、学習係数が小さくなることを意味する\n",
    "        \n",
    "        * つまり、よく動いたパラメータの学習係数は次第に小さくなるという学習係数の減衰を、パラメータの要素ごとに行うことができる\n",
    "    \n",
    "\\begin{eqnarray}\n",
    "\\vec{h} \\leftarrow \\vec{h}+ \\frac{\\partial L}{\\partial \\vec{W}} \\odot \\frac{\\partial L}{\\partial \\vec{W}} \\\\\n",
    "\\vec{W} \\leftarrow \\vec{W} - \\eta\\frac{1}{\\sqrt{\\vec{h}}} \\frac{\\partial L}{\\partial \\vec{W}}\n",
    "\\end{eqnarray}"
   ]
  },
  {
   "cell_type": "markdown",
   "metadata": {},
   "source": [
    "> AdaGradは、過去の勾配を2乗和として全て記録する\n",
    ">\n",
    "> そのため、学習を進めれば進めるほど、更新度合いは小さくなる"
   ]
  },
  {
   "cell_type": "markdown",
   "metadata": {},
   "source": [
    "* `AdaGrad`は、以下のように実装できる"
   ]
  },
  {
   "cell_type": "code",
   "execution_count": 3,
   "metadata": {},
   "outputs": [],
   "source": [
    "class AdaGrad:\n",
    "\n",
    "    \"\"\"AdaGrad\"\"\"\n",
    "\n",
    "    def __init__(self, lr=0.01):\n",
    "        self.lr = lr\n",
    "        self.h = None\n",
    "        \n",
    "    def update(self, params, grads):\n",
    "        if self.h is None:\n",
    "            self.h = {}\n",
    "            for key, val in params.items():\n",
    "                self.h[key] = np.zeros_like(val)\n",
    "            \n",
    "        for key in params.keys():\n",
    "            self.h[key] += grads[key] * grads[key]\n",
    "            params[key] -= self.lr * grads[key] / (np.sqrt(self.h[key]) + 1e-7)\n"
   ]
  },
  {
   "cell_type": "markdown",
   "metadata": {},
   "source": [
    "* 次に、`AdaGrad`を使って、最適化問題を解いてみる\n",
    "\n",
    "![AdaGradによる最適化の更新経路](./images/AdaGradによる最適化の更新経路.png)"
   ]
  },
  {
   "cell_type": "markdown",
   "metadata": {},
   "source": [
    "* 上の図の結果を見ると、最小値に向かって効率的に動いていることがわかる\n",
    "\n",
    "    * $y$軸方向へは勾配が大きいため、最初は大きく動くが、その大きな動きに比例して、更新ステップが小さくなるように調整がokonawareru\n",
    "    \n",
    "    * そのため、$y$軸方向への更新度合いは弱められていき、ジグザグの動きが軽減される"
   ]
  },
  {
   "cell_type": "markdown",
   "metadata": {},
   "source": [
    "## 6.Adam\n",
    "\n",
    "* `Adam`：`Momentum`と`AdaGrad`を融合した手法\n",
    "\n",
    "    * 先の2つの手法の利点を組み合わせることで、効率的にパラメータ空間を探索することが期待できる\n",
    "    \n",
    "    * また、ハイパーパラメータの「バイアス補正(偏りの補正)」が行われれる\n",
    "        "
   ]
  },
  {
   "cell_type": "markdown",
   "metadata": {},
   "source": [
    "* 実装は、以下の通りになる"
   ]
  },
  {
   "cell_type": "code",
   "execution_count": 4,
   "metadata": {},
   "outputs": [],
   "source": [
    "class Adam:\n",
    "\n",
    "    \"\"\"Adam (http://arxiv.org/abs/1412.6980v8)\"\"\"\n",
    "\n",
    "    def __init__(self, lr=0.001, beta1=0.9, beta2=0.999):\n",
    "        self.lr = lr\n",
    "        self.beta1 = beta1\n",
    "        self.beta2 = beta2\n",
    "        self.iter = 0\n",
    "        self.m = None\n",
    "        self.v = None\n",
    "        \n",
    "    def update(self, params, grads):\n",
    "        if self.m is None:\n",
    "            self.m, self.v = {}, {}\n",
    "            for key, val in params.items():\n",
    "                self.m[key] = np.zeros_like(val)\n",
    "                self.v[key] = np.zeros_like(val)\n",
    "        \n",
    "        self.iter += 1\n",
    "        lr_t  = self.lr * np.sqrt(1.0 - self.beta2**self.iter) / (1.0 - self.beta1**self.iter)         \n",
    "        \n",
    "        for key in params.keys():\n",
    "            #self.m[key] = self.beta1*self.m[key] + (1-self.beta1)*grads[key]\n",
    "            #self.v[key] = self.beta2*self.v[key] + (1-self.beta2)*(grads[key]**2)\n",
    "            self.m[key] += (1 - self.beta1) * (grads[key] - self.m[key])\n",
    "            self.v[key] += (1 - self.beta2) * (grads[key]**2 - self.v[key])\n",
    "            \n",
    "            params[key] -= lr_t * self.m[key] / (np.sqrt(self.v[key]) + 1e-7)\n",
    "            \n",
    "            #unbias_m += (1 - self.beta1) * (grads[key] - self.m[key]) # correct bias\n",
    "            #unbisa_b += (1 - self.beta2) * (grads[key]*grads[key] - self.v[key]) # correct bias\n",
    "            #params[key] += self.lr * unbias_m / (np.sqrt(unbisa_b) + 1e-7)"
   ]
  },
  {
   "cell_type": "markdown",
   "metadata": {},
   "source": [
    "* また、最適化問題を解くと以下の図で表される\n",
    "\n",
    "![Adamによる最適化の更新経路](./images/Adamによる最適化の更新経路.png)"
   ]
  },
  {
   "cell_type": "markdown",
   "metadata": {},
   "source": [
    "* 上の図で表すように、`Adam`による更新の過程は、お椀上をボールが転がるような動きをする\n",
    "\n",
    "* `Momentum`の時よりもボールの左右への揺れが軽減されている\n",
    "\n",
    "    * これは、学習の更新度合いが適応的に調整されることによってもたらされる恩恵"
   ]
  },
  {
   "cell_type": "markdown",
   "metadata": {},
   "source": [
    "## 7.どの更新手法を用いるか？\n",
    "\n",
    "* ここでは、4つの手法の結果を比較する"
   ]
  },
  {
   "cell_type": "code",
   "execution_count": 5,
   "metadata": {},
   "outputs": [
    {
     "data": {
      "image/png": "[encoded data removed]",
      "text/plain": [
       "<Figure size 432x288 with 4 Axes>"
      ]
     },
     "metadata": {
      "needs_background": "light"
     },
     "output_type": "display_data"
    }
   ],
   "source": [
    "%matplotlib inline\n",
    "import sys, os\n",
    "sys.path.append(os.pardir)  # 親ディレクトリのファイルをインポートするための設定\n",
    "import numpy as np\n",
    "import matplotlib.pyplot as plt\n",
    "from collections import OrderedDict\n",
    "from common.optimizer import *\n",
    "\n",
    "\n",
    "def f(x, y):\n",
    "    return x**2 / 20.0 + y**2\n",
    "\n",
    "\n",
    "def df(x, y):\n",
    "    return x / 10.0, 2.0*y\n",
    "\n",
    "init_pos = (-7.0, 2.0)\n",
    "params = {}\n",
    "params['x'], params['y'] = init_pos[0], init_pos[1]\n",
    "grads = {}\n",
    "grads['x'], grads['y'] = 0, 0\n",
    "\n",
    "\n",
    "optimizers = OrderedDict()\n",
    "optimizers[\"SGD\"] = SGD(lr=0.95)\n",
    "optimizers[\"Momentum\"] = Momentum(lr=0.1)\n",
    "optimizers[\"AdaGrad\"] = AdaGrad(lr=1.5)\n",
    "optimizers[\"Adam\"] = Adam(lr=0.3)\n",
    "\n",
    "idx = 1\n",
    "\n",
    "for key in optimizers:\n",
    "    optimizer = optimizers[key]\n",
    "    x_history = []\n",
    "    y_history = []\n",
    "    params['x'], params['y'] = init_pos[0], init_pos[1]\n",
    "    \n",
    "    for i in range(30):\n",
    "        x_history.append(params['x'])\n",
    "        y_history.append(params['y'])\n",
    "        \n",
    "        grads['x'], grads['y'] = df(params['x'], params['y'])\n",
    "        optimizer.update(params, grads)\n",
    "    \n",
    "\n",
    "    x = np.arange(-10, 10, 0.01)\n",
    "    y = np.arange(-5, 5, 0.01)\n",
    "    \n",
    "    X, Y = np.meshgrid(x, y) \n",
    "    Z = f(X, Y)\n",
    "    \n",
    "    # for simple contour line  \n",
    "    mask = Z > 7\n",
    "    Z[mask] = 0\n",
    "    \n",
    "    # plot \n",
    "    plt.subplot(2, 2, idx)\n",
    "    idx += 1\n",
    "    plt.plot(x_history, y_history, 'o-', color=\"red\")\n",
    "    plt.contour(X, Y, Z)\n",
    "    plt.ylim(-10, 10)\n",
    "    plt.xlim(-10, 10)\n",
    "    plt.plot(0, 0, '+')\n",
    "    #colorbar()\n",
    "    #spring()\n",
    "    plt.title(key)\n",
    "    plt.xlabel(\"x\")\n",
    "    plt.ylabel(\"y\")"
   ]
  },
  {
   "cell_type": "markdown",
   "metadata": {},
   "source": [
    "* 上の図に示すように、用いる手法によって異なる経路で更新されていることがわかる\n",
    "\n",
    "    * この図を見ると、`AdaGrad`が一番良さそうだが、解くべき問題によって異なるので、注意が必要\n",
    "    \n",
    "    * また、ハイパーパラメータ(学習係数など)の設定値によっても結果が変わる"
   ]
  },
  {
   "cell_type": "markdown",
   "metadata": {},
   "source": [
    "* 全ての問題で優れた手法というのはないが、多くの研究では`SGD`が今でも使われている\n",
    "\n",
    "    * 最近では、`Adam`を使うことも多い"
   ]
  },
  {
   "cell_type": "markdown",
   "metadata": {},
   "source": [
    "## 8.MNISTデータセットによる更新手法の比較\n",
    "\n",
    "* 手書き数字認識を用いて、それぞれの手法によってどれだけ異なるかを確認する"
   ]
  },
  {
   "cell_type": "code",
   "execution_count": 6,
   "metadata": {},
   "outputs": [
    {
     "name": "stdout",
     "output_type": "stream",
     "text": [
      "===========iteration:0===========\n",
      "SGD:2.4128291301368883\n",
      "Momentum:2.319507724044283\n",
      "AdaGrad:2.28967514391057\n",
      "Adam:2.210533597742264\n",
      "===========iteration:100===========\n",
      "SGD:1.564119439070473\n",
      "Momentum:0.4158602297102485\n",
      "AdaGrad:0.2417468216648475\n",
      "Adam:0.4044233703226965\n",
      "===========iteration:200===========\n",
      "SGD:0.7745091033972237\n",
      "Momentum:0.27825875186074533\n",
      "AdaGrad:0.13046185972339208\n",
      "Adam:0.1964461176586565\n",
      "===========iteration:300===========\n",
      "SGD:0.4906923228504162\n",
      "Momentum:0.10350987175058196\n",
      "AdaGrad:0.07866108016197108\n",
      "Adam:0.10008655189705054\n",
      "===========iteration:400===========\n",
      "SGD:0.3161969176115449\n",
      "Momentum:0.1597529562500994\n",
      "AdaGrad:0.1250255158634666\n",
      "Adam:0.12217805048647762\n",
      "===========iteration:500===========\n",
      "SGD:0.31895691462476405\n",
      "Momentum:0.10547904977919724\n",
      "AdaGrad:0.03461682186162293\n",
      "Adam:0.07454576015914076\n",
      "===========iteration:600===========\n",
      "SGD:0.43851125300404287\n",
      "Momentum:0.1718792758145496\n",
      "AdaGrad:0.10116815904097212\n",
      "Adam:0.16051036753335027\n",
      "===========iteration:700===========\n",
      "SGD:0.29433300281222907\n",
      "Momentum:0.10749204631399965\n",
      "AdaGrad:0.06521114590993615\n",
      "Adam:0.0726325945322487\n",
      "===========iteration:800===========\n",
      "SGD:0.21527233347152291\n",
      "Momentum:0.09522612501051642\n",
      "AdaGrad:0.03719992842827394\n",
      "Adam:0.04411679256349098\n",
      "===========iteration:900===========\n",
      "SGD:0.37640613330471995\n",
      "Momentum:0.1796277024842568\n",
      "AdaGrad:0.11600667527991582\n",
      "Adam:0.12052016627898147\n",
      "===========iteration:1000===========\n",
      "SGD:0.2075805297102401\n",
      "Momentum:0.04285480845488166\n",
      "AdaGrad:0.03586185837904212\n",
      "Adam:0.04352766305633403\n",
      "===========iteration:1100===========\n",
      "SGD:0.255008960410209\n",
      "Momentum:0.06990061648081963\n",
      "AdaGrad:0.04618560993506671\n",
      "Adam:0.0545259117429545\n",
      "===========iteration:1200===========\n",
      "SGD:0.25380955011467354\n",
      "Momentum:0.09745216051783069\n",
      "AdaGrad:0.06783941772475091\n",
      "Adam:0.03282456678846084\n",
      "===========iteration:1300===========\n",
      "SGD:0.2762096309261818\n",
      "Momentum:0.0894999730322509\n",
      "AdaGrad:0.04673604015148088\n",
      "Adam:0.051596603864489055\n",
      "===========iteration:1400===========\n",
      "SGD:0.2873060807833003\n",
      "Momentum:0.15894694098560055\n",
      "AdaGrad:0.13708649389758804\n",
      "Adam:0.1031721973298386\n",
      "===========iteration:1500===========\n",
      "SGD:0.20286802631026074\n",
      "Momentum:0.05003953796531638\n",
      "AdaGrad:0.017696182807112226\n",
      "Adam:0.02384204702947673\n",
      "===========iteration:1600===========\n",
      "SGD:0.22707371579096772\n",
      "Momentum:0.0772720754516366\n",
      "AdaGrad:0.055210080364244574\n",
      "Adam:0.05677457485469623\n",
      "===========iteration:1700===========\n",
      "SGD:0.15730133186648096\n",
      "Momentum:0.04485980965945545\n",
      "AdaGrad:0.01231446511663786\n",
      "Adam:0.018118748655145824\n",
      "===========iteration:1800===========\n",
      "SGD:0.1455353043051108\n",
      "Momentum:0.023291792154316742\n",
      "AdaGrad:0.010037057975732042\n",
      "Adam:0.006709549322783764\n",
      "===========iteration:1900===========\n",
      "SGD:0.09574211264674877\n",
      "Momentum:0.05991894148313579\n",
      "AdaGrad:0.02040023307226767\n",
      "Adam:0.033385136082784844\n"
     ]
    },
    {
     "data": {
      "text/plain": [
       "<matplotlib.legend.Legend at 0x11f7f3b00>"
      ]
     },
     "execution_count": 6,
     "metadata": {},
     "output_type": "execute_result"
    },
    {
     "data": {
      "image/png": "[encoded data removed]",
      "text/plain": [
       "<Figure size 432x288 with 1 Axes>"
      ]
     },
     "metadata": {
      "needs_background": "light"
     },
     "output_type": "display_data"
    }
   ],
   "source": [
    "import os\n",
    "import sys\n",
    "sys.path.append(os.pardir)  # 親ディレクトリのファイルをインポートするための設定\n",
    "import matplotlib.pyplot as plt\n",
    "from dataset.mnist import load_mnist\n",
    "from common.util import smooth_curve\n",
    "from common.multi_layer_net import MultiLayerNet\n",
    "from common.optimizer import *\n",
    "\n",
    "\n",
    "# 0:MNISTデータの読み込み==========\n",
    "(x_train, t_train), (x_test, t_test) = load_mnist(normalize=True)\n",
    "\n",
    "train_size = x_train.shape[0]\n",
    "batch_size = 128\n",
    "max_iterations = 2000\n",
    "\n",
    "\n",
    "# 1:実験の設定==========\n",
    "optimizers = {}\n",
    "optimizers['SGD'] = SGD()\n",
    "optimizers['Momentum'] = Momentum()\n",
    "optimizers['AdaGrad'] = AdaGrad()\n",
    "optimizers['Adam'] = Adam()\n",
    "#optimizers['RMSprop'] = RMSprop()\n",
    "\n",
    "networks = {}\n",
    "train_loss = {}\n",
    "for key in optimizers.keys():\n",
    "    networks[key] = MultiLayerNet(\n",
    "        input_size=784, hidden_size_list=[100, 100, 100, 100],\n",
    "        output_size=10)\n",
    "    train_loss[key] = []    \n",
    "\n",
    "\n",
    "# 2:訓練の開始==========\n",
    "for i in range(max_iterations):\n",
    "    batch_mask = np.random.choice(train_size, batch_size)\n",
    "    x_batch = x_train[batch_mask]\n",
    "    t_batch = t_train[batch_mask]\n",
    "    \n",
    "    for key in optimizers.keys():\n",
    "        grads = networks[key].gradient(x_batch, t_batch)\n",
    "        optimizers[key].update(networks[key].params, grads)\n",
    "    \n",
    "        loss = networks[key].loss(x_batch, t_batch)\n",
    "        train_loss[key].append(loss)\n",
    "    \n",
    "    if i % 100 == 0:\n",
    "        print( \"===========\" + \"iteration:\" + str(i) + \"===========\")\n",
    "        for key in optimizers.keys():\n",
    "            loss = networks[key].loss(x_batch, t_batch)\n",
    "            print(key + \":\" + str(loss))\n",
    "\n",
    "\n",
    "# 3.グラフの描画==========\n",
    "markers = {\"SGD\": \"o\", \"Momentum\": \"x\", \"AdaGrad\": \"s\", \"Adam\": \"D\"}\n",
    "x = np.arange(max_iterations)\n",
    "for key in optimizers.keys():\n",
    "    plt.plot(x, smooth_curve(train_loss[key]), marker=markers[key], markevery=100, label=key)\n",
    "plt.xlabel(\"iterations\")\n",
    "plt.ylabel(\"loss\")\n",
    "plt.ylim(0, 1)\n",
    "plt.legend()"
   ]
  },
  {
   "cell_type": "markdown",
   "metadata": {},
   "source": [
    "* 上の図より、`SGD`よりも他の手法が速く学習できていることがわかった\n",
    "\n",
    "* また、`AdaGrad`の学習が少しだけ速く行われている\n",
    "\n",
    "* この実験の注意点としては、学習係数のハイパーパラメータや、ニューラルネットワークの構造によって結果は変化する\n",
    "\n",
    "    * ただし、一般に`SGD`よりも他の3つの手法の方が速く学習でき、時には最終的な認識性能も高くなる"
   ]
  },
  {
   "cell_type": "markdown",
   "metadata": {},
   "source": [
    "| 版   | 年/月/日   |\n",
    "| ---- | ---------- |\n",
    "| 初版 | 2019/05/12 |"
   ]
  }
 ],
 "metadata": {
  "kernelspec": {
   "display_name": "Python 3",
   "language": "python",
   "name": "python3"
  },
  "language_info": {
   "codemirror_mode": {
    "name": "ipython",
    "version": 3
   },
   "file_extension": ".py",
   "mimetype": "text/x-python",
   "name": "python",
   "nbconvert_exporter": "python",
   "pygments_lexer": "ipython3",
   "version": "3.6.7"
  }
 },
 "nbformat": 4,
 "nbformat_minor": 2
}

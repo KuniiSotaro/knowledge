{
 "cells": [
  {
   "cell_type": "markdown",
   "metadata": {},
   "source": [
    "03 Batch Normalization\n",
    "===================\n",
    "\n",
    "* 前の節では、各層のアクティベーションの分布を観察した\n",
    "\n",
    "    * 重みの初期値を適切に選択すれば、各層のアクティベーションの分布は適切な広がりをもち、学習がスムーズに行えた\n",
    "    \n",
    "* ここでは、各層で適切な広がりを持つように\"強制的\"にアクティベーションの分布を調整してみる\n",
    "\n",
    "    * このようなアイデアが、`Batch Normalization`である"
   ]
  },
  {
   "cell_type": "markdown",
   "metadata": {},
   "source": [
    "## 1.Batch Normalizationのアルゴリズム\n",
    "\n",
    "* `Batch Norm`：以下の利点より、優れた結果を出している\n",
    "\n",
    "> * 学習を速く進行させることができる(学習係数を大きくすることができる)\n",
    ">\n",
    "> * 初期値にそれほど依存しない(初期値に対してそこまで神経質にならなくても良い)\n",
    "> \n",
    "> * 過学習を抑制する(Dropoutなどの必要性を減らす)"
   ]
  },
  {
   "cell_type": "markdown",
   "metadata": {},
   "source": [
    "* 1つ目の利点は、ディープラーニングの学習に多くの時間がかかることを考えると、とても喜ばしいこと\n",
    "\n",
    "    * また、初期値に対してそこまで気を使う必要がなく、過学習の抑制効果もある\n",
    "    \n"
   ]
  },
  {
   "cell_type": "markdown",
   "metadata": {},
   "source": [
    "* Batch Normのアイデアは、各層でのアクティベーションの分布を、適度な広がりを持つように調整すること\n",
    "\n",
    "    * そのために、以下の図に示すように、Batch Normレイヤとして、データ分布の正規化を行うレイヤをニューラルネットワークに挿入する\n",
    "    \n",
    "![Batch_Normalizationを使用したNNの例](./images/Batch_Normalizationを使用したNNの例.png)"
   ]
  },
  {
   "cell_type": "markdown",
   "metadata": {},
   "source": [
    "* Batch Normは、その名前が示す通り、学習を行う際のミニバッチを単位として、ミニバッチごとに正規化を行う\n",
    "\n",
    "    * 具体的には、データの分布が平均が0で分散が1になるように正規化を行う\n",
    "    \n",
    "    * 数式で表すと、以下の通りに表せる\n",
    "    \n",
    "\\begin{align}\n",
    "\\mu_B \\leftarrow \\frac{1}{m} \\sum_{i=1}^m x_i \\\\\n",
    "\\sigma_B^2 \\leftarrow \\frac{1}{m} \\sum_{i=1}^m (x_i - \\mu_B)^2 \\\\\n",
    "\\hat{x_i} \\leftarrow \\frac{x_i -\\mu_B}{\\sqrt{\\sigma_B^2 + \\epsilon}}\n",
    "\\end{align}"
   ]
  },
  {
   "cell_type": "markdown",
   "metadata": {},
   "source": [
    "* ここでは、ミニバッチとして$B=\\{x_1, x_2, \\cdots, x_m\\}$という$m$個の入力データの集合に対して、以下のように定義する\n",
    "\n",
    "    * 平均：$\\mu_B$\n",
    "    \n",
    "    * 分散：$\\sigma_B^2$\n",
    "    \n",
    "* そして、入力データを平均が0で分散が1になるように正規化する"
   ]
  },
  {
   "cell_type": "markdown",
   "metadata": {},
   "source": [
    "* 上の式で行なっていることは、ミニバッチの入力データ$\\{ x_1, x_2, \\cdots, x_m\\}$を\n",
    "\n",
    "    * 平均0、分散1のデータ$\\{ \\hat{x_1}, \\hat{x_2}, \\cdots, \\hat{x_m}\\}$に変換すること\n",
    "    \n",
    "    * この処理を、活性化関数の前(もしくは後)に挿入することで、データ分布の偏りを減らすことができる"
   ]
  },
  {
   "cell_type": "markdown",
   "metadata": {},
   "source": [
    "* さらに、Batch Normレイヤは、この正規化されたデータに対して、固有のスケールとシフトで変換を行う\n",
    "\n",
    "    * 数式では、以下のように表される\n",
    "    \n",
    "    * ここで$\\gamma$と$\\beta$はパラメータであり、最初は$\\gamma = 1$、$\\beta = 0$からスタートして、学習によって適した値に調整される\n",
    "    \n",
    "\\begin{eqnarray}\n",
    "y_i \\leftarrow \\gamma \\hat{x_i} + \\beta\n",
    "\\end{eqnarray}"
   ]
  },
  {
   "cell_type": "markdown",
   "metadata": {},
   "source": [
    "* 以上がBatch Normのアルゴリズムとなる\n",
    "\n",
    "    * このアルゴリズムが、ニューラルネットワーク上での順伝播となる"
   ]
  },
  {
   "cell_type": "markdown",
   "metadata": {},
   "source": [
    "* Batch Normの計算グラフは、以下のものとなる\n",
    "\n",
    "![Batch_Normalizationの計算グラフ](./images/Batch_Normalizationの計算グラフ.png)"
   ]
  },
  {
   "cell_type": "markdown",
   "metadata": {},
   "source": [
    "## 2.Batch Normalizationの評価\n",
    "\n",
    "* 実際にBatch Normレイヤを使って、実験を行う\n",
    "\n",
    "* MNISTデータセットを使って、Batch Normレイヤを用いる時と用いない時で、学習の進みがどう変わるかを見てみる"
   ]
  },
  {
   "cell_type": "code",
   "execution_count": 1,
   "metadata": {},
   "outputs": [
    {
     "name": "stdout",
     "output_type": "stream",
     "text": [
      "============== 1/16 ==============\n",
      "epoch:0 | 0.094 - 0.1\n",
      "epoch:1 | 0.105 - 0.089\n",
      "epoch:2 | 0.105 - 0.09\n",
      "epoch:3 | 0.105 - 0.12\n",
      "epoch:4 | 0.105 - 0.145\n",
      "epoch:5 | 0.105 - 0.167\n",
      "epoch:6 | 0.105 - 0.204\n",
      "epoch:7 | 0.105 - 0.22\n",
      "epoch:8 | 0.105 - 0.228\n",
      "epoch:9 | 0.105 - 0.239\n",
      "epoch:10 | 0.105 - 0.264\n",
      "epoch:11 | 0.105 - 0.299\n",
      "epoch:12 | 0.105 - 0.306\n",
      "epoch:13 | 0.105 - 0.332\n",
      "epoch:14 | 0.105 - 0.35\n",
      "epoch:15 | 0.117 - 0.368\n",
      "epoch:16 | 0.117 - 0.387\n",
      "epoch:17 | 0.117 - 0.399\n",
      "epoch:18 | 0.117 - 0.411\n"
     ]
    },
    {
     "name": "stderr",
     "output_type": "stream",
     "text": [
      "No handles with labels found to put in legend.\n"
     ]
    },
    {
     "name": "stdout",
     "output_type": "stream",
     "text": [
      "epoch:19 | 0.117 - 0.423\n",
      "============== 2/16 ==============\n",
      "epoch:0 | 0.087 - 0.144\n"
     ]
    },
    {
     "name": "stderr",
     "output_type": "stream",
     "text": [
      "../common/layers.py:12: RuntimeWarning: invalid value encountered in less_equal\n",
      "  self.mask = (x <= 0)\n",
      "../common/multi_layer_net_extend.py:101: RuntimeWarning: overflow encountered in square\n",
      "  weight_decay += 0.5 * self.weight_decay_lambda * np.sum(W**2)\n",
      "/Users/MacUser/anaconda2/envs/tf140/lib/python3.6/site-packages/numpy/core/fromnumeric.py:83: RuntimeWarning: overflow encountered in reduce\n",
      "  return ufunc.reduce(obj, axis, dtype, out, **passkwargs)\n",
      "../common/multi_layer_net_extend.py:101: RuntimeWarning: invalid value encountered in double_scalars\n",
      "  weight_decay += 0.5 * self.weight_decay_lambda * np.sum(W**2)\n",
      "/Users/MacUser/anaconda2/envs/tf140/lib/python3.6/site-packages/numpy/core/fromnumeric.py:83: RuntimeWarning: invalid value encountered in reduce\n",
      "  return ufunc.reduce(obj, axis, dtype, out, **passkwargs)\n"
     ]
    },
    {
     "name": "stdout",
     "output_type": "stream",
     "text": [
      "epoch:1 | 0.097 - 0.145\n",
      "epoch:2 | 0.097 - 0.188\n",
      "epoch:3 | 0.097 - 0.2\n",
      "epoch:4 | 0.097 - 0.212\n",
      "epoch:5 | 0.097 - 0.228\n",
      "epoch:6 | 0.097 - 0.261\n",
      "epoch:7 | 0.097 - 0.273\n",
      "epoch:8 | 0.097 - 0.285\n",
      "epoch:9 | 0.097 - 0.316\n",
      "epoch:10 | 0.097 - 0.323\n",
      "epoch:11 | 0.097 - 0.335\n",
      "epoch:12 | 0.097 - 0.361\n",
      "epoch:13 | 0.097 - 0.375\n",
      "epoch:14 | 0.097 - 0.39\n",
      "epoch:15 | 0.097 - 0.41\n",
      "epoch:16 | 0.097 - 0.429\n",
      "epoch:17 | 0.097 - 0.441\n",
      "epoch:18 | 0.097 - 0.455\n"
     ]
    },
    {
     "name": "stderr",
     "output_type": "stream",
     "text": [
      "No handles with labels found to put in legend.\n"
     ]
    },
    {
     "name": "stdout",
     "output_type": "stream",
     "text": [
      "epoch:19 | 0.097 - 0.473\n",
      "============== 3/16 ==============\n",
      "epoch:0 | 0.115 - 0.058\n",
      "epoch:1 | 0.411 - 0.108\n",
      "epoch:2 | 0.564 - 0.129\n",
      "epoch:3 | 0.668 - 0.166\n",
      "epoch:4 | 0.737 - 0.208\n",
      "epoch:5 | 0.782 - 0.237\n",
      "epoch:6 | 0.836 - 0.28\n",
      "epoch:7 | 0.857 - 0.32\n",
      "epoch:8 | 0.883 - 0.363\n",
      "epoch:9 | 0.915 - 0.407\n",
      "epoch:10 | 0.931 - 0.442\n",
      "epoch:11 | 0.951 - 0.463\n",
      "epoch:12 | 0.959 - 0.481\n",
      "epoch:13 | 0.968 - 0.506\n",
      "epoch:14 | 0.977 - 0.525\n",
      "epoch:15 | 0.986 - 0.54\n",
      "epoch:16 | 0.989 - 0.563\n",
      "epoch:17 | 0.989 - 0.58\n",
      "epoch:18 | 0.991 - 0.6\n"
     ]
    },
    {
     "name": "stderr",
     "output_type": "stream",
     "text": [
      "No handles with labels found to put in legend.\n"
     ]
    },
    {
     "name": "stdout",
     "output_type": "stream",
     "text": [
      "epoch:19 | 0.997 - 0.611\n",
      "============== 4/16 ==============\n",
      "epoch:0 | 0.083 - 0.132\n",
      "epoch:1 | 0.2 - 0.124\n",
      "epoch:2 | 0.35 - 0.192\n",
      "epoch:3 | 0.459 - 0.268\n",
      "epoch:4 | 0.539 - 0.347\n",
      "epoch:5 | 0.591 - 0.418\n",
      "epoch:6 | 0.639 - 0.467\n",
      "epoch:7 | 0.684 - 0.51\n",
      "epoch:8 | 0.682 - 0.569\n",
      "epoch:9 | 0.723 - 0.614\n",
      "epoch:10 | 0.754 - 0.658\n",
      "epoch:11 | 0.77 - 0.682\n",
      "epoch:12 | 0.772 - 0.703\n",
      "epoch:13 | 0.779 - 0.73\n",
      "epoch:14 | 0.81 - 0.746\n",
      "epoch:15 | 0.825 - 0.755\n",
      "epoch:16 | 0.824 - 0.769\n",
      "epoch:17 | 0.843 - 0.782\n",
      "epoch:18 | 0.852 - 0.792\n"
     ]
    },
    {
     "name": "stderr",
     "output_type": "stream",
     "text": [
      "No handles with labels found to put in legend.\n"
     ]
    },
    {
     "name": "stdout",
     "output_type": "stream",
     "text": [
      "epoch:19 | 0.861 - 0.804\n",
      "============== 5/16 ==============\n",
      "epoch:0 | 0.096 - 0.091\n",
      "epoch:1 | 0.105 - 0.168\n",
      "epoch:2 | 0.112 - 0.301\n",
      "epoch:3 | 0.122 - 0.408\n",
      "epoch:4 | 0.133 - 0.492\n",
      "epoch:5 | 0.138 - 0.577\n",
      "epoch:6 | 0.145 - 0.629\n",
      "epoch:7 | 0.147 - 0.675\n",
      "epoch:8 | 0.163 - 0.699\n",
      "epoch:9 | 0.169 - 0.733\n",
      "epoch:10 | 0.168 - 0.751\n",
      "epoch:11 | 0.178 - 0.773\n",
      "epoch:12 | 0.205 - 0.801\n",
      "epoch:13 | 0.243 - 0.817\n",
      "epoch:14 | 0.262 - 0.827\n",
      "epoch:15 | 0.275 - 0.854\n",
      "epoch:16 | 0.295 - 0.862\n",
      "epoch:17 | 0.314 - 0.869\n",
      "epoch:18 | 0.339 - 0.878\n"
     ]
    },
    {
     "name": "stderr",
     "output_type": "stream",
     "text": [
      "No handles with labels found to put in legend.\n"
     ]
    },
    {
     "name": "stdout",
     "output_type": "stream",
     "text": [
      "epoch:19 | 0.361 - 0.884\n",
      "============== 6/16 ==============\n",
      "epoch:0 | 0.083 - 0.1\n",
      "epoch:1 | 0.096 - 0.203\n",
      "epoch:2 | 0.1 - 0.401\n",
      "epoch:3 | 0.127 - 0.561\n",
      "epoch:4 | 0.117 - 0.659\n",
      "epoch:5 | 0.16 - 0.7\n",
      "epoch:6 | 0.136 - 0.747\n",
      "epoch:7 | 0.161 - 0.785\n",
      "epoch:8 | 0.117 - 0.81\n",
      "epoch:9 | 0.117 - 0.822\n",
      "epoch:10 | 0.119 - 0.841\n",
      "epoch:11 | 0.117 - 0.866\n",
      "epoch:12 | 0.117 - 0.873\n",
      "epoch:13 | 0.117 - 0.89\n",
      "epoch:14 | 0.117 - 0.896\n",
      "epoch:15 | 0.117 - 0.914\n",
      "epoch:16 | 0.117 - 0.918\n",
      "epoch:17 | 0.117 - 0.929\n",
      "epoch:18 | 0.117 - 0.937\n"
     ]
    },
    {
     "name": "stderr",
     "output_type": "stream",
     "text": [
      "No handles with labels found to put in legend.\n"
     ]
    },
    {
     "name": "stdout",
     "output_type": "stream",
     "text": [
      "epoch:19 | 0.117 - 0.949\n",
      "============== 7/16 ==============\n",
      "epoch:0 | 0.117 - 0.093\n",
      "epoch:1 | 0.156 - 0.366\n",
      "epoch:2 | 0.116 - 0.575\n",
      "epoch:3 | 0.116 - 0.671\n",
      "epoch:4 | 0.116 - 0.719\n",
      "epoch:5 | 0.117 - 0.754\n",
      "epoch:6 | 0.116 - 0.776\n",
      "epoch:7 | 0.116 - 0.811\n",
      "epoch:8 | 0.116 - 0.843\n",
      "epoch:9 | 0.116 - 0.885\n",
      "epoch:10 | 0.116 - 0.913\n",
      "epoch:11 | 0.178 - 0.93\n",
      "epoch:12 | 0.116 - 0.945\n",
      "epoch:13 | 0.116 - 0.959\n",
      "epoch:14 | 0.116 - 0.968\n",
      "epoch:15 | 0.116 - 0.975\n",
      "epoch:16 | 0.116 - 0.978\n",
      "epoch:17 | 0.116 - 0.979\n",
      "epoch:18 | 0.116 - 0.983\n"
     ]
    },
    {
     "name": "stderr",
     "output_type": "stream",
     "text": [
      "No handles with labels found to put in legend.\n"
     ]
    },
    {
     "name": "stdout",
     "output_type": "stream",
     "text": [
      "epoch:19 | 0.116 - 0.99\n",
      "============== 8/16 ==============\n",
      "epoch:0 | 0.105 - 0.099\n",
      "epoch:1 | 0.116 - 0.45\n",
      "epoch:2 | 0.116 - 0.66\n",
      "epoch:3 | 0.117 - 0.714\n",
      "epoch:4 | 0.117 - 0.763\n",
      "epoch:5 | 0.117 - 0.801\n",
      "epoch:6 | 0.117 - 0.878\n",
      "epoch:7 | 0.116 - 0.907\n",
      "epoch:8 | 0.117 - 0.942\n",
      "epoch:9 | 0.117 - 0.954\n",
      "epoch:10 | 0.117 - 0.964\n",
      "epoch:11 | 0.117 - 0.974\n",
      "epoch:12 | 0.116 - 0.983\n",
      "epoch:13 | 0.116 - 0.987\n",
      "epoch:14 | 0.116 - 0.992\n",
      "epoch:15 | 0.116 - 0.995\n",
      "epoch:16 | 0.116 - 0.998\n",
      "epoch:17 | 0.116 - 0.999\n",
      "epoch:18 | 0.116 - 1.0\n"
     ]
    },
    {
     "name": "stderr",
     "output_type": "stream",
     "text": [
      "No handles with labels found to put in legend.\n"
     ]
    },
    {
     "name": "stdout",
     "output_type": "stream",
     "text": [
      "epoch:19 | 0.116 - 1.0\n",
      "============== 9/16 ==============\n",
      "epoch:0 | 0.105 - 0.131\n",
      "epoch:1 | 0.116 - 0.516\n",
      "epoch:2 | 0.105 - 0.748\n",
      "epoch:3 | 0.105 - 0.825\n",
      "epoch:4 | 0.105 - 0.85\n",
      "epoch:5 | 0.117 - 0.872\n",
      "epoch:6 | 0.105 - 0.892\n",
      "epoch:7 | 0.105 - 0.952\n",
      "epoch:8 | 0.105 - 0.976\n",
      "epoch:9 | 0.117 - 0.99\n",
      "epoch:10 | 0.117 - 0.991\n",
      "epoch:11 | 0.117 - 0.996\n",
      "epoch:12 | 0.117 - 0.995\n",
      "epoch:13 | 0.117 - 0.999\n",
      "epoch:14 | 0.117 - 0.999\n",
      "epoch:15 | 0.117 - 0.999\n",
      "epoch:16 | 0.117 - 0.999\n",
      "epoch:17 | 0.117 - 0.999\n",
      "epoch:18 | 0.117 - 0.999\n"
     ]
    },
    {
     "name": "stderr",
     "output_type": "stream",
     "text": [
      "No handles with labels found to put in legend.\n"
     ]
    },
    {
     "name": "stdout",
     "output_type": "stream",
     "text": [
      "epoch:19 | 0.117 - 0.999\n",
      "============== 10/16 ==============\n",
      "epoch:0 | 0.116 - 0.115\n",
      "epoch:1 | 0.116 - 0.616\n",
      "epoch:2 | 0.116 - 0.778\n",
      "epoch:3 | 0.116 - 0.855\n",
      "epoch:4 | 0.116 - 0.899\n",
      "epoch:5 | 0.116 - 0.911\n",
      "epoch:6 | 0.116 - 0.947\n",
      "epoch:7 | 0.117 - 0.972\n",
      "epoch:8 | 0.117 - 0.989\n",
      "epoch:9 | 0.117 - 0.992\n",
      "epoch:10 | 0.117 - 0.994\n",
      "epoch:11 | 0.117 - 0.995\n",
      "epoch:12 | 0.117 - 0.973\n",
      "epoch:13 | 0.117 - 0.997\n",
      "epoch:14 | 0.116 - 0.998\n",
      "epoch:15 | 0.116 - 0.997\n",
      "epoch:16 | 0.116 - 0.998\n",
      "epoch:17 | 0.116 - 0.999\n",
      "epoch:18 | 0.116 - 0.995\n"
     ]
    },
    {
     "name": "stderr",
     "output_type": "stream",
     "text": [
      "No handles with labels found to put in legend.\n"
     ]
    },
    {
     "name": "stdout",
     "output_type": "stream",
     "text": [
      "epoch:19 | 0.117 - 0.955\n",
      "============== 11/16 ==============\n",
      "epoch:0 | 0.1 - 0.104\n",
      "epoch:1 | 0.117 - 0.487\n",
      "epoch:2 | 0.117 - 0.641\n",
      "epoch:3 | 0.117 - 0.746\n",
      "epoch:4 | 0.117 - 0.765\n",
      "epoch:5 | 0.117 - 0.771\n",
      "epoch:6 | 0.117 - 0.78\n",
      "epoch:7 | 0.117 - 0.811\n",
      "epoch:8 | 0.117 - 0.801\n",
      "epoch:9 | 0.117 - 0.817\n",
      "epoch:10 | 0.117 - 0.843\n",
      "epoch:11 | 0.117 - 0.882\n",
      "epoch:12 | 0.117 - 0.876\n",
      "epoch:13 | 0.117 - 0.866\n",
      "epoch:14 | 0.117 - 0.878\n",
      "epoch:15 | 0.117 - 0.969\n",
      "epoch:16 | 0.117 - 0.988\n",
      "epoch:17 | 0.117 - 0.987\n",
      "epoch:18 | 0.117 - 0.986\n"
     ]
    },
    {
     "name": "stderr",
     "output_type": "stream",
     "text": [
      "No handles with labels found to put in legend.\n"
     ]
    },
    {
     "name": "stdout",
     "output_type": "stream",
     "text": [
      "epoch:19 | 0.117 - 0.992\n",
      "============== 12/16 ==============\n",
      "epoch:0 | 0.116 - 0.149\n",
      "epoch:1 | 0.117 - 0.56\n",
      "epoch:2 | 0.117 - 0.725\n",
      "epoch:3 | 0.117 - 0.682\n",
      "epoch:4 | 0.117 - 0.787\n",
      "epoch:5 | 0.117 - 0.848\n",
      "epoch:6 | 0.117 - 0.859\n",
      "epoch:7 | 0.117 - 0.882\n",
      "epoch:8 | 0.117 - 0.801\n",
      "epoch:9 | 0.117 - 0.893\n",
      "epoch:10 | 0.117 - 0.897\n",
      "epoch:11 | 0.117 - 0.886\n",
      "epoch:12 | 0.117 - 0.896\n",
      "epoch:13 | 0.117 - 0.898\n",
      "epoch:14 | 0.117 - 0.9\n",
      "epoch:15 | 0.117 - 0.901\n",
      "epoch:16 | 0.117 - 0.9\n",
      "epoch:17 | 0.117 - 0.902\n",
      "epoch:18 | 0.117 - 0.921\n"
     ]
    },
    {
     "name": "stderr",
     "output_type": "stream",
     "text": [
      "No handles with labels found to put in legend.\n"
     ]
    },
    {
     "name": "stdout",
     "output_type": "stream",
     "text": [
      "epoch:19 | 0.117 - 0.968\n",
      "============== 13/16 ==============\n",
      "epoch:0 | 0.099 - 0.258\n",
      "epoch:1 | 0.116 - 0.338\n",
      "epoch:2 | 0.116 - 0.495\n",
      "epoch:3 | 0.116 - 0.662\n",
      "epoch:4 | 0.116 - 0.686\n",
      "epoch:5 | 0.116 - 0.72\n",
      "epoch:6 | 0.116 - 0.692\n",
      "epoch:7 | 0.116 - 0.76\n",
      "epoch:8 | 0.116 - 0.77\n",
      "epoch:9 | 0.116 - 0.758\n",
      "epoch:10 | 0.116 - 0.778\n",
      "epoch:11 | 0.116 - 0.786\n",
      "epoch:12 | 0.117 - 0.781\n",
      "epoch:13 | 0.117 - 0.771\n",
      "epoch:14 | 0.117 - 0.798\n",
      "epoch:15 | 0.117 - 0.792\n",
      "epoch:16 | 0.117 - 0.782\n",
      "epoch:17 | 0.117 - 0.798\n",
      "epoch:18 | 0.117 - 0.797\n"
     ]
    },
    {
     "name": "stderr",
     "output_type": "stream",
     "text": [
      "No handles with labels found to put in legend.\n"
     ]
    },
    {
     "name": "stdout",
     "output_type": "stream",
     "text": [
      "epoch:19 | 0.117 - 0.809\n",
      "============== 14/16 ==============\n",
      "epoch:0 | 0.1 - 0.13\n",
      "epoch:1 | 0.117 - 0.368\n",
      "epoch:2 | 0.117 - 0.351\n",
      "epoch:3 | 0.117 - 0.467\n",
      "epoch:4 | 0.117 - 0.483\n",
      "epoch:5 | 0.117 - 0.49\n",
      "epoch:6 | 0.117 - 0.563\n",
      "epoch:7 | 0.117 - 0.422\n",
      "epoch:8 | 0.117 - 0.579\n",
      "epoch:9 | 0.116 - 0.529\n",
      "epoch:10 | 0.117 - 0.597\n",
      "epoch:11 | 0.117 - 0.583\n",
      "epoch:12 | 0.117 - 0.575\n",
      "epoch:13 | 0.117 - 0.59\n",
      "epoch:14 | 0.117 - 0.589\n",
      "epoch:15 | 0.116 - 0.587\n",
      "epoch:16 | 0.117 - 0.686\n",
      "epoch:17 | 0.117 - 0.664\n",
      "epoch:18 | 0.116 - 0.691\n"
     ]
    },
    {
     "name": "stderr",
     "output_type": "stream",
     "text": [
      "No handles with labels found to put in legend.\n"
     ]
    },
    {
     "name": "stdout",
     "output_type": "stream",
     "text": [
      "epoch:19 | 0.117 - 0.678\n",
      "============== 15/16 ==============\n",
      "epoch:0 | 0.1 - 0.147\n",
      "epoch:1 | 0.117 - 0.372\n",
      "epoch:2 | 0.116 - 0.43\n",
      "epoch:3 | 0.117 - 0.47\n",
      "epoch:4 | 0.117 - 0.491\n",
      "epoch:5 | 0.117 - 0.5\n",
      "epoch:6 | 0.117 - 0.495\n",
      "epoch:7 | 0.117 - 0.502\n",
      "epoch:8 | 0.117 - 0.503\n",
      "epoch:9 | 0.117 - 0.539\n",
      "epoch:10 | 0.117 - 0.549\n",
      "epoch:11 | 0.117 - 0.531\n",
      "epoch:12 | 0.117 - 0.53\n",
      "epoch:13 | 0.117 - 0.591\n",
      "epoch:14 | 0.117 - 0.608\n",
      "epoch:15 | 0.117 - 0.604\n",
      "epoch:16 | 0.117 - 0.602\n",
      "epoch:17 | 0.117 - 0.588\n",
      "epoch:18 | 0.117 - 0.61\n"
     ]
    },
    {
     "name": "stderr",
     "output_type": "stream",
     "text": [
      "No handles with labels found to put in legend.\n"
     ]
    },
    {
     "name": "stdout",
     "output_type": "stream",
     "text": [
      "epoch:19 | 0.117 - 0.612\n",
      "============== 16/16 ==============\n",
      "epoch:0 | 0.117 - 0.167\n",
      "epoch:1 | 0.116 - 0.341\n",
      "epoch:2 | 0.116 - 0.382\n",
      "epoch:3 | 0.117 - 0.403\n",
      "epoch:4 | 0.117 - 0.414\n",
      "epoch:5 | 0.117 - 0.413\n",
      "epoch:6 | 0.117 - 0.417\n",
      "epoch:7 | 0.117 - 0.419\n",
      "epoch:8 | 0.117 - 0.475\n",
      "epoch:9 | 0.116 - 0.497\n",
      "epoch:10 | 0.117 - 0.503\n",
      "epoch:11 | 0.117 - 0.513\n",
      "epoch:12 | 0.117 - 0.5\n",
      "epoch:13 | 0.117 - 0.517\n",
      "epoch:14 | 0.117 - 0.52\n",
      "epoch:15 | 0.117 - 0.522\n",
      "epoch:16 | 0.117 - 0.523\n",
      "epoch:17 | 0.116 - 0.523\n",
      "epoch:18 | 0.116 - 0.522\n",
      "epoch:19 | 0.116 - 0.523\n"
     ]
    },
    {
     "data": {
      "image/png": "[encoded data removed]",
      "text/plain": [
       "<Figure size 432x288 with 16 Axes>"
      ]
     },
     "metadata": {
      "needs_background": "light"
     },
     "output_type": "display_data"
    }
   ],
   "source": [
    "%matplotlib inline\n",
    "import sys, os\n",
    "sys.path.append(os.pardir)  # 親ディレクトリのファイルをインポートするための設定\n",
    "import numpy as np\n",
    "import matplotlib.pyplot as plt\n",
    "from dataset.mnist import load_mnist\n",
    "from common.multi_layer_net_extend import MultiLayerNetExtend\n",
    "from common.optimizer import SGD, Adam\n",
    "\n",
    "(x_train, t_train), (x_test, t_test) = load_mnist(normalize=True)\n",
    "\n",
    "# 学習データを削減\n",
    "x_train = x_train[:1000]\n",
    "t_train = t_train[:1000]\n",
    "\n",
    "max_epochs = 20\n",
    "train_size = x_train.shape[0]\n",
    "batch_size = 100\n",
    "learning_rate = 0.01\n",
    "\n",
    "\n",
    "def __train(weight_init_std):\n",
    "    bn_network = MultiLayerNetExtend(input_size=784, hidden_size_list=[100, 100, 100, 100, 100], output_size=10, \n",
    "                                    weight_init_std=weight_init_std, use_batchnorm=True)\n",
    "    network = MultiLayerNetExtend(input_size=784, hidden_size_list=[100, 100, 100, 100, 100], output_size=10,\n",
    "                                weight_init_std=weight_init_std)\n",
    "    optimizer = SGD(lr=learning_rate)\n",
    "    \n",
    "    train_acc_list = []\n",
    "    bn_train_acc_list = []\n",
    "    \n",
    "    iter_per_epoch = max(train_size / batch_size, 1)\n",
    "    epoch_cnt = 0\n",
    "    \n",
    "    for i in range(1000000000):\n",
    "        batch_mask = np.random.choice(train_size, batch_size)\n",
    "        x_batch = x_train[batch_mask]\n",
    "        t_batch = t_train[batch_mask]\n",
    "    \n",
    "        for _network in (bn_network, network):\n",
    "            grads = _network.gradient(x_batch, t_batch)\n",
    "            optimizer.update(_network.params, grads)\n",
    "    \n",
    "        if i % iter_per_epoch == 0:\n",
    "            train_acc = network.accuracy(x_train, t_train)\n",
    "            bn_train_acc = bn_network.accuracy(x_train, t_train)\n",
    "            train_acc_list.append(train_acc)\n",
    "            bn_train_acc_list.append(bn_train_acc)\n",
    "    \n",
    "            print(\"epoch:\" + str(epoch_cnt) + \" | \" + str(train_acc) + \" - \" + str(bn_train_acc))\n",
    "    \n",
    "            epoch_cnt += 1\n",
    "            if epoch_cnt >= max_epochs:\n",
    "                break\n",
    "                \n",
    "    return train_acc_list, bn_train_acc_list\n",
    "\n",
    "\n",
    "# 3.グラフの描画==========\n",
    "weight_scale_list = np.logspace(0, -4, num=16)\n",
    "x = np.arange(max_epochs)\n",
    "\n",
    "for i, w in enumerate(weight_scale_list):\n",
    "    print( \"============== \" + str(i+1) + \"/16\" + \" ==============\")\n",
    "    train_acc_list, bn_train_acc_list = __train(w)\n",
    "    \n",
    "    plt.subplot(4,4,i+1)\n",
    "    plt.title(\"W:\" + str(w))\n",
    "    if i == 15:\n",
    "        plt.plot(x, bn_train_acc_list, label='Batch Normalization', markevery=2)\n",
    "        plt.plot(x, train_acc_list, linestyle = \"--\", label='Normal(without BatchNorm)', markevery=2)\n",
    "    else:\n",
    "        plt.plot(x, bn_train_acc_list, markevery=2)\n",
    "        plt.plot(x, train_acc_list, linestyle=\"--\", markevery=2)\n",
    "\n",
    "    plt.ylim(0, 1.0)\n",
    "    if i % 4:\n",
    "        plt.yticks([])\n",
    "    else:\n",
    "        plt.ylabel(\"accuracy\")\n",
    "    if i < 12:\n",
    "        plt.xticks([])\n",
    "    else:\n",
    "        plt.xlabel(\"epochs\")\n",
    "    plt.legend(loc='lower right')"
   ]
  },
  {
   "cell_type": "markdown",
   "metadata": {},
   "source": [
    "* 上の結果で示す通り、Batch Normによって、学習が速く進んでいることがわかる\n",
    "\n",
    "    * 実際、Batch Normを用いない場合は、良い初期値のスケールを与えないと、全く学習が進まないこともわかる"
   ]
  },
  {
   "cell_type": "markdown",
   "metadata": {},
   "source": [
    "* 以上見てきたように、Batch Normを使用することで、学習の進行を促進させることができ、重みの初期値にそれほど依存しない"
   ]
  },
  {
   "cell_type": "markdown",
   "metadata": {},
   "source": [
    "| 版   | 年/月/日   |\n",
    "| ---- | ---------- |\n",
    "| 初版 | 2019/05/12 |"
   ]
  },
  {
   "cell_type": "code",
   "execution_count": null,
   "metadata": {},
   "outputs": [],
   "source": []
  }
 ],
 "metadata": {
  "kernelspec": {
   "display_name": "Python 3",
   "language": "python",
   "name": "python3"
  },
  "language_info": {
   "codemirror_mode": {
    "name": "ipython",
    "version": 3
   },
   "file_extension": ".py",
   "mimetype": "text/x-python",
   "name": "python",
   "nbconvert_exporter": "python",
   "pygments_lexer": "ipython3",
   "version": "3.6.7"
  }
 },
 "nbformat": 4,
 "nbformat_minor": 2
}

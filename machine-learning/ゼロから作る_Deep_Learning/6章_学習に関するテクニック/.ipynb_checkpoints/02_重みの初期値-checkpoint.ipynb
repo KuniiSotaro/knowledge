{
 "cells": [
  {
   "cell_type": "markdown",
   "metadata": {},
   "source": [
    "02　重みの初期値\n",
    "==============\n",
    "\n",
    "* ニューラルネットワークの学習で特に重要となってくるのが、「重みの初期値」\n",
    "\n",
    "* 重みの初期値としてどのような値を設定するかで、ニューラルネットワークの学習の成否が分かれることがある\n",
    "\n",
    "* 本節では、推奨される重みの初期値について説明し、実験によって実際にニューラルネットワークの学習が速やかに行われることを確認する"
   ]
  },
  {
   "cell_type": "markdown",
   "metadata": {},
   "source": [
    "## 1.重みの初期値を0にする？\n",
    "\n",
    "* 過学習を抑え、汎化性能を高めるテックニックとして`Weight decay`(荷重減衰)という手法を扱う\n",
    "\n",
    "    * この手法は、重みパラメータの値が小さくなるように学習を行うことを目的とした手法\n",
    "    \n",
    "    * 重みの値を小さくすることで、過学習が起きにくくなる"
   ]
  },
  {
   "cell_type": "markdown",
   "metadata": {},
   "source": [
    "* 重みを小さい値にしたければ、初期値も出来るだけ小さい値からスタートするのが正攻法\n",
    "\n",
    "    * 実際、これまで重みの初期値は、`0.01 * np.random.randn(10, 100)`のようにガウス分布から生成される値を0.01倍した小さな値を用いた\n",
    "    \n",
    "    > これは、標準偏差が0.01のガウス分布"
   ]
  },
  {
   "cell_type": "markdown",
   "metadata": {},
   "source": [
    "* 重みの値を小さくしたい場合に、重みの初期値を0にすると正しい学習が行えなくなる\n",
    "\n",
    "* この理由としては、重みを均一な値にすると誤差逆伝播法において、全ての重みの値が均一に更新されてしまうため\n",
    "\n",
    "    * これでは、たくさんの重みを持つ意味がなくなる\n",
    "    \n",
    "    * 重みの対称的な構造を崩すために、ランダムな初期値が必要になる"
   ]
  },
  {
   "cell_type": "markdown",
   "metadata": {},
   "source": [
    "## 2.隠れ層のアクティベーション分布\n",
    "\n",
    "* 隠れ層のアクティベーション(活性化関数の後の出力データ)の分布を観察することで、多くの知見が得られる\n",
    "\n",
    "* ここでは、重みの初期値によって隠れ層のアクティベーションがどのように変化するか、実験を行う\n",
    "\n",
    "    * 例)5層のニューラルネットワーク(活性化関数：シグモイド関数)に、ランダムに生成した入力データを流し、各層のアクティベーションのデータ分布をヒストグラムで描画する"
   ]
  },
  {
   "cell_type": "code",
   "execution_count": 1,
   "metadata": {},
   "outputs": [
    {
     "data": {
      "image/png": "[encoded data removed]",
      "text/plain": [
       "<Figure size 432x288 with 5 Axes>"
      ]
     },
     "metadata": {
      "needs_background": "light"
     },
     "output_type": "display_data"
    }
   ],
   "source": [
    "%matplotlib inline\n",
    "import numpy as np\n",
    "import matplotlib.pyplot as plt\n",
    "\n",
    "\n",
    "def sigmoid(x):\n",
    "    return 1 / (1 + np.exp(-x))\n",
    "\n",
    "\n",
    "def ReLU(x):\n",
    "    return np.maximum(0, x)\n",
    "\n",
    "\n",
    "def tanh(x):\n",
    "    return np.tanh(x)\n",
    "    \n",
    "input_data = np.random.randn(1000, 100)  # 1000個のデータ\n",
    "node_num = 100  # 各隠れ層のノード（ニューロン）の数\n",
    "hidden_layer_size = 5  # 隠れ層が5層\n",
    "activations = {}  # ここにアクティベーションの結果を格納する\n",
    "\n",
    "x = input_data\n",
    "\n",
    "for i in range(hidden_layer_size):\n",
    "    if i != 0:\n",
    "        x = activations[i-1]\n",
    "\n",
    "    # 初期値の値をいろいろ変えて実験しよう！\n",
    "    w = np.random.randn(node_num, node_num) * 1\n",
    "    # w = np.random.randn(node_num, node_num) * 0.01\n",
    "    # w = np.random.randn(node_num, node_num) * np.sqrt(1.0 / node_num)\n",
    "    # w = np.random.randn(node_num, node_num) * np.sqrt(2.0 / node_num)\n",
    "\n",
    "\n",
    "    a = np.dot(x, w)\n",
    "\n",
    "\n",
    "    # 活性化関数の種類も変えて実験しよう！\n",
    "    z = sigmoid(a)\n",
    "    # z = ReLU(a)\n",
    "    # z = tanh(a)\n",
    "\n",
    "    activations[i] = z\n",
    "\n",
    "# ヒストグラムを描画\n",
    "for i, a in activations.items():\n",
    "    plt.subplot(1, len(activations), i+1)\n",
    "    plt.title(str(i+1) + \"-layer\")\n",
    "    if i != 0: plt.yticks([], [])\n",
    "    # plt.xlim(0.1, 1)\n",
    "    # plt.ylim(0, 7000)\n",
    "    plt.hist(a.flatten(), 30, range=(0,1))"
   ]
  },
  {
   "cell_type": "markdown",
   "metadata": {},
   "source": [
    "* ここでは、5つの層があり、それぞれの層は100個のニューロンを持つものとする\n",
    "\n",
    "    * そして、入力データとして、1,000個のデータをガウス分布でランダムに生成し、それを5層のニューラルネットワークに渡す\n",
    "    \n",
    "    * 活性化関数にはシグモイド関数を利用し、各層のアクティベーションの結果を`activations`という変数に格納する\n",
    "    \n",
    "    * ここで、標準偏差が1のガウス分布を用いて考えると、以下のように0と1に偏った分布になる\n",
    "    \n",
    "    * これは、`勾配消失`と呼ばれる問題が発生する"
   ]
  },
  {
   "cell_type": "markdown",
   "metadata": {},
   "source": [
    "* 次に、重みの標準偏差を0.01として同じ実験を行う"
   ]
  },
  {
   "cell_type": "code",
   "execution_count": 2,
   "metadata": {},
   "outputs": [
    {
     "data": {
      "image/png": "[encoded data removed]",
      "text/plain": [
       "<Figure size 432x288 with 5 Axes>"
      ]
     },
     "metadata": {
      "needs_background": "light"
     },
     "output_type": "display_data"
    }
   ],
   "source": [
    "import numpy as np\n",
    "import matplotlib.pyplot as plt\n",
    "\n",
    "\n",
    "def sigmoid(x):\n",
    "    return 1 / (1 + np.exp(-x))\n",
    "\n",
    "\n",
    "def ReLU(x):\n",
    "    return np.maximum(0, x)\n",
    "\n",
    "\n",
    "def tanh(x):\n",
    "    return np.tanh(x)\n",
    "    \n",
    "input_data = np.random.randn(1000, 100)  # 1000個のデータ\n",
    "node_num = 100  # 各隠れ層のノード（ニューロン）の数\n",
    "hidden_layer_size = 5  # 隠れ層が5層\n",
    "activations = {}  # ここにアクティベーションの結果を格納する\n",
    "\n",
    "x = input_data\n",
    "\n",
    "for i in range(hidden_layer_size):\n",
    "    if i != 0:\n",
    "        x = activations[i-1]\n",
    "\n",
    "    # 初期値の値をいろいろ変えて実験しよう！\n",
    "#     w = np.random.randn(node_num, node_num) * 1\n",
    "    w = np.random.randn(node_num, node_num) * 0.01\n",
    "    # w = np.random.randn(node_num, node_num) * np.sqrt(1.0 / node_num)\n",
    "    # w = np.random.randn(node_num, node_num) * np.sqrt(2.0 / node_num)\n",
    "\n",
    "\n",
    "    a = np.dot(x, w)\n",
    "\n",
    "\n",
    "    # 活性化関数の種類も変えて実験しよう！\n",
    "    z = sigmoid(a)\n",
    "    # z = ReLU(a)\n",
    "    # z = tanh(a)\n",
    "\n",
    "    activations[i] = z\n",
    "\n",
    "# ヒストグラムを描画\n",
    "for i, a in activations.items():\n",
    "    plt.subplot(1, len(activations), i+1)\n",
    "    plt.title(str(i+1) + \"-layer\")\n",
    "    if i != 0: plt.yticks([], [])\n",
    "    # plt.xlim(0.1, 1)\n",
    "    # plt.ylim(0, 7000)\n",
    "    plt.hist(a.flatten(), 30, range=(0,1))"
   ]
  },
  {
   "cell_type": "markdown",
   "metadata": {},
   "source": [
    "* 今度は、0.5付近に集中する分布となった\n",
    "\n",
    "    * 先ほどの例のように、0と1への偏りはないので、勾配消失の問題は発生しない\n",
    "    \n",
    "* しかし、アクティベーションに偏りがあるということは、複数のニューロンが存在する必要がなくなるという問題が発生する"
   ]
  },
  {
   "cell_type": "markdown",
   "metadata": {},
   "source": [
    "> 各層のアクティベーションの分布は、適度な広がりを持つことが求められる\n",
    ">\n",
    "> 適度に多様性のあるデータが各層を流れることで、ニューラルネットワークの学習が効率的に行えるため\n",
    ">\n",
    "> 逆に、偏ったデータが流れると、勾配消失や「表現力の制限」が問題になって、学習がうまくいかない場合がある"
   ]
  },
  {
   "cell_type": "markdown",
   "metadata": {},
   "source": [
    "* 次にXavier Glorotらの論文で推奨される重みの初期値を使う\n",
    "\n",
    "* 各層のアクティベーションを同じ広がりのある分布にすることを目的として、適切な重みのスケールを導く\n",
    "\n",
    "    * その導き出した結論は、前層のノードの個数を$n$とした時、$\\frac{1}{\\sqrt{n}}$の標準偏差を使う分布を使うというもの\n",
    "    \n",
    "![Xavierの初期値](./images/Xavierの初期値.png)"
   ]
  },
  {
   "cell_type": "markdown",
   "metadata": {},
   "source": [
    "* 「Xavierの初期値」を用いると、前層のノードが多ければ多いほど、対象ノードの初期値として設定する重みのスケールは小さくなる\n",
    "\n",
    "    * 実験コードの実装は、重みの初期値設定を書き換えるだけ"
   ]
  },
  {
   "cell_type": "code",
   "execution_count": 3,
   "metadata": {},
   "outputs": [
    {
     "data": {
      "image/png": "[encoded data removed]",
      "text/plain": [
       "<Figure size 432x288 with 5 Axes>"
      ]
     },
     "metadata": {
      "needs_background": "light"
     },
     "output_type": "display_data"
    }
   ],
   "source": [
    "import numpy as np\n",
    "import matplotlib.pyplot as plt\n",
    "\n",
    "\n",
    "def sigmoid(x):\n",
    "    return 1 / (1 + np.exp(-x))\n",
    "\n",
    "\n",
    "def ReLU(x):\n",
    "    return np.maximum(0, x)\n",
    "\n",
    "\n",
    "def tanh(x):\n",
    "    return np.tanh(x)\n",
    "    \n",
    "input_data = np.random.randn(1000, 100)  # 1000個のデータ\n",
    "node_num = 100  # 各隠れ層のノード（ニューロン）の数\n",
    "hidden_layer_size = 5  # 隠れ層が5層\n",
    "activations = {}  # ここにアクティベーションの結果を格納する\n",
    "\n",
    "x = input_data\n",
    "\n",
    "for i in range(hidden_layer_size):\n",
    "    if i != 0:\n",
    "        x = activations[i-1]\n",
    "\n",
    "    # 初期値の値をいろいろ変えて実験しよう！\n",
    "#     w = np.random.randn(node_num, node_num) * 1\n",
    "    # w = np.random.randn(node_num, node_num) * 0.01\n",
    "    w = np.random.randn(node_num, node_num) / np.sqrt(node_num)\n",
    "    # w = np.random.randn(node_num, node_num) * np.sqrt(1.0 / node_num)\n",
    "    # w = np.random.randn(node_num, node_num) * np.sqrt(2.0 / node_num)\n",
    "\n",
    "\n",
    "    a = np.dot(x, w)\n",
    "\n",
    "\n",
    "    # 活性化関数の種類も変えて実験しよう！\n",
    "    z = sigmoid(a)\n",
    "    # z = ReLU(a)\n",
    "    # z = tanh(a)\n",
    "\n",
    "    activations[i] = z\n",
    "\n",
    "# ヒストグラムを描画\n",
    "for i, a in activations.items():\n",
    "    plt.subplot(1, len(activations), i+1)\n",
    "    plt.title(str(i+1) + \"-layer\")\n",
    "    if i != 0: plt.yticks([], [])\n",
    "    # plt.xlim(0.1, 1)\n",
    "    # plt.ylim(0, 7000)\n",
    "    plt.hist(a.flatten(), 30, range=(0,1))"
   ]
  },
  {
   "cell_type": "markdown",
   "metadata": {},
   "source": [
    "* 上の結果より、上位の層に行くに連れて、これまでよりも広がりを持った分布になる\n",
    "\n",
    "* 各層に流れるデータには適度な広がりがあるので、シグモイド関数の表現力も制限されることなく、効率的に学習が行えることが期待できる"
   ]
  },
  {
   "cell_type": "markdown",
   "metadata": {},
   "source": [
    "## 3.ReLUの場合の重みの初期値\n",
    "\n",
    "* 「Xavierの初期値」は、活性化関数が線形であることを前提に導いた結果\n",
    "\n",
    "* sigmoid関数やtanh関数は左右対称で中央付近が線形関数としてみなせるので、「Xavierの初期値」が適している\n",
    "\n",
    "* しかし、ReLUを用いる場合は、ReLUに特化した初期値を用いることが推奨される\n",
    "\n",
    "    * この初期値は、「Heの初期値」"
   ]
  },
  {
   "cell_type": "markdown",
   "metadata": {},
   "source": [
    "* 「Heの初期値」：前層のノードの数が$n$個の場合、$\\frac{2}{\\sqrt{n}}$を標準偏差とするガウス分布を用いる\n",
    "\n",
    "    * ReLUの場合は負の領域が0になるため、より広がりを持たせるために倍の係数が必要になる\n",
    "    \n",
    "* 以下の図に、活性化関数にReLUを用いた場合のアクティベーションの分布を見てみる\n",
    "\n",
    "    * ここでは、標準偏差が0.01のガウス分布、ReLU専用の「Heの初期値」のばいいの3つの実験結果を示す\n",
    "    \n",
    "![活性化関数としてReLUを使用した場合の重みの初期値によるアクティベーション分布の変化](./images/活性化関数としてReLUを使用した場合の重みの初期値によるアクティベーション分布の変化.png)"
   ]
  },
  {
   "cell_type": "markdown",
   "metadata": {},
   "source": [
    "* 実験の結果を見ると、「std=0.01」の場合、各層のアクティベーションはとても小さな値となる\n",
    "\n",
    "    * ニューラルネットワーク上をとても小さなデータが流れるということは、逆伝播の際の重みの勾配も同様に小さくなるということ\n",
    "    \n",
    "    * これは重大な問題であり、実際には学習がほとんど進まない"
   ]
  },
  {
   "cell_type": "markdown",
   "metadata": {},
   "source": [
    "* 「Xavierの初期値」の結果は、層が深くなるにつれ、偏りが少しずつ大きくなっていく\n",
    "\n",
    "    * 実際、層をディープにしていくと、アクティベーションの偏りも大きくなり、学習の際に「勾配消失」が問題になる\n",
    "    \n",
    "* 一方、「Heの初期値」は各層で分布の広がりが均一になる\n",
    "\n",
    "    * データの広がりが層を深くしても均一に保たれるので、逆伝播の際にも適切な値が流れると期待できる\n",
    "    \n",
    "* 以上より、活性化関数にReLUを使う場合は、「Heの初期値」、sigmoidやtanhなどのS字カーブの時には、「Xavierの初期値」を使うことが現時点でベスト"
   ]
  },
  {
   "cell_type": "markdown",
   "metadata": {},
   "source": [
    "## 4.MNISTデータセットによる重み初期値の比較\n",
    "\n",
    "* 実際のデータを対象に、重みの初期値の与え方の違いによって、ニューラルネットワークの学習にどれだけ影響を与えるかを見る\n",
    "\n",
    "    * 「std=0.01」\n",
    "    \n",
    "    * 「Xavierの初期値」\n",
    "    \n",
    "    * 「Heの初期値」\n",
    "    \n",
    "* 実際のコードは、以下の通りになる"
   ]
  },
  {
   "cell_type": "code",
   "execution_count": 4,
   "metadata": {},
   "outputs": [
    {
     "name": "stdout",
     "output_type": "stream",
     "text": [
      "===========iteration:0===========\n",
      "std=0.01:2.302507177158687\n",
      "Xavier:2.3117708561904617\n",
      "He:2.359101042602123\n",
      "===========iteration:100===========\n",
      "std=0.01:2.3020753831767866\n",
      "Xavier:2.2045610417402344\n",
      "He:1.3016065145916138\n",
      "===========iteration:200===========\n",
      "std=0.01:2.301556907406096\n",
      "Xavier:1.988892676869082\n",
      "He:0.6244731097236165\n",
      "===========iteration:300===========\n",
      "std=0.01:2.3025851579491334\n",
      "Xavier:1.511924138424626\n",
      "He:0.4503031064757209\n",
      "===========iteration:400===========\n",
      "std=0.01:2.3002093828382617\n",
      "Xavier:0.8795101533583809\n",
      "He:0.3388155840671754\n",
      "===========iteration:500===========\n",
      "std=0.01:2.299787886080134\n",
      "Xavier:0.7314000460265023\n",
      "He:0.3744510957486918\n",
      "===========iteration:600===========\n",
      "std=0.01:2.3016545424720123\n",
      "Xavier:0.6085281961668644\n",
      "He:0.3903385256160746\n",
      "===========iteration:700===========\n",
      "std=0.01:2.305030537176723\n",
      "Xavier:0.4586938774950207\n",
      "He:0.24551619382225257\n",
      "===========iteration:800===========\n",
      "std=0.01:2.301471471830757\n",
      "Xavier:0.38265028770142123\n",
      "He:0.23754861042276154\n",
      "===========iteration:900===========\n",
      "std=0.01:2.30722085210746\n",
      "Xavier:0.3860777194696541\n",
      "He:0.22053468232437407\n",
      "===========iteration:1000===========\n",
      "std=0.01:2.2981706192434084\n",
      "Xavier:0.39343288116099917\n",
      "He:0.3063822292347226\n",
      "===========iteration:1100===========\n",
      "std=0.01:2.3104838677526702\n",
      "Xavier:0.3797392363442291\n",
      "He:0.3197746655017619\n",
      "===========iteration:1200===========\n",
      "std=0.01:2.2999000638322187\n",
      "Xavier:0.47180505943156353\n",
      "He:0.29212717708784774\n",
      "===========iteration:1300===========\n",
      "std=0.01:2.3034286313647243\n",
      "Xavier:0.33292138489596396\n",
      "He:0.26073328694403053\n",
      "===========iteration:1400===========\n",
      "std=0.01:2.3019085156722126\n",
      "Xavier:0.4002844470793019\n",
      "He:0.2575930946827959\n",
      "===========iteration:1500===========\n",
      "std=0.01:2.295114966563674\n",
      "Xavier:0.33904831364501287\n",
      "He:0.22280167868551626\n",
      "===========iteration:1600===========\n",
      "std=0.01:2.2936463178843365\n",
      "Xavier:0.2447038007295368\n",
      "He:0.15247321412943726\n",
      "===========iteration:1700===========\n",
      "std=0.01:2.301128648876541\n",
      "Xavier:0.3081977757394586\n",
      "He:0.20132955413103815\n",
      "===========iteration:1800===========\n",
      "std=0.01:2.302162118279138\n",
      "Xavier:0.25852775377088927\n",
      "He:0.1458780758348081\n",
      "===========iteration:1900===========\n",
      "std=0.01:2.299912320750699\n",
      "Xavier:0.24747479487452148\n",
      "He:0.17034230833452724\n"
     ]
    },
    {
     "data": {
      "text/plain": [
       "<matplotlib.legend.Legend at 0x1279eb048>"
      ]
     },
     "execution_count": 4,
     "metadata": {},
     "output_type": "execute_result"
    },
    {
     "data": {
      "image/png": "[encoded data removed]",
      "text/plain": [
       "<Figure size 432x288 with 1 Axes>"
      ]
     },
     "metadata": {
      "needs_background": "light"
     },
     "output_type": "display_data"
    }
   ],
   "source": [
    "import os\n",
    "import sys\n",
    "\n",
    "sys.path.append(os.pardir)  # 親ディレクトリのファイルをインポートするための設定\n",
    "import numpy as np\n",
    "import matplotlib.pyplot as plt\n",
    "from dataset.mnist import load_mnist\n",
    "from common.util import smooth_curve\n",
    "from common.multi_layer_net import MultiLayerNet\n",
    "from common.optimizer import SGD\n",
    "\n",
    "\n",
    "# 0:MNISTデータの読み込み==========\n",
    "(x_train, t_train), (x_test, t_test) = load_mnist(normalize=True)\n",
    "\n",
    "train_size = x_train.shape[0]\n",
    "batch_size = 128\n",
    "max_iterations = 2000\n",
    "\n",
    "\n",
    "# 1:実験の設定==========\n",
    "weight_init_types = {'std=0.01': 0.01, 'Xavier': 'sigmoid', 'He': 'relu'}\n",
    "optimizer = SGD(lr=0.01)\n",
    "\n",
    "networks = {}\n",
    "train_loss = {}\n",
    "for key, weight_type in weight_init_types.items():\n",
    "    networks[key] = MultiLayerNet(input_size=784, hidden_size_list=[100, 100, 100, 100],\n",
    "                                  output_size=10, weight_init_std=weight_type)\n",
    "    train_loss[key] = []\n",
    "\n",
    "\n",
    "# 2:訓練の開始==========\n",
    "for i in range(max_iterations):\n",
    "    batch_mask = np.random.choice(train_size, batch_size)\n",
    "    x_batch = x_train[batch_mask]\n",
    "    t_batch = t_train[batch_mask]\n",
    "    \n",
    "    for key in weight_init_types.keys():\n",
    "        grads = networks[key].gradient(x_batch, t_batch)\n",
    "        optimizer.update(networks[key].params, grads)\n",
    "    \n",
    "        loss = networks[key].loss(x_batch, t_batch)\n",
    "        train_loss[key].append(loss)\n",
    "    \n",
    "    if i % 100 == 0:\n",
    "        print(\"===========\" + \"iteration:\" + str(i) + \"===========\")\n",
    "        for key in weight_init_types.keys():\n",
    "            loss = networks[key].loss(x_batch, t_batch)\n",
    "            print(key + \":\" + str(loss))\n",
    "\n",
    "\n",
    "# 3.グラフの描画==========\n",
    "markers = {'std=0.01': 'o', 'Xavier': 's', 'He': 'D'}\n",
    "x = np.arange(max_iterations)\n",
    "for key in weight_init_types.keys():\n",
    "    plt.plot(x, smooth_curve(train_loss[key]), marker=markers[key], markevery=100, label=key)\n",
    "plt.xlabel(\"iterations\")\n",
    "plt.ylabel(\"loss\")\n",
    "plt.ylim(0, 2.5)\n",
    "plt.legend()"
   ]
  },
  {
   "cell_type": "markdown",
   "metadata": {},
   "source": [
    "* この実験では、5層のニューラルネットワーク(各層100個のニューロン)で、活性化関数としてReLUを使用する\n",
    "\n",
    "* 結果より、「std=0.01」の時は全く学習ができていない\n",
    "\n",
    "    * これは、先ほどアクティベーションの分布を観察した時の通り、順伝播では小さな値(0に集中したデータ)が流れるため\n",
    "    \n",
    "    * それによって、逆伝播の際に求める勾配も小さくなり、重みの更新がほとんど行われなくなる\n",
    "    \n",
    "* 逆に、XavierとHeの初期値の場合は、順調に学習が行われている\n",
    "\n",
    "    * Heの初期値の方が、学習の進みが速くなっている"
   ]
  },
  {
   "cell_type": "markdown",
   "metadata": {},
   "source": [
    "* ニューラルネットワークの学習において、重みの初期値はとても重要なポイント\n",
    "\n",
    "    * 重みの初期値によって、ニューラルネットワークの学習の成否が分かれることが多くある\n",
    "   "
   ]
  },
  {
   "cell_type": "markdown",
   "metadata": {},
   "source": [
    "| 版   | 年/月/日   |\n",
    "| ---- | ---------- |\n",
    "| 初版 | 2019/05/12 |"
   ]
  }
 ],
 "metadata": {
  "kernelspec": {
   "display_name": "Python 3",
   "language": "python",
   "name": "python3"
  },
  "language_info": {
   "codemirror_mode": {
    "name": "ipython",
    "version": 3
   },
   "file_extension": ".py",
   "mimetype": "text/x-python",
   "name": "python",
   "nbconvert_exporter": "python",
   "pygments_lexer": "ipython3",
   "version": "3.6.7"
  }
 },
 "nbformat": 4,
 "nbformat_minor": 2
}

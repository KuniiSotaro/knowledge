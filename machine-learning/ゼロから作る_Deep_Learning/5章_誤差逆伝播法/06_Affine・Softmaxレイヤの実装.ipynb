{
 "cells": [
  {
   "cell_type": "markdown",
   "metadata": {},
   "source": [
    "06　Affine・Softmaxレイヤの実装\n",
    "===========================\n",
    "\n",
    "## 1. Affineレイヤ\n",
    "\n",
    "* ニューラルネットワークの順伝播では、重み付き信号の総和を計算するため、行列の積を用いた(`np.dot()`)\n",
    "\n",
    "* 前の章では、以下のような実装を行なった"
   ]
  },
  {
   "cell_type": "code",
   "execution_count": 2,
   "metadata": {},
   "outputs": [],
   "source": [
    "import numpy as np\n",
    "\n",
    "# 入力\n",
    "X = np.random.rand(2)\n",
    "\n",
    "# 重み\n",
    "W = np.random.rand(2, 3)\n",
    "\n",
    "# バイアス\n",
    "B = np.random.rand(3)"
   ]
  },
  {
   "cell_type": "code",
   "execution_count": 3,
   "metadata": {},
   "outputs": [
    {
     "data": {
      "text/plain": [
       "(2,)"
      ]
     },
     "execution_count": 3,
     "metadata": {},
     "output_type": "execute_result"
    }
   ],
   "source": [
    "X.shape"
   ]
  },
  {
   "cell_type": "code",
   "execution_count": 4,
   "metadata": {},
   "outputs": [
    {
     "data": {
      "text/plain": [
       "(2, 3)"
      ]
     },
     "execution_count": 4,
     "metadata": {},
     "output_type": "execute_result"
    }
   ],
   "source": [
    "W.shape"
   ]
  },
  {
   "cell_type": "code",
   "execution_count": 5,
   "metadata": {},
   "outputs": [
    {
     "data": {
      "text/plain": [
       "(3,)"
      ]
     },
     "execution_count": 5,
     "metadata": {},
     "output_type": "execute_result"
    }
   ],
   "source": [
    "B.shape"
   ]
  },
  {
   "cell_type": "code",
   "execution_count": 6,
   "metadata": {},
   "outputs": [],
   "source": [
    "Y = np.dot(X, W) + B"
   ]
  },
  {
   "cell_type": "markdown",
   "metadata": {},
   "source": [
    "* ここで、`X`、`W`、`B`はそれぞれ形状が多次元配列となっている\n",
    "\n",
    "    * そうすることで、ニューロンの重み付き和は、`Y = np.dot(X, W) + B`のように計算できる\n",
    "    \n",
    "    * そして、この`Y`が活性化関数によって、変換され、次の層へと伝播される(NNにおける順伝播の流れ)"
   ]
  },
  {
   "cell_type": "markdown",
   "metadata": {},
   "source": [
    "* 次に、ここで行なった計算(行列の積とバイアスの和)を計算グラフで表す\n",
    "\n",
    "    * 行列の積を計算するノードを「`dot`」として表すことにすると、`np.dot(X, W) + B`の計算は、以下の式で表すことができる\n",
    "    \n",
    "![Affileレイヤの計算グラフ](./images/Affileレイヤの計算グラフ.png)"
   ]
  },
  {
   "cell_type": "code",
   "execution_count": null,
   "metadata": {},
   "outputs": [],
   "source": []
  }
 ],
 "metadata": {
  "kernelspec": {
   "display_name": "Python 3",
   "language": "python",
   "name": "python3"
  },
  "language_info": {
   "codemirror_mode": {
    "name": "ipython",
    "version": 3
   },
   "file_extension": ".py",
   "mimetype": "text/x-python",
   "name": "python",
   "nbconvert_exporter": "python",
   "pygments_lexer": "ipython3",
   "version": "3.6.7"
  }
 },
 "nbformat": 4,
 "nbformat_minor": 2
}

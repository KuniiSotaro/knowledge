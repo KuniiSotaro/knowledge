{
 "cells": [
  {
   "cell_type": "markdown",
   "metadata": {},
   "source": [
    "05 活性化関数レイヤの実装\n",
    "=====================\n",
    "\n",
    "* ここでは、ニューラルネットワークを構成する「層(レイヤ)」を一つのクラスとして実装する\n",
    "\n",
    "* まずは、活性化関数である`ReLU`と`Sigmoid`レイヤを実装する"
   ]
  },
  {
   "cell_type": "markdown",
   "metadata": {},
   "source": [
    "## 1. ReLUレイヤ\n",
    "\n",
    "* 活性化関数として用いられる`ReLU`(Rectified Linear Unit)は、以下の式で表された\n",
    "\n",
    "\\begin{eqnarray}\n",
    "y = \\left\\{\n",
    "\\begin{array}{ll}\n",
    "x & (x > 0) \\\\\n",
    "0 & (x \\leq 0)\n",
    "\\end{array}\n",
    "\\right.\n",
    "\\end{eqnarray}\n",
    "\n",
    "* ここで、$x$に関する$y$の微分は、以下の式で表される\n",
    "\n",
    "\\begin{eqnarray}\n",
    "\\frac{\\partial y}{\\partial x} = \\left\\{\n",
    "\\begin{array}{ll}\n",
    "1 & (x > 0) \\\\\n",
    "0 & (x \\leq 0)\n",
    "\\end{array}\n",
    "\\right.\n",
    "\\end{eqnarray}\n",
    "\n",
    "* 順伝播時の入力である$x$が`0`より大きければ、逆伝播は上流の値をそのまま下流に流す\n",
    "\n",
    "* 逆に、順伝播時に$x$が`0`以下であれば、逆伝播では下流への信号はそこでストップする\n",
    "\n",
    "![ReLUレイヤの計算グラフ](./images/ReLUレイヤの計算グラフ.png)"
   ]
  },
  {
   "cell_type": "markdown",
   "metadata": {},
   "source": [
    "* 次に、`ReLU`レイヤの実装を行う\n",
    "\n",
    "    * ニューラルネットワークのレイヤの実装では、`forward()`や`backward()`の引数には、NumPy配列が入力されることを想定する"
   ]
  },
  {
   "cell_type": "code",
   "execution_count": 1,
   "metadata": {},
   "outputs": [],
   "source": [
    "class Relu:\n",
    "    def __init__(self):\n",
    "        self.mask = None\n",
    "\n",
    "    def forward(self, x):\n",
    "        self.mask = (x <= 0)\n",
    "        out = x.copy()\n",
    "        out[self.mask] = 0\n",
    "\n",
    "        return out\n",
    "\n",
    "    def backward(self, dout):\n",
    "        dout[self.mask] = 0\n",
    "        dx = dout\n",
    "\n",
    "        return dx"
   ]
  },
  {
   "cell_type": "markdown",
   "metadata": {},
   "source": [
    "* `Relu`クラスは、インスタンス変数として`mask`という変数を持つ\n",
    "\n",
    "    * この`mask`という変数は、True/FalseからなるNumPy配列\n",
    "    \n",
    "    * 順伝播の入力である`x`の要素で0以下の場所をTrue、それ以外(0より大きい要素)をFalseとして保持する\n",
    "    \n",
    "    * 例)True/FalseからなるNumPy配列を`mask`変数は保持する"
   ]
  },
  {
   "cell_type": "code",
   "execution_count": 2,
   "metadata": {},
   "outputs": [
    {
     "name": "stdout",
     "output_type": "stream",
     "text": [
      "[[ 1.  -0.5]\n",
      " [-2.   3. ]]\n"
     ]
    }
   ],
   "source": [
    "import numpy as np\n",
    "x = np.array([[1.0, -0.5], [-2.0, 3.0]])\n",
    "print(x)"
   ]
  },
  {
   "cell_type": "code",
   "execution_count": 3,
   "metadata": {},
   "outputs": [
    {
     "name": "stdout",
     "output_type": "stream",
     "text": [
      "[[False  True]\n",
      " [ True False]]\n"
     ]
    }
   ],
   "source": [
    "mask = (x <= 0)\n",
    "print(mask)"
   ]
  },
  {
   "cell_type": "markdown",
   "metadata": {},
   "source": [
    "* 上の図で示すように、順伝播時の入力の値が0以下ならば、逆伝播の値は`0`となる\n",
    "\n",
    "* そのため、逆伝播では、順伝播時に保持した`mask`を使って、上流から伝播された`dout`に対して、`mask`の要素がTrueの場所を`0`に設定する"
   ]
  },
  {
   "cell_type": "markdown",
   "metadata": {},
   "source": [
    "> `ReLU`レイヤは、回路における「スイッチ」のように機能する\n",
    ">\n",
    "> 順伝播時に電流が流れていればスイッチをONにし、電流が流れなければスイッチをOFFにする\n",
    ">\n",
    "> 逆伝播時には、スイッチがONであれば電流がそのまま流れ、OFFであればそれ以上電流は流れない"
   ]
  },
  {
   "cell_type": "markdown",
   "metadata": {},
   "source": [
    "## 2. Sigmoidレイヤ\n",
    "\n",
    "* 次に、シグモイド関数を実装する\n",
    "\n",
    "\\begin{eqnarray}\n",
    "y = \\frac{1}{1+\\exp(-x)}\n",
    "\\end{eqnarray}\n",
    "\n",
    "* これを計算グラフで示すと、以下の図となる\n",
    "\n",
    "    * 「expノード」：$y=\\exp(x)$の計算を行う\n",
    "    \n",
    "    * 「/ノード」：$y=\\frac{1}{x}$の計算を行う\n",
    "\n",
    "![Sigmoidレイヤの計算グラフ](./images/Sigmoidレイヤの計算グラフ.png)"
   ]
  },
  {
   "cell_type": "markdown",
   "metadata": {},
   "source": [
    "* 上の式の計算は、局所的な計算の伝播によって構成される\n",
    "\n",
    "    * ここで、上の図の計算グラフの逆伝播を行う"
   ]
  },
  {
   "cell_type": "markdown",
   "metadata": {},
   "source": [
    "### ステップ1\n",
    "\n",
    "* 「/ノード」は$y=\\frac{1}{x}$を表すが、この微分は以下の式で表される\n",
    "\n",
    "\\begin{eqnarray}\n",
    "\\frac{\\partial y}{\\partial x} = -\\frac{1}{x^2}=-y^2\n",
    "\\end{eqnarray}\n",
    "\n",
    "* ゆえに、逆伝播の時は、上流の値に対して$-y^2$を乗算して下流へ返す\n",
    "\n",
    "![ステップ1](./images/ステップ1.png)"
   ]
  },
  {
   "cell_type": "markdown",
   "metadata": {},
   "source": [
    "### ステップ2\n",
    "\n",
    "* 「+ノード」は、上流の値を下流にそのまま流すだけ\n",
    "\n",
    "![ステップ2](./images/ステップ2.png)"
   ]
  },
  {
   "attachments": {},
   "cell_type": "markdown",
   "metadata": {},
   "source": [
    "### ステップ3\n",
    "\n",
    "* 「expノード」は$y= \\exp (x)$を表し、その微分は次の式で表される\n",
    "\n",
    "\\begin{eqnarray}\n",
    "\\frac{\\partial y}{\\partial x} = \\exp (x)\n",
    "\\end{eqnarray}\n",
    "\n",
    "* 計算グラフでは、上流の値に対して、順伝播時の出力($\\exp (-x)$)を乗算して下流へ伝播する\n",
    "\n",
    "![ステップ3](./images/ステップ3.png)"
   ]
  },
  {
   "cell_type": "markdown",
   "metadata": {},
   "source": [
    "### ステップ4\n",
    "\n",
    "* 「$\\times$ノード」は、順伝播時の値を\"ひっくり返して\"乗算する\n",
    "\n",
    "    * ここでは$-1$を乗算する\n",
    "    \n",
    "![ステップ4](./images/ステップ4.png)"
   ]
  },
  {
   "cell_type": "markdown",
   "metadata": {},
   "source": [
    "* 上のようにして、計算グラフからSigmoidレイヤの逆伝播を行うことができた\n",
    "\n",
    "    * 上の結果から、逆伝播の出力は$\\frac{\\partial L}{\\partial y}y^2\\exp (-x)$となり、この値が下流にあるノードに伝播していく"
   ]
  },
  {
   "cell_type": "markdown",
   "metadata": {},
   "source": [
    "* ここで、大きくグループ化したものは、「sigmoid」ノードとして書くことができる\n",
    "\n",
    "    * 簡略版の計算グラフの方が、逆伝播の際の途中の計算を省略することができるので、効率の良い計算と言える\n",
    "    \n",
    "    * また、ノードをグループ化することによって、Sigmoidレイヤの細かい中身を気にすることなく、その入力と出力だけに集中することができる\n",
    "\n",
    "![Sigmoidレイヤの計算グラフ_簡略版](./images/Sigmoidレイヤの計算グラフ_簡略版.png)"
   ]
  },
  {
   "cell_type": "markdown",
   "metadata": {},
   "source": [
    "* また、上の式はさらに次のように整理して書くことができる\n",
    "\n",
    "\\begin{eqnarray}\n",
    "\\frac{\\partial L}{\\partial y}y^2\\exp (-x) = \\frac{\\partial L}{\\partial y}\\frac{1}{(1+\\exp(-x))^2}\\exp (-x) \\\\=\n",
    "\\frac{\\partial L}{\\partial y}\\frac{1}{1+\\exp(-x)}\\frac{\\exp (-x)}{1+\\exp(-x)} \\\\=\n",
    "\\frac{\\partial L}{\\partial y}y(1-y)\n",
    "\\end{eqnarray}\n",
    "\n",
    "* そのため、上の図で表されるSigmoidレイヤの逆伝播は、順伝播の出力だけから計算することができる\n",
    "\n",
    "![Sigmoidレイヤ_順伝播のみ](./images/Sigmoidレイヤ_順伝播のみ.png)"
   ]
  },
  {
   "cell_type": "markdown",
   "metadata": {},
   "source": [
    "* ここで、Sigmoidレイヤを実装する"
   ]
  },
  {
   "cell_type": "code",
   "execution_count": 4,
   "metadata": {},
   "outputs": [],
   "source": [
    "class Sigmoid:\n",
    "    def __init__(self):\n",
    "        self.out = None\n",
    "\n",
    "    def forward(self, x):\n",
    "#         out = sigmoid(x)\n",
    "        out = 1 / (1 + np.exp(-x))\n",
    "        self.out = out\n",
    "        return out\n",
    "\n",
    "    def backward(self, dout):\n",
    "        dx = dout * (1.0 - self.out) * self.out\n",
    "\n",
    "        return dx"
   ]
  },
  {
   "cell_type": "markdown",
   "metadata": {},
   "source": [
    "* この実装では、順伝播時に出力をインスタンス変数の`out`に保持しておく\n",
    "\n",
    "* そして、順伝播時に、その`out`変数を使って計算を行う"
   ]
  },
  {
   "cell_type": "markdown",
   "metadata": {},
   "source": [
    "| 版   | 年/月/日   |\n",
    "| ---- | ---------- |\n",
    "| 初版 | 2019/05/07 |"
   ]
  }
 ],
 "metadata": {
  "kernelspec": {
   "display_name": "Python 3",
   "language": "python",
   "name": "python3"
  },
  "language_info": {
   "codemirror_mode": {
    "name": "ipython",
    "version": 3
   },
   "file_extension": ".py",
   "mimetype": "text/x-python",
   "name": "python",
   "nbconvert_exporter": "python",
   "pygments_lexer": "ipython3",
   "version": "3.6.7"
  }
 },
 "nbformat": 4,
 "nbformat_minor": 2
}

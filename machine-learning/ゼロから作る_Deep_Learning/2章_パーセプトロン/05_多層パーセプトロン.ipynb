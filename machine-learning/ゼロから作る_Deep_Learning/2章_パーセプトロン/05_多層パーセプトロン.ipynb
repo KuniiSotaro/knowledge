{
 "cells": [
  {
   "cell_type": "markdown",
   "metadata": {},
   "source": [
    "05 多層パーセプトロン\n",
    "==================\n",
    "\n",
    "* パーセプトロンは、**層を重ねることができる**"
   ]
  },
  {
   "cell_type": "markdown",
   "metadata": {},
   "source": [
    "## 1. 既存ゲートの組み合わせ\n",
    "\n",
    "* まず、`AND`、`NAND`、`OR`ゲートを用いて、`XOR`ゲートを表現できるように配線する\n",
    "\n",
    "* ここで、`AND`、`NAND`、`OR`ゲートを以下の図で表現する"
   ]
  },
  {
   "cell_type": "markdown",
   "metadata": {},
   "source": [
    "![AND・OR・ NAND](./images/ANDORNAND.png)"
   ]
  },
  {
   "cell_type": "markdown",
   "metadata": {},
   "source": [
    "* `XOR`ゲートは、以下の配線で実現できる\n",
    "\n",
    "    * ここで、$x_1$、$x_2$が入力信号、$y$が出力信号を表す\n",
    "    \n",
    "    * $x_1$と$x_2$は`NAND`と`OR`ゲートの入力である\n",
    "    \n",
    "    * `NAND`と`OR`の出力が`AND`ゲートの入力となる"
   ]
  },
  {
   "cell_type": "markdown",
   "metadata": {},
   "source": [
    "![XORゲートをANDNANDORで表現](./images/XORゲートをANDNANDORで表現.png)"
   ]
  },
  {
   "cell_type": "markdown",
   "metadata": {},
   "source": [
    "* ここで、配線が本当に`XOR`を表現できているのかを表すために表を作成する\n",
    "\n",
    "    * `NAND`の出力：$s_1$\n",
    "    \n",
    "    * `OR`の出力：$s_2$"
   ]
  },
  {
   "cell_type": "markdown",
   "metadata": {},
   "source": [
    "| $x_1$ | $x_2$ | $s_1$ | $s_2$ | y   |\n",
    "| ----- | ----- | ----- | ----- | --- |\n",
    "| 0     | 0     | 1     | 0     | 0   |\n",
    "| 1     | 0     | 1     | 1     | 1   |\n",
    "| 0     | 1     | 1     | 1     | 1   |\n",
    "| 1     | 1     | 0     | 1     | 0    |"
   ]
  },
  {
   "cell_type": "markdown",
   "metadata": {},
   "source": [
    "## 2. XORゲートの実装\n",
    "\n",
    "* 続いて、`XOR`ゲートを実装する\n",
    "\n",
    "    * これまでに定義した`AND`、`NAND`、`OR`を使用する"
   ]
  },
  {
   "cell_type": "code",
   "execution_count": 1,
   "metadata": {},
   "outputs": [],
   "source": [
    "import numpy as np\n",
    "\n",
    "# ANDゲート\n",
    "def AND(x1, x2):\n",
    "    x = np.array([x1, x2])\n",
    "    w = np.array([0.5, 0.5])\n",
    "    b = -0.7\n",
    "    tmp = np.sum(w*x) + b\n",
    "    if tmp <= 0:\n",
    "        return 0\n",
    "    else:\n",
    "        return 1\n",
    "    \n",
    "# NANDゲート\n",
    "def NAND(x1, x2):\n",
    "    x = np.array([x1, x2])\n",
    "    w = np.array([-0.5, -0.5])\n",
    "    b = 0.7\n",
    "    tmp = np.sum(w*x) + b\n",
    "    if tmp <= 0:\n",
    "        return 0\n",
    "    else:\n",
    "        return 1\n",
    "    \n",
    "# ORゲート\n",
    "def OR(x1, x2):\n",
    "    x = np.array([x1, x2])\n",
    "    w = np.array([0.5, 0.5])\n",
    "    b = -0.2\n",
    "    tmp = np.sum(w*x) + b\n",
    "    if tmp <= 0:\n",
    "        return 0\n",
    "    else:\n",
    "        return 1\n",
    "    "
   ]
  },
  {
   "cell_type": "code",
   "execution_count": 2,
   "metadata": {},
   "outputs": [],
   "source": [
    "# XORゲート\n",
    "def XOR(x1, x2):\n",
    "    s1 = NAND(x1, x2)\n",
    "    s2 = OR(x1, x2)\n",
    "    y = AND(s1, s2)\n",
    "    return y"
   ]
  },
  {
   "cell_type": "markdown",
   "metadata": {},
   "source": [
    "* この`XOR`関数は、期待した通りの結果を出力する"
   ]
  },
  {
   "cell_type": "code",
   "execution_count": 3,
   "metadata": {},
   "outputs": [
    {
     "data": {
      "text/plain": [
       "0"
      ]
     },
     "execution_count": 3,
     "metadata": {},
     "output_type": "execute_result"
    }
   ],
   "source": [
    "XOR(0, 0)"
   ]
  },
  {
   "cell_type": "code",
   "execution_count": 4,
   "metadata": {},
   "outputs": [
    {
     "data": {
      "text/plain": [
       "1"
      ]
     },
     "execution_count": 4,
     "metadata": {},
     "output_type": "execute_result"
    }
   ],
   "source": [
    "XOR(1, 0)"
   ]
  },
  {
   "cell_type": "code",
   "execution_count": 5,
   "metadata": {},
   "outputs": [
    {
     "data": {
      "text/plain": [
       "1"
      ]
     },
     "execution_count": 5,
     "metadata": {},
     "output_type": "execute_result"
    }
   ],
   "source": [
    "XOR(0, 1)"
   ]
  },
  {
   "cell_type": "code",
   "execution_count": 6,
   "metadata": {},
   "outputs": [
    {
     "data": {
      "text/plain": [
       "0"
      ]
     },
     "execution_count": 6,
     "metadata": {},
     "output_type": "execute_result"
    }
   ],
   "source": [
    "XOR(1, 1)"
   ]
  },
  {
   "cell_type": "markdown",
   "metadata": {},
   "source": [
    "* 今実装した`XOR`を、パーセプトロンの表現(ニューロンを明示的に示して)表してみる"
   ]
  },
  {
   "cell_type": "markdown",
   "metadata": {},
   "source": [
    "![XORのパーセプトロンによる表記](./images/XORのパーセプトロンによる表記.png)"
   ]
  },
  {
   "cell_type": "markdown",
   "metadata": {},
   "source": [
    "* `XOR`は、上の図のような多層構造のネットワーク\n",
    "\n",
    "    * 一番左の段：第0層\n",
    "    \n",
    "    * その右の段：第1層\n",
    "    \n",
    "    * 一番右の段：第2層"
   ]
  },
  {
   "cell_type": "markdown",
   "metadata": {},
   "source": [
    "* 層を複数重ねたパーセプトロンを、`多層パーセプトロン`と呼ぶ\n",
    "\n",
    "* 上の図のような2層のパーセプトロンでは、第0層と第1層のニューロンの間で信号の送受信が行われ、続いて第1層と第2層の間で送受信が行われる"
   ]
  },
  {
   "cell_type": "markdown",
   "metadata": {},
   "source": [
    "1. 第0層の2つのニューロンが入力信号を受け取り、第1層のニューロンへの信号を送る\n",
    "\n",
    "1. 第1層のニューロンが第2層のニューロンへ信号を送り、第2層目のニューロンは$y$を出力する"
   ]
  },
  {
   "cell_type": "markdown",
   "metadata": {},
   "source": [
    "* このように、`XOR`ゲートのパーセプトロンでは、作業者の間で\"部品の手渡し\"が行われる\n",
    "\n",
    "    * そのような構造(2層構造)にすることで、パーセプトロンは`XOR`ゲートを実現することが可能になった\n",
    "    \n",
    "    * つまり、パーセプトロンは、層を重ねる(深くする)ことで、より柔軟な表現ができるようになった"
   ]
  },
  {
   "cell_type": "markdown",
   "metadata": {},
   "source": [
    "| 版   | 年/月/日   |\n",
    "| ---- | ---------- |\n",
    "| 初版 | 2019/04/30 |"
   ]
  }
 ],
 "metadata": {
  "kernelspec": {
   "display_name": "Python 3",
   "language": "python",
   "name": "python3"
  },
  "language_info": {
   "codemirror_mode": {
    "name": "ipython",
    "version": 3
   },
   "file_extension": ".py",
   "mimetype": "text/x-python",
   "name": "python",
   "nbconvert_exporter": "python",
   "pygments_lexer": "ipython3",
   "version": "3.6.5"
  }
 },
 "nbformat": 4,
 "nbformat_minor": 2
}

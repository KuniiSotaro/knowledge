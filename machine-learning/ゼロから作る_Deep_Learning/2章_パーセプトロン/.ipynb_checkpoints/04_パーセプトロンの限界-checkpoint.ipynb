{
 "cells": [
  {
   "cell_type": "markdown",
   "metadata": {},
   "source": [
    "04 パーセプトロンの限界\n",
    "===================\n",
    "\n",
    "## 1. XORゲート\n",
    "\n",
    "* `XOR`ゲート：**排他的論理和**\n",
    "\n",
    "    * $x_1$と$x_2$のどちらかが`1`の時だけ出力が`1`となる\n",
    "    \n",
    "|$x_1$|$x_2$|$y$|\n",
    "|--|--|--|\n",
    "|0|0|0|\n",
    "|1|0|1|\n",
    "|0|1|1|\n",
    "|1|1|1|"
   ]
  },
  {
   "cell_type": "markdown",
   "metadata": {},
   "source": [
    "* しかし、これまで見てきたパーセプトロンでは、この`XOR`ゲートを実現することはできない"
   ]
  },
  {
   "cell_type": "markdown",
   "metadata": {},
   "source": [
    "### ORゲートの場合\n",
    "\n",
    "* `OR`ゲートでは、例えばパラメータが$(b, w_1, w_2) = (-0.5, 1.0, 1.0)$の時、真理値表を満たす\n",
    "\n",
    "\\begin{eqnarray}\n",
    "y = \\left\\{\n",
    "\\begin{array}{ll}\n",
    "1 & (-0.5 + x_1 + x_2 \\leqq 0) \\\\\n",
    "0 & (-0.5 + x_1 + x_2 > 0)\n",
    "\\end{array}\n",
    "\\right.\n",
    "\\end{eqnarray}"
   ]
  },
  {
   "cell_type": "markdown",
   "metadata": {},
   "source": [
    "* 上の図で表されるパーセプトロンは、$-0.5 + x_1 + x_2 = 0$の直線で分断された2つの領域を作る\n",
    "\n",
    "    * 直線で分けられた片方の領域は`1`を出力する\n",
    "    \n",
    "    * もう片方は、`0`を出力する"
   ]
  },
  {
   "cell_type": "markdown",
   "metadata": {},
   "source": [
    "![ORゲートの可視化](./images/ORゲートの可視化.png)"
   ]
  },
  {
   "cell_type": "markdown",
   "metadata": {},
   "source": [
    "* `OR`ゲートは、$(x_1, x_2) = (0, 0)$の時`0`を出力する\n",
    "\n",
    "    * $(0, 1)$、$(1, 0)$、$(1,1)$のとき`1`を出力する\n",
    "    \n",
    "    * 図では、`0`を○、`1`を△で表現している\n",
    "    \n",
    "    * ここでは、この直線は4つの点を正しく分けることができている"
   ]
  },
  {
   "cell_type": "markdown",
   "metadata": {},
   "source": [
    "### XORゲートの場合\n",
    "\n",
    "* `OR`ゲートの時のように、1本の直線によって○と△を分ける領域を作り出すことを考える"
   ]
  },
  {
   "cell_type": "markdown",
   "metadata": {},
   "source": [
    "![XORゲートの可視化](./images/XORゲートの可視化.png)"
   ]
  },
  {
   "cell_type": "markdown",
   "metadata": {},
   "source": [
    "* この図からわかる通り、1本の直線では○と△を分けることはできない"
   ]
  },
  {
   "cell_type": "markdown",
   "metadata": {},
   "source": [
    "## 2. 線形と非線形\n",
    "\n",
    "* パーセプトロンの限界は、1本の直線で分けた領域だけしか表現できない点にある\n",
    "\n",
    "    * ただし、以下の図のように非線形であれば領域を区別できる"
   ]
  },
  {
   "cell_type": "markdown",
   "metadata": {},
   "source": [
    "![非線形なXOR](./images/非線形なXOR.png)"
   ]
  },
  {
   "cell_type": "markdown",
   "metadata": {},
   "source": [
    "| 版   | 年/月/日   |\n",
    "| ---- | ---------- |\n",
    "| 初版 | 2019/04/30 |"
   ]
  }
 ],
 "metadata": {
  "kernelspec": {
   "display_name": "Python 3",
   "language": "python",
   "name": "python3"
  },
  "language_info": {
   "codemirror_mode": {
    "name": "ipython",
    "version": 3
   },
   "file_extension": ".py",
   "mimetype": "text/x-python",
   "name": "python",
   "nbconvert_exporter": "python",
   "pygments_lexer": "ipython3",
   "version": "3.6.5"
  }
 },
 "nbformat": 4,
 "nbformat_minor": 2
}

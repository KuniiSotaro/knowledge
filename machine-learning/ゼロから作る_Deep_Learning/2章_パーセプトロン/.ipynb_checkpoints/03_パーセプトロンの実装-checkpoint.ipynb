{
 "cells": [
  {
   "cell_type": "markdown",
   "metadata": {},
   "source": [
    "03 パーセプトロンの実装\n",
    "==================="
   ]
  },
  {
   "cell_type": "markdown",
   "metadata": {},
   "source": [
    "## 1. 簡単な実装\n",
    "\n",
    "* 引数として`x1`と`x2`を受け取る`AND`という関数を定義する"
   ]
  },
  {
   "cell_type": "code",
   "execution_count": 1,
   "metadata": {},
   "outputs": [],
   "source": [
    "def AND(x1, x2):\n",
    "    w1, w2, theta = 0.5, 0.5, 0.7\n",
    "    tmp = x1*w1 + x2*w2\n",
    "    if tmp <= theta:\n",
    "        return 0\n",
    "    elif tmp > theta:\n",
    "        return 1"
   ]
  },
  {
   "cell_type": "markdown",
   "metadata": {},
   "source": [
    "* パラメータの`w1`、`w2`、`theta`は関数内で初期化し、重み付き入力の総和が閾値を越えると`1`を返し、それ以外は`0`を返す"
   ]
  },
  {
   "cell_type": "code",
   "execution_count": 3,
   "metadata": {},
   "outputs": [
    {
     "data": {
      "text/plain": [
       "0"
      ]
     },
     "execution_count": 3,
     "metadata": {},
     "output_type": "execute_result"
    }
   ],
   "source": [
    "AND(0, 0)"
   ]
  },
  {
   "cell_type": "code",
   "execution_count": 4,
   "metadata": {},
   "outputs": [
    {
     "data": {
      "text/plain": [
       "0"
      ]
     },
     "execution_count": 4,
     "metadata": {},
     "output_type": "execute_result"
    }
   ],
   "source": [
    "AND(1, 0)"
   ]
  },
  {
   "cell_type": "code",
   "execution_count": 5,
   "metadata": {},
   "outputs": [
    {
     "data": {
      "text/plain": [
       "0"
      ]
     },
     "execution_count": 5,
     "metadata": {},
     "output_type": "execute_result"
    }
   ],
   "source": [
    "AND(0, 1)"
   ]
  },
  {
   "cell_type": "code",
   "execution_count": 6,
   "metadata": {},
   "outputs": [
    {
     "data": {
      "text/plain": [
       "1"
      ]
     },
     "execution_count": 6,
     "metadata": {},
     "output_type": "execute_result"
    }
   ],
   "source": [
    "AND(1, 1)"
   ]
  },
  {
   "cell_type": "markdown",
   "metadata": {},
   "source": [
    "* 同様の手順で、`NAND`ゲートや、`OR`ゲートも実装することができる"
   ]
  },
  {
   "cell_type": "markdown",
   "metadata": {},
   "source": [
    "## 2. 重みとバイアスの導入\n",
    "\n",
    "* $\\theta$を、$-b$として、パーセプトロンの動作を次の式で表す\n",
    "\n",
    "\\begin{eqnarray}\n",
    "y = \\left\\{\n",
    "\\begin{array}{ll}\n",
    "1 & (b + w_1x_1 + w_2x_2 \\leqq 0) \\\\\n",
    "0 & (b + w_1x_1 + w_2x_2 > 0)\n",
    "\\end{array}\n",
    "\\right.\n",
    "\\end{eqnarray}"
   ]
  },
  {
   "cell_type": "markdown",
   "metadata": {},
   "source": [
    "* ここで、$b$を`バイアス`と呼び、$w_1$や$w_2$を`重み`と呼ぶ\n",
    "\n",
    "* パーセプトロンでは、入力信号に重みが乗算された値と、バイアスの和が計算される\n",
    "\n",
    "    * その値が0を上回れば1を出力し、そうでなければ0を出力する"
   ]
  },
  {
   "cell_type": "code",
   "execution_count": 7,
   "metadata": {},
   "outputs": [
    {
     "data": {
      "text/plain": [
       "array([0. , 0.5])"
      ]
     },
     "execution_count": 7,
     "metadata": {},
     "output_type": "execute_result"
    }
   ],
   "source": [
    "import numpy as np\n",
    "\n",
    "# 入力\n",
    "x = np.array([0, 1])\n",
    "\n",
    "# 重み\n",
    "w = np.array([0.5, 0.5])\n",
    "\n",
    "# バイアス\n",
    "b = -0.7\n",
    "\n",
    "w * x"
   ]
  },
  {
   "cell_type": "code",
   "execution_count": 8,
   "metadata": {},
   "outputs": [
    {
     "data": {
      "text/plain": [
       "0.5"
      ]
     },
     "execution_count": 8,
     "metadata": {},
     "output_type": "execute_result"
    }
   ],
   "source": [
    "np.sum(w * x)"
   ]
  },
  {
   "cell_type": "code",
   "execution_count": 9,
   "metadata": {},
   "outputs": [
    {
     "data": {
      "text/plain": [
       "-0.19999999999999996"
      ]
     },
     "execution_count": 9,
     "metadata": {},
     "output_type": "execute_result"
    }
   ],
   "source": [
    "np.sum(w * x) + b"
   ]
  },
  {
   "cell_type": "markdown",
   "metadata": {},
   "source": [
    "* この例で示すように、NumPy配列の乗算では、2つの配列の要素数が同じ場合、その要素同士が乗算される\n",
    "\n",
    "    * そのため、`w * x`の計算では、各要素の乗算が計算される事になる\n",
    "    \n",
    "    * `[0, 1] * [0.5, 0.5] => [0, 0.5]`\n",
    "    "
   ]
  },
  {
   "cell_type": "markdown",
   "metadata": {},
   "source": [
    "* また、`np.sum(w * x)`では各要素の総和が計算される\n",
    "\n",
    "    * この重み付き和にバイアスを加算すれば、計算が終了する"
   ]
  },
  {
   "cell_type": "markdown",
   "metadata": {},
   "source": [
    "## 3. 重みとバイアスによる実装\n",
    "\n",
    "* `AND`ゲートは、以下のように実装できる"
   ]
  },
  {
   "cell_type": "code",
   "execution_count": 10,
   "metadata": {},
   "outputs": [],
   "source": [
    "def AND(x1, x2):\n",
    "    x = np.array([x1, x2])\n",
    "    w = np.array([0.5, 0.5])\n",
    "    b = -0.7\n",
    "    tmp = np.sum(w * x) + b\n",
    "    if tmp <= 0:\n",
    "        return 0\n",
    "    else:\n",
    "        return 1"
   ]
  },
  {
   "cell_type": "markdown",
   "metadata": {},
   "source": [
    "* ここで、$-\\theta$をバイアス$b$と命名したが、バイアスは、重みの$w_1$や$w_2$とは別の働きをする\n",
    "\n",
    "    * 具体的には、$w_1$や$w_2$は入力信号への重要度をコントロールするパラメータとして機能する\n",
    "    \n",
    "    * バイアスは、発火のしやすさ(出力信号が`1`を出力する度合い)を調整するパラメータといて機能する\n",
    "    \n",
    "        * $b=-0.1$であれば、入力信号の重み付き和が`0.1`を上回るだけでニューロンが発火する\n",
    "        \n",
    "        * $b=-20.0$であれば、入力信号の重み付き和が`20.0`を上回らなければニューロンは発火しない"
   ]
  },
  {
   "cell_type": "markdown",
   "metadata": {},
   "source": [
    "* このように、バイアスの値によってニューロンの発火のしやすさが決まる\n",
    "\n",
    "> バイアスは、「下駄履き」という意味がある\n",
    ">\n",
    "> これは、入力が何もない時に(入力が0の時に)、出力にどれだけ下駄を履かせるか(値を上乗せするか)ということを意味する"
   ]
  },
  {
   "cell_type": "markdown",
   "metadata": {},
   "source": [
    "* `NAND`ゲートと、`OR`ゲートを実装する"
   ]
  },
  {
   "cell_type": "code",
   "execution_count": 11,
   "metadata": {},
   "outputs": [],
   "source": [
    "def NAND(x1, x2):\n",
    "    x = np.array([x1, x2])\n",
    "    \n",
    "    # 重みとバイアスだけがANDと異なる\n",
    "    w = np.array([-0.5, -0.5])\n",
    "    b = 0.7\n",
    "    \n",
    "    tmp = np.sum(w * x) + b\n",
    "    if tmp <=0:\n",
    "        return 0\n",
    "    else:\n",
    "        return 1"
   ]
  },
  {
   "cell_type": "code",
   "execution_count": 12,
   "metadata": {},
   "outputs": [],
   "source": [
    "def OR(x1, x2):\n",
    "    x = np.array([x1, x2])\n",
    "    \n",
    "    # 重みとバイアスだけがANDと異なる\n",
    "    w = np.array([0.5, 0.5])\n",
    "    b = -0.2\n",
    "    \n",
    "    tmp = np.sum(w * x) + b\n",
    "    if tmp <= 0:\n",
    "        return 0\n",
    "    else:\n",
    "        return 1"
   ]
  },
  {
   "cell_type": "markdown",
   "metadata": {},
   "source": [
    "| 版   | 年/月/日   |\n",
    "| ---- | ---------- |\n",
    "| 初版 | 2019/04/30 |"
   ]
  }
 ],
 "metadata": {
  "kernelspec": {
   "display_name": "Python 3",
   "language": "python",
   "name": "python3"
  },
  "language_info": {
   "codemirror_mode": {
    "name": "ipython",
    "version": 3
   },
   "file_extension": ".py",
   "mimetype": "text/x-python",
   "name": "python",
   "nbconvert_exporter": "python",
   "pygments_lexer": "ipython3",
   "version": "3.6.5"
  }
 },
 "nbformat": 4,
 "nbformat_minor": 2
}

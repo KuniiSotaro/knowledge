{
 "cells": [
  {
   "cell_type": "markdown",
   "metadata": {},
   "source": [
    "02 活性化関数\n",
    "============\n",
    "\n",
    "* `活性化関数`は、閾値を境にして出力が切り替わる関数\n",
    "    \n",
    "    * 「ステップ関数」、「階段関数」と呼ばれる\n",
    "    \n",
    "    * そのため、「パーセプトロンでは、活性化関数にステップ関数を利用している」ということができる\n",
    "    \n",
    "* `活性化関数`をステップ関数以外の関数に変更することで、ニューラルネットワークの世界へと進むことができる"
   ]
  },
  {
   "cell_type": "markdown",
   "metadata": {},
   "source": [
    "## 1. シグモイド関数\n",
    "\n",
    "* `シグモイド関数`：ニューラルネットワークでよく用いられる関数のうちの1つ\n",
    "\n",
    "\\begin{eqnarray}\n",
    "h(x) = \\frac{1}{1 + \\exp (-x)}\n",
    "\\end{eqnarray}"
   ]
  },
  {
   "cell_type": "markdown",
   "metadata": {},
   "source": [
    "* ニューラルネットワークでは、活性化関数にシグモイド関数を用いて信号の変換を行い、その変換された信号が次のニューロンに伝えられる\n",
    "\n",
    "    * 基本的には、パーセプトロンの違いはこの活性化関数のみ"
   ]
  },
  {
   "cell_type": "markdown",
   "metadata": {},
   "source": [
    "## 2. ステップ関数\n",
    "\n",
    "* `ステップ関数`：入力が`0`を超えたら`1`を出力し、それ以外は`0`を出力する関数\n",
    "\n",
    "    * 実装は、以下の通りになる"
   ]
  },
  {
   "cell_type": "code",
   "execution_count": 1,
   "metadata": {},
   "outputs": [],
   "source": [
    "def step_function(x):\n",
    "    if x > 0:\n",
    "        return 1\n",
    "    else:\n",
    "        return 0"
   ]
  },
  {
   "cell_type": "markdown",
   "metadata": {},
   "source": [
    "* ただし、引数の`x`にNumPyの配列を入れることはできない\n",
    "\n",
    "    * そのため、NumPy配列に対応した実装に修正する"
   ]
  },
  {
   "cell_type": "code",
   "execution_count": 2,
   "metadata": {},
   "outputs": [],
   "source": [
    "def step_function(x):\n",
    "    y = x > 0\n",
    "    return y.astype(np.int)"
   ]
  },
  {
   "cell_type": "markdown",
   "metadata": {},
   "source": [
    "* ここでは、NumPyの便利なトリックを用いている\n",
    "\n",
    "    * 例)`x`というNumPy配列を用意し、そのNumPy配列に対して不等号による演算を行う"
   ]
  },
  {
   "cell_type": "code",
   "execution_count": 3,
   "metadata": {},
   "outputs": [
    {
     "data": {
      "text/plain": [
       "array([-1.,  1.,  2.])"
      ]
     },
     "execution_count": 3,
     "metadata": {},
     "output_type": "execute_result"
    }
   ],
   "source": [
    "import numpy as np\n",
    "x = np.array([-1.0, 1.0, 2.0])\n",
    "x"
   ]
  },
  {
   "cell_type": "code",
   "execution_count": 4,
   "metadata": {},
   "outputs": [
    {
     "data": {
      "text/plain": [
       "array([False,  True,  True])"
      ]
     },
     "execution_count": 4,
     "metadata": {},
     "output_type": "execute_result"
    }
   ],
   "source": [
    "y = x > 0\n",
    "y"
   ]
  },
  {
   "cell_type": "markdown",
   "metadata": {},
   "source": [
    "* NumPy配列に対して不等号の演算を行うと、配列の各要素に対して不等号の演算が行われ、booleanの配列が生成される\n",
    "\n",
    "* ここでは、私たちの望む配列は0か1の「int型」を出力する関数\n",
    "\n",
    "    * そのため、配列`y`の要素の型をbooleanからint型に変更する"
   ]
  },
  {
   "cell_type": "code",
   "execution_count": 5,
   "metadata": {},
   "outputs": [
    {
     "data": {
      "text/plain": [
       "array([0, 1, 1])"
      ]
     },
     "execution_count": 5,
     "metadata": {},
     "output_type": "execute_result"
    }
   ],
   "source": [
    "y = y.astype(np.int)\n",
    "y"
   ]
  },
  {
   "cell_type": "markdown",
   "metadata": {},
   "source": [
    "* NumPy配列の型の変換には、`astype()`メソッドを用いる\n",
    "\n",
    "    * このメソッドでは、引数に希望する型を指定する\n",
    "    \n",
    "* なお、Pythonではboolean型からint型に変換すると、Trueが`1`に、Falseが`0`に変換される"
   ]
  },
  {
   "cell_type": "markdown",
   "metadata": {},
   "source": [
    "## 3. ステップ関数のグラフ\n",
    "\n",
    "* matplotlibを用いて、上記で定義した`ステップ関数`を表してみる"
   ]
  },
  {
   "cell_type": "code",
   "execution_count": 6,
   "metadata": {},
   "outputs": [
    {
     "data": {
      "text/plain": [
       "(-0.1, 1.1)"
      ]
     },
     "execution_count": 6,
     "metadata": {},
     "output_type": "execute_result"
    },
    {
     "data": {
      "image/png": "[encoded data removed]",
      "text/plain": [
       "<Figure size 432x288 with 1 Axes>"
      ]
     },
     "metadata": {
      "needs_background": "light"
     },
     "output_type": "display_data"
    }
   ],
   "source": [
    "import numpy as np\n",
    "import matplotlib.pylab as plt\n",
    "%matplotlib inline\n",
    "\n",
    "\n",
    "def step_function(x):\n",
    "    return np.array(x > 0, dtype=np.int)\n",
    "\n",
    "X = np.arange(-5.0, 5.0, 0.1)\n",
    "Y = step_function(X)\n",
    "plt.plot(X, Y)\n",
    "plt.ylim(-0.1, 1.1)  # 図で描画するy軸の範囲を指定"
   ]
  },
  {
   "cell_type": "markdown",
   "metadata": {},
   "source": [
    "* ステップ関数は`0`を境にして、出力が`0`から`1`へ切り替わる\n",
    "\n",
    "    * 上の図のように、階段状に値が切り替わる形から、ステップ関数は「階段関数」と呼ばれることもある"
   ]
  },
  {
   "cell_type": "markdown",
   "metadata": {},
   "source": [
    "## 4. シグモイド関数の実装\n",
    "\n",
    "* `シグモイド関数`は、以下の通りに実装することができる"
   ]
  },
  {
   "cell_type": "code",
   "execution_count": 7,
   "metadata": {},
   "outputs": [],
   "source": [
    "def sigmoid(x):\n",
    "    return 1 / (1 + np.exp(-x))"
   ]
  },
  {
   "cell_type": "markdown",
   "metadata": {},
   "source": [
    "* 引数の`x`にNumPy配列を入力しても、結果は正しく計算される"
   ]
  },
  {
   "cell_type": "code",
   "execution_count": 8,
   "metadata": {},
   "outputs": [
    {
     "data": {
      "text/plain": [
       "array([0.26894142, 0.73105858, 0.88079708])"
      ]
     },
     "execution_count": 8,
     "metadata": {},
     "output_type": "execute_result"
    }
   ],
   "source": [
    "x = np.array([-1.0, 1.0, 2.0])\n",
    "sigmoid(x)"
   ]
  },
  {
   "cell_type": "markdown",
   "metadata": {},
   "source": [
    "* この機能は、NumPyのブロードキャストから生じている\n",
    "\n",
    "    * スカラ値とNumPy配列での演算が行われると、スカラ値とNumPy配列の各要素同士で演算が行われる"
   ]
  },
  {
   "cell_type": "code",
   "execution_count": 9,
   "metadata": {},
   "outputs": [
    {
     "data": {
      "text/plain": [
       "array([2., 3., 4.])"
      ]
     },
     "execution_count": 9,
     "metadata": {},
     "output_type": "execute_result"
    }
   ],
   "source": [
    "t = np.array([1.0, 2.0, 3.0])\n",
    "1.0 + t"
   ]
  },
  {
   "cell_type": "code",
   "execution_count": 10,
   "metadata": {},
   "outputs": [
    {
     "data": {
      "text/plain": [
       "array([1.        , 0.5       , 0.33333333])"
      ]
     },
     "execution_count": 10,
     "metadata": {},
     "output_type": "execute_result"
    }
   ],
   "source": [
    "1.0 / t"
   ]
  },
  {
   "cell_type": "markdown",
   "metadata": {},
   "source": [
    "* 先のシグモイド関数の実装でも、`np.exp(-x)`はNumPy配列を生成するため、`1 / (1 + np.exp(-x))`の結果は、NumPy配列の各要素の間で計算される"
   ]
  },
  {
   "cell_type": "markdown",
   "metadata": {},
   "source": [
    "* 実際にシグモイド関数を描画する"
   ]
  },
  {
   "cell_type": "code",
   "execution_count": 11,
   "metadata": {},
   "outputs": [
    {
     "data": {
      "text/plain": [
       "(-0.1, 1.1)"
      ]
     },
     "execution_count": 11,
     "metadata": {},
     "output_type": "execute_result"
    },
    {
     "data": {
      "image/png": "[encoded data removed]",
      "text/plain": [
       "<Figure size 432x288 with 1 Axes>"
      ]
     },
     "metadata": {
      "needs_background": "light"
     },
     "output_type": "display_data"
    }
   ],
   "source": [
    "x = np.arange(-5.0, 5.0, 0.1)\n",
    "y = sigmoid(x)\n",
    "plt.plot(x, y)\n",
    "plt.ylim(-0.1, 1.1)"
   ]
  },
  {
   "cell_type": "markdown",
   "metadata": {},
   "source": [
    "## 5. シグモイド関数とステップ関数の比較\n",
    "\n",
    "* 見てまず気づく点は、「滑らかさの違い」\n",
    "\n",
    "    * シグモイド関数は滑らかな曲線であり、入力に対して連続的に出力が変化する\n",
    "    \n",
    "    * 一方、ステップ関数は0を境に急に出力を変えている\n",
    "    \n",
    "    * このシグモイド関数の滑らかさが、ニューラルネットワークの学習において重要な意味を持つ\n",
    "    "
   ]
  },
  {
   "cell_type": "code",
   "execution_count": 12,
   "metadata": {},
   "outputs": [
    {
     "data": {
      "text/plain": [
       "<matplotlib.legend.Legend at 0x10e4ab048>"
      ]
     },
     "execution_count": 12,
     "metadata": {},
     "output_type": "execute_result"
    },
    {
     "data": {
      "image/png": "[encoded data removed]",
      "text/plain": [
       "<Figure size 432x288 with 1 Axes>"
      ]
     },
     "metadata": {
      "needs_background": "light"
     },
     "output_type": "display_data"
    }
   ],
   "source": [
    "plt.plot(x, y, label=\"step\")\n",
    "plt.plot(X, Y, linestyle=\"--\", label=\"sigmoid\")\n",
    "plt.legend()"
   ]
  },
  {
   "cell_type": "markdown",
   "metadata": {},
   "source": [
    "* また、ステップ関数が`0`か`1`のどちらかの値しか返さないのに対して、シグモイド関数は実数(`0.72`、`0.88`など)を返す\n",
    "    \n",
    "    * つまり、パーセプトロンではニューロン間を`0`か`1`の二値の信号が流れていたのに対して、\n",
    "    \n",
    "    * ニューラルネットワークでは連続的な実数値の信号が流れる\n",
    "    "
   ]
  },
  {
   "cell_type": "markdown",
   "metadata": {},
   "source": [
    "### ステップ関数とシグモイド関数の共通点\n",
    "\n",
    "* 大きな視点で見ると、同じような形をしている\n",
    "\n",
    "    * 実際、両者とも入力が小さい時には`0`に近く、入力が大きくなると`1`に近づく\n",
    "    \n",
    "    * 入力信号が重要な情報であれば大きな値を出力し、入力信号が重要でなければ小さな値を出力する\n",
    "    \n",
    "    * また、どんなに入力信号の値が小さくても、またどんなに入力信号の値が大きくても、出力信号の値を0から1の間に押し込める"
   ]
  },
  {
   "cell_type": "markdown",
   "metadata": {},
   "source": [
    "## 6. 非線形関数\n",
    "\n",
    "* 重要な共通点として、両者は共に**非線形関数**であること\n",
    "\n",
    "* シグモイド関数は曲線、ステップ関数は階段のような折れ曲がった直線で表され、共に非線形な関数として分類される"
   ]
  },
  {
   "cell_type": "markdown",
   "metadata": {},
   "source": [
    "* ニューラルネットワークでは、活性化関数に非線形関数を用いる必要がある\n",
    "\n",
    "    * これは、活性化関数に線形関数を用いてはいけない\n",
    "    \n",
    "    * 理由として、線形関数を用いると、ニューラルネットワークで層を深くする意味がなくなってしまうため"
   ]
  },
  {
   "cell_type": "markdown",
   "metadata": {},
   "source": [
    "* 線形関数の問題点は、どんなに層を深くしても、それと同じことを行う「隠れ層のないネットワーク」が必ず存在するため\n",
    "\n",
    "* 線形関数$h(x)=cx$を活性化関数として、$y(x)=h(h(h(x)))$を行う計算を3層のネットワークに対応させて考える\n",
    "\n",
    "    * この計算は$y(x)=c \\times c \\times c \\times x$の掛け算を行う\n",
    "    \n",
    "    * しかし、同じことは$y(x)=ax$(ただし、$a = c^3$)の一回の掛け算で表現できる(隠れ層のないニューラルネットーワークになる)"
   ]
  },
  {
   "cell_type": "markdown",
   "metadata": {},
   "source": [
    "## 7. ReLu関数\n",
    "\n",
    "* 最近では、活性化関数として`ReLu関数`が主に用いられる\n",
    "\n",
    "    * これは、入力が`0`を超えていれば、そのまま入力を出力する\n",
    "    \n",
    "    * `0`以下ならば、`0`を出力する関数\n",
    "    \n",
    "\\begin{eqnarray}\n",
    "h(x) = \\left\\{\n",
    "\\begin{array}{ll}\n",
    "x & (x > 0) \\\\\n",
    "0 & (x \\leq 0)\n",
    "\\end{array}\n",
    "\\right.\n",
    "\\end{eqnarray}"
   ]
  },
  {
   "cell_type": "markdown",
   "metadata": {},
   "source": [
    "* `ReLu関数`はとてもシンプルな関数なので、実装も以下の通りに簡単にできる"
   ]
  },
  {
   "cell_type": "code",
   "execution_count": 13,
   "metadata": {},
   "outputs": [],
   "source": [
    "def relu(x):\n",
    "    return np.maximum(0, x)"
   ]
  },
  {
   "cell_type": "markdown",
   "metadata": {},
   "source": [
    "* NumPyの`maximum`という関数を用いており、これは入力された値から大きい方の値を選んで出力する関数"
   ]
  },
  {
   "cell_type": "markdown",
   "metadata": {},
   "source": [
    "| 版   | 年/月/日   |\n",
    "| ---- | ---------- |\n",
    "| 初版 | 2019/05/01 |"
   ]
  }
 ],
 "metadata": {
  "kernelspec": {
   "display_name": "Python 3",
   "language": "python",
   "name": "python3"
  },
  "language_info": {
   "codemirror_mode": {
    "name": "ipython",
    "version": 3
   },
   "file_extension": ".py",
   "mimetype": "text/x-python",
   "name": "python",
   "nbconvert_exporter": "python",
   "pygments_lexer": "ipython3",
   "version": "3.6.5"
  }
 },
 "nbformat": 4,
 "nbformat_minor": 2
}

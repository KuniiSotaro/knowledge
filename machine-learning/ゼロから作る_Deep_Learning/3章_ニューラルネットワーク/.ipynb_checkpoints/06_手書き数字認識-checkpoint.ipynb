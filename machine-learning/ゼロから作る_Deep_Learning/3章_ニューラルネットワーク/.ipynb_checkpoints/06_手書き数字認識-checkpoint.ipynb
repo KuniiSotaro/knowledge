{
 "cells": [
  {
   "cell_type": "markdown",
   "metadata": {},
   "source": [
    "06 手書き数字認識\n",
    "==============\n",
    "\n",
    "* ここでは、手書き数字画像の分類を行う\n",
    "\n",
    "* 学習はすでに完了したものとして、学習済みのパラメータを使って、ニューラルネットワークの「推論処理」だけを行う\n",
    "\n",
    "    * この推論処理は、ニューラルネットワークの`順方向伝播`とも呼ぶ"
   ]
  },
  {
   "cell_type": "markdown",
   "metadata": {},
   "source": [
    "## 1. MNISTデータセット\n",
    "\n",
    "* MNISTデータセットは、`0`から`9`までの数字画像から構成される\n",
    "\n",
    "    * 訓練画像が60,000枚、テスト画像が10,000枚用意されており、それらの画像を使って学習と推論を行う\n",
    "    \n",
    "    * 一般的なMNISTデータセットの使い方では、訓練画像を使って学習を行い、学習したモデルでテスト画像に対してどれだけ正しく分類できるかを計測する"
   ]
  },
  {
   "cell_type": "markdown",
   "metadata": {},
   "source": [
    "* MNISTの画像データは$28 \\times 28$のグレー画像(1チャンネル)で、各ピクセルは`0`から`255`までの値をとる\n",
    "\n",
    "    * それぞれの画像に対しては、「7」「2」「1」といったように、対応するラベルが与えられている"
   ]
  },
  {
   "cell_type": "markdown",
   "metadata": {},
   "source": [
    "* ここでは、MNISTデータセットのダウンロードから画像データのNumPy配列への変換までをサポートするスクリプトを実行する"
   ]
  },
  {
   "cell_type": "code",
   "execution_count": 1,
   "metadata": {},
   "outputs": [
    {
     "name": "stdout",
     "output_type": "stream",
     "text": [
      "Downloading train-images-idx3-ubyte.gz ... \n",
      "Done\n",
      "Downloading train-labels-idx1-ubyte.gz ... \n",
      "Done\n",
      "Downloading t10k-images-idx3-ubyte.gz ... \n",
      "Done\n",
      "Downloading t10k-labels-idx1-ubyte.gz ... \n",
      "Done\n",
      "Converting train-images-idx3-ubyte.gz to NumPy Array ...\n",
      "Done\n",
      "Converting train-labels-idx1-ubyte.gz to NumPy Array ...\n",
      "Done\n",
      "Converting t10k-images-idx3-ubyte.gz to NumPy Array ...\n",
      "Done\n",
      "Converting t10k-labels-idx1-ubyte.gz to NumPy Array ...\n",
      "Done\n",
      "Creating pickle file ...\n",
      "Done!\n"
     ]
    }
   ],
   "source": [
    "from mnist import load_mnist\n",
    "\n",
    "(x_train, t_train), (x_test, t_test) = load_mnist(flatten=True, normalize=False)"
   ]
  },
  {
   "cell_type": "code",
   "execution_count": 2,
   "metadata": {},
   "outputs": [
    {
     "name": "stdout",
     "output_type": "stream",
     "text": [
      "(60000, 784)\n"
     ]
    }
   ],
   "source": [
    "# それぞれのデータの形状を出力\n",
    "print(x_train.shape)"
   ]
  },
  {
   "cell_type": "code",
   "execution_count": 3,
   "metadata": {},
   "outputs": [
    {
     "name": "stdout",
     "output_type": "stream",
     "text": [
      "(60000,)\n"
     ]
    }
   ],
   "source": [
    "print(t_train.shape)"
   ]
  },
  {
   "cell_type": "code",
   "execution_count": 4,
   "metadata": {},
   "outputs": [
    {
     "name": "stdout",
     "output_type": "stream",
     "text": [
      "(10000, 784)\n"
     ]
    }
   ],
   "source": [
    "print(x_test.shape)"
   ]
  },
  {
   "cell_type": "code",
   "execution_count": 5,
   "metadata": {},
   "outputs": [
    {
     "name": "stdout",
     "output_type": "stream",
     "text": [
      "(10000,)\n"
     ]
    }
   ],
   "source": [
    "print(t_test.shape)"
   ]
  },
  {
   "cell_type": "markdown",
   "metadata": {},
   "source": [
    "* `load_mnist`関数は、「(訓練画像, 訓練ラベル), (テスト画像, テストラベル)」という形式で、読み込んだMNISTデータを返す\n",
    "\n",
    "* また、引数として3つの引数を設定することができる\n",
    "\n",
    "    * `normalize`：入力画像を0.0〜1.0の値に正規化するかどうかを設定する\n",
    "    \n",
    "        * これを`False`にすれば、入力画像のピクセルは元の0〜255のまま\n",
    "        \n",
    "    * `flatten`：入力画像を平らにする(1次元配列にする)かどうかを設定する\n",
    "    \n",
    "        * `False`に設定すると、入力画像は$1 \\times 28 \\times 28$の3次元配列となる\n",
    "        \n",
    "        * `True`に設定すると、784個の要素からなる1次元配列として格納される\n",
    "        \n",
    "    * `one_hot_label`：ラベルをone-hot表現として格納するかを設定する\n",
    "    \n",
    "        * 正解となるラベルが1、それ以外が0となる\n",
    "        \n",
    "        * `False`に設定すると、7、2、のような単純な正解となるラベルが格納される\n",
    "        \n",
    "        * `True`に設定すると、ラベルはone-hot表現として格納される"
   ]
  },
  {
   "cell_type": "markdown",
   "metadata": {},
   "source": [
    "* ここでは、データの確認も含めて、MNIST画像を表示させる\n",
    "\n",
    "    * 画像の表示には、`PIL`(Python Image Library)モジュールを用いる"
   ]
  },
  {
   "cell_type": "code",
   "execution_count": 8,
   "metadata": {},
   "outputs": [
    {
     "name": "stdout",
     "output_type": "stream",
     "text": [
      "5\n",
      "(784,)\n",
      "(28, 28)\n"
     ]
    },
    {
     "data": {
      "image/png": "[encoded data removed]",
      "text/plain": [
       "<Figure size 432x288 with 1 Axes>"
      ]
     },
     "metadata": {
      "needs_background": "light"
     },
     "output_type": "display_data"
    }
   ],
   "source": [
    "import sys, os\n",
    "sys.path.append(os.pardir)  # 親ディレクトリのファイルをインポートするための設定\n",
    "import numpy as np\n",
    "from mnist import load_mnist\n",
    "from PIL import Image\n",
    "%matplotlib inline\n",
    "import matplotlib.pyplot as plt\n",
    "\n",
    "\n",
    "def img_show(img):\n",
    "    pil_img = Image.fromarray(np.uint8(img))\n",
    "    plt.imshow(np.array(pil_img))\n",
    "\n",
    "(x_train, t_train), (x_test, t_test) = load_mnist(flatten=True, normalize=False)\n",
    "\n",
    "img = x_train[0]\n",
    "label = t_train[0]\n",
    "print(label)  # 5\n",
    "\n",
    "print(img.shape)  # (784,)\n",
    "img = img.reshape(28, 28)  # 形状を元の画像サイズに変形\n",
    "print(img.shape)  # (28, 28)\n",
    "\n",
    "img_show(img)"
   ]
  },
  {
   "cell_type": "markdown",
   "metadata": {},
   "source": [
    "* ここで、`flatten=True`として読み込んだ画像はNumPy配列として1列(1次元)で格納されている\n",
    "\n",
    "    * そのため、元の形状である$28 \\times 28$のサイズに再変形(`reshape`)する必要がある\n",
    "    \n",
    "* また、NumPyとして格納された画像データを、PIL用のデータオブジェクトに変換する必要があるが、`Image.fromarray()`によって行う"
   ]
  },
  {
   "cell_type": "markdown",
   "metadata": {},
   "source": [
    "## 2. ニューラルネットワークの推論処理\n",
    "\n",
    "* このMNISTデータセットに対して、推論処理を行うニューラルネットワークを実装する\n",
    "\n",
    "* ネットワークは、入力層を784個、出力層を10個のニューロンで構成する\n",
    "\n",
    "    * 入力層の784という数字は、画像サイズの$28 \\times 28 = 784$から\n",
    "    \n",
    "    * 出力層の10という数字は、10クラス分類(数字の0から9の10クラス)から\n",
    "    \n",
    "* また、隠れ層が2つあり、一つ目の隠れ層が50個、2つ目の層が100個のニューロンを持つものとする\n",
    "\n",
    "    * この50と100という数字は、任意の値に設定できる"
   ]
  },
  {
   "cell_type": "markdown",
   "metadata": {},
   "source": [
    "* まず、`get_data()`、`init_network()`、`predict()`を定義する"
   ]
  },
  {
   "cell_type": "code",
   "execution_count": 21,
   "metadata": {},
   "outputs": [],
   "source": [
    "import sys, os\n",
    "sys.path.append(os.pardir)  # 親ディレクトリのファイルをインポートするための設定\n",
    "import numpy as np\n",
    "import pickle\n",
    "from mnist import load_mnist\n",
    "from common.functions import sigmoid, softmax\n",
    "\n",
    "\n",
    "def get_data():\n",
    "    (x_train, t_train), (x_test, t_test) = load_mnist(normalize=True, flatten=True, one_hot_label=False)\n",
    "    return x_test, t_test\n",
    "\n",
    "\n",
    "def init_network():\n",
    "    with open(\"sample_weight.pkl\", 'rb') as f:\n",
    "        network = pickle.load(f)\n",
    "    return network\n",
    "\n",
    "\n",
    "def predict(network, x):\n",
    "    W1, W2, W3 = network['W1'], network['W2'], network['W3']\n",
    "    b1, b2, b3 = network['b1'], network['b2'], network['b3']\n",
    "\n",
    "    a1 = np.dot(x, W1) + b1\n",
    "    z1 = sigmoid(a1)\n",
    "    a2 = np.dot(z1, W2) + b2\n",
    "    z2 = sigmoid(a2)\n",
    "    a3 = np.dot(z2, W3) + b3\n",
    "    y = softmax(a3)\n",
    "\n",
    "    return y"
   ]
  },
  {
   "cell_type": "markdown",
   "metadata": {},
   "source": [
    "* `init_network()`では、pickleファイルの`sample_weight.pkl`に保存された学習済みの重みパラメータを読み込む\n",
    "\n",
    "    * このファイルには、重みとバイアスのパラメータがディクショナリ型の変数として保存されている\n",
    "    \n",
    "* 残りの2つの関数では、これまで見てきた実装とほとんど同じ\n",
    "\n",
    "* これまでの3つの関数を用いて、どれだけ正しく分類できるかを評価する"
   ]
  },
  {
   "cell_type": "code",
   "execution_count": 22,
   "metadata": {},
   "outputs": [
    {
     "name": "stdout",
     "output_type": "stream",
     "text": [
      "Accuracy:0.9352\n"
     ]
    }
   ],
   "source": [
    "x, t = get_data()\n",
    "network = init_network()\n",
    "accuracy_cnt = 0\n",
    "for i in range(len(x)):\n",
    "    y = predict(network, x[i])\n",
    "    p= np.argmax(y) # 最も確率の高い要素のインデックスを取得\n",
    "    if p == t[i]:\n",
    "        accuracy_cnt += 1\n",
    "\n",
    "print(\"Accuracy:\" + str(float(accuracy_cnt) / len(x)))"
   ]
  },
  {
   "cell_type": "markdown",
   "metadata": {},
   "source": [
    "* 最初にMNISTデータセットを取得し、ネットワークを生成する\n",
    "\n",
    "* 続いて、`x`に格納された画像データを1枚ずつ`for文`で取り出し、`predict()`関数によって分類を行う\n",
    "\n",
    "    * `predict()`関数の結果は、各ラベルの確率がNumPy配列として出力される\n",
    "    \n",
    "    * 例)[0.1, 0.3, 0.2, ..., 0.04]の配列\n",
    "    \n",
    "        * 「0」の確率が0.1、「1」の確率が0.3、...と解釈する\n",
    "        \n",
    "    * そして、これらの確率リストから最も大きな値のインデックスを予測結果とする\n",
    "    \n",
    "        * 配列中の最大の値のインデックスを取得するには、`np.argmax(x)`を用いる\n",
    "        \n",
    "* 最後に、ニューラルネットワークが予測した答えと正解ラベルを比較して、正解した割合を認識精度とする"
   ]
  },
  {
   "cell_type": "markdown",
   "metadata": {},
   "source": [
    "* この例では、`load_mnist`関数の引数である`normalize`にはTrueを設定した\n",
    "\n",
    "    * `normalize`を`True`に設定すると、その関数の内部では画像の各ピクセルの値を255で除算し、データの値が0.0〜1.0の範囲に収まるようにする\n",
    "    \n",
    "    * このようなデータをある決まった範囲に変換する処理を、`正規化`と呼ぶ\n",
    "    \n",
    "    * また、ニューラルネットワークの入力データに対して、何らかの決まった変換を行うことを`前処理`と呼ぶ\n",
    "    \n",
    "       * ここでは、入力画像データに前処理として正規化を行なった"
   ]
  },
  {
   "cell_type": "markdown",
   "metadata": {},
   "source": [
    "## 3. バッチ処理\n",
    "\n",
    "* ここでは、入力データと重みパラメータの「形状」に注意して、先ほどの実装を再度考える\n",
    "\n",
    "    * 先のニューラルネットワークの各層の重みの形状を出力してみる"
   ]
  },
  {
   "cell_type": "code",
   "execution_count": 23,
   "metadata": {},
   "outputs": [],
   "source": [
    "x, _ = get_data()"
   ]
  },
  {
   "cell_type": "code",
   "execution_count": 24,
   "metadata": {},
   "outputs": [],
   "source": [
    "network = init_network()"
   ]
  },
  {
   "cell_type": "code",
   "execution_count": 25,
   "metadata": {},
   "outputs": [],
   "source": [
    "W1, W2, W3 = network['W1'], network['W2'], network['W3']"
   ]
  },
  {
   "cell_type": "code",
   "execution_count": 26,
   "metadata": {},
   "outputs": [
    {
     "data": {
      "text/plain": [
       "(10000, 784)"
      ]
     },
     "execution_count": 26,
     "metadata": {},
     "output_type": "execute_result"
    }
   ],
   "source": [
    "x.shape"
   ]
  },
  {
   "cell_type": "code",
   "execution_count": 27,
   "metadata": {},
   "outputs": [
    {
     "data": {
      "text/plain": [
       "(784,)"
      ]
     },
     "execution_count": 27,
     "metadata": {},
     "output_type": "execute_result"
    }
   ],
   "source": [
    "x[0].shape"
   ]
  },
  {
   "cell_type": "code",
   "execution_count": 28,
   "metadata": {},
   "outputs": [
    {
     "data": {
      "text/plain": [
       "(784, 50)"
      ]
     },
     "execution_count": 28,
     "metadata": {},
     "output_type": "execute_result"
    }
   ],
   "source": [
    "W1.shape"
   ]
  },
  {
   "cell_type": "code",
   "execution_count": 29,
   "metadata": {},
   "outputs": [
    {
     "data": {
      "text/plain": [
       "(50, 100)"
      ]
     },
     "execution_count": 29,
     "metadata": {},
     "output_type": "execute_result"
    }
   ],
   "source": [
    "W2.shape"
   ]
  },
  {
   "cell_type": "code",
   "execution_count": 30,
   "metadata": {},
   "outputs": [
    {
     "data": {
      "text/plain": [
       "(100, 10)"
      ]
     },
     "execution_count": 30,
     "metadata": {},
     "output_type": "execute_result"
    }
   ],
   "source": [
    "W3.shape"
   ]
  },
  {
   "cell_type": "markdown",
   "metadata": {},
   "source": [
    "* 上の結果から、多次元配列の対応する要素の数が一致していることが確認できる\n",
    "\n",
    "    * 図で表すと、以下の図となる\n",
    "    \n",
    "    * また、最終的な結果として、要素数が10の1次元配列$Y$が出力される\n",
    "    \n",
    "* 全体としてみれば、784の要素からなる1次元配列(元は$28 \\times 28$の2次元配列)が入力され、1次元の配列(要素数10)が出力される\n",
    "\n",
    "    * これは、画像データを1枚だけ入力した時の処理の流れ"
   ]
  },
  {
   "cell_type": "markdown",
   "metadata": {},
   "source": [
    "![配列の形状の推移](./images/配列の形状の推移.png)"
   ]
  },
  {
   "cell_type": "markdown",
   "metadata": {},
   "source": [
    "* ここで、画像を複数枚まとめて入力する場合を考える\n",
    "\n",
    "    * 例)100枚の画像をまとめて、1回の`predict()`関数で処理する\n",
    "    \n",
    "    * そのためには、`x`の形状を$100 \\times 784$として、100枚分のデータをまとめて入力データとすることができる"
   ]
  },
  {
   "cell_type": "markdown",
   "metadata": {},
   "source": [
    "![バッチ処理における配列の形状の推移](./images/バッチ処理における配列の形状の推移.png)"
   ]
  },
  {
   "cell_type": "markdown",
   "metadata": {},
   "source": [
    "* 入力データの形状は$100 \\times 784$、出力データの形状は$100 \\times 10$になる\n",
    "    \n",
    "    * これは、100枚分の入力データの結果が一度に出力されることを表している\n",
    "    \n",
    "    * 例)`x[0]`と`y[0]`には0番目の画像とその推論の結果、`x[1]`と`y[1]`には1番目の画像とその結果...と言うように格納されている"
   ]
  },
  {
   "cell_type": "markdown",
   "metadata": {},
   "source": [
    "* ここで、まとまりのある入力データのことを、`バッチ`と呼ぶ\n",
    "\n",
    "    * 1枚あたりの処理時間を大幅に短縮できる\n",
    "    \n",
    "    * 大きな配列の計算を行うほうが、分割された小さい配列を少しずつ計算するよりも速く計算が完了する"
   ]
  },
  {
   "cell_type": "markdown",
   "metadata": {},
   "source": [
    "* ここでは実際に、バッチ処理による実装を行う"
   ]
  },
  {
   "cell_type": "code",
   "execution_count": 31,
   "metadata": {},
   "outputs": [
    {
     "name": "stdout",
     "output_type": "stream",
     "text": [
      "Accuracy:0.9352\n"
     ]
    }
   ],
   "source": [
    "batch_size = 100 # バッチの数\n",
    "accuracy_cnt = 0\n",
    "\n",
    "for i in range(0, len(x), batch_size):\n",
    "    x_batch = x[i:i+batch_size]\n",
    "    y_batch = predict(network, x_batch)\n",
    "    p = np.argmax(y_batch, axis=1)\n",
    "    accuracy_cnt += np.sum(p == t[i:i+batch_size])\n",
    "\n",
    "print(\"Accuracy:\" + str(float(accuracy_cnt) / len(x)))"
   ]
  },
  {
   "cell_type": "markdown",
   "metadata": {},
   "source": [
    "| 版   | 年/月/日   |\n",
    "| ---- | ---------- |\n",
    "| 初版 | 2019/05/01 |"
   ]
  }
 ],
 "metadata": {
  "kernelspec": {
   "display_name": "Python 3",
   "language": "python",
   "name": "python3"
  },
  "language_info": {
   "codemirror_mode": {
    "name": "ipython",
    "version": 3
   },
   "file_extension": ".py",
   "mimetype": "text/x-python",
   "name": "python",
   "nbconvert_exporter": "python",
   "pygments_lexer": "ipython3",
   "version": "3.6.5"
  }
 },
 "nbformat": 4,
 "nbformat_minor": 2
}
